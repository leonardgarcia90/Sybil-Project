{
 "cells": [
  {
   "cell_type": "code",
   "execution_count": null,
   "id": "7ada4d2b",
   "metadata": {},
   "outputs": [],
   "source": [
    "pip install pydicom"
   ]
  },
  {
   "cell_type": "code",
   "execution_count": 85,
   "id": "62949d2a",
   "metadata": {},
   "outputs": [],
   "source": [
    "import pydicom\n",
    "import os\n",
    "import pandas as pd\n",
    "import glob"
   ]
  },
  {
   "cell_type": "markdown",
   "id": "a2c12698",
   "metadata": {},
   "source": [
    "# Exploratory Data Analysis\n",
    "\n",
    "The dataset consists of multiple CT scans for 672 patients. These scans were performed using various parameters for Slice Thickness, Convolution Kernal, and Orientation. In order to run predictive models, we must use scans with consistent parameters. We must first determine which combination of these parameters is most suitable. "
   ]
  },
  {
   "cell_type": "markdown",
   "id": "3e65a783",
   "metadata": {},
   "source": [
    "## Identifying Scan Parameters from File Names\n",
    "\n",
    "We first try to determine scan parameters by looking at their file names"
   ]
  },
  {
   "cell_type": "code",
   "execution_count": null,
   "id": "3fd684d5",
   "metadata": {},
   "outputs": [],
   "source": [
    "#makes dataframe of patient id's and associated scan types\n",
    "\n",
    "def get_file_names():\n",
    "    #loads all direcory names as list of strings\n",
    "    entries = glob.glob(\"/datasets/*/*\")\n",
    "    entries.sort()\n",
    "    \n",
    "    #removes '/datasets/' from direcory strings\n",
    "    entries = [entry[10:] for entry in entries]\n",
    "    \n",
    "    #splits directory strings on '/'\n",
    "    split_entries = [entry.split('/') for entry in entries]\n",
    "    \n",
    "    #combines directory string lists with common patient id \n",
    "    output_dict = {}\n",
    "    for key, *values in split_entries:\n",
    "        if key not in output_dict:\n",
    "            output_dict[key] = [key]\n",
    "        output_dict[key].extend(values)\n",
    "        \n",
    "    unique_entries = list(output_dict.values())\n",
    "    \n",
    "    #makes of list of patient id and scan folder names\n",
    "    unique_entries_final = [(unique_entry[0],unique_entry[1:]) for unique_entry in unique_entries]\n",
    "    \n",
    "    entries_df = pd.DataFrame(unique_entries_final, columns=['id', 'scans'])\n",
    "    \n",
    "    return entries_df"
   ]
  },
  {
   "cell_type": "code",
   "execution_count": null,
   "id": "c64cf9bd",
   "metadata": {},
   "outputs": [],
   "source": [
    "entries_df = get_file_names()\n",
    "entries_df"
   ]
  },
  {
   "cell_type": "code",
   "execution_count": null,
   "id": "b68d20f5",
   "metadata": {},
   "outputs": [],
   "source": [
    "from collections import Counter\n",
    "\n",
    "#determine the muber of instances of each unique scan name\n",
    "scan_counter = Counter()\n",
    "\n",
    "for scan_list in entries_df[\"scans\"]:\n",
    "    for scan in scan_list:\n",
    "        scan_counter[scan] += 1\n",
    "\n",
    "print('The number of unique folder names is: ' + str(len(scan_counter)))\n",
    "\n",
    "scan_counts_df = pd.DataFrame(scan_counter.most_common(), columns=['Scan Name', 'Number of Scans'])\n",
    "with pd.option_context(\"display.max_rows\", 10): \n",
    "    display(scan_counts_df)"
   ]
  },
  {
   "cell_type": "markdown",
   "id": "6a0e52ac",
   "metadata": {},
   "source": [
    "Because of inconsistant file naming convenctions, there are over 200 unique file names for the scans of the 672 patients. The difficuty in determining parameter values for the individual scans based on these file names means another approach is necessary."
   ]
  },
  {
   "cell_type": "markdown",
   "id": "268cfeec",
   "metadata": {},
   "source": [
    "## Identifying Scan Parameters from Dicom Metadata\n",
    "\n",
    "Each dicom file includes metadata pertaining to the scan that produced it. By looking at the metadata for each set of scans, we can determine which combination of parameter values to use for the training of our models. "
   ]
  },
  {
   "cell_type": "code",
   "execution_count": 80,
   "id": "d04336d3",
   "metadata": {},
   "outputs": [],
   "source": [
    "#make list of directories for first file in each folder \n",
    "\n",
    "import os\n",
    "\n",
    "def get_first_file_in_every_folder(root_directory):\n",
    "    first_files = []\n",
    "    for dirpath, dirnames, filenames in os.walk(root_directory):\n",
    "        if filenames:\n",
    "            filenames.sort()\n",
    "            first_file = os.path.join(dirpath, filenames[0])\n",
    "            first_files.append(first_file)\n",
    "    return first_files\n",
    "\n",
    "root_directory = \"/datasets\"\n",
    "first_files = get_first_file_in_every_folder(root_directory)"
   ]
  },
  {
   "cell_type": "code",
   "execution_count": 81,
   "id": "0afa35a8",
   "metadata": {},
   "outputs": [],
   "source": [
    "first_files.sort()"
   ]
  },
  {
   "cell_type": "code",
   "execution_count": null,
   "id": "b1b6b4d7",
   "metadata": {},
   "outputs": [],
   "source": [
    "first_files[-10:]"
   ]
  },
  {
   "cell_type": "code",
   "execution_count": 82,
   "id": "dbf9d532",
   "metadata": {},
   "outputs": [],
   "source": [
    "entries = glob.glob(\"/datasets/*/*\")\n",
    "entries.sort()\n",
    "#entries[-10:]"
   ]
  },
  {
   "cell_type": "code",
   "execution_count": 83,
   "id": "ea03f78e",
   "metadata": {},
   "outputs": [
    {
     "data": {
      "text/plain": [
       "False"
      ]
     },
     "execution_count": 83,
     "metadata": {},
     "output_type": "execute_result"
    }
   ],
   "source": [
    "first_files.remove('/datasets/Code_book.xlsx')\n",
    "\n",
    "'/datasets/Code_book.xlsx' in first_files"
   ]
  },
  {
   "cell_type": "code",
   "execution_count": 86,
   "id": "1584f737",
   "metadata": {},
   "outputs": [],
   "source": [
    "#make list of dicom files based on list of directories\n",
    "\n",
    "first_diacom_per_file = []\n",
    "\n",
    "for scan in first_files:\n",
    "        first_diacom_per_file.append(pydicom.dcmread(scan,force=True))"
   ]
  },
  {
   "cell_type": "code",
   "execution_count": 87,
   "id": "53a0c405",
   "metadata": {},
   "outputs": [
    {
     "name": "stdout",
     "output_type": "stream",
     "text": [
      "5397\n"
     ]
    }
   ],
   "source": [
    "print(len(first_diacom_per_file))"
   ]
  },
  {
   "cell_type": "code",
   "execution_count": 88,
   "id": "9d8c0e03",
   "metadata": {},
   "outputs": [
    {
     "name": "stdout",
     "output_type": "stream",
     "text": [
      "5397\n"
     ]
    }
   ],
   "source": [
    "print(len(first_files))"
   ]
  },
  {
   "cell_type": "code",
   "execution_count": 89,
   "id": "93dbc571",
   "metadata": {},
   "outputs": [],
   "source": [
    "#remove files that cause error\n",
    "\n",
    "del first_diacom_per_file[719]\n",
    "del first_diacom_per_file[3771]\n",
    "del first_diacom_per_file[4735]"
   ]
  },
  {
   "cell_type": "code",
   "execution_count": 90,
   "id": "2b1fcd52",
   "metadata": {},
   "outputs": [
    {
     "name": "stdout",
     "output_type": "stream",
     "text": [
      "5394\n"
     ]
    }
   ],
   "source": [
    "print(len(first_diacom_per_file))"
   ]
  },
  {
   "cell_type": "code",
   "execution_count": 92,
   "id": "35dc633d",
   "metadata": {},
   "outputs": [],
   "source": [
    "#remove files that cause error\n",
    "\n",
    "del first_files[719]\n",
    "del first_files[3771]\n",
    "del first_files[4735]"
   ]
  },
  {
   "cell_type": "code",
   "execution_count": 93,
   "id": "569150ad",
   "metadata": {},
   "outputs": [
    {
     "name": "stdout",
     "output_type": "stream",
     "text": [
      "5394\n"
     ]
    }
   ],
   "source": [
    "print(len(first_files))"
   ]
  },
  {
   "cell_type": "code",
   "execution_count": 94,
   "id": "12b0d18e",
   "metadata": {},
   "outputs": [
    {
     "data": {
      "text/plain": [
       "Dataset.file_meta -------------------------------\n",
       "(0002, 0000) File Meta Information Group Length  UL: 188\n",
       "(0002, 0001) File Meta Information Version       OB: b'\\x00\\x01'\n",
       "(0002, 0002) Media Storage SOP Class UID         UI: CT Image Storage\n",
       "(0002, 0003) Media Storage SOP Instance UID      UI: 1.3.12.2.1107.5.1.4.51964.30000016050615035692100000102\n",
       "(0002, 0010) Transfer Syntax UID                 UI: Explicit VR Little Endian\n",
       "(0002, 0012) Implementation Class UID            UI: 1.2.40.0.13.1.1.1\n",
       "(0002, 0013) Implementation Version Name         SH: 'dcm4che-1.4.38'\n",
       "-------------------------------------------------\n",
       "(0008, 0005) Specific Character Set              CS: 'ISO_IR 100'\n",
       "(0008, 0008) Image Type                          CS: ['ORIGINAL', 'PRIMARY', 'LOCALIZER', 'CT_SOM5 TOP']\n",
       "(0008, 0016) SOP Class UID                       UI: CT Image Storage\n",
       "(0008, 0018) SOP Instance UID                    UI: 1.3.12.2.1107.5.1.4.51964.30000016050615035692100000102\n",
       "(0008, 0020) Study Date                          DA: '20160506'\n",
       "(0008, 0021) Series Date                         DA: '20160506'\n",
       "(0008, 0022) Acquisition Date                    DA: '20160506'\n",
       "(0008, 0023) Content Date                        DA: '20160506'\n",
       "(0008, 0030) Study Time                          TM: '075423.390000'\n",
       "(0008, 0031) Series Time                         TM: '075522.156000'\n",
       "(0008, 0032) Acquisition Time                    TM: '075516.657676'\n",
       "(0008, 0033) Content Time                        TM: '075522.156000'\n",
       "(0008, 0050) Accession Number                    SH: '1005053246'\n",
       "(0008, 0060) Modality                            CS: 'CT'\n",
       "(0008, 0070) Manufacturer                        LO: 'SIEMENS'\n",
       "(0008, 0090) Referring Physician's Name          PN: ''\n",
       "(0008, 1010) Station Name                        SH: 'RADSMOCT02'\n",
       "(0008, 1030) Study Description                   LO: 'CT LUNG CANCER SCREENING WO CONTRAST LOW DOSE'\n",
       "(0008, 1032)  Procedure Code Sequence  1 item(s) ---- \n",
       "   (0008, 0100) Code Value                          SH: 'IMG5260'\n",
       "   (0008, 0102) Coding Scheme Designator            SH: 'GEIIS'\n",
       "   (0008, 0103) Coding Scheme Version               SH: '0'\n",
       "   (0008, 0104) Code Meaning                        LO: 'CT LUNG CANCER SCREENING WO CONTRAST LOW DOSE'\n",
       "   ---------\n",
       "(0008, 103e) Series Description                  LO: 'Chest Topo'\n",
       "(0008, 1090) Manufacturer's Model Name           LO: 'Sensation 16'\n",
       "(0008, 1111)  Referenced Performed Procedure Step Sequence  1 item(s) ---- \n",
       "   (0008, 1150) Referenced SOP Class UID            UI: Modality Performed Procedure Step SOP Class\n",
       "   (0008, 1155) Referenced SOP Instance UID         UI: 1.3.12.2.1107.5.1.4.51964.30000016050615542359300000000\n",
       "   ---------\n",
       "(0009, 0010) Private Creator                     LO: 'GEIIS'\n",
       "(0009, 1012) [Unknown]                           IS: '1'\n",
       "(0010, 0010) Patient's Name                      PN: 'TI'\n",
       "(0010, 0020) Patient ID                          LO: '2460458378'\n",
       "(0010, 0040) Patient's Sex                       CS: 'M'\n",
       "(0010, 1010) Patient's Age                       AS: '073Y'\n",
       "(0010, 1020) Patient's Size                      DS: '2.032'\n",
       "(0010, 1030) Patient's Weight                    DS: '80.74'\n",
       "(0010, 2160) Ethnic Group                        SH: 'Not Hispanic or'\n",
       "(0018, 0015) Body Part Examined                  CS: 'CHEST'\n",
       "(0018, 0050) Slice Thickness                     DS: '1.0'\n",
       "(0018, 0060) KVP                                 DS: '120.0'\n",
       "(0018, 0090) Data Collection Diameter            DS: '500.0'\n",
       "(0018, 1000) Device Serial Number                LO: '51964'\n",
       "(0018, 1020) Software Versions                   LO: 'syngo CT 2014A'\n",
       "(0018, 1030) Protocol Name                       LO: '1Chest_LungCA_Screening_Low_Dose_without'\n",
       "(0018, 1100) Reconstruction Diameter             DS: '512.0'\n",
       "(0018, 1110) Distance Source to Detector         DS: '1040.0'\n",
       "(0018, 1111) Distance Source to Patient          DS: '570.0'\n",
       "(0018, 1120) Gantry/Detector Tilt                DS: '0.0'\n",
       "(0018, 1130) Table Height                        DS: '166.0'\n",
       "(0018, 1140) Rotation Direction                  CS: 'CW'\n",
       "(0018, 1150) Exposure Time                       IS: '4284'\n",
       "(0018, 1151) X-Ray Tube Current                  IS: '50'\n",
       "(0018, 1152) Exposure                            IS: '214'\n",
       "(0018, 1160) Filter Type                         SH: '0'\n",
       "(0018, 1170) Generator Power                     IS: '6'\n",
       "(0018, 1190) Focal Spot(s)                       DS: '1.2'\n",
       "(0018, 1200) Date of Last Calibration            DA: '20160506'\n",
       "(0018, 1201) Time of Last Calibration            TM: '074816.000000'\n",
       "(0018, 1210) Convolution Kernel                  SH: 'T20s'\n",
       "(0018, 5100) Patient Position                    CS: 'FFS'\n",
       "(0018, 9306) Single Collimation Width            FD: 1.0\n",
       "(0018, 9307) Total Collimation Width             FD: 2.0\n",
       "(0018, 9309) Table Speed                         FD: 100.0\n",
       "(0018, 9323) Exposure Modulation Type            CS: 'NONE'\n",
       "(0018, 9324) Estimated Dose Saving               FD: 0.0\n",
       "(0018, 9345) CTDIvol                             FD: 0.084\n",
       "(0020, 000d) Study Instance UID                  UI: 1.2.840.114350.2.300.2.798268.2.97301044.1\n",
       "(0020, 000e) Series Instance UID                 UI: 1.3.12.2.1107.5.1.4.51964.30000016050615035692100000103\n",
       "(0020, 0010) Study ID                            SH: '233456945'\n",
       "(0020, 0011) Series Number                       IS: '2'\n",
       "(0020, 0012) Acquisition Number                  IS: '1'\n",
       "(0020, 0013) Instance Number                     IS: '1'\n",
       "(0020, 0032) Image Position (Patient)            DS: [-255.5, -166, -1.5]\n",
       "(0020, 0037) Image Orientation (Patient)         DS: [1, 6.123031769e-017, 0, 0, 0, -1]\n",
       "(0020, 0052) Frame of Reference UID              UI: 1.3.12.2.1107.5.1.4.51964.30000016050615035692100000099\n",
       "(0020, 1040) Position Reference Indicator        LO: ''\n",
       "(0020, 1041) Slice Location                      DS: '1.0'\n",
       "(0020, 4000) Image Comments                      LT: ''\n",
       "(0028, 0002) Samples per Pixel                   US: 1\n",
       "(0028, 0004) Photometric Interpretation          CS: 'MONOCHROME2'\n",
       "(0028, 0010) Rows                                US: 512\n",
       "(0028, 0011) Columns                             US: 512\n",
       "(0028, 0030) Pixel Spacing                       DS: [1, 1]\n",
       "(0028, 0100) Bits Allocated                      US: 16\n",
       "(0028, 0101) Bits Stored                         US: 12\n",
       "(0028, 0102) High Bit                            US: 11\n",
       "(0028, 0103) Pixel Representation                US: 0\n",
       "(0028, 1050) Window Center                       DS: [50, 300]\n",
       "(0028, 1051) Window Width                        DS: [350, 2000]\n",
       "(0028, 1052) Rescale Intercept                   DS: '-1024.0'\n",
       "(0028, 1053) Rescale Slope                       DS: '1.0'\n",
       "(0028, 1055) Window Center & Width Explanation   LO: ['WINDOW1', 'WINDOW2']\n",
       "(0029, 0010) Private Creator                     LO: 'SIEMENS CSA HEADER'\n",
       "(0029, 0011) Private Creator                     LO: 'SIEMENS MEDCOM HEADER'\n",
       "(0029, 1008) [CSA Image Header Type]             CS: 'SOM 5'\n",
       "(0029, 1009) [CSA Image Header Version]          LO: 'VA10A 971201'\n",
       "(0029, 1010) [CSA Image Header Info]             OB: Array of 602 elements\n",
       "(0029, 1140)  Private tag data  2 item(s) ---- \n",
       "   (0029, 0010) Private Creator                     LO: 'SIEMENS MEDCOM HEADER'\n",
       "   (0029, 1041) [Application Header Type]           CS: 'SOM 5 TPOS'\n",
       "   (0029, 1042) [Application Header ID]             LO: 'SOM 5 NULLPOSITION'\n",
       "   (0029, 1043) [Application Header Version]        LO: 'VB10A 20030626'\n",
       "   (0029, 1044) [Application Header Info]           OB: b'-000018910\\x00M'\n",
       "   ---------\n",
       "   (0029, 0010) Private Creator                     LO: 'SIEMENS MEDCOM HEADER'\n",
       "   (0029, 1041) [Application Header Type]           CS: 'SOM 5 AEC'\n",
       "   (0029, 1042) [Application Header ID]             LO: 'SOM 5 ATTENUATION'\n",
       "   (0029, 1043) [Application Header Version]        LO: 'VB10A 20030626'\n",
       "   (0029, 1044) [Application Header Info]           OB: Array of 9000 elements\n",
       "   ---------\n",
       "(0032, 1033) Requesting Service                  LO: 'ISPPF'\n",
       "(0032, 1060) Requested Procedure Description     LO: 'CT LUNG CANCER SCREENING WO CONTRAST LOW DOSE'\n",
       "(0040, 0244) Performed Procedure Step Start Date DA: '20160506'\n",
       "(0040, 0245) Performed Procedure Step Start Time TM: '075423.562000'\n",
       "(0040, 0253) Performed Procedure Step ID         SH: 'E2076486'\n",
       "(0040, 0254) Performed Procedure Step Descriptio LO: 'CT LUNG CANCER SCREENING WO CONTRAST LOW DOSE'\n",
       "(0040, 0275)  Request Attributes Sequence  1 item(s) ---- \n",
       "   (0040, 1001) Requested Procedure ID              SH: '42268440'\n",
       "   ---------\n",
       "(0040, 2017) Filler Order Number / Imaging Servi LO: '42268440'\n",
       "(0903, 0010) Private Creator                     LO: 'GEIIS PACS'\n",
       "(0903, 1010) [Reject Image Flag]                 US: 0\n",
       "(0903, 1011) [Significant Flag]                  US: 0\n",
       "(0903, 1012) [Confidential Flag]                 US: 0\n",
       "(0905, 0010) Private Creator                     LO: 'GEIIS'\n",
       "(0905, 1030) [Assigning Authority For Patient ID LO: '001R41:20090813:023040546:015090'\n",
       "(7fd1, 0010) Private Creator                     LO: 'GEIIS'\n",
       "(7fd1, 1010) [GE IIS Compression ID]             UL: 0\n",
       "(7fe0, 0010) Pixel Data                          OW: Array of 524288 elements"
      ]
     },
     "execution_count": 94,
     "metadata": {},
     "output_type": "execute_result"
    }
   ],
   "source": [
    "#check metadata of first dicom file \n",
    "\n",
    "first_diacom_per_file[0]"
   ]
  },
  {
   "cell_type": "code",
   "execution_count": 95,
   "id": "e2667f3f",
   "metadata": {},
   "outputs": [
    {
     "data": {
      "text/plain": [
       "'2460458378'"
      ]
     },
     "execution_count": 95,
     "metadata": {},
     "output_type": "execute_result"
    }
   ],
   "source": [
    "first_diacom_per_file[0].PatientID"
   ]
  },
  {
   "cell_type": "code",
   "execution_count": 96,
   "id": "9bdc5364",
   "metadata": {},
   "outputs": [],
   "source": [
    "#make a list of desired dicom metadata properties\n",
    "\n",
    "dicom_metadata_list = []\n",
    "index = 0\n",
    "\n",
    "for diacom in first_diacom_per_file:\n",
    "    dicom_metadata_list.append([diacom.AccessionNumber, diacom.SliceThickness, diacom.ConvolutionKernel,\n",
    "                                diacom.ImageOrientationPatient, diacom.PatientID, index])\n",
    "    index += 1"
   ]
  },
  {
   "cell_type": "code",
   "execution_count": null,
   "id": "e24e82e6",
   "metadata": {},
   "outputs": [],
   "source": []
  },
  {
   "cell_type": "code",
   "execution_count": 98,
   "id": "54fbbc3e",
   "metadata": {},
   "outputs": [
    {
     "data": {
      "text/html": [
       "<div>\n",
       "<style scoped>\n",
       "    .dataframe tbody tr th:only-of-type {\n",
       "        vertical-align: middle;\n",
       "    }\n",
       "\n",
       "    .dataframe tbody tr th {\n",
       "        vertical-align: top;\n",
       "    }\n",
       "\n",
       "    .dataframe thead th {\n",
       "        text-align: right;\n",
       "    }\n",
       "</style>\n",
       "<table border=\"1\" class=\"dataframe\">\n",
       "  <thead>\n",
       "    <tr style=\"text-align: right;\">\n",
       "      <th></th>\n",
       "      <th>AccessionNumber</th>\n",
       "      <th>SliceThickness</th>\n",
       "      <th>ConvolutionKernel</th>\n",
       "      <th>ImageOrientationPatient</th>\n",
       "      <th>Patient ID</th>\n",
       "      <th>Directory Index</th>\n",
       "    </tr>\n",
       "  </thead>\n",
       "  <tbody>\n",
       "    <tr>\n",
       "      <th>0</th>\n",
       "      <td>1005053246</td>\n",
       "      <td>1.0</td>\n",
       "      <td>T20s</td>\n",
       "      <td>[1, 6.123031769e-017, 0, 0, 0, -1]</td>\n",
       "      <td>2460458378</td>\n",
       "      <td>0</td>\n",
       "    </tr>\n",
       "    <tr>\n",
       "      <th>1</th>\n",
       "      <td>1005053246</td>\n",
       "      <td>1.0</td>\n",
       "      <td>B50f</td>\n",
       "      <td>[1, 0, 0, 0, 1, 0]</td>\n",
       "      <td>2460458378</td>\n",
       "      <td>1</td>\n",
       "    </tr>\n",
       "    <tr>\n",
       "      <th>2</th>\n",
       "      <td>1005053246</td>\n",
       "      <td>3.0</td>\n",
       "      <td>B50f</td>\n",
       "      <td>[1, 0, 0, 0, 1, 0]</td>\n",
       "      <td>2460458378</td>\n",
       "      <td>2</td>\n",
       "    </tr>\n",
       "    <tr>\n",
       "      <th>3</th>\n",
       "      <td>1005053246</td>\n",
       "      <td>10.0</td>\n",
       "      <td>B50f</td>\n",
       "      <td>[1, 1.224606354e-016, -7.10542736e-015, -1.224...</td>\n",
       "      <td>2460458378</td>\n",
       "      <td>3</td>\n",
       "    </tr>\n",
       "    <tr>\n",
       "      <th>4</th>\n",
       "      <td>1005053246</td>\n",
       "      <td>10.0</td>\n",
       "      <td>B50f</td>\n",
       "      <td>[1, 0, 0, 0, 0, -1]</td>\n",
       "      <td>2460458378</td>\n",
       "      <td>4</td>\n",
       "    </tr>\n",
       "    <tr>\n",
       "      <th>5</th>\n",
       "      <td>1005053246</td>\n",
       "      <td>2.0</td>\n",
       "      <td>B50f</td>\n",
       "      <td>[1, 0, 0, 0, 0, -1]</td>\n",
       "      <td>2460458378</td>\n",
       "      <td>5</td>\n",
       "    </tr>\n",
       "    <tr>\n",
       "      <th>6</th>\n",
       "      <td>1005053246</td>\n",
       "      <td>10.0</td>\n",
       "      <td>B50f</td>\n",
       "      <td>[6.123031769e-017, 1, 0, 0, 0, -1]</td>\n",
       "      <td>2460458378</td>\n",
       "      <td>6</td>\n",
       "    </tr>\n",
       "    <tr>\n",
       "      <th>7</th>\n",
       "      <td>1005053246</td>\n",
       "      <td>2.0</td>\n",
       "      <td>B50f</td>\n",
       "      <td>[6.123031769e-017, 1, 0, 0, 0, -1]</td>\n",
       "      <td>2460458378</td>\n",
       "      <td>7</td>\n",
       "    </tr>\n",
       "    <tr>\n",
       "      <th>8</th>\n",
       "      <td>1005692582</td>\n",
       "      <td>1.0</td>\n",
       "      <td>B45f</td>\n",
       "      <td>[1, 0, 0, 0, 1, 0]</td>\n",
       "      <td>2467550964</td>\n",
       "      <td>8</td>\n",
       "    </tr>\n",
       "    <tr>\n",
       "      <th>9</th>\n",
       "      <td>1005692582</td>\n",
       "      <td>10.0</td>\n",
       "      <td>B45f</td>\n",
       "      <td>[1, 0, 0, 0, 1, 0]</td>\n",
       "      <td>2467550964</td>\n",
       "      <td>9</td>\n",
       "    </tr>\n",
       "    <tr>\n",
       "      <th>10</th>\n",
       "      <td>1005692582</td>\n",
       "      <td>10.0</td>\n",
       "      <td>B45f</td>\n",
       "      <td>[0.99994353825846, -0.010626396151, 0, 0, 0, -1]</td>\n",
       "      <td>2467550964</td>\n",
       "      <td>10</td>\n",
       "    </tr>\n",
       "    <tr>\n",
       "      <th>11</th>\n",
       "      <td>1005692582</td>\n",
       "      <td>10.0</td>\n",
       "      <td>B45f</td>\n",
       "      <td>[0.005148747392, 0.9999867451123, 0, 0, 0, -1]</td>\n",
       "      <td>2467550964</td>\n",
       "      <td>11</td>\n",
       "    </tr>\n",
       "    <tr>\n",
       "      <th>12</th>\n",
       "      <td>1005692582</td>\n",
       "      <td>2.0</td>\n",
       "      <td>B45f</td>\n",
       "      <td>[0.99998540686886, -0.005402411436, 0, 0, 0, -1]</td>\n",
       "      <td>2467550964</td>\n",
       "      <td>12</td>\n",
       "    </tr>\n",
       "    <tr>\n",
       "      <th>13</th>\n",
       "      <td>1005692582</td>\n",
       "      <td>2.0</td>\n",
       "      <td>B45f</td>\n",
       "      <td>[0.01014584379, 0.99994852960229, 0, 0, 0, -1]</td>\n",
       "      <td>2467550964</td>\n",
       "      <td>13</td>\n",
       "    </tr>\n",
       "    <tr>\n",
       "      <th>14</th>\n",
       "      <td>1005692582</td>\n",
       "      <td>3.0</td>\n",
       "      <td>B45f</td>\n",
       "      <td>[1, 0, 0, 0, 1, 0]</td>\n",
       "      <td>2467550964</td>\n",
       "      <td>14</td>\n",
       "    </tr>\n",
       "    <tr>\n",
       "      <th>15</th>\n",
       "      <td>1005692582</td>\n",
       "      <td>NaN</td>\n",
       "      <td>T20f</td>\n",
       "      <td>[1, 6.123233996e-017, 0, 0, 0, -1]</td>\n",
       "      <td>2467550964</td>\n",
       "      <td>15</td>\n",
       "    </tr>\n",
       "    <tr>\n",
       "      <th>16</th>\n",
       "      <td>1011749283</td>\n",
       "      <td>1.0</td>\n",
       "      <td>B45f</td>\n",
       "      <td>[1, 0, 0, 0, 1, 0]</td>\n",
       "      <td>1406059976</td>\n",
       "      <td>16</td>\n",
       "    </tr>\n",
       "    <tr>\n",
       "      <th>17</th>\n",
       "      <td>1011749283</td>\n",
       "      <td>10.0</td>\n",
       "      <td>B45f</td>\n",
       "      <td>[1, 0, 0, 0, 1, 0]</td>\n",
       "      <td>1406059976</td>\n",
       "      <td>17</td>\n",
       "    </tr>\n",
       "    <tr>\n",
       "      <th>18</th>\n",
       "      <td>1011749283</td>\n",
       "      <td>10.0</td>\n",
       "      <td>B45f</td>\n",
       "      <td>[0.03698003922957, 0.99931600442432, 0, 0, 0, -1]</td>\n",
       "      <td>1406059976</td>\n",
       "      <td>18</td>\n",
       "    </tr>\n",
       "    <tr>\n",
       "      <th>19</th>\n",
       "      <td>1011749283</td>\n",
       "      <td>10.0</td>\n",
       "      <td>B45f</td>\n",
       "      <td>[0.99936583886983, -0.0356078657041, 0, 0, 0, -1]</td>\n",
       "      <td>1406059976</td>\n",
       "      <td>19</td>\n",
       "    </tr>\n",
       "  </tbody>\n",
       "</table>\n",
       "</div>"
      ],
      "text/plain": [
       "   AccessionNumber  SliceThickness ConvolutionKernel  \\\n",
       "0       1005053246             1.0              T20s   \n",
       "1       1005053246             1.0              B50f   \n",
       "2       1005053246             3.0              B50f   \n",
       "3       1005053246            10.0              B50f   \n",
       "4       1005053246            10.0              B50f   \n",
       "5       1005053246             2.0              B50f   \n",
       "6       1005053246            10.0              B50f   \n",
       "7       1005053246             2.0              B50f   \n",
       "8       1005692582             1.0              B45f   \n",
       "9       1005692582            10.0              B45f   \n",
       "10      1005692582            10.0              B45f   \n",
       "11      1005692582            10.0              B45f   \n",
       "12      1005692582             2.0              B45f   \n",
       "13      1005692582             2.0              B45f   \n",
       "14      1005692582             3.0              B45f   \n",
       "15      1005692582             NaN              T20f   \n",
       "16      1011749283             1.0              B45f   \n",
       "17      1011749283            10.0              B45f   \n",
       "18      1011749283            10.0              B45f   \n",
       "19      1011749283            10.0              B45f   \n",
       "\n",
       "                              ImageOrientationPatient  Patient ID  \\\n",
       "0                  [1, 6.123031769e-017, 0, 0, 0, -1]  2460458378   \n",
       "1                                  [1, 0, 0, 0, 1, 0]  2460458378   \n",
       "2                                  [1, 0, 0, 0, 1, 0]  2460458378   \n",
       "3   [1, 1.224606354e-016, -7.10542736e-015, -1.224...  2460458378   \n",
       "4                                 [1, 0, 0, 0, 0, -1]  2460458378   \n",
       "5                                 [1, 0, 0, 0, 0, -1]  2460458378   \n",
       "6                  [6.123031769e-017, 1, 0, 0, 0, -1]  2460458378   \n",
       "7                  [6.123031769e-017, 1, 0, 0, 0, -1]  2460458378   \n",
       "8                                  [1, 0, 0, 0, 1, 0]  2467550964   \n",
       "9                                  [1, 0, 0, 0, 1, 0]  2467550964   \n",
       "10   [0.99994353825846, -0.010626396151, 0, 0, 0, -1]  2467550964   \n",
       "11     [0.005148747392, 0.9999867451123, 0, 0, 0, -1]  2467550964   \n",
       "12   [0.99998540686886, -0.005402411436, 0, 0, 0, -1]  2467550964   \n",
       "13     [0.01014584379, 0.99994852960229, 0, 0, 0, -1]  2467550964   \n",
       "14                                 [1, 0, 0, 0, 1, 0]  2467550964   \n",
       "15                 [1, 6.123233996e-017, 0, 0, 0, -1]  2467550964   \n",
       "16                                 [1, 0, 0, 0, 1, 0]  1406059976   \n",
       "17                                 [1, 0, 0, 0, 1, 0]  1406059976   \n",
       "18  [0.03698003922957, 0.99931600442432, 0, 0, 0, -1]  1406059976   \n",
       "19  [0.99936583886983, -0.0356078657041, 0, 0, 0, -1]  1406059976   \n",
       "\n",
       "    Directory Index  \n",
       "0                 0  \n",
       "1                 1  \n",
       "2                 2  \n",
       "3                 3  \n",
       "4                 4  \n",
       "5                 5  \n",
       "6                 6  \n",
       "7                 7  \n",
       "8                 8  \n",
       "9                 9  \n",
       "10               10  \n",
       "11               11  \n",
       "12               12  \n",
       "13               13  \n",
       "14               14  \n",
       "15               15  \n",
       "16               16  \n",
       "17               17  \n",
       "18               18  \n",
       "19               19  "
      ]
     },
     "execution_count": 98,
     "metadata": {},
     "output_type": "execute_result"
    }
   ],
   "source": [
    "diacom_metadata_df = pd.DataFrame(dicom_metadata_list, columns=['AccessionNumber', 'SliceThickness', 'ConvolutionKernel'\n",
    "                                                               ,'ImageOrientationPatient', 'Patient ID', \"Directory Index\"])\n",
    "diacom_metadata_df.head(20)"
   ]
  },
  {
   "cell_type": "code",
   "execution_count": 99,
   "id": "99b57fc6",
   "metadata": {},
   "outputs": [],
   "source": [
    "#function to determine ct orientation based on 'ImageOrientationPatient' column\n",
    "\n",
    "def ct_orientation(index):\n",
    "\n",
    "    image_orientation_patient_string = str(diacom_metadata_df['ImageOrientationPatient'].iloc[index])\n",
    "    image_vectors = image_orientation_patient_string.replace('[','').replace(']','').split(',')\n",
    "    image_vectors = [round(float(x)) for x in image_vectors]\n",
    "\n",
    "    #[1,0,0,0,1,0]\n",
    "    if image_vectors[0] == 1 and image_vectors[4] == 1: \n",
    "        return 'axial'\n",
    "    \n",
    "    #[0,1,0,0,0,-1]\n",
    "    elif image_vectors[1] == 1 and image_vectors[5] == -1: \n",
    "        return 'sagittal'\n",
    "    \n",
    "    #[1,0,0,0,0,-1]\n",
    "    elif image_vectors[0] == 1 and image_vectors[5] == -1: \n",
    "        return 'coronal'\n",
    "    \n",
    "    else:\n",
    "        return 'unknown'"
   ]
  },
  {
   "cell_type": "code",
   "execution_count": 100,
   "id": "26d5ff13",
   "metadata": {},
   "outputs": [
    {
     "data": {
      "text/html": [
       "<div>\n",
       "<style scoped>\n",
       "    .dataframe tbody tr th:only-of-type {\n",
       "        vertical-align: middle;\n",
       "    }\n",
       "\n",
       "    .dataframe tbody tr th {\n",
       "        vertical-align: top;\n",
       "    }\n",
       "\n",
       "    .dataframe thead th {\n",
       "        text-align: right;\n",
       "    }\n",
       "</style>\n",
       "<table border=\"1\" class=\"dataframe\">\n",
       "  <thead>\n",
       "    <tr style=\"text-align: right;\">\n",
       "      <th></th>\n",
       "      <th>AccessionNumber</th>\n",
       "      <th>SliceThickness</th>\n",
       "      <th>ConvolutionKernel</th>\n",
       "      <th>ImageOrientationPatient</th>\n",
       "      <th>Patient ID</th>\n",
       "      <th>Directory Index</th>\n",
       "      <th>Orientation</th>\n",
       "    </tr>\n",
       "  </thead>\n",
       "  <tbody>\n",
       "    <tr>\n",
       "      <th>0</th>\n",
       "      <td>1005053246</td>\n",
       "      <td>1.0</td>\n",
       "      <td>T20s</td>\n",
       "      <td>[1, 6.123031769e-017, 0, 0, 0, -1]</td>\n",
       "      <td>2460458378</td>\n",
       "      <td>0</td>\n",
       "      <td>coronal</td>\n",
       "    </tr>\n",
       "    <tr>\n",
       "      <th>1</th>\n",
       "      <td>1005053246</td>\n",
       "      <td>1.0</td>\n",
       "      <td>B50f</td>\n",
       "      <td>[1, 0, 0, 0, 1, 0]</td>\n",
       "      <td>2460458378</td>\n",
       "      <td>1</td>\n",
       "      <td>axial</td>\n",
       "    </tr>\n",
       "    <tr>\n",
       "      <th>2</th>\n",
       "      <td>1005053246</td>\n",
       "      <td>3.0</td>\n",
       "      <td>B50f</td>\n",
       "      <td>[1, 0, 0, 0, 1, 0]</td>\n",
       "      <td>2460458378</td>\n",
       "      <td>2</td>\n",
       "      <td>axial</td>\n",
       "    </tr>\n",
       "    <tr>\n",
       "      <th>3</th>\n",
       "      <td>1005053246</td>\n",
       "      <td>10.0</td>\n",
       "      <td>B50f</td>\n",
       "      <td>[1, 1.224606354e-016, -7.10542736e-015, -1.224...</td>\n",
       "      <td>2460458378</td>\n",
       "      <td>3</td>\n",
       "      <td>axial</td>\n",
       "    </tr>\n",
       "    <tr>\n",
       "      <th>4</th>\n",
       "      <td>1005053246</td>\n",
       "      <td>10.0</td>\n",
       "      <td>B50f</td>\n",
       "      <td>[1, 0, 0, 0, 0, -1]</td>\n",
       "      <td>2460458378</td>\n",
       "      <td>4</td>\n",
       "      <td>coronal</td>\n",
       "    </tr>\n",
       "    <tr>\n",
       "      <th>5</th>\n",
       "      <td>1005053246</td>\n",
       "      <td>2.0</td>\n",
       "      <td>B50f</td>\n",
       "      <td>[1, 0, 0, 0, 0, -1]</td>\n",
       "      <td>2460458378</td>\n",
       "      <td>5</td>\n",
       "      <td>coronal</td>\n",
       "    </tr>\n",
       "    <tr>\n",
       "      <th>6</th>\n",
       "      <td>1005053246</td>\n",
       "      <td>10.0</td>\n",
       "      <td>B50f</td>\n",
       "      <td>[6.123031769e-017, 1, 0, 0, 0, -1]</td>\n",
       "      <td>2460458378</td>\n",
       "      <td>6</td>\n",
       "      <td>sagittal</td>\n",
       "    </tr>\n",
       "    <tr>\n",
       "      <th>7</th>\n",
       "      <td>1005053246</td>\n",
       "      <td>2.0</td>\n",
       "      <td>B50f</td>\n",
       "      <td>[6.123031769e-017, 1, 0, 0, 0, -1]</td>\n",
       "      <td>2460458378</td>\n",
       "      <td>7</td>\n",
       "      <td>sagittal</td>\n",
       "    </tr>\n",
       "    <tr>\n",
       "      <th>8</th>\n",
       "      <td>1005692582</td>\n",
       "      <td>1.0</td>\n",
       "      <td>B45f</td>\n",
       "      <td>[1, 0, 0, 0, 1, 0]</td>\n",
       "      <td>2467550964</td>\n",
       "      <td>8</td>\n",
       "      <td>axial</td>\n",
       "    </tr>\n",
       "    <tr>\n",
       "      <th>9</th>\n",
       "      <td>1005692582</td>\n",
       "      <td>10.0</td>\n",
       "      <td>B45f</td>\n",
       "      <td>[1, 0, 0, 0, 1, 0]</td>\n",
       "      <td>2467550964</td>\n",
       "      <td>9</td>\n",
       "      <td>axial</td>\n",
       "    </tr>\n",
       "  </tbody>\n",
       "</table>\n",
       "</div>"
      ],
      "text/plain": [
       "  AccessionNumber  SliceThickness ConvolutionKernel  \\\n",
       "0      1005053246             1.0              T20s   \n",
       "1      1005053246             1.0              B50f   \n",
       "2      1005053246             3.0              B50f   \n",
       "3      1005053246            10.0              B50f   \n",
       "4      1005053246            10.0              B50f   \n",
       "5      1005053246             2.0              B50f   \n",
       "6      1005053246            10.0              B50f   \n",
       "7      1005053246             2.0              B50f   \n",
       "8      1005692582             1.0              B45f   \n",
       "9      1005692582            10.0              B45f   \n",
       "\n",
       "                             ImageOrientationPatient  Patient ID  \\\n",
       "0                 [1, 6.123031769e-017, 0, 0, 0, -1]  2460458378   \n",
       "1                                 [1, 0, 0, 0, 1, 0]  2460458378   \n",
       "2                                 [1, 0, 0, 0, 1, 0]  2460458378   \n",
       "3  [1, 1.224606354e-016, -7.10542736e-015, -1.224...  2460458378   \n",
       "4                                [1, 0, 0, 0, 0, -1]  2460458378   \n",
       "5                                [1, 0, 0, 0, 0, -1]  2460458378   \n",
       "6                 [6.123031769e-017, 1, 0, 0, 0, -1]  2460458378   \n",
       "7                 [6.123031769e-017, 1, 0, 0, 0, -1]  2460458378   \n",
       "8                                 [1, 0, 0, 0, 1, 0]  2467550964   \n",
       "9                                 [1, 0, 0, 0, 1, 0]  2467550964   \n",
       "\n",
       "   Directory Index Orientation  \n",
       "0                0     coronal  \n",
       "1                1       axial  \n",
       "2                2       axial  \n",
       "3                3       axial  \n",
       "4                4     coronal  \n",
       "5                5     coronal  \n",
       "6                6    sagittal  \n",
       "7                7    sagittal  \n",
       "8                8       axial  \n",
       "9                9       axial  "
      ]
     },
     "execution_count": 100,
     "metadata": {},
     "output_type": "execute_result"
    }
   ],
   "source": [
    "#add column for scan orientation\n",
    "\n",
    "orientation = []\n",
    "for index in range(len(diacom_metadata_df)):\n",
    "    orientation.append(ct_orientation(index))\n",
    "    \n",
    "diacom_metadata_df['Orientation'] = orientation\n",
    "diacom_metadata_df.head(10)"
   ]
  },
  {
   "cell_type": "code",
   "execution_count": 101,
   "id": "66aa7bdc",
   "metadata": {},
   "outputs": [
    {
     "data": {
      "text/html": [
       "<div>\n",
       "<style scoped>\n",
       "    .dataframe tbody tr th:only-of-type {\n",
       "        vertical-align: middle;\n",
       "    }\n",
       "\n",
       "    .dataframe tbody tr th {\n",
       "        vertical-align: top;\n",
       "    }\n",
       "\n",
       "    .dataframe thead th {\n",
       "        text-align: right;\n",
       "    }\n",
       "</style>\n",
       "<table border=\"1\" class=\"dataframe\">\n",
       "  <thead>\n",
       "    <tr style=\"text-align: right;\">\n",
       "      <th></th>\n",
       "      <th>AccessionNumber</th>\n",
       "      <th>SliceThickness</th>\n",
       "      <th>ConvolutionKernel</th>\n",
       "      <th>ImageOrientationPatient</th>\n",
       "      <th>Patient ID</th>\n",
       "      <th>Directory Index</th>\n",
       "      <th>Orientation</th>\n",
       "    </tr>\n",
       "  </thead>\n",
       "  <tbody>\n",
       "    <tr>\n",
       "      <th>3323</th>\n",
       "      <td>2916785364</td>\n",
       "      <td>NaN</td>\n",
       "      <td>Tr20f</td>\n",
       "      <td>[1, 6.123233996e-017, 0, 0, 0, -1]</td>\n",
       "      <td>1998834231</td>\n",
       "      <td>3323</td>\n",
       "      <td>coronal</td>\n",
       "    </tr>\n",
       "    <tr>\n",
       "      <th>3324</th>\n",
       "      <td>2916785364</td>\n",
       "      <td>1.0</td>\n",
       "      <td>[Br49d, 3]</td>\n",
       "      <td>[1, 0, 0, 0, 1, 0]</td>\n",
       "      <td>1998834231</td>\n",
       "      <td>3324</td>\n",
       "      <td>axial</td>\n",
       "    </tr>\n",
       "    <tr>\n",
       "      <th>3325</th>\n",
       "      <td>2916785364</td>\n",
       "      <td>1.0</td>\n",
       "      <td>Br49d</td>\n",
       "      <td>[1, 0, 0, 0, 1, 0]</td>\n",
       "      <td>1998834231</td>\n",
       "      <td>3325</td>\n",
       "      <td>axial</td>\n",
       "    </tr>\n",
       "    <tr>\n",
       "      <th>3326</th>\n",
       "      <td>2916785364</td>\n",
       "      <td>10.0</td>\n",
       "      <td>Br49d</td>\n",
       "      <td>[0.99891122848408, -0.016735876424, -0.0435461...</td>\n",
       "      <td>1998834231</td>\n",
       "      <td>3326</td>\n",
       "      <td>axial</td>\n",
       "    </tr>\n",
       "    <tr>\n",
       "      <th>3327</th>\n",
       "      <td>2916785364</td>\n",
       "      <td>10.0</td>\n",
       "      <td>Br49d</td>\n",
       "      <td>[0.99891122848408, -0.016735876424, -0.0435461...</td>\n",
       "      <td>1998834231</td>\n",
       "      <td>3327</td>\n",
       "      <td>coronal</td>\n",
       "    </tr>\n",
       "    <tr>\n",
       "      <th>3328</th>\n",
       "      <td>2916785364</td>\n",
       "      <td>10.0</td>\n",
       "      <td>Br49d</td>\n",
       "      <td>[0.016751766015, 0.99985967932274, 0, -0.00603...</td>\n",
       "      <td>1998834231</td>\n",
       "      <td>3328</td>\n",
       "      <td>sagittal</td>\n",
       "    </tr>\n",
       "    <tr>\n",
       "      <th>3329</th>\n",
       "      <td>2916785364</td>\n",
       "      <td>2.0</td>\n",
       "      <td>Br49d</td>\n",
       "      <td>[0.99891122848408, -0.016735876424, -0.0435461...</td>\n",
       "      <td>1998834231</td>\n",
       "      <td>3329</td>\n",
       "      <td>coronal</td>\n",
       "    </tr>\n",
       "    <tr>\n",
       "      <th>3330</th>\n",
       "      <td>2916785364</td>\n",
       "      <td>2.0</td>\n",
       "      <td>Br49d</td>\n",
       "      <td>[0.016751766015, 0.99985967932274, 0, -0.04354...</td>\n",
       "      <td>1998834231</td>\n",
       "      <td>3330</td>\n",
       "      <td>sagittal</td>\n",
       "    </tr>\n",
       "    <tr>\n",
       "      <th>3331</th>\n",
       "      <td>2916785364</td>\n",
       "      <td>3.0</td>\n",
       "      <td>Br49d</td>\n",
       "      <td>[1, 0, 0, 0, 1, 0]</td>\n",
       "      <td>1998834231</td>\n",
       "      <td>3331</td>\n",
       "      <td>axial</td>\n",
       "    </tr>\n",
       "  </tbody>\n",
       "</table>\n",
       "</div>"
      ],
      "text/plain": [
       "     AccessionNumber  SliceThickness ConvolutionKernel  \\\n",
       "3323      2916785364             NaN             Tr20f   \n",
       "3324      2916785364             1.0        [Br49d, 3]   \n",
       "3325      2916785364             1.0             Br49d   \n",
       "3326      2916785364            10.0             Br49d   \n",
       "3327      2916785364            10.0             Br49d   \n",
       "3328      2916785364            10.0             Br49d   \n",
       "3329      2916785364             2.0             Br49d   \n",
       "3330      2916785364             2.0             Br49d   \n",
       "3331      2916785364             3.0             Br49d   \n",
       "\n",
       "                                ImageOrientationPatient  Patient ID  \\\n",
       "3323                 [1, 6.123233996e-017, 0, 0, 0, -1]  1998834231   \n",
       "3324                                 [1, 0, 0, 0, 1, 0]  1998834231   \n",
       "3325                                 [1, 0, 0, 0, 1, 0]  1998834231   \n",
       "3326  [0.99891122848408, -0.016735876424, -0.0435461...  1998834231   \n",
       "3327  [0.99891122848408, -0.016735876424, -0.0435461...  1998834231   \n",
       "3328  [0.016751766015, 0.99985967932274, 0, -0.00603...  1998834231   \n",
       "3329  [0.99891122848408, -0.016735876424, -0.0435461...  1998834231   \n",
       "3330  [0.016751766015, 0.99985967932274, 0, -0.04354...  1998834231   \n",
       "3331                                 [1, 0, 0, 0, 1, 0]  1998834231   \n",
       "\n",
       "      Directory Index Orientation  \n",
       "3323             3323     coronal  \n",
       "3324             3324       axial  \n",
       "3325             3325       axial  \n",
       "3326             3326       axial  \n",
       "3327             3327     coronal  \n",
       "3328             3328    sagittal  \n",
       "3329             3329     coronal  \n",
       "3330             3330    sagittal  \n",
       "3331             3331       axial  "
      ]
     },
     "execution_count": 101,
     "metadata": {},
     "output_type": "execute_result"
    }
   ],
   "source": [
    "#example of folder containing different coordinate types\n",
    "\n",
    "diacom_metadata_df.loc[diacom_metadata_df['AccessionNumber'] == '2916785364']"
   ]
  },
  {
   "cell_type": "code",
   "execution_count": 102,
   "id": "24d5bc36",
   "metadata": {},
   "outputs": [
    {
     "name": "stdout",
     "output_type": "stream",
     "text": [
      "The unique Slice Thickness values and their counts are:\n"
     ]
    },
    {
     "data": {
      "text/plain": [
       "SliceThickness\n",
       "10.0    1977\n",
       "2.0     1315\n",
       "1.0      818\n",
       "3.0      676\n",
       "0.6       99\n",
       "9.6        1\n",
       "Name: count, dtype: int64"
      ]
     },
     "execution_count": 102,
     "metadata": {},
     "output_type": "execute_result"
    }
   ],
   "source": [
    "#unique_slice_thickness = diacom_metadata_df['SliceThickness'].unique()\n",
    "#print(unique_slice_thickness)\n",
    "\n",
    "print('The unique Slice Thickness values and their counts are:')\n",
    "diacom_metadata_df['SliceThickness'].value_counts()"
   ]
  },
  {
   "cell_type": "code",
   "execution_count": 103,
   "id": "679e1867",
   "metadata": {},
   "outputs": [
    {
     "data": {
      "text/plain": [
       "<Axes: title={'center': 'Slice Thickness Frequency'}, xlabel='Slice Thickness'>"
      ]
     },
     "execution_count": 103,
     "metadata": {},
     "output_type": "execute_result"
    },
    {
     "data": {
      "image/png": "[encoded data removed]",
      "text/plain": [
       "<Figure size 640x480 with 1 Axes>"
      ]
     },
     "metadata": {},
     "output_type": "display_data"
    }
   ],
   "source": [
    "diacom_metadata_df['SliceThickness'].value_counts().plot(kind='bar', xlabel ='Slice Thickness', title = 'Slice Thickness Frequency')"
   ]
  },
  {
   "cell_type": "code",
   "execution_count": 104,
   "id": "6b704cc2",
   "metadata": {},
   "outputs": [
    {
     "name": "stdout",
     "output_type": "stream",
     "text": [
      "The unique Convolution Kernel values and their counts are:\n"
     ]
    },
    {
     "data": {
      "text/plain": [
       "ConvolutionKernel\n",
       "B45f          3679\n",
       "T20f           532\n",
       "Br49d          525\n",
       "B46f           255\n",
       "B50f           185\n",
       "Tr20f           75\n",
       "[Br49d, 3]      74\n",
       "T20s            67\n",
       "B35f             1\n",
       "B30s             1\n",
       "Name: count, dtype: int64"
      ]
     },
     "execution_count": 104,
     "metadata": {},
     "output_type": "execute_result"
    }
   ],
   "source": [
    "#unique_convolution_kernal = diacom_metadata_df['ConvolutionKernel'].explode().unique()\n",
    "#print(unique_convolution_kernal)\n",
    "print('The unique Convolution Kernel values and their counts are:')\n",
    "diacom_metadata_df['ConvolutionKernel'].value_counts()"
   ]
  },
  {
   "cell_type": "code",
   "execution_count": 105,
   "id": "2054eb2c",
   "metadata": {},
   "outputs": [
    {
     "data": {
      "text/plain": [
       "<Axes: title={'center': 'Convolution Kernel Frequency'}, xlabel='Convolution Kernel'>"
      ]
     },
     "execution_count": 105,
     "metadata": {},
     "output_type": "execute_result"
    },
    {
     "data": {
      "image/png": "[encoded data removed]",
      "text/plain": [
       "<Figure size 640x480 with 1 Axes>"
      ]
     },
     "metadata": {},
     "output_type": "display_data"
    }
   ],
   "source": [
    "diacom_metadata_df['ConvolutionKernel'].value_counts().plot(kind='bar', xlabel ='Convolution Kernel', title = 'Convolution Kernel Frequency')"
   ]
  },
  {
   "cell_type": "code",
   "execution_count": 106,
   "id": "f0159946",
   "metadata": {},
   "outputs": [
    {
     "name": "stdout",
     "output_type": "stream",
     "text": [
      "The unique Orientation values and their counts are:\n"
     ]
    },
    {
     "data": {
      "text/plain": [
       "Orientation\n",
       "axial       2323\n",
       "coronal     1970\n",
       "sagittal    1098\n",
       "unknown        3\n",
       "Name: count, dtype: int64"
      ]
     },
     "execution_count": 106,
     "metadata": {},
     "output_type": "execute_result"
    }
   ],
   "source": [
    "#unique_orientation = set(diacom_metadata_df['Orientation'])\n",
    "#print(unique_orientation)\n",
    "print('The unique Orientation values and their counts are:')\n",
    "diacom_metadata_df['Orientation'].value_counts()"
   ]
  },
  {
   "cell_type": "code",
   "execution_count": 107,
   "id": "3c015e65",
   "metadata": {},
   "outputs": [
    {
     "data": {
      "text/plain": [
       "<Axes: title={'center': 'Orientation Frequency'}, xlabel='Orientation'>"
      ]
     },
     "execution_count": 107,
     "metadata": {},
     "output_type": "execute_result"
    },
    {
     "data": {
      "image/png": "[encoded data removed]",
      "text/plain": [
       "<Figure size 640x480 with 1 Axes>"
      ]
     },
     "metadata": {},
     "output_type": "display_data"
    }
   ],
   "source": [
    "diacom_metadata_df['Orientation'].value_counts().plot(kind='bar', xlabel ='Orientation', title = 'Orientation Frequency')"
   ]
  },
  {
   "cell_type": "code",
   "execution_count": 108,
   "id": "67e0e490",
   "metadata": {},
   "outputs": [
    {
     "name": "stdout",
     "output_type": "stream",
     "text": [
      "AccessionNumber              0\n",
      "SliceThickness             508\n",
      "ConvolutionKernel            0\n",
      "ImageOrientationPatient      0\n",
      "Patient ID                   0\n",
      "Directory Index              0\n",
      "Orientation                  0\n",
      "dtype: int64\n"
     ]
    }
   ],
   "source": [
    "#check number of rows that have a null value\n",
    "\n",
    "print(diacom_metadata_df.isnull().sum())"
   ]
  },
  {
   "cell_type": "code",
   "execution_count": 109,
   "id": "8d8593e8",
   "metadata": {},
   "outputs": [],
   "source": [
    "#make dataframe of rows with null value \n",
    "\n",
    "nan_mask = pd.isnull(diacom_metadata_df).any(axis=1)\n",
    "nan_df = diacom_metadata_df[nan_mask]"
   ]
  },
  {
   "cell_type": "code",
   "execution_count": 110,
   "id": "634de963",
   "metadata": {},
   "outputs": [
    {
     "data": {
      "text/html": [
       "<div>\n",
       "<style scoped>\n",
       "    .dataframe tbody tr th:only-of-type {\n",
       "        vertical-align: middle;\n",
       "    }\n",
       "\n",
       "    .dataframe tbody tr th {\n",
       "        vertical-align: top;\n",
       "    }\n",
       "\n",
       "    .dataframe thead th {\n",
       "        text-align: right;\n",
       "    }\n",
       "</style>\n",
       "<table border=\"1\" class=\"dataframe\">\n",
       "  <thead>\n",
       "    <tr style=\"text-align: right;\">\n",
       "      <th></th>\n",
       "      <th>AccessionNumber</th>\n",
       "      <th>SliceThickness</th>\n",
       "      <th>ConvolutionKernel</th>\n",
       "      <th>ImageOrientationPatient</th>\n",
       "      <th>Patient ID</th>\n",
       "      <th>Directory Index</th>\n",
       "      <th>Orientation</th>\n",
       "    </tr>\n",
       "  </thead>\n",
       "  <tbody>\n",
       "    <tr>\n",
       "      <th>5313</th>\n",
       "      <td>9352202043</td>\n",
       "      <td>NaN</td>\n",
       "      <td>T20f</td>\n",
       "      <td>[1, 6.123233996e-017, 0, 0, 0, -1]</td>\n",
       "      <td>1106309862</td>\n",
       "      <td>5313</td>\n",
       "      <td>coronal</td>\n",
       "    </tr>\n",
       "    <tr>\n",
       "      <th>5328</th>\n",
       "      <td>9383866191</td>\n",
       "      <td>NaN</td>\n",
       "      <td>T20f</td>\n",
       "      <td>[1, 6.123233996e-017, 0, 0, 0, -1]</td>\n",
       "      <td>3363087039</td>\n",
       "      <td>5328</td>\n",
       "      <td>coronal</td>\n",
       "    </tr>\n",
       "    <tr>\n",
       "      <th>5329</th>\n",
       "      <td>9404267413</td>\n",
       "      <td>NaN</td>\n",
       "      <td>T20f</td>\n",
       "      <td>[1, 6.123233996e-017, 0, 0, 0, -1]</td>\n",
       "      <td>2336620092</td>\n",
       "      <td>5329</td>\n",
       "      <td>coronal</td>\n",
       "    </tr>\n",
       "    <tr>\n",
       "      <th>5337</th>\n",
       "      <td>9421256107</td>\n",
       "      <td>NaN</td>\n",
       "      <td>T20f</td>\n",
       "      <td>[1, 6.123233996e-017, 0, 0, 0, -1]</td>\n",
       "      <td>2449579961</td>\n",
       "      <td>5337</td>\n",
       "      <td>coronal</td>\n",
       "    </tr>\n",
       "    <tr>\n",
       "      <th>5345</th>\n",
       "      <td>9658298987</td>\n",
       "      <td>NaN</td>\n",
       "      <td>T20f</td>\n",
       "      <td>[1, 6.123233996e-017, 0, 0, 0, -1]</td>\n",
       "      <td>2524892927</td>\n",
       "      <td>5345</td>\n",
       "      <td>coronal</td>\n",
       "    </tr>\n",
       "    <tr>\n",
       "      <th>5353</th>\n",
       "      <td>9705401851</td>\n",
       "      <td>NaN</td>\n",
       "      <td>T20f</td>\n",
       "      <td>[1, 6.123233996e-017, 0, 0, 0, -1]</td>\n",
       "      <td>3832132434</td>\n",
       "      <td>5353</td>\n",
       "      <td>coronal</td>\n",
       "    </tr>\n",
       "    <tr>\n",
       "      <th>5361</th>\n",
       "      <td>9820417218</td>\n",
       "      <td>NaN</td>\n",
       "      <td>Tr20f</td>\n",
       "      <td>[1, 6.123233996e-017, 0, 0, 0, -1]</td>\n",
       "      <td>6117165282</td>\n",
       "      <td>5361</td>\n",
       "      <td>coronal</td>\n",
       "    </tr>\n",
       "    <tr>\n",
       "      <th>5370</th>\n",
       "      <td>9842687566</td>\n",
       "      <td>NaN</td>\n",
       "      <td>T20f</td>\n",
       "      <td>[1, 6.123233996e-017, 0, 0, 0, -1]</td>\n",
       "      <td>1536615107</td>\n",
       "      <td>5370</td>\n",
       "      <td>coronal</td>\n",
       "    </tr>\n",
       "    <tr>\n",
       "      <th>5378</th>\n",
       "      <td>9954178646</td>\n",
       "      <td>NaN</td>\n",
       "      <td>T20f</td>\n",
       "      <td>[1, 6.123233996e-017, 0, 0, 0, -1]</td>\n",
       "      <td>3200298660</td>\n",
       "      <td>5378</td>\n",
       "      <td>coronal</td>\n",
       "    </tr>\n",
       "    <tr>\n",
       "      <th>5386</th>\n",
       "      <td>9971061671</td>\n",
       "      <td>NaN</td>\n",
       "      <td>T20f</td>\n",
       "      <td>[1, 6.123233996e-017, 0, 0, 0, -1]</td>\n",
       "      <td>9903677335</td>\n",
       "      <td>5386</td>\n",
       "      <td>coronal</td>\n",
       "    </tr>\n",
       "  </tbody>\n",
       "</table>\n",
       "</div>"
      ],
      "text/plain": [
       "     AccessionNumber  SliceThickness ConvolutionKernel  \\\n",
       "5313      9352202043             NaN              T20f   \n",
       "5328      9383866191             NaN              T20f   \n",
       "5329      9404267413             NaN              T20f   \n",
       "5337      9421256107             NaN              T20f   \n",
       "5345      9658298987             NaN              T20f   \n",
       "5353      9705401851             NaN              T20f   \n",
       "5361      9820417218             NaN             Tr20f   \n",
       "5370      9842687566             NaN              T20f   \n",
       "5378      9954178646             NaN              T20f   \n",
       "5386      9971061671             NaN              T20f   \n",
       "\n",
       "                 ImageOrientationPatient  Patient ID  Directory Index  \\\n",
       "5313  [1, 6.123233996e-017, 0, 0, 0, -1]  1106309862             5313   \n",
       "5328  [1, 6.123233996e-017, 0, 0, 0, -1]  3363087039             5328   \n",
       "5329  [1, 6.123233996e-017, 0, 0, 0, -1]  2336620092             5329   \n",
       "5337  [1, 6.123233996e-017, 0, 0, 0, -1]  2449579961             5337   \n",
       "5345  [1, 6.123233996e-017, 0, 0, 0, -1]  2524892927             5345   \n",
       "5353  [1, 6.123233996e-017, 0, 0, 0, -1]  3832132434             5353   \n",
       "5361  [1, 6.123233996e-017, 0, 0, 0, -1]  6117165282             5361   \n",
       "5370  [1, 6.123233996e-017, 0, 0, 0, -1]  1536615107             5370   \n",
       "5378  [1, 6.123233996e-017, 0, 0, 0, -1]  3200298660             5378   \n",
       "5386  [1, 6.123233996e-017, 0, 0, 0, -1]  9903677335             5386   \n",
       "\n",
       "     Orientation  \n",
       "5313     coronal  \n",
       "5328     coronal  \n",
       "5329     coronal  \n",
       "5337     coronal  \n",
       "5345     coronal  \n",
       "5353     coronal  \n",
       "5361     coronal  \n",
       "5370     coronal  \n",
       "5378     coronal  \n",
       "5386     coronal  "
      ]
     },
     "execution_count": 110,
     "metadata": {},
     "output_type": "execute_result"
    }
   ],
   "source": [
    "nan_df.tail(10)"
   ]
  },
  {
   "cell_type": "code",
   "execution_count": 111,
   "id": "43d751f5",
   "metadata": {},
   "outputs": [
    {
     "data": {
      "text/html": [
       "<div>\n",
       "<style scoped>\n",
       "    .dataframe tbody tr th:only-of-type {\n",
       "        vertical-align: middle;\n",
       "    }\n",
       "\n",
       "    .dataframe tbody tr th {\n",
       "        vertical-align: top;\n",
       "    }\n",
       "\n",
       "    .dataframe thead th {\n",
       "        text-align: right;\n",
       "    }\n",
       "</style>\n",
       "<table border=\"1\" class=\"dataframe\">\n",
       "  <thead>\n",
       "    <tr style=\"text-align: right;\">\n",
       "      <th></th>\n",
       "      <th>AccessionNumber</th>\n",
       "      <th>SliceThickness</th>\n",
       "      <th>ConvolutionKernel</th>\n",
       "      <th>ImageOrientationPatient</th>\n",
       "      <th>Patient ID</th>\n",
       "      <th>Directory Index</th>\n",
       "      <th>Orientation</th>\n",
       "    </tr>\n",
       "  </thead>\n",
       "  <tbody>\n",
       "    <tr>\n",
       "      <th>32</th>\n",
       "      <td>1021652756</td>\n",
       "      <td>1.0</td>\n",
       "      <td>B45f</td>\n",
       "      <td>[1, 0, 0, 0, 1, 0]</td>\n",
       "      <td>3398671109</td>\n",
       "      <td>32</td>\n",
       "      <td>axial</td>\n",
       "    </tr>\n",
       "    <tr>\n",
       "      <th>33</th>\n",
       "      <td>1021652756</td>\n",
       "      <td>10.0</td>\n",
       "      <td>B45f</td>\n",
       "      <td>[1, 0, 0, 0, 0, -1]</td>\n",
       "      <td>3398671109</td>\n",
       "      <td>33</td>\n",
       "      <td>coronal</td>\n",
       "    </tr>\n",
       "    <tr>\n",
       "      <th>34</th>\n",
       "      <td>1021652756</td>\n",
       "      <td>10.0</td>\n",
       "      <td>B45f</td>\n",
       "      <td>[0.010626396151, 0.99994353825846, 0, 0, 0, -1]</td>\n",
       "      <td>3398671109</td>\n",
       "      <td>34</td>\n",
       "      <td>sagittal</td>\n",
       "    </tr>\n",
       "    <tr>\n",
       "      <th>35</th>\n",
       "      <td>1021652756</td>\n",
       "      <td>10.0</td>\n",
       "      <td>B45f</td>\n",
       "      <td>[0.9999867451123, -0.005148747392, 0, 0, 0, -1]</td>\n",
       "      <td>3398671109</td>\n",
       "      <td>35</td>\n",
       "      <td>coronal</td>\n",
       "    </tr>\n",
       "    <tr>\n",
       "      <th>36</th>\n",
       "      <td>1021652756</td>\n",
       "      <td>2.0</td>\n",
       "      <td>B45f</td>\n",
       "      <td>[1, 0, 0, 0, 1, 0]</td>\n",
       "      <td>3398671109</td>\n",
       "      <td>36</td>\n",
       "      <td>axial</td>\n",
       "    </tr>\n",
       "    <tr>\n",
       "      <th>37</th>\n",
       "      <td>1021652756</td>\n",
       "      <td>2.0</td>\n",
       "      <td>B45f</td>\n",
       "      <td>[1, 0, 0, 0, 1, 0]</td>\n",
       "      <td>3398671109</td>\n",
       "      <td>37</td>\n",
       "      <td>axial</td>\n",
       "    </tr>\n",
       "    <tr>\n",
       "      <th>38</th>\n",
       "      <td>1021652756</td>\n",
       "      <td>3.0</td>\n",
       "      <td>B45f</td>\n",
       "      <td>[1, 0, 0, 0, 1, 0]</td>\n",
       "      <td>3398671109</td>\n",
       "      <td>38</td>\n",
       "      <td>axial</td>\n",
       "    </tr>\n",
       "    <tr>\n",
       "      <th>39</th>\n",
       "      <td>1021652756</td>\n",
       "      <td>NaN</td>\n",
       "      <td>T20f</td>\n",
       "      <td>[1, 6.123233996e-017, 0, 0, 0, -1]</td>\n",
       "      <td>3398671109</td>\n",
       "      <td>39</td>\n",
       "      <td>coronal</td>\n",
       "    </tr>\n",
       "  </tbody>\n",
       "</table>\n",
       "</div>"
      ],
      "text/plain": [
       "   AccessionNumber  SliceThickness ConvolutionKernel  \\\n",
       "32      1021652756             1.0              B45f   \n",
       "33      1021652756            10.0              B45f   \n",
       "34      1021652756            10.0              B45f   \n",
       "35      1021652756            10.0              B45f   \n",
       "36      1021652756             2.0              B45f   \n",
       "37      1021652756             2.0              B45f   \n",
       "38      1021652756             3.0              B45f   \n",
       "39      1021652756             NaN              T20f   \n",
       "\n",
       "                            ImageOrientationPatient  Patient ID  \\\n",
       "32                               [1, 0, 0, 0, 1, 0]  3398671109   \n",
       "33                              [1, 0, 0, 0, 0, -1]  3398671109   \n",
       "34  [0.010626396151, 0.99994353825846, 0, 0, 0, -1]  3398671109   \n",
       "35  [0.9999867451123, -0.005148747392, 0, 0, 0, -1]  3398671109   \n",
       "36                               [1, 0, 0, 0, 1, 0]  3398671109   \n",
       "37                               [1, 0, 0, 0, 1, 0]  3398671109   \n",
       "38                               [1, 0, 0, 0, 1, 0]  3398671109   \n",
       "39               [1, 6.123233996e-017, 0, 0, 0, -1]  3398671109   \n",
       "\n",
       "    Directory Index Orientation  \n",
       "32               32       axial  \n",
       "33               33     coronal  \n",
       "34               34    sagittal  \n",
       "35               35     coronal  \n",
       "36               36       axial  \n",
       "37               37       axial  \n",
       "38               38       axial  \n",
       "39               39     coronal  "
      ]
     },
     "execution_count": 111,
     "metadata": {},
     "output_type": "execute_result"
    }
   ],
   "source": [
    "#entries with null slice thickness are contained in folders entitled 'Topo'\n",
    "\n",
    "diacom_metadata_df.loc[diacom_metadata_df['AccessionNumber'] == '1021652756']"
   ]
  },
  {
   "cell_type": "code",
   "execution_count": 112,
   "id": "a632191e",
   "metadata": {},
   "outputs": [
    {
     "name": "stdout",
     "output_type": "stream",
     "text": [
      "AccessionNumber            0\n",
      "SliceThickness             0\n",
      "ConvolutionKernel          0\n",
      "ImageOrientationPatient    0\n",
      "Patient ID                 0\n",
      "Directory Index            0\n",
      "Orientation                0\n",
      "dtype: int64\n"
     ]
    }
   ],
   "source": [
    "#make new dataframe ommiting null values\n",
    "diacom_no_nans_df = diacom_metadata_df[~diacom_metadata_df.isnull().any(axis=1)]\n",
    "\n",
    "print(diacom_no_nans_df.isnull().sum())"
   ]
  },
  {
   "cell_type": "code",
   "execution_count": 113,
   "id": "c79ace73",
   "metadata": {
    "collapsed": true,
    "jupyter": {
     "outputs_hidden": true
    }
   },
   "outputs": [
    {
     "name": "stderr",
     "output_type": "stream",
     "text": [
      "/tmp/ipykernel_2649269/43587305.py:2: SettingWithCopyWarning: \n",
      "A value is trying to be set on a copy of a slice from a DataFrame.\n",
      "Try using .loc[row_indexer,col_indexer] = value instead\n",
      "\n",
      "See the caveats in the documentation: https://pandas.pydata.org/pandas-docs/stable/user_guide/indexing.html#returning-a-view-versus-a-copy\n",
      "  diacom_no_nans_df['ConvolutionKernel'] = diacom_no_nans_df['ConvolutionKernel'].astype(str)\n"
     ]
    }
   ],
   "source": [
    "#cast 'ConvolutionKernel' to string to deal with ['Br49d', '3'] value\n",
    "diacom_no_nans_df['ConvolutionKernel'] = diacom_no_nans_df['ConvolutionKernel'].astype(str)\n",
    "\n",
    "#calculate the counts for different combinations of features\n",
    "feature_count_df = diacom_no_nans_df.groupby(['SliceThickness','ConvolutionKernel', 'Orientation']).size().reset_index().rename(columns={0:'count'})"
   ]
  },
  {
   "cell_type": "code",
   "execution_count": 114,
   "id": "2a784fa5",
   "metadata": {},
   "outputs": [],
   "source": [
    "feature_count_df = feature_count_df.sort_values('count', ascending=False)"
   ]
  },
  {
   "cell_type": "code",
   "execution_count": 115,
   "id": "ae652112",
   "metadata": {},
   "outputs": [
    {
     "data": {
      "text/html": [
       "<div>\n",
       "<style scoped>\n",
       "    .dataframe tbody tr th:only-of-type {\n",
       "        vertical-align: middle;\n",
       "    }\n",
       "\n",
       "    .dataframe tbody tr th {\n",
       "        vertical-align: top;\n",
       "    }\n",
       "\n",
       "    .dataframe thead th {\n",
       "        text-align: right;\n",
       "    }\n",
       "</style>\n",
       "<table border=\"1\" class=\"dataframe\">\n",
       "  <thead>\n",
       "    <tr style=\"text-align: right;\">\n",
       "      <th></th>\n",
       "      <th>SliceThickness</th>\n",
       "      <th>ConvolutionKernel</th>\n",
       "      <th>Orientation</th>\n",
       "      <th>count</th>\n",
       "    </tr>\n",
       "  </thead>\n",
       "  <tbody>\n",
       "    <tr>\n",
       "      <th>29</th>\n",
       "      <td>10.0</td>\n",
       "      <td>B45f</td>\n",
       "      <td>axial</td>\n",
       "      <td>579</td>\n",
       "    </tr>\n",
       "    <tr>\n",
       "      <th>30</th>\n",
       "      <td>10.0</td>\n",
       "      <td>B45f</td>\n",
       "      <td>coronal</td>\n",
       "      <td>560</td>\n",
       "    </tr>\n",
       "    <tr>\n",
       "      <th>2</th>\n",
       "      <td>1.0</td>\n",
       "      <td>B45f</td>\n",
       "      <td>axial</td>\n",
       "      <td>531</td>\n",
       "    </tr>\n",
       "    <tr>\n",
       "      <th>21</th>\n",
       "      <td>3.0</td>\n",
       "      <td>B45f</td>\n",
       "      <td>axial</td>\n",
       "      <td>530</td>\n",
       "    </tr>\n",
       "    <tr>\n",
       "      <th>11</th>\n",
       "      <td>2.0</td>\n",
       "      <td>B45f</td>\n",
       "      <td>coronal</td>\n",
       "      <td>466</td>\n",
       "    </tr>\n",
       "    <tr>\n",
       "      <th>31</th>\n",
       "      <td>10.0</td>\n",
       "      <td>B45f</td>\n",
       "      <td>sagittal</td>\n",
       "      <td>445</td>\n",
       "    </tr>\n",
       "    <tr>\n",
       "      <th>12</th>\n",
       "      <td>2.0</td>\n",
       "      <td>B45f</td>\n",
       "      <td>sagittal</td>\n",
       "      <td>402</td>\n",
       "    </tr>\n",
       "    <tr>\n",
       "      <th>10</th>\n",
       "      <td>2.0</td>\n",
       "      <td>B45f</td>\n",
       "      <td>axial</td>\n",
       "      <td>166</td>\n",
       "    </tr>\n",
       "    <tr>\n",
       "      <th>0</th>\n",
       "      <td>0.6</td>\n",
       "      <td>T20f</td>\n",
       "      <td>coronal</td>\n",
       "      <td>98</td>\n",
       "    </tr>\n",
       "    <tr>\n",
       "      <th>40</th>\n",
       "      <td>10.0</td>\n",
       "      <td>Br49d</td>\n",
       "      <td>sagittal</td>\n",
       "      <td>88</td>\n",
       "    </tr>\n",
       "  </tbody>\n",
       "</table>\n",
       "</div>"
      ],
      "text/plain": [
       "    SliceThickness ConvolutionKernel Orientation  count\n",
       "29            10.0              B45f       axial    579\n",
       "30            10.0              B45f     coronal    560\n",
       "2              1.0              B45f       axial    531\n",
       "21             3.0              B45f       axial    530\n",
       "11             2.0              B45f     coronal    466\n",
       "31            10.0              B45f    sagittal    445\n",
       "12             2.0              B45f    sagittal    402\n",
       "10             2.0              B45f       axial    166\n",
       "0              0.6              T20f     coronal     98\n",
       "40            10.0             Br49d    sagittal     88"
      ]
     },
     "execution_count": 115,
     "metadata": {},
     "output_type": "execute_result"
    }
   ],
   "source": [
    "feature_count_df.head(10)"
   ]
  },
  {
   "cell_type": "code",
   "execution_count": 116,
   "id": "ed67dc9f",
   "metadata": {},
   "outputs": [],
   "source": [
    "#want entries with following properties:\n",
    "#SliceThickness = 1.0, ConvolutionKernel = B45f, Orientation = axial\n",
    "#this is the one used\n",
    "\n",
    "reduced_df = diacom_metadata_df[(diacom_metadata_df['SliceThickness'] == 1.0) & (diacom_metadata_df['Orientation'] == 'axial')\n",
    "                               & (diacom_metadata_df['ConvolutionKernel'] == 'B45f')]"
   ]
  },
  {
   "cell_type": "code",
   "execution_count": 117,
   "id": "1dd3a9be",
   "metadata": {},
   "outputs": [],
   "source": [
    "#check entries with following properties:\n",
    "#SliceThickness = 2.0, ConvolutionKernel = B45f, Orientation = axial\n",
    "\n",
    "reduced_df_2 = diacom_metadata_df[(diacom_metadata_df['SliceThickness'] == 2.0) & (diacom_metadata_df['Orientation'] == 'axial')\n",
    "                               & (diacom_metadata_df['ConvolutionKernel'] == 'B45f')]"
   ]
  },
  {
   "cell_type": "code",
   "execution_count": 118,
   "id": "4937fed9",
   "metadata": {},
   "outputs": [
    {
     "data": {
      "text/html": [
       "<div>\n",
       "<style scoped>\n",
       "    .dataframe tbody tr th:only-of-type {\n",
       "        vertical-align: middle;\n",
       "    }\n",
       "\n",
       "    .dataframe tbody tr th {\n",
       "        vertical-align: top;\n",
       "    }\n",
       "\n",
       "    .dataframe thead th {\n",
       "        text-align: right;\n",
       "    }\n",
       "</style>\n",
       "<table border=\"1\" class=\"dataframe\">\n",
       "  <thead>\n",
       "    <tr style=\"text-align: right;\">\n",
       "      <th></th>\n",
       "      <th>AccessionNumber</th>\n",
       "      <th>SliceThickness</th>\n",
       "      <th>ConvolutionKernel</th>\n",
       "      <th>ImageOrientationPatient</th>\n",
       "      <th>Patient ID</th>\n",
       "      <th>Directory Index</th>\n",
       "      <th>Orientation</th>\n",
       "    </tr>\n",
       "  </thead>\n",
       "  <tbody>\n",
       "    <tr>\n",
       "      <th>29</th>\n",
       "      <td>1014372919</td>\n",
       "      <td>2.0</td>\n",
       "      <td>B45f</td>\n",
       "      <td>[1, 0, 0, 0, 1, 0]</td>\n",
       "      <td>1708720103</td>\n",
       "      <td>29</td>\n",
       "      <td>axial</td>\n",
       "    </tr>\n",
       "    <tr>\n",
       "      <th>36</th>\n",
       "      <td>1021652756</td>\n",
       "      <td>2.0</td>\n",
       "      <td>B45f</td>\n",
       "      <td>[1, 0, 0, 0, 1, 0]</td>\n",
       "      <td>3398671109</td>\n",
       "      <td>36</td>\n",
       "      <td>axial</td>\n",
       "    </tr>\n",
       "    <tr>\n",
       "      <th>37</th>\n",
       "      <td>1021652756</td>\n",
       "      <td>2.0</td>\n",
       "      <td>B45f</td>\n",
       "      <td>[1, 0, 0, 0, 1, 0]</td>\n",
       "      <td>3398671109</td>\n",
       "      <td>37</td>\n",
       "      <td>axial</td>\n",
       "    </tr>\n",
       "    <tr>\n",
       "      <th>128</th>\n",
       "      <td>1054520186</td>\n",
       "      <td>2.0</td>\n",
       "      <td>B45f</td>\n",
       "      <td>[1, 0, 0, 0, 1, 0]</td>\n",
       "      <td>1071989971</td>\n",
       "      <td>128</td>\n",
       "      <td>axial</td>\n",
       "    </tr>\n",
       "    <tr>\n",
       "      <th>142</th>\n",
       "      <td>1058371759</td>\n",
       "      <td>2.0</td>\n",
       "      <td>B45f</td>\n",
       "      <td>[0.99929533920918, -1.5085106e-005, -0.0375343...</td>\n",
       "      <td>1756388016</td>\n",
       "      <td>142</td>\n",
       "      <td>axial</td>\n",
       "    </tr>\n",
       "    <tr>\n",
       "      <th>...</th>\n",
       "      <td>...</td>\n",
       "      <td>...</td>\n",
       "      <td>...</td>\n",
       "      <td>...</td>\n",
       "      <td>...</td>\n",
       "      <td>...</td>\n",
       "      <td>...</td>\n",
       "    </tr>\n",
       "    <tr>\n",
       "      <th>5237</th>\n",
       "      <td>8886763136</td>\n",
       "      <td>2.0</td>\n",
       "      <td>B45f</td>\n",
       "      <td>[1, 0, 0, 0, 1, 0]</td>\n",
       "      <td>2988855850</td>\n",
       "      <td>5237</td>\n",
       "      <td>axial</td>\n",
       "    </tr>\n",
       "    <tr>\n",
       "      <th>5238</th>\n",
       "      <td>8886763136</td>\n",
       "      <td>2.0</td>\n",
       "      <td>B45f</td>\n",
       "      <td>[1, 0, 0, 0, 1, 0]</td>\n",
       "      <td>2988855850</td>\n",
       "      <td>5238</td>\n",
       "      <td>axial</td>\n",
       "    </tr>\n",
       "    <tr>\n",
       "      <th>5358</th>\n",
       "      <td>9705401851</td>\n",
       "      <td>2.0</td>\n",
       "      <td>B45f</td>\n",
       "      <td>[1, 0, 0, 0, 1, 0]</td>\n",
       "      <td>3832132434</td>\n",
       "      <td>5358</td>\n",
       "      <td>axial</td>\n",
       "    </tr>\n",
       "    <tr>\n",
       "      <th>5383</th>\n",
       "      <td>9954178646</td>\n",
       "      <td>2.0</td>\n",
       "      <td>B45f</td>\n",
       "      <td>[1, 0, 0, 0, 1, 0]</td>\n",
       "      <td>3200298660</td>\n",
       "      <td>5383</td>\n",
       "      <td>axial</td>\n",
       "    </tr>\n",
       "    <tr>\n",
       "      <th>5391</th>\n",
       "      <td>9971061671</td>\n",
       "      <td>2.0</td>\n",
       "      <td>B45f</td>\n",
       "      <td>[1, 0, 0, 0, 1, 0]</td>\n",
       "      <td>9903677335</td>\n",
       "      <td>5391</td>\n",
       "      <td>axial</td>\n",
       "    </tr>\n",
       "  </tbody>\n",
       "</table>\n",
       "<p>166 rows × 7 columns</p>\n",
       "</div>"
      ],
      "text/plain": [
       "     AccessionNumber  SliceThickness ConvolutionKernel  \\\n",
       "29        1014372919             2.0              B45f   \n",
       "36        1021652756             2.0              B45f   \n",
       "37        1021652756             2.0              B45f   \n",
       "128       1054520186             2.0              B45f   \n",
       "142       1058371759             2.0              B45f   \n",
       "...              ...             ...               ...   \n",
       "5237      8886763136             2.0              B45f   \n",
       "5238      8886763136             2.0              B45f   \n",
       "5358      9705401851             2.0              B45f   \n",
       "5383      9954178646             2.0              B45f   \n",
       "5391      9971061671             2.0              B45f   \n",
       "\n",
       "                                ImageOrientationPatient  Patient ID  \\\n",
       "29                                   [1, 0, 0, 0, 1, 0]  1708720103   \n",
       "36                                   [1, 0, 0, 0, 1, 0]  3398671109   \n",
       "37                                   [1, 0, 0, 0, 1, 0]  3398671109   \n",
       "128                                  [1, 0, 0, 0, 1, 0]  1071989971   \n",
       "142   [0.99929533920918, -1.5085106e-005, -0.0375343...  1756388016   \n",
       "...                                                 ...         ...   \n",
       "5237                                 [1, 0, 0, 0, 1, 0]  2988855850   \n",
       "5238                                 [1, 0, 0, 0, 1, 0]  2988855850   \n",
       "5358                                 [1, 0, 0, 0, 1, 0]  3832132434   \n",
       "5383                                 [1, 0, 0, 0, 1, 0]  3200298660   \n",
       "5391                                 [1, 0, 0, 0, 1, 0]  9903677335   \n",
       "\n",
       "      Directory Index Orientation  \n",
       "29                 29       axial  \n",
       "36                 36       axial  \n",
       "37                 37       axial  \n",
       "128               128       axial  \n",
       "142               142       axial  \n",
       "...               ...         ...  \n",
       "5237             5237       axial  \n",
       "5238             5238       axial  \n",
       "5358             5358       axial  \n",
       "5383             5383       axial  \n",
       "5391             5391       axial  \n",
       "\n",
       "[166 rows x 7 columns]"
      ]
     },
     "execution_count": 118,
     "metadata": {},
     "output_type": "execute_result"
    }
   ],
   "source": [
    "reduced_df_2"
   ]
  },
  {
   "cell_type": "code",
   "execution_count": 119,
   "id": "19aa5a1f",
   "metadata": {},
   "outputs": [
    {
     "name": "stdout",
     "output_type": "stream",
     "text": [
      "True\n"
     ]
    }
   ],
   "source": [
    "#check if reduced_df_2 contains patients contained in reduced_df\n",
    "\n",
    "common_values = set(reduced_df_2['AccessionNumber']).intersection(set(reduced_df['AccessionNumber']))\n",
    "print(set(reduced_df_2['AccessionNumber']).issubset(set(reduced_df['AccessionNumber'])))"
   ]
  },
  {
   "cell_type": "code",
   "execution_count": 120,
   "id": "593202ed",
   "metadata": {},
   "outputs": [
    {
     "data": {
      "text/plain": [
       "112"
      ]
     },
     "execution_count": 120,
     "metadata": {},
     "output_type": "execute_result"
    }
   ],
   "source": [
    "total_patients = set(reduced_df_2['AccessionNumber'])\n",
    "len(total_patients)"
   ]
  },
  {
   "cell_type": "code",
   "execution_count": 121,
   "id": "163fa5f6",
   "metadata": {},
   "outputs": [
    {
     "data": {
      "text/html": [
       "<div>\n",
       "<style scoped>\n",
       "    .dataframe tbody tr th:only-of-type {\n",
       "        vertical-align: middle;\n",
       "    }\n",
       "\n",
       "    .dataframe tbody tr th {\n",
       "        vertical-align: top;\n",
       "    }\n",
       "\n",
       "    .dataframe thead th {\n",
       "        text-align: right;\n",
       "    }\n",
       "</style>\n",
       "<table border=\"1\" class=\"dataframe\">\n",
       "  <thead>\n",
       "    <tr style=\"text-align: right;\">\n",
       "      <th></th>\n",
       "      <th>SliceThickness</th>\n",
       "      <th>ConvolutionKernel</th>\n",
       "      <th>Orientation</th>\n",
       "      <th>count</th>\n",
       "    </tr>\n",
       "  </thead>\n",
       "  <tbody>\n",
       "    <tr>\n",
       "      <th>28</th>\n",
       "      <td>10.0</td>\n",
       "      <td>Br49d</td>\n",
       "      <td>sagittal</td>\n",
       "      <td>88</td>\n",
       "    </tr>\n",
       "    <tr>\n",
       "      <th>3</th>\n",
       "      <td>1.0</td>\n",
       "      <td>Br49d</td>\n",
       "      <td>axial</td>\n",
       "      <td>75</td>\n",
       "    </tr>\n",
       "    <tr>\n",
       "      <th>19</th>\n",
       "      <td>3.0</td>\n",
       "      <td>Br49d</td>\n",
       "      <td>axial</td>\n",
       "      <td>75</td>\n",
       "    </tr>\n",
       "    <tr>\n",
       "      <th>27</th>\n",
       "      <td>10.0</td>\n",
       "      <td>Br49d</td>\n",
       "      <td>coronal</td>\n",
       "      <td>74</td>\n",
       "    </tr>\n",
       "    <tr>\n",
       "      <th>6</th>\n",
       "      <td>1.0</td>\n",
       "      <td>['Br49d', '3']</td>\n",
       "      <td>axial</td>\n",
       "      <td>74</td>\n",
       "    </tr>\n",
       "    <tr>\n",
       "      <th>5</th>\n",
       "      <td>1.0</td>\n",
       "      <td>T20s</td>\n",
       "      <td>coronal</td>\n",
       "      <td>67</td>\n",
       "    </tr>\n",
       "    <tr>\n",
       "      <th>12</th>\n",
       "      <td>2.0</td>\n",
       "      <td>Br49d</td>\n",
       "      <td>coronal</td>\n",
       "      <td>62</td>\n",
       "    </tr>\n",
       "    <tr>\n",
       "      <th>26</th>\n",
       "      <td>10.0</td>\n",
       "      <td>Br49d</td>\n",
       "      <td>axial</td>\n",
       "      <td>62</td>\n",
       "    </tr>\n",
       "    <tr>\n",
       "      <th>13</th>\n",
       "      <td>2.0</td>\n",
       "      <td>Br49d</td>\n",
       "      <td>sagittal</td>\n",
       "      <td>62</td>\n",
       "    </tr>\n",
       "    <tr>\n",
       "      <th>21</th>\n",
       "      <td>10.0</td>\n",
       "      <td>B46f</td>\n",
       "      <td>coronal</td>\n",
       "      <td>39</td>\n",
       "    </tr>\n",
       "    <tr>\n",
       "      <th>20</th>\n",
       "      <td>10.0</td>\n",
       "      <td>B46f</td>\n",
       "      <td>axial</td>\n",
       "      <td>39</td>\n",
       "    </tr>\n",
       "    <tr>\n",
       "      <th>0</th>\n",
       "      <td>1.0</td>\n",
       "      <td>B46f</td>\n",
       "      <td>axial</td>\n",
       "      <td>39</td>\n",
       "    </tr>\n",
       "    <tr>\n",
       "      <th>14</th>\n",
       "      <td>3.0</td>\n",
       "      <td>B46f</td>\n",
       "      <td>axial</td>\n",
       "      <td>39</td>\n",
       "    </tr>\n",
       "    <tr>\n",
       "      <th>7</th>\n",
       "      <td>2.0</td>\n",
       "      <td>B46f</td>\n",
       "      <td>coronal</td>\n",
       "      <td>38</td>\n",
       "    </tr>\n",
       "    <tr>\n",
       "      <th>8</th>\n",
       "      <td>2.0</td>\n",
       "      <td>B46f</td>\n",
       "      <td>sagittal</td>\n",
       "      <td>38</td>\n",
       "    </tr>\n",
       "    <tr>\n",
       "      <th>1</th>\n",
       "      <td>1.0</td>\n",
       "      <td>B50f</td>\n",
       "      <td>axial</td>\n",
       "      <td>29</td>\n",
       "    </tr>\n",
       "    <tr>\n",
       "      <th>23</th>\n",
       "      <td>10.0</td>\n",
       "      <td>B50f</td>\n",
       "      <td>axial</td>\n",
       "      <td>29</td>\n",
       "    </tr>\n",
       "    <tr>\n",
       "      <th>15</th>\n",
       "      <td>3.0</td>\n",
       "      <td>B50f</td>\n",
       "      <td>axial</td>\n",
       "      <td>28</td>\n",
       "    </tr>\n",
       "    <tr>\n",
       "      <th>9</th>\n",
       "      <td>2.0</td>\n",
       "      <td>B50f</td>\n",
       "      <td>coronal</td>\n",
       "      <td>28</td>\n",
       "    </tr>\n",
       "    <tr>\n",
       "      <th>24</th>\n",
       "      <td>10.0</td>\n",
       "      <td>B50f</td>\n",
       "      <td>coronal</td>\n",
       "      <td>28</td>\n",
       "    </tr>\n",
       "    <tr>\n",
       "      <th>10</th>\n",
       "      <td>2.0</td>\n",
       "      <td>B50f</td>\n",
       "      <td>sagittal</td>\n",
       "      <td>27</td>\n",
       "    </tr>\n",
       "    <tr>\n",
       "      <th>11</th>\n",
       "      <td>2.0</td>\n",
       "      <td>Br49d</td>\n",
       "      <td>axial</td>\n",
       "      <td>26</td>\n",
       "    </tr>\n",
       "    <tr>\n",
       "      <th>22</th>\n",
       "      <td>10.0</td>\n",
       "      <td>B46f</td>\n",
       "      <td>sagittal</td>\n",
       "      <td>23</td>\n",
       "    </tr>\n",
       "    <tr>\n",
       "      <th>25</th>\n",
       "      <td>10.0</td>\n",
       "      <td>B50f</td>\n",
       "      <td>sagittal</td>\n",
       "      <td>11</td>\n",
       "    </tr>\n",
       "    <tr>\n",
       "      <th>2</th>\n",
       "      <td>1.0</td>\n",
       "      <td>B50f</td>\n",
       "      <td>unknown</td>\n",
       "      <td>2</td>\n",
       "    </tr>\n",
       "    <tr>\n",
       "      <th>16</th>\n",
       "      <td>3.0</td>\n",
       "      <td>B50f</td>\n",
       "      <td>coronal</td>\n",
       "      <td>1</td>\n",
       "    </tr>\n",
       "    <tr>\n",
       "      <th>17</th>\n",
       "      <td>3.0</td>\n",
       "      <td>B50f</td>\n",
       "      <td>sagittal</td>\n",
       "      <td>1</td>\n",
       "    </tr>\n",
       "    <tr>\n",
       "      <th>18</th>\n",
       "      <td>3.0</td>\n",
       "      <td>B50f</td>\n",
       "      <td>unknown</td>\n",
       "      <td>1</td>\n",
       "    </tr>\n",
       "    <tr>\n",
       "      <th>4</th>\n",
       "      <td>1.0</td>\n",
       "      <td>Br49d</td>\n",
       "      <td>coronal</td>\n",
       "      <td>1</td>\n",
       "    </tr>\n",
       "  </tbody>\n",
       "</table>\n",
       "</div>"
      ],
      "text/plain": [
       "    SliceThickness ConvolutionKernel Orientation  count\n",
       "28            10.0             Br49d    sagittal     88\n",
       "3              1.0             Br49d       axial     75\n",
       "19             3.0             Br49d       axial     75\n",
       "27            10.0             Br49d     coronal     74\n",
       "6              1.0    ['Br49d', '3']       axial     74\n",
       "5              1.0              T20s     coronal     67\n",
       "12             2.0             Br49d     coronal     62\n",
       "26            10.0             Br49d       axial     62\n",
       "13             2.0             Br49d    sagittal     62\n",
       "21            10.0              B46f     coronal     39\n",
       "20            10.0              B46f       axial     39\n",
       "0              1.0              B46f       axial     39\n",
       "14             3.0              B46f       axial     39\n",
       "7              2.0              B46f     coronal     38\n",
       "8              2.0              B46f    sagittal     38\n",
       "1              1.0              B50f       axial     29\n",
       "23            10.0              B50f       axial     29\n",
       "15             3.0              B50f       axial     28\n",
       "9              2.0              B50f     coronal     28\n",
       "24            10.0              B50f     coronal     28\n",
       "10             2.0              B50f    sagittal     27\n",
       "11             2.0             Br49d       axial     26\n",
       "22            10.0              B46f    sagittal     23\n",
       "25            10.0              B50f    sagittal     11\n",
       "2              1.0              B50f     unknown      2\n",
       "16             3.0              B50f     coronal      1\n",
       "17             3.0              B50f    sagittal      1\n",
       "18             3.0              B50f     unknown      1\n",
       "4              1.0             Br49d     coronal      1"
      ]
     },
     "execution_count": 121,
     "metadata": {},
     "output_type": "execute_result"
    }
   ],
   "source": [
    "#check features of ommited patients\n",
    "\n",
    "#creates dataframe of patients not included in other dataset\n",
    "test_df = diacom_no_nans_df[~diacom_no_nans_df['AccessionNumber'].isin(reduced_df['AccessionNumber'].tolist())]\n",
    "test_feature_count_df = test_df.groupby(['SliceThickness','ConvolutionKernel', 'Orientation']).size().reset_index().rename(columns={0:'count'})\n",
    "test_feature_count_df = test_feature_count_df.sort_values('count', ascending=False)\n",
    "test_feature_count_df"
   ]
  },
  {
   "cell_type": "code",
   "execution_count": 122,
   "id": "a69815ef",
   "metadata": {},
   "outputs": [
    {
     "ename": "NameError",
     "evalue": "name 'combined_accession_num_set' is not defined",
     "output_type": "error",
     "traceback": [
      "\u001b[0;31m---------------------------------------------------------------------------\u001b[0m",
      "\u001b[0;31mNameError\u001b[0m                                 Traceback (most recent call last)",
      "Cell \u001b[0;32mIn[122], line 4\u001b[0m\n\u001b[1;32m      1\u001b[0m \u001b[38;5;66;03m#check features of additional ommited patients\u001b[39;00m\n\u001b[1;32m      2\u001b[0m \n\u001b[1;32m      3\u001b[0m \u001b[38;5;66;03m#creates dataframe of patients not included in other datasets\u001b[39;00m\n\u001b[0;32m----> 4\u001b[0m test_df \u001b[38;5;241m=\u001b[39m diacom_no_nans_df[\u001b[38;5;241m~\u001b[39mdiacom_no_nans_df[\u001b[38;5;124m'\u001b[39m\u001b[38;5;124mAccessionNumber\u001b[39m\u001b[38;5;124m'\u001b[39m]\u001b[38;5;241m.\u001b[39misin(\u001b[43mcombined_accession_num_set\u001b[49m)]\n\u001b[1;32m      5\u001b[0m test_feature_count_df \u001b[38;5;241m=\u001b[39m test_df\u001b[38;5;241m.\u001b[39mgroupby([\u001b[38;5;124m'\u001b[39m\u001b[38;5;124mSliceThickness\u001b[39m\u001b[38;5;124m'\u001b[39m,\u001b[38;5;124m'\u001b[39m\u001b[38;5;124mConvolutionKernel\u001b[39m\u001b[38;5;124m'\u001b[39m, \u001b[38;5;124m'\u001b[39m\u001b[38;5;124mOrientation\u001b[39m\u001b[38;5;124m'\u001b[39m])\u001b[38;5;241m.\u001b[39msize()\u001b[38;5;241m.\u001b[39mreset_index()\u001b[38;5;241m.\u001b[39mrename(columns\u001b[38;5;241m=\u001b[39m{\u001b[38;5;241m0\u001b[39m:\u001b[38;5;124m'\u001b[39m\u001b[38;5;124mcount\u001b[39m\u001b[38;5;124m'\u001b[39m})\n\u001b[1;32m      6\u001b[0m test_feature_count_df \u001b[38;5;241m=\u001b[39m test_feature_count_df\u001b[38;5;241m.\u001b[39msort_values(\u001b[38;5;124m'\u001b[39m\u001b[38;5;124mcount\u001b[39m\u001b[38;5;124m'\u001b[39m, ascending\u001b[38;5;241m=\u001b[39m\u001b[38;5;28;01mFalse\u001b[39;00m)\n",
      "\u001b[0;31mNameError\u001b[0m: name 'combined_accession_num_set' is not defined"
     ]
    }
   ],
   "source": [
    "#check features of additional ommited patients\n",
    "\n",
    "#creates dataframe of patients not included in other datasets\n",
    "test_df = diacom_no_nans_df[~diacom_no_nans_df['AccessionNumber'].isin(combined_accession_num_set)]\n",
    "test_feature_count_df = test_df.groupby(['SliceThickness','ConvolutionKernel', 'Orientation']).size().reset_index().rename(columns={0:'count'})\n",
    "test_feature_count_df = test_feature_count_df.sort_values('count', ascending=False)\n",
    "test_feature_count_df"
   ]
  },
  {
   "cell_type": "code",
   "execution_count": null,
   "id": "6e92d06a",
   "metadata": {},
   "outputs": [],
   "source": [
    "#check features of additional ommited patients\n",
    "\n",
    "#creates dataframe of patients not included in other datasets\n",
    "test_df = diacom_no_nans_df[~diacom_no_nans_df['AccessionNumber'].isin(combined_accession_num_set)]\n",
    "test_feature_count_df = test_df.groupby(['SliceThickness','ConvolutionKernel', 'Orientation']).size().reset_index().rename(columns={0:'count'})\n",
    "test_feature_count_df = test_feature_count_df.sort_values('count', ascending=False)\n",
    "test_feature_count_df"
   ]
  },
  {
   "cell_type": "code",
   "execution_count": null,
   "id": "db09d72b",
   "metadata": {},
   "outputs": [],
   "source": []
  },
  {
   "cell_type": "code",
   "execution_count": null,
   "id": "d1291594",
   "metadata": {},
   "outputs": [],
   "source": [
    "#check entries with following properties:\n",
    "#SliceThickness = 2.0, ConvolutionKernel = Br49d, ['Br49d', '3'], Orientation = axial\n",
    "\n",
    "reduced_df_br49d = test_df[(test_df['SliceThickness'] == 1.0) & (test_df['Orientation'] == 'axial')\n",
    "                               & (test_df['ConvolutionKernel'] == 'Br49d')]\n",
    "\n",
    "reduced_df_br49d_3 = test_df[(test_df['SliceThickness'] == 1.0) & (test_df['Orientation'] == 'axial')\n",
    "                               & (test_df['ConvolutionKernel'] == \"['Br49d', '3']\")]\n",
    "reduced_df_b46f = test_df[(test_df['SliceThickness'] == 1.0) & (test_df['Orientation'] == 'axial')\n",
    "                               & (test_df['ConvolutionKernel'] == \"B46f\")]\n",
    "reduced_df_b50f = test_df[(test_df['SliceThickness'] == 1.0) & (test_df['Orientation'] == 'axial')\n",
    "                               & (test_df['ConvolutionKernel'] == \"B50f\")]"
   ]
  },
  {
   "cell_type": "code",
   "execution_count": null,
   "id": "b0512e37",
   "metadata": {},
   "outputs": [],
   "source": [
    "#check entries with following properties:\n",
    "#SliceThickness = 10.0, ConvolutionKernel = Br49d, Orientation = axial\n",
    "\n",
    "reduced_df_br49d_10 = test_df[(test_df['SliceThickness'] == 10.0) & (test_df['Orientation'] == 'axial')\n",
    "                               & (test_df['ConvolutionKernel'] == 'Br49d')]\n",
    "reduced_df_br49d_10"
   ]
  },
  {
   "cell_type": "code",
   "execution_count": null,
   "id": "b05c9282",
   "metadata": {},
   "outputs": [],
   "source": [
    "reduced_df"
   ]
  },
  {
   "cell_type": "code",
   "execution_count": null,
   "id": "eaacc191",
   "metadata": {},
   "outputs": [],
   "source": [
    "#make list of directories of scans with desired properties\n",
    "\n",
    "reduced_directory_index = reduced_df['Directory Index'].tolist()\n",
    "\n",
    "reduced_directory_list = []\n",
    "\n",
    "for index in reduced_directory_index:\n",
    "    reduced_directory_list.append(first_files[index])"
   ]
  },
  {
   "cell_type": "code",
   "execution_count": null,
   "id": "e1c988d1",
   "metadata": {},
   "outputs": [],
   "source": [
    "#make list of directories of scans with desired properties\n",
    "#additional scans with br49d convolution kernel\n",
    "\n",
    "reduced_directory_index_br49d = reduced_df_br49d['Directory Index'].tolist()\n",
    "reduced_directory_list_br49d = []\n",
    "\n",
    "for index in reduced_directory_index_br49d:\n",
    "    reduced_directory_list_br49d.append(first_files[index])"
   ]
  },
  {
   "cell_type": "code",
   "execution_count": null,
   "id": "5182fb48",
   "metadata": {},
   "outputs": [],
   "source": [
    "#make list of directories of scans with desired properties\n",
    "#additional scans with b46f convolution kernel\n",
    "\n",
    "reduced_directory_index_b46f = reduced_df_b46f['Directory Index'].tolist()\n",
    "reduced_directory_list_b46f = []\n",
    "\n",
    "for index in reduced_directory_index_b46f:\n",
    "    reduced_directory_list_b46f.append(first_files[index])"
   ]
  },
  {
   "cell_type": "code",
   "execution_count": null,
   "id": "e4447197",
   "metadata": {},
   "outputs": [],
   "source": [
    "#make list of directories of scans with desired properties\n",
    "#additional scans with b46f convolution kernel\n",
    "\n",
    "reduced_directory_index_b50f = reduced_df_b50f['Directory Index'].tolist()\n",
    "reduced_directory_list_b50f = []\n",
    "\n",
    "for index in reduced_directory_index_b50f:\n",
    "    reduced_directory_list_b50f.append(first_files[index])"
   ]
  },
  {
   "cell_type": "code",
   "execution_count": null,
   "id": "c6509254",
   "metadata": {},
   "outputs": [],
   "source": [
    "reduced_directory_list_b50f[0:10]"
   ]
  },
  {
   "cell_type": "code",
   "execution_count": null,
   "id": "7154f5a6",
   "metadata": {},
   "outputs": [],
   "source": [
    "reduced_directory_list[0:10]"
   ]
  },
  {
   "cell_type": "code",
   "execution_count": null,
   "id": "02479932",
   "metadata": {},
   "outputs": [],
   "source": [
    "#removes diacom suffix from directories\n",
    "reduced_directory_list_br49d_final = [directory[:directory.rindex('/')] for directory in reduced_directory_list_br49d]\n",
    "reduced_directory_list_br49d_final[0:10]"
   ]
  },
  {
   "cell_type": "code",
   "execution_count": null,
   "id": "da29dbe1",
   "metadata": {},
   "outputs": [],
   "source": [
    "#removes diacom suffix from directories\n",
    "reduced_directory_list_final = [directory[:directory.rindex('/')] for directory in reduced_directory_list]\n",
    "reduced_directory_list_final[0:10]"
   ]
  },
  {
   "cell_type": "code",
   "execution_count": null,
   "id": "0f13f8d7",
   "metadata": {},
   "outputs": [],
   "source": [
    "#removes diacom suffix from directories\n",
    "reduced_directory_list_b46f_final = [directory[:directory.rindex('/')] for directory in reduced_directory_list_b46f]\n",
    "reduced_directory_list_b46f_final[0:10]"
   ]
  },
  {
   "cell_type": "code",
   "execution_count": null,
   "id": "967263ee",
   "metadata": {},
   "outputs": [],
   "source": [
    "#removes diacom suffix from directories\n",
    "reduced_directory_list_b50f_final = [directory[:directory.rindex('/')] for directory in reduced_directory_list_b50f]\n",
    "reduced_directory_list_b50f_final[0:10]"
   ]
  },
  {
   "cell_type": "code",
   "execution_count": null,
   "id": "dc352769",
   "metadata": {},
   "outputs": [],
   "source": [
    "#with open(\"test\", \"wb\") as fp:   #Pickling\n",
    "#   pickle.dump(l, fp)"
   ]
  },
  {
   "cell_type": "code",
   "execution_count": null,
   "id": "6fbd737d",
   "metadata": {},
   "outputs": [],
   "source": []
  },
  {
   "cell_type": "markdown",
   "id": "7766cc43",
   "metadata": {},
   "source": [
    "# Determining the Number of Positive Cases\n",
    "\n",
    "We must identify the number of positive cases included in the reduced dataset to determine whether it will be suitable for use in our predictive models. "
   ]
  },
  {
   "cell_type": "code",
   "execution_count": null,
   "id": "fc9e12af",
   "metadata": {},
   "outputs": [],
   "source": [
    "pip install openpyxl"
   ]
  },
  {
   "cell_type": "code",
   "execution_count": 127,
   "id": "4fb7a9e3",
   "metadata": {},
   "outputs": [],
   "source": [
    "pd.set_option('display.max_columns', None)"
   ]
  },
  {
   "cell_type": "code",
   "execution_count": null,
   "id": "b2295d9f",
   "metadata": {},
   "outputs": [],
   "source": [
    "# load in the Code Book excel sheet that includes the feature names for the UCLA Lung Cancer Dataset \n",
    "# and their meaning\n",
    "\n",
    "code_book = pd.read_excel(f'/datasets/Code_book.xlsx')\n",
    "code_book"
   ]
  },
  {
   "cell_type": "code",
   "execution_count": null,
   "id": "89140a68",
   "metadata": {},
   "outputs": [],
   "source": [
    "# Load in the Lung Cancer Dataset\n",
    "data_merged = pd.read_excel(f'/datasets/Data_2016_lottie_merged_v2.xlsx')"
   ]
  },
  {
   "cell_type": "code",
   "execution_count": null,
   "id": "baefa365",
   "metadata": {},
   "outputs": [],
   "source": [
    "data_merged_sorted = data_merged.sort_values('Acc_num_h')\n",
    "data_merged_sorted.head(5)"
   ]
  },
  {
   "cell_type": "code",
   "execution_count": null,
   "id": "6a682ba8",
   "metadata": {},
   "outputs": [],
   "source": [
    "def last_exam_as_year(value):\n",
    "    return value//365\n",
    "\n",
    "data_merged_sorted['last_exam_as_year'] = data_merged_sorted['interval_2016_to_last_img_exam'].apply(last_exam_as_year)\n",
    "data_merged_sorted.head(30)"
   ]
  },
  {
   "cell_type": "code",
   "execution_count": null,
   "id": "04c93d15",
   "metadata": {},
   "outputs": [],
   "source": [
    "# print list of all column names\n",
    "\n",
    "column_list = data_merged_sorted.columns.tolist()\n",
    "column_list"
   ]
  },
  {
   "cell_type": "code",
   "execution_count": null,
   "id": "05bed97c",
   "metadata": {},
   "outputs": [],
   "source": [
    "# determine which rows contain entries for patients that have positive diagnosis\n",
    "# consider which rows have entries for positive diagnoses \n",
    "\n",
    "pos_data_diagnosis = data_merged_sorted[(~data_merged_sorted['stage'].isnull()) | (~data_merged_sorted['stage_category'].isnull())\n",
    "                                       | (~data_merged_sorted['hist'].isnull())| (~data_merged_sorted['hist_category'].isnull())]\n",
    "pos_data_diagnosis.head(10)"
   ]
  },
  {
   "cell_type": "code",
   "execution_count": null,
   "id": "0d6f9c05",
   "metadata": {},
   "outputs": [],
   "source": [
    "pos_data_diagnosis.shape"
   ]
  },
  {
   "cell_type": "code",
   "execution_count": null,
   "id": "34174e21",
   "metadata": {},
   "outputs": [],
   "source": [
    "#add column for diagnosis to dataframe\n",
    "\n",
    "def determine_diagnosis(row):\n",
    "    if pd.notna(row['stage']) or pd.notna(row['stage_category']) or pd.notna(row['hist']) or pd.notna(row['hist_category']):\n",
    "        return 1\n",
    "    else:\n",
    "        return 0  \n",
    "    \n",
    "data_merged_sorted['Diagnosis'] = data_merged_sorted.apply(determine_diagnosis, axis=1)"
   ]
  },
  {
   "cell_type": "code",
   "execution_count": null,
   "id": "88b8c9d5",
   "metadata": {},
   "outputs": [],
   "source": [
    "data_merged_sorted.loc[data_merged_sorted['Diagnosis'] == 1].head(5)"
   ]
  },
  {
   "cell_type": "code",
   "execution_count": null,
   "id": "3b578b91",
   "metadata": {},
   "outputs": [],
   "source": [
    "intervel_ct_hist_df = pos_data_diagnosis['intervel_ct_hist'].copy()\n",
    "intervel_ct_hist_df.max()"
   ]
  },
  {
   "cell_type": "code",
   "execution_count": null,
   "id": "63a34025",
   "metadata": {},
   "outputs": [],
   "source": [
    "# make new dataframe from select columns\n",
    "\n",
    "pos_diagnosis_hist_category = pos_data_diagnosis[['series_uid','hist_category', 'interval_ct_hist'\n",
    "                                                  ,'interval_2016_to_last_img_exam']].copy()\n",
    "pos_diagnosis_hist_category"
   ]
  },
  {
   "cell_type": "code",
   "execution_count": null,
   "id": "2952698a",
   "metadata": {},
   "outputs": [],
   "source": [
    "pos_diagnosis_hist_category['interval_ct_hist'].unique()"
   ]
  },
  {
   "cell_type": "code",
   "execution_count": null,
   "id": "141ca106",
   "metadata": {},
   "outputs": [],
   "source": [
    "def intervel_ct_hist_as_year(value):\n",
    "    return value//365\n",
    "\n",
    "data_merged_sorted['interval_ct_hist_as_year'] = data_merged_sorted['interval_ct_hist'].apply(intervel_ct_hist_as_year)\n",
    "\n",
    "pos_diagnosis_hist_category['interval_as_year'] = pos_diagnosis_hist_category['interval_ct_hist'].apply(intervel_ct_hist_as_year)\n",
    "pos_diagnosis_hist_category.head(30)"
   ]
  },
  {
   "cell_type": "code",
   "execution_count": null,
   "id": "33016b6e",
   "metadata": {},
   "outputs": [],
   "source": [
    "# rename 'series_uid' column to 'SeriesInstanceUID' to match with diacom dataframe\n",
    "\n",
    "\n",
    "data_merged_sorted = data_merged_sorted.rename(columns = {'series_uid':'SeriesInstanceUID'})\n",
    "data_merged_sorted.head(5)"
   ]
  },
  {
   "cell_type": "code",
   "execution_count": null,
   "id": "254074b0",
   "metadata": {},
   "outputs": [],
   "source": []
  },
  {
   "cell_type": "code",
   "execution_count": null,
   "id": "046bfb43",
   "metadata": {},
   "outputs": [],
   "source": [
    "# rename 'series_uid' column to 'SeriesInstanceUID' to match with diacom dataframe\n",
    "\n",
    "pos_diagnosis_hist_category = pos_diagnosis_hist_category.rename(columns = {'series_uid':'SeriesInstanceUID'})\n",
    "pos_diagnosis_hist_category"
   ]
  },
  {
   "cell_type": "code",
   "execution_count": null,
   "id": "3b870682",
   "metadata": {},
   "outputs": [],
   "source": [
    "#make a dataframe of desired dicom metadata properties\n",
    "\n",
    "reduced_dicom_metadata_list = []\n",
    "\n",
    "index = 0\n",
    "for diacom in reduced_diacom:\n",
    "    reduced_dicom_metadata_list.append([diacom.AccessionNumber, diacom.SeriesInstanceUID, \n",
    "                                        reduced_directory_list_final[index]])\n",
    "    index += 1\n",
    "    \n",
    "reduced_dicom_metadata_df = pd.DataFrame(reduced_dicom_metadata_list, columns=['AccessionNumber',\n",
    "                                                                               'SeriesInstanceUID',\n",
    "                                                                              'Diacom Directory'])\n",
    "reduced_dicom_metadata_df.head(5)"
   ]
  },
  {
   "cell_type": "code",
   "execution_count": null,
   "id": "a917621a",
   "metadata": {},
   "outputs": [],
   "source": [
    "#make list of dicom files based on list of directories\n",
    "\n",
    "reduced_diacom_b46f = []\n",
    "\n",
    "for scan in reduced_directory_list_b46f:\n",
    "        reduced_diacom_b46f.append(pydicom.dcmread(scan,force=True))"
   ]
  },
  {
   "cell_type": "code",
   "execution_count": null,
   "id": "ea068095",
   "metadata": {},
   "outputs": [],
   "source": [
    "#make a dataframe of desired dicom metadata properties\n",
    "\n",
    "reduced_dicom_metadata_list_b46f = []\n",
    "\n",
    "index = 0\n",
    "for diacom in reduced_diacom_b46f:\n",
    "    reduced_dicom_metadata_list_b46f.append([diacom.AccessionNumber, diacom.SeriesInstanceUID, \n",
    "                                        reduced_directory_list_b46f_final[index]])\n",
    "    index += 1\n",
    "    \n",
    "reduced_dicom_metadata_b46f_df = pd.DataFrame(reduced_dicom_metadata_list_b46f, columns=['AccessionNumber',\n",
    "                                                                               'SeriesInstanceUID',\n",
    "                                                                              'Diacom Directory'])\n",
    "reduced_dicom_metadata_b46f_df.head(5)"
   ]
  },
  {
   "cell_type": "code",
   "execution_count": null,
   "id": "f54f0e8a",
   "metadata": {},
   "outputs": [],
   "source": [
    "#make list of dicom files based on list of directories\n",
    "\n",
    "reduced_diacom_b50f = []\n",
    "\n",
    "for scan in reduced_directory_list_b50f:\n",
    "        reduced_diacom_b50f.append(pydicom.dcmread(scan,force=True))"
   ]
  },
  {
   "cell_type": "code",
   "execution_count": null,
   "id": "683a30de",
   "metadata": {},
   "outputs": [],
   "source": [
    "#make a dataframe of desired dicom metadata properties\n",
    "\n",
    "reduced_dicom_metadata_list_b50f = []\n",
    "\n",
    "index = 0\n",
    "for diacom in reduced_diacom_b50f:\n",
    "    reduced_dicom_metadata_list_b50f.append([diacom.AccessionNumber, diacom.SeriesInstanceUID, \n",
    "                                        reduced_directory_list_b50f_final[index]])\n",
    "    index += 1\n",
    "    \n",
    "reduced_dicom_metadata_b50f_df = pd.DataFrame(reduced_dicom_metadata_list_b50f, columns=['AccessionNumber',\n",
    "                                                                               'SeriesInstanceUID',\n",
    "                                                                              'Diacom Directory'])\n",
    "reduced_dicom_metadata_b50f_df.head(5)"
   ]
  },
  {
   "cell_type": "code",
   "execution_count": null,
   "id": "56d4a3fa",
   "metadata": {},
   "outputs": [],
   "source": [
    "reduced_dicom_metadata_b50f_df['SeriesInstanceUID'] = reduced_dicom_metadata_b50f_df['SeriesInstanceUID'].astype(\"string\")\n",
    "reduced_dicom_metadata_b50f_df['Diacom Directory'] = reduced_dicom_metadata_b50f_df['Diacom Directory'].astype(\"string\")"
   ]
  },
  {
   "cell_type": "code",
   "execution_count": null,
   "id": "9e391023",
   "metadata": {},
   "outputs": [],
   "source": [
    "reduced_dicom_metadata_b46f_df['SeriesInstanceUID'] = reduced_dicom_metadata_b46f_df['SeriesInstanceUID'].astype(\"string\")\n",
    "reduced_dicom_metadata_b46f_df['Diacom Directory'] = reduced_dicom_metadata_b46f_df['Diacom Directory'].astype(\"string\")"
   ]
  },
  {
   "cell_type": "code",
   "execution_count": null,
   "id": "bbd13eff",
   "metadata": {},
   "outputs": [],
   "source": [
    "reduced_dicom_metadata_br49d_df['SeriesInstanceUID'] = reduced_dicom_metadata_br49d_df['SeriesInstanceUID'].astype(\"string\")\n",
    "reduced_dicom_metadata_br49d_df['Diacom Directory'] = reduced_dicom_metadata_br49d_df['Diacom Directory'].astype(\"string\")"
   ]
  },
  {
   "cell_type": "code",
   "execution_count": null,
   "id": "c1b0073a",
   "metadata": {},
   "outputs": [],
   "source": [
    "pos_diagnosis_hist_category['SeriesInstanceUID'] = pos_diagnosis_hist_category['SeriesInstanceUID'].astype(\"string\")\n",
    "reduced_dicom_metadata_df['SeriesInstanceUID'] = reduced_dicom_metadata_df['SeriesInstanceUID'].astype(\"string\")\n",
    "reduced_dicom_metadata_df['Diacom Directory'] = reduced_dicom_metadata_df['Diacom Directory'].astype(\"string\")"
   ]
  },
  {
   "cell_type": "code",
   "execution_count": null,
   "id": "fd3159b2",
   "metadata": {},
   "outputs": [],
   "source": [
    "print(pos_diagnosis_hist_category.dtypes)\n",
    "print(reduced_dicom_metadata_df.dtypes)"
   ]
  },
  {
   "cell_type": "code",
   "execution_count": null,
   "id": "3a2cef46",
   "metadata": {},
   "outputs": [],
   "source": [
    "# merge datasets on common key: 'SeriesInstanceUID'\n",
    "merged_df = reduced_dicom_metadata_df.merge(pos_diagnosis_hist_category[['SeriesInstanceUID','hist_category'\n",
    "                                                                        ,'interval_as_year']])"
   ]
  },
  {
   "cell_type": "code",
   "execution_count": null,
   "id": "899f26fe",
   "metadata": {},
   "outputs": [],
   "source": [
    "merged_df"
   ]
  },
  {
   "cell_type": "markdown",
   "id": "b7405fed",
   "metadata": {},
   "source": [
    "Looking at the merged dataframe we note that 27 out of the original 531 scans from our reduced dataset represent positive cases for a positive case rate of about 5%. This is similar to 5.1%, 4.9%, and 4.8% for the training, validation, and testing sets used in the Sybil Model."
   ]
  },
  {
   "cell_type": "code",
   "execution_count": null,
   "id": "6b6776e3",
   "metadata": {},
   "outputs": [],
   "source": [
    "# merge datasets on common key: 'SeriesInstanceUID'\n",
    "# dataset that will be used for training\n",
    "complete_reduced_df = reduced_dicom_metadata_df.merge(data_merged_sorted)"
   ]
  },
  {
   "cell_type": "code",
   "execution_count": null,
   "id": "a1f596b6",
   "metadata": {},
   "outputs": [],
   "source": [
    "complete_reduced_df_br49d = reduced_dicom_metadata_br49d_df.merge(data_merged_sorted)"
   ]
  },
  {
   "cell_type": "code",
   "execution_count": null,
   "id": "3b77e240",
   "metadata": {},
   "outputs": [],
   "source": [
    "complete_reduced_df_b46f = reduced_dicom_metadata_b46f_df.merge(data_merged_sorted)"
   ]
  },
  {
   "cell_type": "code",
   "execution_count": null,
   "id": "170ec663",
   "metadata": {},
   "outputs": [],
   "source": [
    "complete_reduced_df_b50f = reduced_dicom_metadata_b50f_df.merge(data_merged_sorted)"
   ]
  },
  {
   "cell_type": "code",
   "execution_count": null,
   "id": "a4e988c0",
   "metadata": {},
   "outputs": [],
   "source": [
    "#check number of positive cases in the br49d dataset\n",
    "\n",
    "complete_reduced_df_b50f['Diagnosis'].value_counts()"
   ]
  },
  {
   "cell_type": "code",
   "execution_count": null,
   "id": "b90b28b7",
   "metadata": {},
   "outputs": [],
   "source": [
    "#check number of positive cases in the br49d dataset\n",
    "\n",
    "complete_reduced_df_br49d['Diagnosis'].value_counts()"
   ]
  },
  {
   "cell_type": "code",
   "execution_count": null,
   "id": "c233e458",
   "metadata": {},
   "outputs": [],
   "source": [
    "#check number of positive cases in the b46f dataset\n",
    "\n",
    "complete_reduced_df_b46f['Diagnosis'].value_counts()"
   ]
  },
  {
   "cell_type": "code",
   "execution_count": null,
   "id": "c95de462",
   "metadata": {},
   "outputs": [],
   "source": [
    "combined_accession_num_set = set(complete_reduced_df_b50f['AccessionNumber']) |set(complete_reduced_df_br49d['AccessionNumber']) | set(complete_reduced_df['AccessionNumber']) |set(complete_reduced_df_b46f['AccessionNumber'])\n",
    "len(combined_accession_num_set)"
   ]
  },
  {
   "cell_type": "code",
   "execution_count": null,
   "id": "7d47b852",
   "metadata": {},
   "outputs": [],
   "source": [
    "complete_reduced_df_b50f['AccessionNumber'].value_counts()\n",
    "complete_reduced_df_b50f.loc[complete_reduced_df_b50f['AccessionNumber']== '3017798697']"
   ]
  },
  {
   "cell_type": "code",
   "execution_count": null,
   "id": "7278b32b",
   "metadata": {},
   "outputs": [],
   "source": [
    "complete_reduced_df.head(5)"
   ]
  },
  {
   "cell_type": "code",
   "execution_count": null,
   "id": "ba470540",
   "metadata": {},
   "outputs": [],
   "source": [
    "complete_reduced_df['AccessionNumber'].value_counts()"
   ]
  },
  {
   "cell_type": "code",
   "execution_count": null,
   "id": "79b97a97",
   "metadata": {},
   "outputs": [],
   "source": [
    "complete_reduced_df.loc[complete_reduced_df['AccessionNumber']== '3051663100']"
   ]
  },
  {
   "cell_type": "code",
   "execution_count": null,
   "id": "a2f6afdd",
   "metadata": {},
   "outputs": [],
   "source": [
    "complete_combined_df = pd.concat([complete_reduced_df, complete_reduced_df_b50f, complete_reduced_df_b46f, complete_reduced_df_br49d], axis=0)\n",
    "complete_combined_df['AccessionNumber'].value_counts()"
   ]
  },
  {
   "cell_type": "code",
   "execution_count": null,
   "id": "f49c6848",
   "metadata": {},
   "outputs": [],
   "source": [
    "#find rows with duplicate Accession Numbers\n",
    "complete_combined_df.loc[complete_combined_df['AccessionNumber']== '3051663100']\n"
   ]
  },
  {
   "cell_type": "code",
   "execution_count": null,
   "id": "fee1b67d",
   "metadata": {},
   "outputs": [],
   "source": [
    "daicom_directory_value = complete_combined_df.loc[complete_combined_df['AccessionNumber'] == '3051663100', 'Diacom Directory'].iloc[0]\n",
    "daicom_directory_value"
   ]
  },
  {
   "cell_type": "code",
   "execution_count": null,
   "id": "70ed3767",
   "metadata": {},
   "outputs": [],
   "source": [
    "complete_combined_df.loc[complete_combined_df['Diacom Directory']== daicom_directory_value]\n"
   ]
  },
  {
   "cell_type": "code",
   "execution_count": null,
   "id": "f42648d9",
   "metadata": {},
   "outputs": [],
   "source": [
    "complete_combined_df = complete_combined_df.drop(complete_combined_df[complete_combined_df['Diacom Directory'] == daicom_directory_value].index)"
   ]
  },
  {
   "cell_type": "code",
   "execution_count": null,
   "id": "05f2b08f",
   "metadata": {},
   "outputs": [],
   "source": [
    "complete_combined_df.shape"
   ]
  },
  {
   "cell_type": "code",
   "execution_count": null,
   "id": "40c55bbd",
   "metadata": {},
   "outputs": [],
   "source": [
    "daicom_directory_value = complete_combined_df.loc[complete_combined_df['AccessionNumber'] == '3017798697', 'Diacom Directory'].iloc[1]\n",
    "daicom_directory_value"
   ]
  },
  {
   "cell_type": "code",
   "execution_count": null,
   "id": "04576889",
   "metadata": {},
   "outputs": [],
   "source": [
    "complete_combined_df.loc[complete_combined_df['Diacom Directory']== daicom_directory_value]"
   ]
  },
  {
   "cell_type": "code",
   "execution_count": null,
   "id": "6ae595d0",
   "metadata": {},
   "outputs": [],
   "source": [
    "complete_combined_df.shape"
   ]
  },
  {
   "cell_type": "code",
   "execution_count": null,
   "id": "435d6168",
   "metadata": {},
   "outputs": [],
   "source": [
    "test_drop_df =  complete_combined_df.drop(index=15)"
   ]
  },
  {
   "cell_type": "code",
   "execution_count": null,
   "id": "519f8a66",
   "metadata": {},
   "outputs": [],
   "source": [
    "test_drop_df.shape"
   ]
  },
  {
   "cell_type": "code",
   "execution_count": null,
   "id": "ca730368",
   "metadata": {},
   "outputs": [],
   "source": [
    "duplicate_indices = complete_combined_df.index[complete_combined_df.index.duplicated()]\n",
    "duplicate_indices"
   ]
  },
  {
   "cell_type": "code",
   "execution_count": null,
   "id": "c9679f54",
   "metadata": {},
   "outputs": [],
   "source": [
    "complete_combined_df.shape"
   ]
  },
  {
   "cell_type": "code",
   "execution_count": null,
   "id": "dfcfd945",
   "metadata": {},
   "outputs": [],
   "source": [
    "complete_combined_df.loc[complete_combined_df['Unnamed: 0'] == 1820]"
   ]
  },
  {
   "cell_type": "code",
   "execution_count": null,
   "id": "3152d771",
   "metadata": {},
   "outputs": [],
   "source": [
    "#get rid of duplicate indexes\n",
    "complete_combined_df_reset = complete_combined_df.reset_index(drop=True)"
   ]
  },
  {
   "cell_type": "code",
   "execution_count": null,
   "id": "49c59f4f",
   "metadata": {},
   "outputs": [],
   "source": [
    "index_to_drop = complete_combined_df_reset[complete_combined_df_reset['Unnamed: 0'] == 1820].index\n",
    "test_df = complete_combined_df_reset.drop(index_to_drop)\n",
    "\n",
    "print(\"Original shape:\", complete_combined_df_reset.shape)\n",
    "print(\"New shape after dropping the row:\", test_df.shape)"
   ]
  },
  {
   "cell_type": "code",
   "execution_count": null,
   "id": "56c339ee",
   "metadata": {},
   "outputs": [],
   "source": []
  },
  {
   "cell_type": "code",
   "execution_count": null,
   "id": "365e056a",
   "metadata": {},
   "outputs": [],
   "source": [
    "complete_combined_df = test_df.copy()\n",
    "complete_combined_df.head(5)"
   ]
  },
  {
   "cell_type": "code",
   "execution_count": null,
   "id": "73021d53",
   "metadata": {},
   "outputs": [],
   "source": [
    "#check number of positive cases\n",
    "complete_combined_df['Diagnosis'].value_counts()"
   ]
  },
  {
   "cell_type": "code",
   "execution_count": null,
   "id": "275b8c75",
   "metadata": {},
   "outputs": [],
   "source": [
    "complete_combined_df['last_exam_as_year'].value_counts()"
   ]
  },
  {
   "cell_type": "code",
   "execution_count": null,
   "id": "7039feb6",
   "metadata": {},
   "outputs": [],
   "source": [
    "complete_combined_df['Day of Diagnosis'] = complete_combined_df.apply(determine_diagnosis_day, axis=1)\n",
    "\n",
    "final_sybil_eval_df = complete_combined_df.copy()"
   ]
  },
  {
   "cell_type": "code",
   "execution_count": null,
   "id": "0ddeb8b1",
   "metadata": {},
   "outputs": [],
   "source": [
    "#set entries with missing follow up time to max value of 6 years\n",
    "final_sybil_eval_df.loc[final_sybil_eval_df['last_exam_as_year'].isna(), 'last_exam_as_year'] = 6"
   ]
  },
  {
   "cell_type": "code",
   "execution_count": null,
   "id": "4f8d2254",
   "metadata": {},
   "outputs": [],
   "source": [
    "#add column for day of diagnosis\n",
    "final_sybil_eval_df['Day of Diagnosis'] = final_sybil_eval_df.apply(determine_diagnosis_day, axis=1)\n",
    "\n",
    "#cast last exam as year to int\n",
    "final_sybil_eval_df['last_exam_as_year'] = final_sybil_eval_df['last_exam_as_year'].astype(int)"
   ]
  },
  {
   "cell_type": "code",
   "execution_count": null,
   "id": "a637e63b",
   "metadata": {},
   "outputs": [],
   "source": [
    "def determine_diagnosis_year(row):\n",
    "    if row['Diagnosis'] == 0:\n",
    "        return row['last_exam_as_year']\n",
    "    else:\n",
    "        return row['interval_ct_hist_as_year']"
   ]
  },
  {
   "cell_type": "code",
   "execution_count": null,
   "id": "f45de75f",
   "metadata": {},
   "outputs": [],
   "source": [
    "#add column for year of diagnosis\n",
    "final_sybil_eval_df['Year of Diagnosis'] = final_sybil_eval_df.apply(determine_diagnosis_year, axis=1)\n",
    "final_sybil_eval_df['Year of Diagnosis'] = final_sybil_eval_df['Year of Diagnosis'].astype(int)"
   ]
  },
  {
   "cell_type": "code",
   "execution_count": null,
   "id": "5de4d767",
   "metadata": {},
   "outputs": [],
   "source": [
    "pos_df = final_sybil_eval_df.loc[final_sybil_eval_df['Diagnosis']==1]\n",
    "pos_df['Year of Diagnosis'].value_counts()"
   ]
  },
  {
   "cell_type": "code",
   "execution_count": null,
   "id": "4297038d",
   "metadata": {},
   "outputs": [],
   "source": [
    "# save modified dataframe to excel file\n",
    "\n",
    "data_save_path = r'/workspace/home/Sybil_Evaluation_Data.xlsx'\n",
    "\n",
    "complete_reduced_df.to_excel(data_save_path, index=False) "
   ]
  },
  {
   "cell_type": "code",
   "execution_count": null,
   "id": "ccae1bec",
   "metadata": {},
   "outputs": [],
   "source": [
    "# save modified dataframe to excel file\n",
    "\n",
    "data_save_path_final = r'/workspace/home/Final_Sybil_Evaluation_Data.xlsx'\n",
    "\n",
    "final_sybil_eval_df.to_excel(data_save_path_final, index=False) "
   ]
  },
  {
   "cell_type": "code",
   "execution_count": 59,
   "id": "e9f87425",
   "metadata": {},
   "outputs": [],
   "source": [
    "def make_sybil_list_from_df(df):\n",
    "    diacom_directory_list = df['Diacom Directory'].tolist()\n",
    "    diagnosis_list = df['Diagnosis'].tolist()\n",
    "    diagnosis_as_year_list = df['Year of Diagnosis'].tolist()\n",
    "    \n",
    "    evaluation_diacom_directory_list = [list(elem) for elem in zip(diacom_directory_list, diagnosis_list, diagnosis_as_year_list)]\n",
    "\n",
    "    return evaluation_diacom_directory_list"
   ]
  },
  {
   "cell_type": "code",
   "execution_count": null,
   "id": "43efec9a",
   "metadata": {},
   "outputs": [],
   "source": [
    "#make list of information needed to run sybil\n",
    "\n",
    "final_evaluation_diacom_directory_list = make_sybil_list_from_df(final_sybil_eval_df)\n",
    "#final_evaluation_diacom_directory_list[-20:]"
   ]
  },
  {
   "cell_type": "code",
   "execution_count": null,
   "id": "59b6c988",
   "metadata": {},
   "outputs": [],
   "source": [
    "# add labels to diacom directory list\n",
    "positive_diacom_directory_list = merged_df['Diacom Directory'].tolist()\n",
    "interval_as_year = merged_df['interval_as_year'].tolist()\n",
    "\n",
    "labeled_diacom_directory_list = []\n",
    "\n",
    "for directory in reduced_directory_list_final:\n",
    "    if directory in positive_diacom_directory_list:\n",
    "        year_to_diagnosis = merged_df.loc[merged_df['Diacom Directory'] == directory, 'interval_as_year'].iloc[0]\n",
    "        labeled_diacom_directory_list.append([directory, 1, year_to_diagnosis])\n",
    "    else:\n",
    "        \n",
    "        #need to determine what to enter for censor_time for negative case\n",
    "        #last_exam_year = data_merged_sorted.loc[data_merged_sorted['Unnamed: 0'] == 5010, 'last_exam_as_year'].iloc[0]\n",
    "        labeled_diacom_directory_list.append([directory, 0, 0])\n",
    "        \n",
    "labeled_diacom_directory_list[0:100]"
   ]
  },
  {
   "cell_type": "code",
   "execution_count": null,
   "id": "72a7855e",
   "metadata": {},
   "outputs": [],
   "source": [
    "rows_with_nan = complete_reduced_df[complete_reduced_df['last_exam_as_year'].isna()] \n",
    "rows_with_nan"
   ]
  },
  {
   "cell_type": "code",
   "execution_count": null,
   "id": "ace7d523",
   "metadata": {},
   "outputs": [],
   "source": [
    "# Change values in column 'B' based on condition in column 'C'\n",
    "evaluation_copy = complete_reduced_df.copy()\n",
    "evaluation_copy.loc[evaluation_copy['last_exam_as_year'].isna(), 'last_exam_as_year'] = 6\n",
    "\n",
    "evaluation_copy.loc[complete_reduced_df['last_exam_as_year'].isna()]"
   ]
  },
  {
   "cell_type": "code",
   "execution_count": null,
   "id": "5a5839f2",
   "metadata": {},
   "outputs": [],
   "source": [
    "# create list with necessary labels for Sybil Evaluation\n",
    "\n",
    "diacom_directory_list = evaluation_copy['Diacom Directory'].tolist()\n",
    "diagnosis_list = evaluation_copy['Diagnosis'].tolist()\n",
    "interval_as_year_list = evaluation_copy['interval_ct_hist_as_year'].tolist()\n",
    "last_exam_as_year_list = evaluation_copy['last_exam_as_year'].tolist()\n",
    "\n",
    "\n",
    "evaluation_diacom_directory_list = [list(elem) for elem in zip(diacom_directory_list, diagnosis_list, interval_as_year_list,last_exam_as_year_list)]\n",
    "\n",
    "for entry in evaluation_diacom_directory_list:\n",
    "    \n",
    "    if entry[1] == 0:\n",
    "        del entry[2]\n",
    "        entry[2] = int(entry[2])\n",
    "    else:\n",
    "        del entry[3]\n",
    "        entry[2] = int(entry[2])\n"
   ]
  },
  {
   "cell_type": "code",
   "execution_count": null,
   "id": "0bd6883f",
   "metadata": {},
   "outputs": [],
   "source": [
    "type(evaluation_diacom_directory_list[15][2])"
   ]
  },
  {
   "cell_type": "code",
   "execution_count": null,
   "id": "725d2b5c",
   "metadata": {},
   "outputs": [],
   "source": [
    "evaluation_diacom_directory_list[0:20]"
   ]
  },
  {
   "cell_type": "code",
   "execution_count": null,
   "id": "381bdf24",
   "metadata": {},
   "outputs": [],
   "source": []
  },
  {
   "cell_type": "markdown",
   "id": "94d755e2",
   "metadata": {},
   "source": [
    "# Initial Sybil Training\n"
   ]
  },
  {
   "cell_type": "code",
   "execution_count": null,
   "id": "12904d0e",
   "metadata": {},
   "outputs": [],
   "source": [
    "!pip install -U pydicom\n",
    "!pip install torchio\n",
    "!pip install torch torchvision\n",
    "!pip install albumentations\n",
    "!pip install typing-extensions --upgrade\n",
    "!pip install tensorflow\n",
    "#!python3 -m pip install typing-extensions --upgrade"
   ]
  },
  {
   "cell_type": "code",
   "execution_count": null,
   "id": "2b32946d",
   "metadata": {},
   "outputs": [],
   "source": [
    "import tensorflow as tf"
   ]
  },
  {
   "cell_type": "code",
   "execution_count": null,
   "id": "15a76be7",
   "metadata": {},
   "outputs": [],
   "source": [
    "!pip install lifelines"
   ]
  },
  {
   "cell_type": "code",
   "execution_count": null,
   "id": "8e79f79e",
   "metadata": {},
   "outputs": [],
   "source": [
    "!git clone https://github.com/reginabarzilaygroup/Sybil.git"
   ]
  },
  {
   "cell_type": "code",
   "execution_count": null,
   "id": "08308271",
   "metadata": {},
   "outputs": [],
   "source": [
    "%cd Sybil"
   ]
  },
  {
   "cell_type": "code",
   "execution_count": null,
   "id": "983f524c",
   "metadata": {},
   "outputs": [],
   "source": [
    "#downgrade sklearn to version compatible with pickle\n",
    "!pip uninstall scikit-learn -y\n",
    "!pip install scikit-learn==1.0.2"
   ]
  },
  {
   "cell_type": "code",
   "execution_count": null,
   "id": "cafb2c26",
   "metadata": {},
   "outputs": [],
   "source": [
    "from sybil import Serie, Sybil\n",
    "\n",
    "model = Sybil(\"sybil_ensemble\")"
   ]
  },
  {
   "cell_type": "code",
   "execution_count": null,
   "id": "119aea06",
   "metadata": {},
   "outputs": [],
   "source": [
    "# run Sybil on a negative case\n",
    "\n",
    "directory = labeled_diacom_directory_list[0][0]\n",
    "\n",
    "direc_list = glob.glob(directory + '/*')\n",
    "\n",
    "serie = Serie(direc_list)\n",
    "scores = model.predict(serie)\n",
    "scores"
   ]
  },
  {
   "cell_type": "code",
   "execution_count": null,
   "id": "d4897f7c",
   "metadata": {},
   "outputs": [],
   "source": [
    "# run Sybil on a positive case\n",
    "\n",
    "directory = labeled_diacom_directory_list[15][0]\n",
    "\n",
    "direc_list = glob.glob(directory + '/*')\n",
    "\n",
    "serie = Serie(direc_list)\n",
    "scores = model.predict(serie)\n",
    "scores"
   ]
  },
  {
   "cell_type": "markdown",
   "id": "5b0c3eeb",
   "metadata": {},
   "source": [
    "## Sybil Prediction"
   ]
  },
  {
   "cell_type": "code",
   "execution_count": null,
   "id": "71db6ccc",
   "metadata": {},
   "outputs": [],
   "source": [
    "#run Sybil prediction on all data\n",
    "\n",
    "serie_list = []\n",
    "\n",
    "#count = 0\n",
    "\n",
    "for directory in labeled_diacom_directory_list:\n",
    "    diacom_directory_list = glob.glob(directory[0] + '/*')\n",
    "    serie = Serie(diacom_directory_list)\n",
    "    serie_list.append(serie)\n",
    "        \n",
    "sybil_scores = model.predict(serie_list)"
   ]
  },
  {
   "cell_type": "code",
   "execution_count": null,
   "id": "b4fda4f7",
   "metadata": {},
   "outputs": [],
   "source": [
    "len(sybil_scores.scores)"
   ]
  },
  {
   "cell_type": "code",
   "execution_count": null,
   "id": "a3e03364",
   "metadata": {},
   "outputs": [],
   "source": [
    "# make dataframe with Sybil scores\n",
    "\n",
    "direct_list = [item[0] for item in labeled_diacom_directory_list]\n",
    "diagnosis_label_list = [item[1] for item in labeled_diacom_directory_list]\n",
    "diagnosis_year_list = [item[2] for item in labeled_diacom_directory_list]\n",
    "\n",
    "column_dict = {'Directory': direct_list, 'Diagnosis': diagnosis_label_list, \n",
    "               'Year of Diagnosis': diagnosis_year_list, 'Sybil Prediction':sybil_scores.scores} \n",
    "\n",
    "sybil_score_df = pd.DataFrame(column_dict)"
   ]
  },
  {
   "cell_type": "code",
   "execution_count": null,
   "id": "71eafa70",
   "metadata": {},
   "outputs": [],
   "source": [
    "# save Sybil predictions to excel file\n",
    "\n",
    "save_path = r'/workspace/home/sybil_score.xlsx'\n",
    "\n",
    "sybil_score_df.to_excel(save_path, index=False) "
   ]
  },
  {
   "cell_type": "markdown",
   "id": "3b931285",
   "metadata": {},
   "source": [
    "## Sybil Evaluation"
   ]
  },
  {
   "cell_type": "code",
   "execution_count": null,
   "id": "c2c0da13",
   "metadata": {},
   "outputs": [],
   "source": [
    "# run Sybil evaluation on all data \n",
    "\n",
    "serie_list = []\n",
    "\n",
    "\n",
    "for directory in evaluation_diacom_directory_list:\n",
    "    diacom_directory_list = glob.glob(directory[0] + '/*')  \n",
    "    \n",
    "    serie = Serie(diacom_directory_list, label = directory[1], censor_time = directory[2])\n",
    "    serie_list.append(serie)\n",
    "    \n",
    "        \n",
    "scores = model.evaluate(serie_list)\n",
    "scores"
   ]
  },
  {
   "cell_type": "code",
   "execution_count": null,
   "id": "a3ae61f2",
   "metadata": {},
   "outputs": [],
   "source": [
    "# make dataframe with Sybil Evaluation Scores\n",
    "\n",
    "direct_list_eval = [item[0] for item in evaluation_diacom_directory_list]\n",
    "diagnosis_label_list_eval = [item[1] for item in evaluation_diacom_directory_list]\n",
    "diagnosis_year_list_eval = [item[2] for item in evaluation_diacom_directory_list]\n",
    "\n",
    "column_dict_eval = {'Diacom Directory': direct_list_eval, 'Diagnosis': diagnosis_label_list_eval, \n",
    "               'Year of Diagnosis': diagnosis_year_list_eval, 'Sybil Prediction':scores.scores} \n",
    "\n",
    "sybil_eval_df = pd.DataFrame(column_dict_eval)"
   ]
  },
  {
   "cell_type": "code",
   "execution_count": null,
   "id": "574e2150",
   "metadata": {},
   "outputs": [],
   "source": [
    "# save Sybil Evaluation predictions to excel file\n",
    "\n",
    "save_path = r'/workspace/home/Sybil_Evaluation_Scores.xlsx'\n",
    "\n",
    "sybil_score_df.to_excel(save_path, index=False) "
   ]
  },
  {
   "cell_type": "code",
   "execution_count": null,
   "id": "c192b2e5",
   "metadata": {},
   "outputs": [],
   "source": [
    "sybil_eval_df = sybil_eval_df.rename(columns={'Directory': 'Diacom Directory'})"
   ]
  },
  {
   "cell_type": "code",
   "execution_count": null,
   "id": "760ea230",
   "metadata": {},
   "outputs": [],
   "source": [
    "evaluation_df = pd.read_excel(f'/workspace/home/Sybil_Evaluation_Data.xlsx')\n",
    "merged_eval_df = evaluation_df.merge(sybil_eval_df)"
   ]
  },
  {
   "cell_type": "code",
   "execution_count": null,
   "id": "4e01c49b",
   "metadata": {},
   "outputs": [],
   "source": [
    "def determine_diagnosis_day(row):\n",
    "#    if pd.notna(row['stage']) or pd.notna(row['stage_category']) or pd.notna(row['hist']) or pd.notna(row['hist_category']):\n",
    "#        return 1\n",
    "    if row['Diagnosis'] == 0:\n",
    "        return row['interval_2016_to_last_img_exam']\n",
    "    else:\n",
    "        return row['interval_ct_hist']\n",
    "    \n",
    "merged_eval_df['Day of Diagnosis'] = merged_eval_df.apply(determine_diagnosis_day, axis=1)"
   ]
  },
  {
   "cell_type": "markdown",
   "id": "9643e5c9",
   "metadata": {},
   "source": [
    "# Running individual Sybil Models "
   ]
  },
  {
   "cell_type": "code",
   "execution_count": 57,
   "id": "be6e34d2",
   "metadata": {},
   "outputs": [],
   "source": [
    "import time\n",
    "\n",
    "# run Sybil evaluation on all data \n",
    "\n",
    "def run_sybil_on_dataset(sybil_model, diacom_directory_list):\n",
    "    model = Sybil(sybil_model)\n",
    "    \n",
    "    serie_list = []\n",
    "\n",
    "\n",
    "    for directory in diacom_directory_list:\n",
    "        directory_list = glob.glob(directory[0] + '/*')  \n",
    "\n",
    "        serie = Serie(directory_list, label = directory[1], censor_time = directory[2])\n",
    "        serie_list.append(serie)\n",
    "\n",
    "\n",
    "    scores = model.evaluate(serie_list)\n",
    "    return scores"
   ]
  },
  {
   "cell_type": "code",
   "execution_count": 163,
   "id": "0ef313ee",
   "metadata": {},
   "outputs": [],
   "source": [
    "final_evaluation_diacom_directory_list = make_sybil_list_from_df(final_evaluation_df)"
   ]
  },
  {
   "cell_type": "code",
   "execution_count": 162,
   "id": "eabd0782",
   "metadata": {},
   "outputs": [],
   "source": [
    "final_evaluation_diacom_directory_list_no_duplicates =  make_sybil_list_from_df(final_evaluation_no_duplicates_df)"
   ]
  },
  {
   "cell_type": "code",
   "execution_count": 166,
   "id": "4ac68ecf",
   "metadata": {
    "collapsed": true,
    "jupyter": {
     "outputs_hidden": true
    }
   },
   "outputs": [
    {
     "name": "stderr",
     "output_type": "stream",
     "text": [
      "/usr/local/lib/python3.10/dist-packages/torchvision/models/_utils.py:208: UserWarning: The parameter 'pretrained' is deprecated since 0.13 and may be removed in the future, please use 'weights' instead.\n",
      "  warnings.warn(\n",
      "/usr/local/lib/python3.10/dist-packages/torchvision/models/_utils.py:223: UserWarning: Arguments other than a weight enum or `None` for 'weights' are deprecated since 0.13 and may be removed in the future. The current behavior is equivalent to passing `weights=R3D_18_Weights.KINETICS400_V1`. You can also use `weights=R3D_18_Weights.DEFAULT` to get the most up-to-date weights.\n",
      "  warnings.warn(msg)\n",
      "INFO:sybil-process-2649269:Loaded model from /home/leonardgarcia/.sybil/28a7cd44f5bcd3e6cc760b65c7e0d54d.ckpt\n",
      "/usr/local/lib/python3.10/dist-packages/torchvision/models/_utils.py:208: UserWarning: The parameter 'pretrained' is deprecated since 0.13 and may be removed in the future, please use 'weights' instead.\n",
      "  warnings.warn(\n",
      "/usr/local/lib/python3.10/dist-packages/torchvision/models/_utils.py:223: UserWarning: Arguments other than a weight enum or `None` for 'weights' are deprecated since 0.13 and may be removed in the future. The current behavior is equivalent to passing `weights=R3D_18_Weights.KINETICS400_V1`. You can also use `weights=R3D_18_Weights.DEFAULT` to get the most up-to-date weights.\n",
      "  warnings.warn(msg)\n",
      "INFO:sybil-process-2649269:Loaded model from /home/leonardgarcia/.sybil/28a7cd44f5bcd3e6cc760b65c7e0d54d.ckpt\n",
      "INFO:sybil-process-2649269:Loaded model from /home/leonardgarcia/.sybil/56ce1a7d241dc342982f5466c4a9d7ef.ckpt\n",
      "INFO:sybil-process-2649269:Loaded model from /home/leonardgarcia/.sybil/624407ef8e3a2a009f9fa51f9846fe9a.ckpt\n",
      "INFO:sybil-process-2649269:Loaded model from /home/leonardgarcia/.sybil/64a91b25f84141d32852e75a3aec7305.ckpt\n",
      "INFO:sybil-process-2649269:Loaded model from /home/leonardgarcia/.sybil/65fd1f04cb4c5847d86a9ed8ba31ac1a.ckpt\n"
     ]
    }
   ],
   "source": [
    "scores_final_model1 = run_sybil_on_dataset('sybil_1', final_evaluation_diacom_directory_list_no_duplicates)\n",
    "scores_final_model_ensemble = run_sybil_on_dataset('sybil_ensemble', final_evaluation_diacom_directory_list_no_duplicates)"
   ]
  },
  {
   "cell_type": "code",
   "execution_count": 61,
   "id": "cf89f165",
   "metadata": {
    "collapsed": true,
    "jupyter": {
     "outputs_hidden": true
    }
   },
   "outputs": [
    {
     "name": "stderr",
     "output_type": "stream",
     "text": [
      "/usr/local/lib/python3.10/dist-packages/torchvision/models/_utils.py:208: UserWarning: The parameter 'pretrained' is deprecated since 0.13 and may be removed in the future, please use 'weights' instead.\n",
      "  warnings.warn(\n",
      "/usr/local/lib/python3.10/dist-packages/torchvision/models/_utils.py:223: UserWarning: Arguments other than a weight enum or `None` for 'weights' are deprecated since 0.13 and may be removed in the future. The current behavior is equivalent to passing `weights=R3D_18_Weights.KINETICS400_V1`. You can also use `weights=R3D_18_Weights.DEFAULT` to get the most up-to-date weights.\n",
      "  warnings.warn(msg)\n",
      "INFO:sybil-process-2649269:Loaded model from /home/leonardgarcia/.sybil/28a7cd44f5bcd3e6cc760b65c7e0d54d.ckpt\n",
      "/usr/local/lib/python3.10/dist-packages/torchvision/models/_utils.py:208: UserWarning: The parameter 'pretrained' is deprecated since 0.13 and may be removed in the future, please use 'weights' instead.\n",
      "  warnings.warn(\n",
      "/usr/local/lib/python3.10/dist-packages/torchvision/models/_utils.py:223: UserWarning: Arguments other than a weight enum or `None` for 'weights' are deprecated since 0.13 and may be removed in the future. The current behavior is equivalent to passing `weights=R3D_18_Weights.KINETICS400_V1`. You can also use `weights=R3D_18_Weights.DEFAULT` to get the most up-to-date weights.\n",
      "  warnings.warn(msg)\n",
      "INFO:sybil-process-2649269:Loaded model from /home/leonardgarcia/.sybil/56ce1a7d241dc342982f5466c4a9d7ef.ckpt\n"
     ]
    }
   ],
   "source": [
    "#Run complete dataset on every Sybil Model\n",
    "st = time.time()\n",
    "\n",
    "scores_final_model1 = run_sybil_on_dataset('sybil_1', final_evaluation_diacom_directory_list_no_duplicates)"
   ]
  },
  {
   "cell_type": "code",
   "execution_count": null,
   "id": "1fd4902e",
   "metadata": {},
   "outputs": [],
   "source": [
    "scores_final_model2 = run_sybil_on_dataset('sybil_2', final_evaluation_diacom_directory_list_no_duplicates)"
   ]
  },
  {
   "cell_type": "code",
   "execution_count": 62,
   "id": "b1ea8396",
   "metadata": {
    "collapsed": true,
    "jupyter": {
     "outputs_hidden": true
    }
   },
   "outputs": [
    {
     "name": "stderr",
     "output_type": "stream",
     "text": [
      "/usr/local/lib/python3.10/dist-packages/torchvision/models/_utils.py:208: UserWarning: The parameter 'pretrained' is deprecated since 0.13 and may be removed in the future, please use 'weights' instead.\n",
      "  warnings.warn(\n",
      "/usr/local/lib/python3.10/dist-packages/torchvision/models/_utils.py:223: UserWarning: Arguments other than a weight enum or `None` for 'weights' are deprecated since 0.13 and may be removed in the future. The current behavior is equivalent to passing `weights=R3D_18_Weights.KINETICS400_V1`. You can also use `weights=R3D_18_Weights.DEFAULT` to get the most up-to-date weights.\n",
      "  warnings.warn(msg)\n",
      "INFO:sybil-process-2649269:Loaded model from /home/leonardgarcia/.sybil/624407ef8e3a2a009f9fa51f9846fe9a.ckpt\n",
      "/usr/local/lib/python3.10/dist-packages/torchvision/models/_utils.py:208: UserWarning: The parameter 'pretrained' is deprecated since 0.13 and may be removed in the future, please use 'weights' instead.\n",
      "  warnings.warn(\n",
      "/usr/local/lib/python3.10/dist-packages/torchvision/models/_utils.py:223: UserWarning: Arguments other than a weight enum or `None` for 'weights' are deprecated since 0.13 and may be removed in the future. The current behavior is equivalent to passing `weights=R3D_18_Weights.KINETICS400_V1`. You can also use `weights=R3D_18_Weights.DEFAULT` to get the most up-to-date weights.\n",
      "  warnings.warn(msg)\n",
      "INFO:sybil-process-2649269:Loaded model from /home/leonardgarcia/.sybil/64a91b25f84141d32852e75a3aec7305.ckpt\n",
      "/usr/local/lib/python3.10/dist-packages/torchvision/models/_utils.py:208: UserWarning: The parameter 'pretrained' is deprecated since 0.13 and may be removed in the future, please use 'weights' instead.\n",
      "  warnings.warn(\n",
      "/usr/local/lib/python3.10/dist-packages/torchvision/models/_utils.py:223: UserWarning: Arguments other than a weight enum or `None` for 'weights' are deprecated since 0.13 and may be removed in the future. The current behavior is equivalent to passing `weights=R3D_18_Weights.KINETICS400_V1`. You can also use `weights=R3D_18_Weights.DEFAULT` to get the most up-to-date weights.\n",
      "  warnings.warn(msg)\n",
      "INFO:sybil-process-2649269:Loaded model from /home/leonardgarcia/.sybil/65fd1f04cb4c5847d86a9ed8ba31ac1a.ckpt\n"
     ]
    }
   ],
   "source": [
    "scores_final_model3 = run_sybil_on_dataset('sybil_3', final_evaluation_diacom_directory_list_no_duplicates)\n",
    "scores_final_model4 = run_sybil_on_dataset('sybil_4', final_evaluation_diacom_directory_list_no_duplicates)\n",
    "scores_final_model5 = run_sybil_on_dataset('sybil_5', final_evaluation_diacom_directory_list_no_duplicates)"
   ]
  },
  {
   "cell_type": "code",
   "execution_count": 63,
   "id": "3db2adb5",
   "metadata": {
    "collapsed": true,
    "jupyter": {
     "outputs_hidden": true
    }
   },
   "outputs": [
    {
     "name": "stderr",
     "output_type": "stream",
     "text": [
      "/usr/local/lib/python3.10/dist-packages/torchvision/models/_utils.py:208: UserWarning: The parameter 'pretrained' is deprecated since 0.13 and may be removed in the future, please use 'weights' instead.\n",
      "  warnings.warn(\n",
      "/usr/local/lib/python3.10/dist-packages/torchvision/models/_utils.py:223: UserWarning: Arguments other than a weight enum or `None` for 'weights' are deprecated since 0.13 and may be removed in the future. The current behavior is equivalent to passing `weights=R3D_18_Weights.KINETICS400_V1`. You can also use `weights=R3D_18_Weights.DEFAULT` to get the most up-to-date weights.\n",
      "  warnings.warn(msg)\n",
      "INFO:sybil-process-2649269:Loaded model from /home/leonardgarcia/.sybil/28a7cd44f5bcd3e6cc760b65c7e0d54d.ckpt\n",
      "INFO:sybil-process-2649269:Loaded model from /home/leonardgarcia/.sybil/56ce1a7d241dc342982f5466c4a9d7ef.ckpt\n",
      "INFO:sybil-process-2649269:Loaded model from /home/leonardgarcia/.sybil/624407ef8e3a2a009f9fa51f9846fe9a.ckpt\n",
      "INFO:sybil-process-2649269:Loaded model from /home/leonardgarcia/.sybil/64a91b25f84141d32852e75a3aec7305.ckpt\n",
      "INFO:sybil-process-2649269:Loaded model from /home/leonardgarcia/.sybil/65fd1f04cb4c5847d86a9ed8ba31ac1a.ckpt\n"
     ]
    }
   ],
   "source": [
    "scores_final_model_ensemble = run_sybil_on_dataset('sybil_ensemble', final_evaluation_diacom_directory_list_no_duplicates)\n",
    "\n",
    "elapsed_time = time.time() - st"
   ]
  },
  {
   "cell_type": "code",
   "execution_count": 64,
   "id": "8abd73f8",
   "metadata": {},
   "outputs": [
    {
     "name": "stdout",
     "output_type": "stream",
     "text": [
      "Execution time for 6 Sybil models: 01:42:52\n"
     ]
    }
   ],
   "source": [
    "print('Execution time for 6 Sybil models:', time.strftime(\"%H:%M:%S\", time.gmtime(elapsed_time)))"
   ]
  },
  {
   "cell_type": "code",
   "execution_count": null,
   "id": "53deaacd",
   "metadata": {},
   "outputs": [],
   "source": [
    "print('Execution time:', time.strftime(\"%H:%M:%S\", time.gmtime(elapsed_time)))"
   ]
  },
  {
   "cell_type": "code",
   "execution_count": 65,
   "id": "b37589a8",
   "metadata": {},
   "outputs": [
    {
     "name": "stdout",
     "output_type": "stream",
     "text": [
      "Sybil Model_1 6 year AUC scores: \n",
      "[0.9187054026503567, 0.9076336675020885, 0.8688470896500093, 0.8696175850647395, 0.8682324089794379, 0.8411764705882354]\n",
      "Sybil Model_1 C-Index score: \n",
      "0.8597527791362898\n",
      "\n",
      "Sybil Model_2 6 year AUC scores: \n",
      "[0.8837071015970098, 0.8816833751044277, 0.8518622496724686, 0.8552142928836697, 0.8457838143746462, 0.8143790849673203]\n",
      "Sybil Model_2 C-Index score: \n",
      "0.8335876397836978\n",
      "\n",
      "Sybil Model_3 6 year AUC scores: \n",
      "[0.8935185185185185, 0.8751044277360067, 0.8339883960321917, 0.8293686640570109, 0.8229107715525372, 0.7906629318394024]\n",
      "Sybil Model_3 C-Index score: \n",
      "0.8157981414201135\n",
      "\n",
      "Sybil Model_4 6 year AUC scores: \n",
      "[0.8801393136255521, 0.8689431913116124, 0.8338480254538649, 0.8336344474555857, 0.8296076212035465, 0.7952380952380952]\n",
      "Sybil Model_4 C-Index score: \n",
      "0.8157059346855425\n",
      "\n",
      "Sybil Model_5 6 year AUC scores: \n",
      "[0.8938583078491336, 0.8846073517126148, 0.8633258469024893, 0.8688146140720666, 0.8553103188077721, 0.822922502334267]\n",
      "Sybil Model_5 C-Index score: \n",
      "0.8386609314500927\n",
      "\n",
      "Sybil Model Ensemble 6 year AUC scores: \n",
      "[0.9029476724430853, 0.8916562238930659, 0.8600505334081977, 0.860232861587875, 0.8534238822863611, 0.8220354808590102]\n",
      "Sybil Model Ensemble C-Index score: \n",
      "0.8422041737972792\n"
     ]
    }
   ],
   "source": [
    "print(\"Sybil Model_1 6 year AUC scores: \\n\" + str(scores_final_model1.auc)\n",
    "      + \"\\nSybil Model_1 C-Index score: \\n\" + str(scores_final_model1.c_index))\n",
    "print()\n",
    "print(\"Sybil Model_2 6 year AUC scores: \\n\" + str(scores_final_model2.auc)\n",
    "     + \"\\nSybil Model_2 C-Index score: \\n\" + str(scores_final_model2.c_index))\n",
    "print()\n",
    "print(\"Sybil Model_3 6 year AUC scores: \\n\" + str(scores_final_model3.auc)\n",
    "     + \"\\nSybil Model_3 C-Index score: \\n\" + str(scores_final_model3.c_index))\n",
    "print()\n",
    "print(\"Sybil Model_4 6 year AUC scores: \\n\" + str(scores_final_model4.auc)\n",
    "     + \"\\nSybil Model_4 C-Index score: \\n\" + str(scores_final_model4.c_index))\n",
    "print()\n",
    "print(\"Sybil Model_5 6 year AUC scores: \\n\" + str(scores_final_model5.auc)\n",
    "     + \"\\nSybil Model_5 C-Index score: \\n\" + str(scores_final_model5.c_index))\n",
    "print()\n",
    "print(\"Sybil Model Ensemble 6 year AUC scores: \\n\" + str(scores_final_model_ensemble.auc)\n",
    "     + \"\\nSybil Model Ensemble C-Index score: \\n\" + str(scores_final_model_ensemble.c_index))"
   ]
  },
  {
   "cell_type": "code",
   "execution_count": 66,
   "id": "89e79ebf",
   "metadata": {},
   "outputs": [],
   "source": [
    "final_evaluation_df['Sybil 1 Prediction'] = scores_final_model1.scores\n",
    "final_evaluation_df['Sybil 2 Prediction'] = scores_final_model2.scores\n",
    "final_evaluation_df['Sybil 3 Prediction'] = scores_final_model3.scores\n",
    "final_evaluation_df['Sybil 4 Prediction'] = scores_final_model4.scores\n",
    "final_evaluation_df['Sybil 5 Prediction'] = scores_final_model5.scores\n",
    "final_evaluation_df['Sybil Ensemble Prediction'] = scores_final_model_ensemble.scores"
   ]
  },
  {
   "cell_type": "code",
   "execution_count": 71,
   "id": "54132113",
   "metadata": {},
   "outputs": [],
   "source": [
    "#save dataframe to excel file\n",
    "\n",
    "final_vector_results_save_path = r'/workspace/home/Sybil_Feature_Vector_Results.xlsx'\n",
    "\n",
    "final_evaluation_df.to_excel(final_vector_results_save_path, index=False) "
   ]
  },
  {
   "cell_type": "code",
   "execution_count": 70,
   "id": "1051b931",
   "metadata": {},
   "outputs": [
    {
     "data": {
      "text/html": [
       "<div>\n",
       "<style scoped>\n",
       "    .dataframe tbody tr th:only-of-type {\n",
       "        vertical-align: middle;\n",
       "    }\n",
       "\n",
       "    .dataframe tbody tr th {\n",
       "        vertical-align: top;\n",
       "    }\n",
       "\n",
       "    .dataframe thead th {\n",
       "        text-align: right;\n",
       "    }\n",
       "</style>\n",
       "<table border=\"1\" class=\"dataframe\">\n",
       "  <thead>\n",
       "    <tr style=\"text-align: right;\">\n",
       "      <th></th>\n",
       "      <th>AccessionNumber</th>\n",
       "      <th>SeriesInstanceUID</th>\n",
       "      <th>Diacom Directory</th>\n",
       "      <th>Unnamed: 0</th>\n",
       "      <th>MRN_h</th>\n",
       "      <th>Acc_num_h</th>\n",
       "      <th>exam_date</th>\n",
       "      <th>series_desc</th>\n",
       "      <th>hist</th>\n",
       "      <th>hist_category</th>\n",
       "      <th>...</th>\n",
       "      <th>last_exam_as_year</th>\n",
       "      <th>Day of Diagnosis</th>\n",
       "      <th>Year of Diagnosis</th>\n",
       "      <th>Feature Vector</th>\n",
       "      <th>Sybil 1 Prediction</th>\n",
       "      <th>Sybil 2 Prediction</th>\n",
       "      <th>Sybil 3 Prediction</th>\n",
       "      <th>Sybil 4 Prediction</th>\n",
       "      <th>Sybil 5 Prediction</th>\n",
       "      <th>Sybil Ensemble Prediction</th>\n",
       "    </tr>\n",
       "  </thead>\n",
       "  <tbody>\n",
       "    <tr>\n",
       "      <th>0</th>\n",
       "      <td>1005692582</td>\n",
       "      <td>1.3.12.2.1107.5.1.4.64297.30000016100615481865...</td>\n",
       "      <td>/datasets/1005692582/Chest  1.0  B45f</td>\n",
       "      <td>2629</td>\n",
       "      <td>2467550964</td>\n",
       "      <td>1005692582</td>\n",
       "      <td>2016-10-06</td>\n",
       "      <td>Chest  1.0  B45f</td>\n",
       "      <td>NaN</td>\n",
       "      <td>NaN</td>\n",
       "      <td>...</td>\n",
       "      <td>5</td>\n",
       "      <td>2055.0</td>\n",
       "      <td>5</td>\n",
       "      <td>[[0.0, 0.0, 0.0, 0.0, 0.0, 0.0, 0.0, 0.0, 0.0,...</td>\n",
       "      <td>[0.00024783147459727387, 0.0009098109098109099...</td>\n",
       "      <td>[0.0, 0.0, 0.0010050251256281408, 0.0010416666...</td>\n",
       "      <td>[0.0, 0.001188707280832095, 0.0053899905921964...</td>\n",
       "      <td>[0.0, 0.0015055175432533924, 0.007472889985015...</td>\n",
       "      <td>[0.0, 0.0006756756756756757, 0.000700525394045...</td>\n",
       "      <td>[0.0, 0.0015740740740740743, 0.002419433832892...</td>\n",
       "    </tr>\n",
       "    <tr>\n",
       "      <th>1</th>\n",
       "      <td>1011749283</td>\n",
       "      <td>1.3.12.2.1107.5.1.4.54023.30000016042715205978...</td>\n",
       "      <td>/datasets/1011749283/A Chest   1.0  B45f</td>\n",
       "      <td>3221</td>\n",
       "      <td>1406059976</td>\n",
       "      <td>1011749283</td>\n",
       "      <td>2016-04-27</td>\n",
       "      <td>A Chest   1.0  B45f</td>\n",
       "      <td>NaN</td>\n",
       "      <td>NaN</td>\n",
       "      <td>...</td>\n",
       "      <td>7</td>\n",
       "      <td>2559.0</td>\n",
       "      <td>7</td>\n",
       "      <td>[[0.0, 0.0, 0.0, 0.0, 0.0, 0.0, 0.0, 0.0, 0.0,...</td>\n",
       "      <td>[0.005670641576314818, 0.016728911619303625, 0...</td>\n",
       "      <td>[0.002747925540147072, 0.008246862026556234, 0...</td>\n",
       "      <td>[0.0006226553737865955, 0.005290044597760708, ...</td>\n",
       "      <td>[0.0, 0.0015055175432533924, 0.007472889985015...</td>\n",
       "      <td>[0.002639377716678266, 0.007722677216193972, 0...</td>\n",
       "      <td>[0.0019649702414815395, 0.005733155166957225, ...</td>\n",
       "    </tr>\n",
       "    <tr>\n",
       "      <th>2</th>\n",
       "      <td>1014372919</td>\n",
       "      <td>1.3.12.2.1107.5.1.4.60120.30000016040715232867...</td>\n",
       "      <td>/datasets/1014372919/Chest wo  1.0  B45f</td>\n",
       "      <td>2529</td>\n",
       "      <td>1708720103</td>\n",
       "      <td>1014372919</td>\n",
       "      <td>2016-04-07</td>\n",
       "      <td>Chest wo  1.0  B45f</td>\n",
       "      <td>NaN</td>\n",
       "      <td>NaN</td>\n",
       "      <td>...</td>\n",
       "      <td>0</td>\n",
       "      <td>0.0</td>\n",
       "      <td>0</td>\n",
       "      <td>[[0.0, 0.0, 0.0, 0.0, 0.0, 0.0, 0.0, 0.0, 0.0,...</td>\n",
       "      <td>[0.0005993253234549188, 0.0032729617776346745,...</td>\n",
       "      <td>[0.0007168458781362007, 0.0030450423113854456,...</td>\n",
       "      <td>[0.0006226553737865955, 0.005290044597760708, ...</td>\n",
       "      <td>[0.0, 0.0015055175432533924, 0.005437652187582...</td>\n",
       "      <td>[0.003391257415926386, 0.009784349687796911, 0...</td>\n",
       "      <td>[0.0011701163019909324, 0.0038702281460523216,...</td>\n",
       "    </tr>\n",
       "    <tr>\n",
       "      <th>3</th>\n",
       "      <td>1021652756</td>\n",
       "      <td>1.3.12.2.1107.5.1.4.64297.30000016021715591225...</td>\n",
       "      <td>/datasets/1021652756/Chest  1.0  B45f</td>\n",
       "      <td>1890</td>\n",
       "      <td>3398671109</td>\n",
       "      <td>1021652756</td>\n",
       "      <td>2016-02-17</td>\n",
       "      <td>Chest  1.0  B45f</td>\n",
       "      <td>NaN</td>\n",
       "      <td>NaN</td>\n",
       "      <td>...</td>\n",
       "      <td>0</td>\n",
       "      <td>0.0</td>\n",
       "      <td>0</td>\n",
       "      <td>[[0.0, 0.0, 0.0, 0.0, 0.0, 0.0, 0.0, 0.0, 0.0,...</td>\n",
       "      <td>[0.002614143679095454, 0.006778430365650433, 0...</td>\n",
       "      <td>[0.005742515277543164, 0.01578939349874242, 0....</td>\n",
       "      <td>[0.0065063051056874184, 0.015601745500941538, ...</td>\n",
       "      <td>[0.002791824858990207, 0.009865956692336473, 0...</td>\n",
       "      <td>[0.003391257415926386, 0.017633108558254014, 0...</td>\n",
       "      <td>[0.003950885877035175, 0.01567411799742145, 0....</td>\n",
       "    </tr>\n",
       "    <tr>\n",
       "      <th>4</th>\n",
       "      <td>1031079359</td>\n",
       "      <td>1.3.12.2.1107.5.1.4.60120.30000016083015183436...</td>\n",
       "      <td>/datasets/1031079359/Chest wo  1.0  B45f</td>\n",
       "      <td>1633</td>\n",
       "      <td>2825765662</td>\n",
       "      <td>1031079359</td>\n",
       "      <td>2016-08-30</td>\n",
       "      <td>Chest wo  1.0  B45f</td>\n",
       "      <td>NaN</td>\n",
       "      <td>NaN</td>\n",
       "      <td>...</td>\n",
       "      <td>6</td>\n",
       "      <td>2273.0</td>\n",
       "      <td>6</td>\n",
       "      <td>[[0.0, 0.0, 0.0, 0.0, 0.0, 0.0, 0.0, 0.0, 0.0,...</td>\n",
       "      <td>[0.002614143679095454, 0.008030973231096524, 0...</td>\n",
       "      <td>[0.0007168458781362007, 0.0030450423113854456,...</td>\n",
       "      <td>[0.0006226553737865955, 0.0029286564381619134,...</td>\n",
       "      <td>[0.0, 0.0015055175432533924, 0.005437652187582...</td>\n",
       "      <td>[0.0014358108108108109, 0.005059180513093308, ...</td>\n",
       "      <td>[0.0011701163019909324, 0.002554438672368111, ...</td>\n",
       "    </tr>\n",
       "  </tbody>\n",
       "</table>\n",
       "<p>5 rows × 49 columns</p>\n",
       "</div>"
      ],
      "text/plain": [
       "   AccessionNumber                                  SeriesInstanceUID  \\\n",
       "0       1005692582  1.3.12.2.1107.5.1.4.64297.30000016100615481865...   \n",
       "1       1011749283  1.3.12.2.1107.5.1.4.54023.30000016042715205978...   \n",
       "2       1014372919  1.3.12.2.1107.5.1.4.60120.30000016040715232867...   \n",
       "3       1021652756  1.3.12.2.1107.5.1.4.64297.30000016021715591225...   \n",
       "4       1031079359  1.3.12.2.1107.5.1.4.60120.30000016083015183436...   \n",
       "\n",
       "                           Diacom Directory  Unnamed: 0       MRN_h  \\\n",
       "0     /datasets/1005692582/Chest  1.0  B45f        2629  2467550964   \n",
       "1  /datasets/1011749283/A Chest   1.0  B45f        3221  1406059976   \n",
       "2  /datasets/1014372919/Chest wo  1.0  B45f        2529  1708720103   \n",
       "3     /datasets/1021652756/Chest  1.0  B45f        1890  3398671109   \n",
       "4  /datasets/1031079359/Chest wo  1.0  B45f        1633  2825765662   \n",
       "\n",
       "    Acc_num_h  exam_date          series_desc hist hist_category  ...  \\\n",
       "0  1005692582 2016-10-06     Chest  1.0  B45f  NaN           NaN  ...   \n",
       "1  1011749283 2016-04-27  A Chest   1.0  B45f  NaN           NaN  ...   \n",
       "2  1014372919 2016-04-07  Chest wo  1.0  B45f  NaN           NaN  ...   \n",
       "3  1021652756 2016-02-17     Chest  1.0  B45f  NaN           NaN  ...   \n",
       "4  1031079359 2016-08-30  Chest wo  1.0  B45f  NaN           NaN  ...   \n",
       "\n",
       "  last_exam_as_year Day of Diagnosis Year of Diagnosis  \\\n",
       "0                 5           2055.0                 5   \n",
       "1                 7           2559.0                 7   \n",
       "2                 0              0.0                 0   \n",
       "3                 0              0.0                 0   \n",
       "4                 6           2273.0                 6   \n",
       "\n",
       "                                      Feature Vector  \\\n",
       "0  [[0.0, 0.0, 0.0, 0.0, 0.0, 0.0, 0.0, 0.0, 0.0,...   \n",
       "1  [[0.0, 0.0, 0.0, 0.0, 0.0, 0.0, 0.0, 0.0, 0.0,...   \n",
       "2  [[0.0, 0.0, 0.0, 0.0, 0.0, 0.0, 0.0, 0.0, 0.0,...   \n",
       "3  [[0.0, 0.0, 0.0, 0.0, 0.0, 0.0, 0.0, 0.0, 0.0,...   \n",
       "4  [[0.0, 0.0, 0.0, 0.0, 0.0, 0.0, 0.0, 0.0, 0.0,...   \n",
       "\n",
       "                                  Sybil 1 Prediction  \\\n",
       "0  [0.00024783147459727387, 0.0009098109098109099...   \n",
       "1  [0.005670641576314818, 0.016728911619303625, 0...   \n",
       "2  [0.0005993253234549188, 0.0032729617776346745,...   \n",
       "3  [0.002614143679095454, 0.006778430365650433, 0...   \n",
       "4  [0.002614143679095454, 0.008030973231096524, 0...   \n",
       "\n",
       "                                  Sybil 2 Prediction  \\\n",
       "0  [0.0, 0.0, 0.0010050251256281408, 0.0010416666...   \n",
       "1  [0.002747925540147072, 0.008246862026556234, 0...   \n",
       "2  [0.0007168458781362007, 0.0030450423113854456,...   \n",
       "3  [0.005742515277543164, 0.01578939349874242, 0....   \n",
       "4  [0.0007168458781362007, 0.0030450423113854456,...   \n",
       "\n",
       "                                  Sybil 3 Prediction  \\\n",
       "0  [0.0, 0.001188707280832095, 0.0053899905921964...   \n",
       "1  [0.0006226553737865955, 0.005290044597760708, ...   \n",
       "2  [0.0006226553737865955, 0.005290044597760708, ...   \n",
       "3  [0.0065063051056874184, 0.015601745500941538, ...   \n",
       "4  [0.0006226553737865955, 0.0029286564381619134,...   \n",
       "\n",
       "                                  Sybil 4 Prediction  \\\n",
       "0  [0.0, 0.0015055175432533924, 0.007472889985015...   \n",
       "1  [0.0, 0.0015055175432533924, 0.007472889985015...   \n",
       "2  [0.0, 0.0015055175432533924, 0.005437652187582...   \n",
       "3  [0.002791824858990207, 0.009865956692336473, 0...   \n",
       "4  [0.0, 0.0015055175432533924, 0.005437652187582...   \n",
       "\n",
       "                                  Sybil 5 Prediction  \\\n",
       "0  [0.0, 0.0006756756756756757, 0.000700525394045...   \n",
       "1  [0.002639377716678266, 0.007722677216193972, 0...   \n",
       "2  [0.003391257415926386, 0.009784349687796911, 0...   \n",
       "3  [0.003391257415926386, 0.017633108558254014, 0...   \n",
       "4  [0.0014358108108108109, 0.005059180513093308, ...   \n",
       "\n",
       "                           Sybil Ensemble Prediction  \n",
       "0  [0.0, 0.0015740740740740743, 0.002419433832892...  \n",
       "1  [0.0019649702414815395, 0.005733155166957225, ...  \n",
       "2  [0.0011701163019909324, 0.0038702281460523216,...  \n",
       "3  [0.003950885877035175, 0.01567411799742145, 0....  \n",
       "4  [0.0011701163019909324, 0.002554438672368111, ...  \n",
       "\n",
       "[5 rows x 49 columns]"
      ]
     },
     "execution_count": 70,
     "metadata": {},
     "output_type": "execute_result"
    }
   ],
   "source": [
    "final_evaluation_df.head(5)"
   ]
  },
  {
   "cell_type": "markdown",
   "id": "69e6601e",
   "metadata": {},
   "source": [
    "# Remove Duplicates"
   ]
  },
  {
   "cell_type": "code",
   "execution_count": 139,
   "id": "7ef65e22",
   "metadata": {
    "collapsed": true,
    "jupyter": {
     "outputs_hidden": true
    }
   },
   "outputs": [
    {
     "data": {
      "text/html": [
       "<div>\n",
       "<style scoped>\n",
       "    .dataframe tbody tr th:only-of-type {\n",
       "        vertical-align: middle;\n",
       "    }\n",
       "\n",
       "    .dataframe tbody tr th {\n",
       "        vertical-align: top;\n",
       "    }\n",
       "\n",
       "    .dataframe thead th {\n",
       "        text-align: right;\n",
       "    }\n",
       "</style>\n",
       "<table border=\"1\" class=\"dataframe\">\n",
       "  <thead>\n",
       "    <tr style=\"text-align: right;\">\n",
       "      <th></th>\n",
       "      <th>AccessionNumber</th>\n",
       "      <th>SeriesInstanceUID</th>\n",
       "      <th>Diacom Directory</th>\n",
       "      <th>Unnamed: 0</th>\n",
       "      <th>MRN_h</th>\n",
       "      <th>Acc_num_h</th>\n",
       "      <th>exam_date</th>\n",
       "      <th>series_desc</th>\n",
       "      <th>hist</th>\n",
       "      <th>hist_category</th>\n",
       "      <th>stage</th>\n",
       "      <th>stage_category</th>\n",
       "      <th>post_screen_lc_x</th>\n",
       "      <th>interval_ct_hist</th>\n",
       "      <th>lungrads</th>\n",
       "      <th>sex</th>\n",
       "      <th>race_ethnicity_new</th>\n",
       "      <th>age_new</th>\n",
       "      <th>insurance_new</th>\n",
       "      <th>education_new</th>\n",
       "      <th>lungrads_category</th>\n",
       "      <th>post_screen_lc_y</th>\n",
       "      <th>eligibility_final_corrected</th>\n",
       "      <th>smoking_status_final_corrected</th>\n",
       "      <th>intensity_final_corrected</th>\n",
       "      <th>quit_year_final_corrected</th>\n",
       "      <th>pk_final_corrected</th>\n",
       "      <th>duration_final_corrected</th>\n",
       "      <th>fam_hx_lc_new</th>\n",
       "      <th>cci_t0</th>\n",
       "      <th>department_new</th>\n",
       "      <th>loc_t0</th>\n",
       "      <th>median_income_new</th>\n",
       "      <th>adi_new</th>\n",
       "      <th>distance_to_center_new</th>\n",
       "      <th>last_exam_type</th>\n",
       "      <th>interval_2016_to_last_img_exam</th>\n",
       "      <th>Diagnosis</th>\n",
       "      <th>interval_ct_hist_as_year</th>\n",
       "      <th>last_exam_as_year</th>\n",
       "      <th>Day of Diagnosis</th>\n",
       "      <th>Year of Diagnosis</th>\n",
       "      <th>Feature Vector</th>\n",
       "      <th>Sybil 1 Prediction</th>\n",
       "      <th>Sybil 2 Prediction</th>\n",
       "      <th>Sybil 3 Prediction</th>\n",
       "      <th>Sybil 4 Prediction</th>\n",
       "      <th>Sybil 5 Prediction</th>\n",
       "      <th>Sybil Ensemble Prediction</th>\n",
       "    </tr>\n",
       "  </thead>\n",
       "  <tbody>\n",
       "    <tr>\n",
       "      <th>232</th>\n",
       "      <td>2382810005</td>\n",
       "      <td>1.3.12.2.1107.5.1.4.60120.30000016060115243623...</td>\n",
       "      <td>/datasets/2382810005/Chest wo  1.0  B45f</td>\n",
       "      <td>3554</td>\n",
       "      <td>9514511616</td>\n",
       "      <td>2382810005</td>\n",
       "      <td>2016-06-01</td>\n",
       "      <td>Chest wo  1.0  B45f</td>\n",
       "      <td>NaN</td>\n",
       "      <td>NaN</td>\n",
       "      <td>NaN</td>\n",
       "      <td>NaN</td>\n",
       "      <td>NaN</td>\n",
       "      <td>NaN</td>\n",
       "      <td>1</td>\n",
       "      <td>Male</td>\n",
       "      <td>White</td>\n",
       "      <td>&gt;=65</td>\n",
       "      <td>Private or Commercial</td>\n",
       "      <td>NaN</td>\n",
       "      <td>1-2</td>\n",
       "      <td>NaN</td>\n",
       "      <td>Ineligible: years since quit&gt;15</td>\n",
       "      <td>Former</td>\n",
       "      <td>60.0</td>\n",
       "      <td>37.00</td>\n",
       "      <td>51.0</td>\n",
       "      <td>17.0</td>\n",
       "      <td>Yes</td>\n",
       "      <td>2-3</td>\n",
       "      <td>pulmonology&amp;thoracic oncology/surgery/radiology</td>\n",
       "      <td>90404.0</td>\n",
       "      <td>59695.0</td>\n",
       "      <td>2.0</td>\n",
       "      <td>0.10</td>\n",
       "      <td>Lung Screening LDCT</td>\n",
       "      <td>915.0</td>\n",
       "      <td>0</td>\n",
       "      <td>NaN</td>\n",
       "      <td>2</td>\n",
       "      <td>915.0</td>\n",
       "      <td>2</td>\n",
       "      <td>[[0.0, 0.0, 0.0, 0.0, 0.0, 0.0, 0.0, 0.0, 0.0,...</td>\n",
       "      <td>[0.00024783147459727387, 0.0018443903490632462...</td>\n",
       "      <td>[0.0, 0.0005899705014749262, 0.002814979876759...</td>\n",
       "      <td>[0.0006226553737865955, 0.005290044597760708, ...</td>\n",
       "      <td>[0.001614987781699701, 0.006718101865562728, 0...</td>\n",
       "      <td>[0.003391257415926386, 0.015639796644281157, 0...</td>\n",
       "      <td>[0.0017836132345062697, 0.005281162890320399, ...</td>\n",
       "    </tr>\n",
       "    <tr>\n",
       "      <th>118</th>\n",
       "      <td>1777455208</td>\n",
       "      <td>1.3.12.2.1107.5.1.4.60120.30000016113015123331...</td>\n",
       "      <td>/datasets/1777455208/Chest wo  1.0  B45f</td>\n",
       "      <td>4776</td>\n",
       "      <td>9514511616</td>\n",
       "      <td>1777455208</td>\n",
       "      <td>2016-11-30</td>\n",
       "      <td>Chest wo  1.0  B45f</td>\n",
       "      <td>NaN</td>\n",
       "      <td>NaN</td>\n",
       "      <td>NaN</td>\n",
       "      <td>NaN</td>\n",
       "      <td>NaN</td>\n",
       "      <td>NaN</td>\n",
       "      <td>1</td>\n",
       "      <td>Male</td>\n",
       "      <td>White</td>\n",
       "      <td>&gt;=65</td>\n",
       "      <td>Private or Commercial</td>\n",
       "      <td>NaN</td>\n",
       "      <td>1-2</td>\n",
       "      <td>NaN</td>\n",
       "      <td>Ineligible: years since quit&gt;15</td>\n",
       "      <td>Former</td>\n",
       "      <td>60.0</td>\n",
       "      <td>37.00</td>\n",
       "      <td>51.0</td>\n",
       "      <td>17.0</td>\n",
       "      <td>Yes</td>\n",
       "      <td>2-3</td>\n",
       "      <td>pulmonology&amp;thoracic oncology/surgery/radiology</td>\n",
       "      <td>90404.0</td>\n",
       "      <td>59695.0</td>\n",
       "      <td>2.0</td>\n",
       "      <td>0.10</td>\n",
       "      <td>Lung Screening LDCT</td>\n",
       "      <td>733.0</td>\n",
       "      <td>0</td>\n",
       "      <td>NaN</td>\n",
       "      <td>2</td>\n",
       "      <td>733.0</td>\n",
       "      <td>2</td>\n",
       "      <td>[[0.0, 0.0, 0.0, 0.0, 0.0, 0.0, 0.0, 0.0, 0.0,...</td>\n",
       "      <td>[0.002614143679095454, 0.006778430365650433, 0...</td>\n",
       "      <td>[0.0021648351611383253, 0.006532658626959574, ...</td>\n",
       "      <td>[0.0033341079748987175, 0.013722021289276543, ...</td>\n",
       "      <td>[0.002791824858990207, 0.009865956692336473, 0...</td>\n",
       "      <td>[0.003391257415926386, 0.009784349687796911, 0...</td>\n",
       "      <td>[0.0017836132345062697, 0.005733155166957225, ...</td>\n",
       "    </tr>\n",
       "    <tr>\n",
       "      <th>73</th>\n",
       "      <td>1496740476</td>\n",
       "      <td>1.3.12.2.1107.5.1.4.60120.30000016031015205611...</td>\n",
       "      <td>/datasets/1496740476/Chest wo  1.0  B45f</td>\n",
       "      <td>787</td>\n",
       "      <td>6928974397</td>\n",
       "      <td>1496740476</td>\n",
       "      <td>2016-03-10</td>\n",
       "      <td>Chest wo  1.0  B45f</td>\n",
       "      <td>NaN</td>\n",
       "      <td>NaN</td>\n",
       "      <td>NaN</td>\n",
       "      <td>NaN</td>\n",
       "      <td>NaN</td>\n",
       "      <td>NaN</td>\n",
       "      <td>4A</td>\n",
       "      <td>Male</td>\n",
       "      <td>White</td>\n",
       "      <td>&gt;=65</td>\n",
       "      <td>Medicare/Medicaid</td>\n",
       "      <td>College Graduate</td>\n",
       "      <td>3-4</td>\n",
       "      <td>NaN</td>\n",
       "      <td>Ineligible: pack-years&lt;30 - before</td>\n",
       "      <td>Former</td>\n",
       "      <td>5.0</td>\n",
       "      <td>2.00</td>\n",
       "      <td>10.0</td>\n",
       "      <td>40.0</td>\n",
       "      <td>No</td>\n",
       "      <td>2-3</td>\n",
       "      <td>Other department</td>\n",
       "      <td>90404.0</td>\n",
       "      <td>110854.0</td>\n",
       "      <td>1.0</td>\n",
       "      <td>4.48</td>\n",
       "      <td>Lung Diagnostic Imaging</td>\n",
       "      <td>270.0</td>\n",
       "      <td>0</td>\n",
       "      <td>NaN</td>\n",
       "      <td>0</td>\n",
       "      <td>270.0</td>\n",
       "      <td>0</td>\n",
       "      <td>[[0.0, 0.0, 0.0, 0.0, 0.0, 0.0, 0.0, 0.0, 0.0,...</td>\n",
       "      <td>[0.03762263896943718, 0.07865623535891339, 0.1...</td>\n",
       "      <td>[0.01823439866278741, 0.02963307151006624, 0.0...</td>\n",
       "      <td>[0.010123499886675302, 0.03287791302538494, 0....</td>\n",
       "      <td>[0.03663718825844361, 0.053636415129716064, 0....</td>\n",
       "      <td>[0.061784037558685445, 0.1233237014103887, 0.1...</td>\n",
       "      <td>[0.02812232605712587, 0.05480245507725341, 0.0...</td>\n",
       "    </tr>\n",
       "    <tr>\n",
       "      <th>537</th>\n",
       "      <td>1907321864</td>\n",
       "      <td>1.3.12.2.1107.5.1.4.51964.30000016050615572117...</td>\n",
       "      <td>/datasets/1907321864/Chest low dose  1.0  B50f</td>\n",
       "      <td>309</td>\n",
       "      <td>6928974397</td>\n",
       "      <td>1907321864</td>\n",
       "      <td>2016-05-06</td>\n",
       "      <td>Chest low dose  1.0  B50f</td>\n",
       "      <td>NaN</td>\n",
       "      <td>NaN</td>\n",
       "      <td>NaN</td>\n",
       "      <td>NaN</td>\n",
       "      <td>NaN</td>\n",
       "      <td>NaN</td>\n",
       "      <td>4A</td>\n",
       "      <td>Male</td>\n",
       "      <td>White</td>\n",
       "      <td>&gt;=65</td>\n",
       "      <td>Medicare/Medicaid</td>\n",
       "      <td>College Graduate</td>\n",
       "      <td>3-4</td>\n",
       "      <td>NaN</td>\n",
       "      <td>Ineligible: pack-years&lt;30 - before</td>\n",
       "      <td>Former</td>\n",
       "      <td>5.0</td>\n",
       "      <td>2.00</td>\n",
       "      <td>10.0</td>\n",
       "      <td>40.0</td>\n",
       "      <td>No</td>\n",
       "      <td>2-3</td>\n",
       "      <td>Other department</td>\n",
       "      <td>90404.0</td>\n",
       "      <td>110854.0</td>\n",
       "      <td>1.0</td>\n",
       "      <td>4.48</td>\n",
       "      <td>Lung Diagnostic Imaging</td>\n",
       "      <td>213.0</td>\n",
       "      <td>0</td>\n",
       "      <td>NaN</td>\n",
       "      <td>0</td>\n",
       "      <td>213.0</td>\n",
       "      <td>0</td>\n",
       "      <td>[[0.0, 0.0, 0.0, 0.0, 0.0, 0.0, 0.0, 0.0, 0.0,...</td>\n",
       "      <td>[0.14363418465561012, 0.18866856911754976, 0.2...</td>\n",
       "      <td>[0.024149747974363135, 0.0397637904643146, 0.0...</td>\n",
       "      <td>[0.010123499886675302, 0.03287791302538494, 0....</td>\n",
       "      <td>[0.010489318802199903, 0.029319487129935075, 0...</td>\n",
       "      <td>[0.061784037558685445, 0.1233237014103887, 0.1...</td>\n",
       "      <td>[0.03388673708469479, 0.0667378207277615, 0.09...</td>\n",
       "    </tr>\n",
       "    <tr>\n",
       "      <th>103</th>\n",
       "      <td>1680110787</td>\n",
       "      <td>1.3.12.2.1107.5.1.4.60120.30000016061515174560...</td>\n",
       "      <td>/datasets/1680110787/Chest wo  1.0  B45f</td>\n",
       "      <td>1419</td>\n",
       "      <td>6279224535</td>\n",
       "      <td>1680110787</td>\n",
       "      <td>2016-06-15</td>\n",
       "      <td>Chest wo  1.0  B45f</td>\n",
       "      <td>NaN</td>\n",
       "      <td>NaN</td>\n",
       "      <td>NaN</td>\n",
       "      <td>NaN</td>\n",
       "      <td>NaN</td>\n",
       "      <td>NaN</td>\n",
       "      <td>2</td>\n",
       "      <td>Male</td>\n",
       "      <td>White</td>\n",
       "      <td>&lt;65</td>\n",
       "      <td>Private or Commercial</td>\n",
       "      <td>High school graduate or GED</td>\n",
       "      <td>1-2</td>\n",
       "      <td>NaN</td>\n",
       "      <td>Newly eligible</td>\n",
       "      <td>Current</td>\n",
       "      <td>20.0</td>\n",
       "      <td>0.00</td>\n",
       "      <td>26.0</td>\n",
       "      <td>26.0</td>\n",
       "      <td>No</td>\n",
       "      <td>0-1</td>\n",
       "      <td>Other department</td>\n",
       "      <td>90404.0</td>\n",
       "      <td>66744.0</td>\n",
       "      <td>2.0</td>\n",
       "      <td>3.09</td>\n",
       "      <td>Lung Screening LDCT</td>\n",
       "      <td>2370.0</td>\n",
       "      <td>0</td>\n",
       "      <td>NaN</td>\n",
       "      <td>6</td>\n",
       "      <td>2370.0</td>\n",
       "      <td>6</td>\n",
       "      <td>[[0.0, 0.0, 0.0, 0.0, 0.0, 0.0, 0.0, 0.0, 0.0,...</td>\n",
       "      <td>[0.0033378278896217693, 0.016646469849514296, ...</td>\n",
       "      <td>[0.007401745617755098, 0.01578939349874242, 0....</td>\n",
       "      <td>[0.010123499886675302, 0.017200582710243863, 0...</td>\n",
       "      <td>[0.0048837980632495, 0.01160030474031926, 0.02...</td>\n",
       "      <td>[0.013722923177036656, 0.03340061339922101, 0....</td>\n",
       "      <td>[0.010900917281180979, 0.022468311458281577, 0...</td>\n",
       "    </tr>\n",
       "    <tr>\n",
       "      <th>147</th>\n",
       "      <td>1903295728</td>\n",
       "      <td>1.3.12.2.1107.5.1.4.60120.30000016121215300213...</td>\n",
       "      <td>/datasets/1903295728/Chest wo  1.0  B45f</td>\n",
       "      <td>640</td>\n",
       "      <td>6279224535</td>\n",
       "      <td>1903295728</td>\n",
       "      <td>2016-12-12</td>\n",
       "      <td>Chest wo  1.0  B45f</td>\n",
       "      <td>NaN</td>\n",
       "      <td>NaN</td>\n",
       "      <td>NaN</td>\n",
       "      <td>NaN</td>\n",
       "      <td>NaN</td>\n",
       "      <td>NaN</td>\n",
       "      <td>2</td>\n",
       "      <td>Male</td>\n",
       "      <td>White</td>\n",
       "      <td>&lt;65</td>\n",
       "      <td>Private or Commercial</td>\n",
       "      <td>High school graduate or GED</td>\n",
       "      <td>1-2</td>\n",
       "      <td>NaN</td>\n",
       "      <td>Newly eligible</td>\n",
       "      <td>Current</td>\n",
       "      <td>20.0</td>\n",
       "      <td>0.00</td>\n",
       "      <td>26.0</td>\n",
       "      <td>26.0</td>\n",
       "      <td>No</td>\n",
       "      <td>0-1</td>\n",
       "      <td>Other department</td>\n",
       "      <td>90404.0</td>\n",
       "      <td>66744.0</td>\n",
       "      <td>2.0</td>\n",
       "      <td>3.09</td>\n",
       "      <td>Lung Screening LDCT</td>\n",
       "      <td>2190.0</td>\n",
       "      <td>0</td>\n",
       "      <td>NaN</td>\n",
       "      <td>6</td>\n",
       "      <td>2190.0</td>\n",
       "      <td>6</td>\n",
       "      <td>[[0.0, 0.0, 0.0, 0.0, 0.0, 0.0, 0.0, 0.0, 0.0,...</td>\n",
       "      <td>[0.002614143679095454, 0.012768073747244868, 0...</td>\n",
       "      <td>[0.007401745617755098, 0.01943424256123729, 0....</td>\n",
       "      <td>[0.0065063051056874184, 0.015228657576554023, ...</td>\n",
       "      <td>[0.010489318802199903, 0.023877310259186775, 0...</td>\n",
       "      <td>[0.010185907900890943, 0.018393504597857973, 0...</td>\n",
       "      <td>[0.007145048736580039, 0.02014553619432984, 0....</td>\n",
       "    </tr>\n",
       "    <tr>\n",
       "      <th>28</th>\n",
       "      <td>1156164761</td>\n",
       "      <td>1.3.12.2.1107.5.1.4.60120.30000016071315281017...</td>\n",
       "      <td>/datasets/1156164761/Chest wo  1.0  B45f</td>\n",
       "      <td>4788</td>\n",
       "      <td>4365886903</td>\n",
       "      <td>1156164761</td>\n",
       "      <td>2016-07-13</td>\n",
       "      <td>Chest wo  1.0  B45f</td>\n",
       "      <td>NaN</td>\n",
       "      <td>NaN</td>\n",
       "      <td>NaN</td>\n",
       "      <td>NaN</td>\n",
       "      <td>NaN</td>\n",
       "      <td>NaN</td>\n",
       "      <td>2</td>\n",
       "      <td>Female</td>\n",
       "      <td>White</td>\n",
       "      <td>&gt;=65</td>\n",
       "      <td>Medicare/Medicaid</td>\n",
       "      <td>NaN</td>\n",
       "      <td>1-2</td>\n",
       "      <td>NaN</td>\n",
       "      <td>Eligible by 2013 USPSTF guidelines</td>\n",
       "      <td>Former</td>\n",
       "      <td>30.0</td>\n",
       "      <td>9.00</td>\n",
       "      <td>64.0</td>\n",
       "      <td>43.0</td>\n",
       "      <td>No</td>\n",
       "      <td>2-3</td>\n",
       "      <td>Other department</td>\n",
       "      <td>90404.0</td>\n",
       "      <td>71424.0</td>\n",
       "      <td>1.0</td>\n",
       "      <td>1.15</td>\n",
       "      <td>Lung Screening LDCT</td>\n",
       "      <td>2232.0</td>\n",
       "      <td>0</td>\n",
       "      <td>NaN</td>\n",
       "      <td>6</td>\n",
       "      <td>2232.0</td>\n",
       "      <td>6</td>\n",
       "      <td>[[0.0, 0.0, 0.0, 0.0, 0.0, 0.0, 0.0, 0.0, 0.0,...</td>\n",
       "      <td>[0.002614143679095454, 0.01045940834560034, 0....</td>\n",
       "      <td>[0.005742515277543164, 0.01578939349874242, 0....</td>\n",
       "      <td>[0.0006226553737865955, 0.005290044597760708, ...</td>\n",
       "      <td>[0.005838330430977005, 0.01379944977048499, 0....</td>\n",
       "      <td>[0.002639377716678266, 0.006418154872067668, 0...</td>\n",
       "      <td>[0.0019649702414815395, 0.010089723091537396, ...</td>\n",
       "    </tr>\n",
       "    <tr>\n",
       "      <th>431</th>\n",
       "      <td>4415158803</td>\n",
       "      <td>1.3.12.2.1107.5.1.4.60120.30000016122015262317...</td>\n",
       "      <td>/datasets/4415158803/Chest wo  1.0  B45f</td>\n",
       "      <td>3852</td>\n",
       "      <td>4365886903</td>\n",
       "      <td>4415158803</td>\n",
       "      <td>2016-12-20</td>\n",
       "      <td>Chest wo  1.0  B45f</td>\n",
       "      <td>NaN</td>\n",
       "      <td>NaN</td>\n",
       "      <td>NaN</td>\n",
       "      <td>NaN</td>\n",
       "      <td>NaN</td>\n",
       "      <td>NaN</td>\n",
       "      <td>2</td>\n",
       "      <td>Female</td>\n",
       "      <td>White</td>\n",
       "      <td>&gt;=65</td>\n",
       "      <td>Medicare/Medicaid</td>\n",
       "      <td>NaN</td>\n",
       "      <td>1-2</td>\n",
       "      <td>NaN</td>\n",
       "      <td>Eligible by 2013 USPSTF guidelines</td>\n",
       "      <td>Former</td>\n",
       "      <td>30.0</td>\n",
       "      <td>9.00</td>\n",
       "      <td>64.0</td>\n",
       "      <td>43.0</td>\n",
       "      <td>No</td>\n",
       "      <td>2-3</td>\n",
       "      <td>Other department</td>\n",
       "      <td>90404.0</td>\n",
       "      <td>71424.0</td>\n",
       "      <td>1.0</td>\n",
       "      <td>1.15</td>\n",
       "      <td>Lung Screening LDCT</td>\n",
       "      <td>2072.0</td>\n",
       "      <td>0</td>\n",
       "      <td>NaN</td>\n",
       "      <td>5</td>\n",
       "      <td>2072.0</td>\n",
       "      <td>5</td>\n",
       "      <td>[[0.0, 0.0, 0.0, 0.0, 0.0, 0.0, 0.0, 0.0, 0.0,...</td>\n",
       "      <td>[0.0005993253234549188, 0.003348511228184125, ...</td>\n",
       "      <td>[0.0027640306463362803, 0.008246862026556234, ...</td>\n",
       "      <td>[0.0002958579881656805, 0.00211893983897163, 0...</td>\n",
       "      <td>[0.0008275862068965517, 0.002675108186528246, ...</td>\n",
       "      <td>[0.000625, 0.002668052668052668, 0.00819551456...</td>\n",
       "      <td>[0.0011701163019909324, 0.002554438672368111, ...</td>\n",
       "    </tr>\n",
       "    <tr>\n",
       "      <th>120</th>\n",
       "      <td>1783825635</td>\n",
       "      <td>1.3.12.2.1107.5.1.4.60120.30000016070715234428...</td>\n",
       "      <td>/datasets/1783825635/Chest wo  1.0  B45f</td>\n",
       "      <td>4976</td>\n",
       "      <td>3392869532</td>\n",
       "      <td>1783825635</td>\n",
       "      <td>2016-07-07</td>\n",
       "      <td>Chest wo  1.0  B45f</td>\n",
       "      <td>NaN</td>\n",
       "      <td>NaN</td>\n",
       "      <td>NaN</td>\n",
       "      <td>NaN</td>\n",
       "      <td>NaN</td>\n",
       "      <td>NaN</td>\n",
       "      <td>3</td>\n",
       "      <td>Male</td>\n",
       "      <td>White</td>\n",
       "      <td>&gt;=65</td>\n",
       "      <td>Private or Commercial</td>\n",
       "      <td>College Graduate</td>\n",
       "      <td>3-4</td>\n",
       "      <td>NaN</td>\n",
       "      <td>Eligible by 2013 USPSTF guidelines</td>\n",
       "      <td>Former</td>\n",
       "      <td>20.0</td>\n",
       "      <td>14.00</td>\n",
       "      <td>30.0</td>\n",
       "      <td>30.0</td>\n",
       "      <td>No</td>\n",
       "      <td>2-3</td>\n",
       "      <td>Other department</td>\n",
       "      <td>90404.0</td>\n",
       "      <td>62794.0</td>\n",
       "      <td>2.0</td>\n",
       "      <td>2.21</td>\n",
       "      <td>Lung Diagnostic Imaging</td>\n",
       "      <td>2548.0</td>\n",
       "      <td>0</td>\n",
       "      <td>NaN</td>\n",
       "      <td>6</td>\n",
       "      <td>2548.0</td>\n",
       "      <td>6</td>\n",
       "      <td>[[0.0, 0.0, 0.0, 0.0, 0.0, 0.0, 0.0, 0.0, 0.0,...</td>\n",
       "      <td>[0.010294141146778048, 0.02449007519844383, 0....</td>\n",
       "      <td>[0.01823439866278741, 0.02963307151006624, 0.0...</td>\n",
       "      <td>[0.007756305105687418, 0.015601745500941538, 0...</td>\n",
       "      <td>[0.0030404800908992702, 0.010096545775384573, ...</td>\n",
       "      <td>[0.013722923177036656, 0.03525246525107287, 0....</td>\n",
       "      <td>[0.010938370464701579, 0.02384829677758669, 0....</td>\n",
       "    </tr>\n",
       "    <tr>\n",
       "      <th>79</th>\n",
       "      <td>1509867261</td>\n",
       "      <td>1.3.12.2.1107.5.1.4.60120.30000016111515405936...</td>\n",
       "      <td>/datasets/1509867261/Chest wo  1.0  B45f</td>\n",
       "      <td>2855</td>\n",
       "      <td>3392869532</td>\n",
       "      <td>1509867261</td>\n",
       "      <td>2016-11-15</td>\n",
       "      <td>Chest wo  1.0  B45f</td>\n",
       "      <td>NaN</td>\n",
       "      <td>NaN</td>\n",
       "      <td>NaN</td>\n",
       "      <td>NaN</td>\n",
       "      <td>NaN</td>\n",
       "      <td>NaN</td>\n",
       "      <td>3</td>\n",
       "      <td>Male</td>\n",
       "      <td>White</td>\n",
       "      <td>&gt;=65</td>\n",
       "      <td>Private or Commercial</td>\n",
       "      <td>College Graduate</td>\n",
       "      <td>3-4</td>\n",
       "      <td>NaN</td>\n",
       "      <td>Eligible by 2013 USPSTF guidelines</td>\n",
       "      <td>Former</td>\n",
       "      <td>20.0</td>\n",
       "      <td>14.00</td>\n",
       "      <td>30.0</td>\n",
       "      <td>30.0</td>\n",
       "      <td>No</td>\n",
       "      <td>2-3</td>\n",
       "      <td>Other department</td>\n",
       "      <td>90404.0</td>\n",
       "      <td>62794.0</td>\n",
       "      <td>2.0</td>\n",
       "      <td>2.21</td>\n",
       "      <td>Lung Diagnostic Imaging</td>\n",
       "      <td>2417.0</td>\n",
       "      <td>0</td>\n",
       "      <td>NaN</td>\n",
       "      <td>6</td>\n",
       "      <td>2417.0</td>\n",
       "      <td>6</td>\n",
       "      <td>[[0.0, 0.0, 0.0, 0.0, 0.0, 0.0, 0.0, 0.0, 0.0,...</td>\n",
       "      <td>[0.002614143679095454, 0.01045940834560034, 0....</td>\n",
       "      <td>[0.003167443298374507, 0.00945461801592798, 0....</td>\n",
       "      <td>[0.0025488848819833166, 0.008828609215985637, ...</td>\n",
       "      <td>[0.002791824858990207, 0.009865956692336473, 0...</td>\n",
       "      <td>[0.0037604836589390364, 0.015639796644281157, ...</td>\n",
       "      <td>[0.0019649702414815395, 0.006792662605387028, ...</td>\n",
       "    </tr>\n",
       "    <tr>\n",
       "      <th>614</th>\n",
       "      <td>1544799163</td>\n",
       "      <td>1.3.12.2.1107.5.1.4.75487.30000016070814131194...</td>\n",
       "      <td>/datasets/1544799163/Lung Low Dose  1.0  Br49</td>\n",
       "      <td>3162</td>\n",
       "      <td>3069382446</td>\n",
       "      <td>1544799163</td>\n",
       "      <td>2016-07-08</td>\n",
       "      <td>Lung Low Dose  1.0  Br49</td>\n",
       "      <td>NaN</td>\n",
       "      <td>NaN</td>\n",
       "      <td>NaN</td>\n",
       "      <td>NaN</td>\n",
       "      <td>NaN</td>\n",
       "      <td>NaN</td>\n",
       "      <td>NaN</td>\n",
       "      <td>NaN</td>\n",
       "      <td>NaN</td>\n",
       "      <td>NaN</td>\n",
       "      <td>NaN</td>\n",
       "      <td>NaN</td>\n",
       "      <td>NaN</td>\n",
       "      <td>NaN</td>\n",
       "      <td>NaN</td>\n",
       "      <td>NaN</td>\n",
       "      <td>NaN</td>\n",
       "      <td>NaN</td>\n",
       "      <td>NaN</td>\n",
       "      <td>NaN</td>\n",
       "      <td>NaN</td>\n",
       "      <td>NaN</td>\n",
       "      <td>NaN</td>\n",
       "      <td>NaN</td>\n",
       "      <td>NaN</td>\n",
       "      <td>NaN</td>\n",
       "      <td>NaN</td>\n",
       "      <td>NaN</td>\n",
       "      <td>NaN</td>\n",
       "      <td>0</td>\n",
       "      <td>NaN</td>\n",
       "      <td>6</td>\n",
       "      <td>NaN</td>\n",
       "      <td>6</td>\n",
       "      <td>[[0.0, 0.0, 0.0, 0.0, 0.0, 0.0, 0.0, 0.0, 0.0,...</td>\n",
       "      <td>[0.22272114360981066, 0.3987438052143934, 0.44...</td>\n",
       "      <td>[0.21644599609072673, 0.2815120966716995, 0.33...</td>\n",
       "      <td>[0.19846320346320348, 0.3194397759103641, 0.35...</td>\n",
       "      <td>[0.12643278887540008, 0.17246701710987425, 0.2...</td>\n",
       "      <td>[0.19665317696931556, 0.2270348213404268, 0.24...</td>\n",
       "      <td>[0.25563025210084034, 0.33992633828160146, 0.3...</td>\n",
       "    </tr>\n",
       "    <tr>\n",
       "      <th>665</th>\n",
       "      <td>5729262520</td>\n",
       "      <td>1.3.12.2.1107.5.1.4.75487.30000016122214114911...</td>\n",
       "      <td>/datasets/5729262520/Lung Low Dose  1.0  Br49</td>\n",
       "      <td>773</td>\n",
       "      <td>3069382446</td>\n",
       "      <td>5729262520</td>\n",
       "      <td>2016-12-22</td>\n",
       "      <td>Lung Low Dose  1.0  Br49</td>\n",
       "      <td>NaN</td>\n",
       "      <td>NaN</td>\n",
       "      <td>NaN</td>\n",
       "      <td>NaN</td>\n",
       "      <td>NaN</td>\n",
       "      <td>NaN</td>\n",
       "      <td>NaN</td>\n",
       "      <td>NaN</td>\n",
       "      <td>NaN</td>\n",
       "      <td>NaN</td>\n",
       "      <td>NaN</td>\n",
       "      <td>NaN</td>\n",
       "      <td>NaN</td>\n",
       "      <td>NaN</td>\n",
       "      <td>NaN</td>\n",
       "      <td>NaN</td>\n",
       "      <td>NaN</td>\n",
       "      <td>NaN</td>\n",
       "      <td>NaN</td>\n",
       "      <td>NaN</td>\n",
       "      <td>NaN</td>\n",
       "      <td>NaN</td>\n",
       "      <td>NaN</td>\n",
       "      <td>NaN</td>\n",
       "      <td>NaN</td>\n",
       "      <td>NaN</td>\n",
       "      <td>NaN</td>\n",
       "      <td>NaN</td>\n",
       "      <td>NaN</td>\n",
       "      <td>0</td>\n",
       "      <td>NaN</td>\n",
       "      <td>6</td>\n",
       "      <td>NaN</td>\n",
       "      <td>6</td>\n",
       "      <td>[[0.0, 0.0, 0.0, 0.0, 0.0, 0.0, 0.0, 0.0, 0.0,...</td>\n",
       "      <td>[0.21877109307449866, 0.3595618219325061, 0.40...</td>\n",
       "      <td>[0.2501067082908834, 0.36977443609022553, 0.39...</td>\n",
       "      <td>[0.1529039452771704, 0.23023540018463312, 0.24...</td>\n",
       "      <td>[0.12643278887540008, 0.18159400123685837, 0.2...</td>\n",
       "      <td>[0.21874624097130488, 0.35743971800945745, 0.4...</td>\n",
       "      <td>[0.25563025210084034, 0.3580424761440275, 0.37...</td>\n",
       "    </tr>\n",
       "    <tr>\n",
       "      <th>40</th>\n",
       "      <td>1208875823</td>\n",
       "      <td>1.3.12.2.1107.5.1.4.60120.30000016022221255217...</td>\n",
       "      <td>/datasets/1208875823/Chest wo  1.0  B45f</td>\n",
       "      <td>2303</td>\n",
       "      <td>2667564932</td>\n",
       "      <td>1208875823</td>\n",
       "      <td>2016-02-22</td>\n",
       "      <td>Chest wo  1.0  B45f</td>\n",
       "      <td>Adenocarcinoma</td>\n",
       "      <td>NSCLC</td>\n",
       "      <td>IA</td>\n",
       "      <td>I-II (early)</td>\n",
       "      <td>NaN</td>\n",
       "      <td>1626.0</td>\n",
       "      <td>4A</td>\n",
       "      <td>Female</td>\n",
       "      <td>White</td>\n",
       "      <td>&lt;65</td>\n",
       "      <td>Private or Commercial</td>\n",
       "      <td>Postgraduate</td>\n",
       "      <td>3-4</td>\n",
       "      <td>NaN</td>\n",
       "      <td>Eligible by 2013 USPSTF guidelines</td>\n",
       "      <td>Former</td>\n",
       "      <td>20.0</td>\n",
       "      <td>3.00</td>\n",
       "      <td>35.0</td>\n",
       "      <td>35.0</td>\n",
       "      <td>Yes</td>\n",
       "      <td>2-3</td>\n",
       "      <td>Other department</td>\n",
       "      <td>90404.0</td>\n",
       "      <td>59695.0</td>\n",
       "      <td>2.0</td>\n",
       "      <td>0.10</td>\n",
       "      <td>Lung Diagnostic Imaging</td>\n",
       "      <td>2535.0</td>\n",
       "      <td>1</td>\n",
       "      <td>4.0</td>\n",
       "      <td>6</td>\n",
       "      <td>1626.0</td>\n",
       "      <td>4</td>\n",
       "      <td>[[0.0, 0.0, 0.0, 0.0, 0.0, 0.0, 0.0, 0.0, 0.0,...</td>\n",
       "      <td>[0.03762263896943718, 0.07865623535891339, 0.0...</td>\n",
       "      <td>[0.05316137108975984, 0.11430125875784403, 0.1...</td>\n",
       "      <td>[0.024214780203470454, 0.04491920263564868, 0....</td>\n",
       "      <td>[0.031047826076789336, 0.05298986340557813, 0....</td>\n",
       "      <td>[0.06574539021569029, 0.13599999999999998, 0.1...</td>\n",
       "      <td>[0.03842782539003932, 0.06796830917179032, 0.0...</td>\n",
       "    </tr>\n",
       "    <tr>\n",
       "      <th>39</th>\n",
       "      <td>1207264947</td>\n",
       "      <td>1.3.12.2.1107.5.1.4.60120.30000016060615162315...</td>\n",
       "      <td>/datasets/1207264947/Chest wo  1.0  B45f</td>\n",
       "      <td>1156</td>\n",
       "      <td>2667564932</td>\n",
       "      <td>1207264947</td>\n",
       "      <td>2016-06-06</td>\n",
       "      <td>Chest wo  1.0  B45f</td>\n",
       "      <td>Adenocarcinoma</td>\n",
       "      <td>NSCLC</td>\n",
       "      <td>IA</td>\n",
       "      <td>I-II (early)</td>\n",
       "      <td>NaN</td>\n",
       "      <td>1521.0</td>\n",
       "      <td>4A</td>\n",
       "      <td>Female</td>\n",
       "      <td>White</td>\n",
       "      <td>&lt;65</td>\n",
       "      <td>Private or Commercial</td>\n",
       "      <td>Postgraduate</td>\n",
       "      <td>3-4</td>\n",
       "      <td>NaN</td>\n",
       "      <td>Eligible by 2013 USPSTF guidelines</td>\n",
       "      <td>Former</td>\n",
       "      <td>20.0</td>\n",
       "      <td>3.00</td>\n",
       "      <td>35.0</td>\n",
       "      <td>35.0</td>\n",
       "      <td>Yes</td>\n",
       "      <td>2-3</td>\n",
       "      <td>Other department</td>\n",
       "      <td>90404.0</td>\n",
       "      <td>59695.0</td>\n",
       "      <td>2.0</td>\n",
       "      <td>0.10</td>\n",
       "      <td>Lung Diagnostic Imaging</td>\n",
       "      <td>2430.0</td>\n",
       "      <td>1</td>\n",
       "      <td>4.0</td>\n",
       "      <td>6</td>\n",
       "      <td>1521.0</td>\n",
       "      <td>4</td>\n",
       "      <td>[[0.0, 0.0, 0.0, 0.0, 0.0, 0.0, 0.0, 0.0, 0.0,...</td>\n",
       "      <td>[0.11246132288020863, 0.16193415958964064, 0.1...</td>\n",
       "      <td>[0.1312585672021956, 0.17647784712667763, 0.20...</td>\n",
       "      <td>[0.08249151614668856, 0.12720408845141984, 0.1...</td>\n",
       "      <td>[0.12715880835087146, 0.18159400123685837, 0.2...</td>\n",
       "      <td>[0.210727294247293, 0.2792657610588645, 0.3802...</td>\n",
       "      <td>[0.1347000090358724, 0.20156874039938555, 0.21...</td>\n",
       "    </tr>\n",
       "    <tr>\n",
       "      <th>356</th>\n",
       "      <td>3082281180</td>\n",
       "      <td>1.3.12.2.1107.5.1.4.60120.30000016041115243799...</td>\n",
       "      <td>/datasets/3082281180/Chest wo  1.0  B45f</td>\n",
       "      <td>1155</td>\n",
       "      <td>2516700108</td>\n",
       "      <td>3082281180</td>\n",
       "      <td>2016-04-11</td>\n",
       "      <td>Chest wo  1.0  B45f</td>\n",
       "      <td>NaN</td>\n",
       "      <td>NaN</td>\n",
       "      <td>NaN</td>\n",
       "      <td>NaN</td>\n",
       "      <td>NaN</td>\n",
       "      <td>NaN</td>\n",
       "      <td>3</td>\n",
       "      <td>Male</td>\n",
       "      <td>White</td>\n",
       "      <td>&gt;=65</td>\n",
       "      <td>Private or Commercial</td>\n",
       "      <td>College Graduate</td>\n",
       "      <td>3-4</td>\n",
       "      <td>NaN</td>\n",
       "      <td>Eligible by 2013 USPSTF guidelines</td>\n",
       "      <td>Former</td>\n",
       "      <td>20.0</td>\n",
       "      <td>2.00</td>\n",
       "      <td>40.0</td>\n",
       "      <td>40.0</td>\n",
       "      <td>Yes</td>\n",
       "      <td>2-3</td>\n",
       "      <td>Other department</td>\n",
       "      <td>90404.0</td>\n",
       "      <td>99314.0</td>\n",
       "      <td>6.0</td>\n",
       "      <td>55.71</td>\n",
       "      <td>Lung Diagnostic Imaging</td>\n",
       "      <td>660.0</td>\n",
       "      <td>0</td>\n",
       "      <td>NaN</td>\n",
       "      <td>1</td>\n",
       "      <td>660.0</td>\n",
       "      <td>1</td>\n",
       "      <td>[[0.0, 0.0, 0.0, 0.0, 0.0, 0.0, 0.0, 0.0, 0.0,...</td>\n",
       "      <td>[0.014803430051891348, 0.025743208030524028, 0...</td>\n",
       "      <td>[0.007401745617755098, 0.01578939349874242, 0....</td>\n",
       "      <td>[0.024214780203470454, 0.043097148346112155, 0...</td>\n",
       "      <td>[0.008523112965026324, 0.0225606545646509, 0.0...</td>\n",
       "      <td>[0.013722923177036656, 0.03525246525107287, 0....</td>\n",
       "      <td>[0.012096924141240866, 0.024063714534164626, 0...</td>\n",
       "    </tr>\n",
       "    <tr>\n",
       "      <th>602</th>\n",
       "      <td>1100322115</td>\n",
       "      <td>1.3.12.2.1107.5.1.4.75487.30000016120714321287...</td>\n",
       "      <td>/datasets/1100322115/Lung Low Dose  1.0  Br49</td>\n",
       "      <td>1668</td>\n",
       "      <td>2516700108</td>\n",
       "      <td>1100322115</td>\n",
       "      <td>2016-12-07</td>\n",
       "      <td>Lung Low Dose  1.0  Br49</td>\n",
       "      <td>NaN</td>\n",
       "      <td>NaN</td>\n",
       "      <td>NaN</td>\n",
       "      <td>NaN</td>\n",
       "      <td>NaN</td>\n",
       "      <td>NaN</td>\n",
       "      <td>3</td>\n",
       "      <td>Male</td>\n",
       "      <td>White</td>\n",
       "      <td>&gt;=65</td>\n",
       "      <td>Private or Commercial</td>\n",
       "      <td>College Graduate</td>\n",
       "      <td>3-4</td>\n",
       "      <td>NaN</td>\n",
       "      <td>Eligible by 2013 USPSTF guidelines</td>\n",
       "      <td>Former</td>\n",
       "      <td>20.0</td>\n",
       "      <td>2.00</td>\n",
       "      <td>40.0</td>\n",
       "      <td>40.0</td>\n",
       "      <td>Yes</td>\n",
       "      <td>2-3</td>\n",
       "      <td>Other department</td>\n",
       "      <td>90404.0</td>\n",
       "      <td>99314.0</td>\n",
       "      <td>6.0</td>\n",
       "      <td>55.71</td>\n",
       "      <td>Lung Diagnostic Imaging</td>\n",
       "      <td>420.0</td>\n",
       "      <td>0</td>\n",
       "      <td>NaN</td>\n",
       "      <td>1</td>\n",
       "      <td>420.0</td>\n",
       "      <td>1</td>\n",
       "      <td>[[0.0, 0.0, 0.0, 0.0, 0.0, 0.0, 0.0, 0.0, 0.0,...</td>\n",
       "      <td>[0.010294141146778048, 0.02449007519844383, 0....</td>\n",
       "      <td>[0.005742515277543164, 0.01578939349874242, 0....</td>\n",
       "      <td>[0.024214780203470454, 0.04301444073088678, 0....</td>\n",
       "      <td>[0.007744554331982366, 0.01855492291246473, 0....</td>\n",
       "      <td>[0.010185907900890943, 0.018393504597857973, 0...</td>\n",
       "      <td>[0.010938370464701579, 0.02384829677758669, 0....</td>\n",
       "    </tr>\n",
       "    <tr>\n",
       "      <th>140</th>\n",
       "      <td>1882952296</td>\n",
       "      <td>1.3.12.2.1107.5.1.4.64297.30000016063016153917...</td>\n",
       "      <td>/datasets/1882952296/Chest  1.0  B45f</td>\n",
       "      <td>4722</td>\n",
       "      <td>2470163127</td>\n",
       "      <td>1882952296</td>\n",
       "      <td>2016-06-30</td>\n",
       "      <td>Chest  1.0  B45f</td>\n",
       "      <td>Adenocarcinoma</td>\n",
       "      <td>NSCLC</td>\n",
       "      <td>0</td>\n",
       "      <td>I-II (early)</td>\n",
       "      <td>NaN</td>\n",
       "      <td>124.0</td>\n",
       "      <td>4A</td>\n",
       "      <td>Female</td>\n",
       "      <td>White</td>\n",
       "      <td>&gt;=65</td>\n",
       "      <td>Medicare/Medicaid</td>\n",
       "      <td>Some college or technical school</td>\n",
       "      <td>3-4</td>\n",
       "      <td>NaN</td>\n",
       "      <td>Eligible by 2013 USPSTF guidelines</td>\n",
       "      <td>Former</td>\n",
       "      <td>20.0</td>\n",
       "      <td>3.00</td>\n",
       "      <td>50.0</td>\n",
       "      <td>50.0</td>\n",
       "      <td>Yes</td>\n",
       "      <td>2-3</td>\n",
       "      <td>Other department</td>\n",
       "      <td>90266.0</td>\n",
       "      <td>55415.0</td>\n",
       "      <td>10.0</td>\n",
       "      <td>17.09</td>\n",
       "      <td>Lung Diagnostic Imaging</td>\n",
       "      <td>2570.0</td>\n",
       "      <td>1</td>\n",
       "      <td>0.0</td>\n",
       "      <td>7</td>\n",
       "      <td>124.0</td>\n",
       "      <td>0</td>\n",
       "      <td>[[0.0, 0.0, 0.0, 0.0, 0.0, 0.0, 0.0, 0.0, 0.0,...</td>\n",
       "      <td>[0.16181030876077312, 0.25882490286155957, 0.2...</td>\n",
       "      <td>[0.024149747974363135, 0.0397637904643146, 0.0...</td>\n",
       "      <td>[0.04054368473496949, 0.059859678826124876, 0....</td>\n",
       "      <td>[0.010489318802199903, 0.023877310259186775, 0...</td>\n",
       "      <td>[0.04699133440777334, 0.07499942897841123, 0.1...</td>\n",
       "      <td>[0.04341054660850431, 0.06931846588905181, 0.0...</td>\n",
       "    </tr>\n",
       "    <tr>\n",
       "      <th>424</th>\n",
       "      <td>3792597358</td>\n",
       "      <td>1.3.12.2.1107.5.1.4.64297.30000016093016070344...</td>\n",
       "      <td>/datasets/3792597358/Chest  1.0  B45f</td>\n",
       "      <td>686</td>\n",
       "      <td>2470163127</td>\n",
       "      <td>3792597358</td>\n",
       "      <td>2016-09-30</td>\n",
       "      <td>Chest  1.0  B45f</td>\n",
       "      <td>Adenocarcinoma</td>\n",
       "      <td>NSCLC</td>\n",
       "      <td>0</td>\n",
       "      <td>I-II (early)</td>\n",
       "      <td>NaN</td>\n",
       "      <td>32.0</td>\n",
       "      <td>4A</td>\n",
       "      <td>Female</td>\n",
       "      <td>White</td>\n",
       "      <td>&gt;=65</td>\n",
       "      <td>Medicare/Medicaid</td>\n",
       "      <td>Some college or technical school</td>\n",
       "      <td>3-4</td>\n",
       "      <td>NaN</td>\n",
       "      <td>Eligible by 2013 USPSTF guidelines</td>\n",
       "      <td>Former</td>\n",
       "      <td>20.0</td>\n",
       "      <td>3.00</td>\n",
       "      <td>50.0</td>\n",
       "      <td>50.0</td>\n",
       "      <td>Yes</td>\n",
       "      <td>2-3</td>\n",
       "      <td>Other department</td>\n",
       "      <td>90266.0</td>\n",
       "      <td>55415.0</td>\n",
       "      <td>10.0</td>\n",
       "      <td>17.09</td>\n",
       "      <td>Lung Diagnostic Imaging</td>\n",
       "      <td>2478.0</td>\n",
       "      <td>1</td>\n",
       "      <td>0.0</td>\n",
       "      <td>6</td>\n",
       "      <td>32.0</td>\n",
       "      <td>0</td>\n",
       "      <td>[[0.0, 0.0, 0.0, 0.0, 0.0, 0.0, 0.0, 0.0, 0.0,...</td>\n",
       "      <td>[0.21877109307449866, 0.28831909478968304, 0.3...</td>\n",
       "      <td>[0.061686301686301695, 0.11430125875784403, 0....</td>\n",
       "      <td>[0.05721481086998328, 0.08611164736164736, 0.1...</td>\n",
       "      <td>[0.04905731245968562, 0.0693908226737915, 0.09...</td>\n",
       "      <td>[0.08917640364670372, 0.14538596491228067, 0.1...</td>\n",
       "      <td>[0.11779524713111052, 0.16783944433313297, 0.1...</td>\n",
       "    </tr>\n",
       "    <tr>\n",
       "      <th>183</th>\n",
       "      <td>2056342538</td>\n",
       "      <td>1.3.12.2.1107.5.1.4.60120.30000016092615121555...</td>\n",
       "      <td>/datasets/2056342538/Chest wo  1.0  B45f</td>\n",
       "      <td>279</td>\n",
       "      <td>2469379477</td>\n",
       "      <td>2056342538</td>\n",
       "      <td>2016-09-26</td>\n",
       "      <td>Chest wo  1.0  B45f</td>\n",
       "      <td>NaN</td>\n",
       "      <td>NaN</td>\n",
       "      <td>NaN</td>\n",
       "      <td>NaN</td>\n",
       "      <td>NaN</td>\n",
       "      <td>NaN</td>\n",
       "      <td>NaN</td>\n",
       "      <td>NaN</td>\n",
       "      <td>NaN</td>\n",
       "      <td>NaN</td>\n",
       "      <td>NaN</td>\n",
       "      <td>NaN</td>\n",
       "      <td>NaN</td>\n",
       "      <td>NaN</td>\n",
       "      <td>NaN</td>\n",
       "      <td>NaN</td>\n",
       "      <td>NaN</td>\n",
       "      <td>NaN</td>\n",
       "      <td>NaN</td>\n",
       "      <td>NaN</td>\n",
       "      <td>NaN</td>\n",
       "      <td>NaN</td>\n",
       "      <td>NaN</td>\n",
       "      <td>NaN</td>\n",
       "      <td>NaN</td>\n",
       "      <td>NaN</td>\n",
       "      <td>NaN</td>\n",
       "      <td>NaN</td>\n",
       "      <td>NaN</td>\n",
       "      <td>0</td>\n",
       "      <td>NaN</td>\n",
       "      <td>6</td>\n",
       "      <td>NaN</td>\n",
       "      <td>6</td>\n",
       "      <td>[[0.0, 0.0, 0.0, 0.0, 0.0, 0.0, 0.0, 0.0, 0.0,...</td>\n",
       "      <td>[0.2059775877949567, 0.27054151921513386, 0.30...</td>\n",
       "      <td>[0.21364714360796816, 0.2815120966716995, 0.32...</td>\n",
       "      <td>[0.2042293186554775, 0.32262187577303725, 0.38...</td>\n",
       "      <td>[0.04905731245968562, 0.0693908226737915, 0.08...</td>\n",
       "      <td>[0.06574539021569029, 0.13599999999999998, 0.1...</td>\n",
       "      <td>[0.1347000090358724, 0.20156874039938555, 0.21...</td>\n",
       "    </tr>\n",
       "    <tr>\n",
       "      <th>438</th>\n",
       "      <td>4768377765</td>\n",
       "      <td>1.3.12.2.1107.5.1.4.64297.30000016062316115356...</td>\n",
       "      <td>/datasets/4768377765/Chest  1.0  B45f</td>\n",
       "      <td>4063</td>\n",
       "      <td>2469379477</td>\n",
       "      <td>4768377765</td>\n",
       "      <td>2016-06-23</td>\n",
       "      <td>Chest  1.0  B45f</td>\n",
       "      <td>NaN</td>\n",
       "      <td>NaN</td>\n",
       "      <td>NaN</td>\n",
       "      <td>NaN</td>\n",
       "      <td>NaN</td>\n",
       "      <td>NaN</td>\n",
       "      <td>NaN</td>\n",
       "      <td>NaN</td>\n",
       "      <td>NaN</td>\n",
       "      <td>NaN</td>\n",
       "      <td>NaN</td>\n",
       "      <td>NaN</td>\n",
       "      <td>NaN</td>\n",
       "      <td>NaN</td>\n",
       "      <td>NaN</td>\n",
       "      <td>NaN</td>\n",
       "      <td>NaN</td>\n",
       "      <td>NaN</td>\n",
       "      <td>NaN</td>\n",
       "      <td>NaN</td>\n",
       "      <td>NaN</td>\n",
       "      <td>NaN</td>\n",
       "      <td>NaN</td>\n",
       "      <td>NaN</td>\n",
       "      <td>NaN</td>\n",
       "      <td>NaN</td>\n",
       "      <td>NaN</td>\n",
       "      <td>NaN</td>\n",
       "      <td>NaN</td>\n",
       "      <td>0</td>\n",
       "      <td>NaN</td>\n",
       "      <td>6</td>\n",
       "      <td>NaN</td>\n",
       "      <td>6</td>\n",
       "      <td>[[0.0, 0.0, 0.0, 0.0, 0.0, 0.0, 0.0, 0.0, 0.0,...</td>\n",
       "      <td>[0.014803430051891348, 0.025743208030524028, 0...</td>\n",
       "      <td>[0.007401745617755098, 0.01943424256123729, 0....</td>\n",
       "      <td>[0.010123499886675302, 0.017200582710243863, 0...</td>\n",
       "      <td>[0.0048837980632495, 0.01066372053610772, 0.01...</td>\n",
       "      <td>[0.010185907900890943, 0.02194807082731464, 0....</td>\n",
       "      <td>[0.010938370464701579, 0.02384829677758669, 0....</td>\n",
       "    </tr>\n",
       "    <tr>\n",
       "      <th>361</th>\n",
       "      <td>3098522484</td>\n",
       "      <td>1.3.12.2.1107.5.1.4.60120.30000016050315181888...</td>\n",
       "      <td>/datasets/3098522484/Chest wo  1.0  B45f</td>\n",
       "      <td>3303</td>\n",
       "      <td>2343491512</td>\n",
       "      <td>3098522484</td>\n",
       "      <td>2016-05-03</td>\n",
       "      <td>Chest wo  1.0  B45f</td>\n",
       "      <td>NaN</td>\n",
       "      <td>NaN</td>\n",
       "      <td>NaN</td>\n",
       "      <td>NaN</td>\n",
       "      <td>NaN</td>\n",
       "      <td>NaN</td>\n",
       "      <td>3</td>\n",
       "      <td>Male</td>\n",
       "      <td>White</td>\n",
       "      <td>&lt;65</td>\n",
       "      <td>Private or Commercial</td>\n",
       "      <td>College Graduate</td>\n",
       "      <td>3-4</td>\n",
       "      <td>NaN</td>\n",
       "      <td>Eligible by 2013 USPSTF guidelines</td>\n",
       "      <td>Current</td>\n",
       "      <td>14.0</td>\n",
       "      <td>0.00</td>\n",
       "      <td>30.0</td>\n",
       "      <td>43.0</td>\n",
       "      <td>No</td>\n",
       "      <td>2-3</td>\n",
       "      <td>Other department</td>\n",
       "      <td>90404.0</td>\n",
       "      <td>110854.0</td>\n",
       "      <td>1.0</td>\n",
       "      <td>4.48</td>\n",
       "      <td>Lung Screening LDCT</td>\n",
       "      <td>2341.0</td>\n",
       "      <td>0</td>\n",
       "      <td>NaN</td>\n",
       "      <td>6</td>\n",
       "      <td>2341.0</td>\n",
       "      <td>6</td>\n",
       "      <td>[[0.0, 0.0, 0.0, 0.0, 0.0, 0.0, 0.0, 0.0, 0.0,...</td>\n",
       "      <td>[0.024977851324649542, 0.06370672702705212, 0....</td>\n",
       "      <td>[0.007401745617755098, 0.01578939349874242, 0....</td>\n",
       "      <td>[0.05721481086998328, 0.08429346554346553, 0.1...</td>\n",
       "      <td>[0.010489318802199903, 0.023877310259186775, 0...</td>\n",
       "      <td>[0.01589278041259798, 0.03629576206901757, 0.0...</td>\n",
       "      <td>[0.021628819563619374, 0.03857256315036462, 0....</td>\n",
       "    </tr>\n",
       "    <tr>\n",
       "      <th>25</th>\n",
       "      <td>1134196192</td>\n",
       "      <td>1.3.12.2.1107.5.1.4.60120.30000016111815222417...</td>\n",
       "      <td>/datasets/1134196192/Chest wo  1.0  B45f</td>\n",
       "      <td>4465</td>\n",
       "      <td>2343491512</td>\n",
       "      <td>1134196192</td>\n",
       "      <td>2016-11-18</td>\n",
       "      <td>Chest wo  1.0  B45f</td>\n",
       "      <td>NaN</td>\n",
       "      <td>NaN</td>\n",
       "      <td>NaN</td>\n",
       "      <td>NaN</td>\n",
       "      <td>NaN</td>\n",
       "      <td>NaN</td>\n",
       "      <td>3</td>\n",
       "      <td>Male</td>\n",
       "      <td>White</td>\n",
       "      <td>&lt;65</td>\n",
       "      <td>Private or Commercial</td>\n",
       "      <td>College Graduate</td>\n",
       "      <td>3-4</td>\n",
       "      <td>NaN</td>\n",
       "      <td>Eligible by 2013 USPSTF guidelines</td>\n",
       "      <td>Current</td>\n",
       "      <td>14.0</td>\n",
       "      <td>0.00</td>\n",
       "      <td>30.0</td>\n",
       "      <td>43.0</td>\n",
       "      <td>No</td>\n",
       "      <td>2-3</td>\n",
       "      <td>Other department</td>\n",
       "      <td>90404.0</td>\n",
       "      <td>110854.0</td>\n",
       "      <td>1.0</td>\n",
       "      <td>4.48</td>\n",
       "      <td>Lung Screening LDCT</td>\n",
       "      <td>2142.0</td>\n",
       "      <td>0</td>\n",
       "      <td>NaN</td>\n",
       "      <td>5</td>\n",
       "      <td>2142.0</td>\n",
       "      <td>5</td>\n",
       "      <td>[[0.0, 0.0, 0.0, 0.0, 0.0, 0.0, 0.0, 0.0, 0.0,...</td>\n",
       "      <td>[0.00876742358952614, 0.01787919298309045, 0.0...</td>\n",
       "      <td>[0.003167443298374507, 0.011123455932676721, 0...</td>\n",
       "      <td>[0.0065063051056874184, 0.015601745500941538, ...</td>\n",
       "      <td>[0.0030404800908992702, 0.010096545775384573, ...</td>\n",
       "      <td>[0.013722923177036656, 0.03525246525107287, 0....</td>\n",
       "      <td>[0.007145048736580039, 0.01567411799742145, 0....</td>\n",
       "    </tr>\n",
       "    <tr>\n",
       "      <th>60</th>\n",
       "      <td>1360036383</td>\n",
       "      <td>1.3.12.2.1107.5.1.4.64297.30000016051115590071...</td>\n",
       "      <td>/datasets/1360036383/Chest  1.0  B45f</td>\n",
       "      <td>814</td>\n",
       "      <td>2097638295</td>\n",
       "      <td>1360036383</td>\n",
       "      <td>2016-05-11</td>\n",
       "      <td>Chest  1.0  B45f</td>\n",
       "      <td>NaN</td>\n",
       "      <td>NaN</td>\n",
       "      <td>NaN</td>\n",
       "      <td>NaN</td>\n",
       "      <td>NaN</td>\n",
       "      <td>NaN</td>\n",
       "      <td>4A</td>\n",
       "      <td>Male</td>\n",
       "      <td>White</td>\n",
       "      <td>&gt;=65</td>\n",
       "      <td>Medicare/Medicaid</td>\n",
       "      <td>Some college or technical school</td>\n",
       "      <td>3-4</td>\n",
       "      <td>NaN</td>\n",
       "      <td>Ineligible: pack-years&lt;30 &amp; years since quit&gt;1...</td>\n",
       "      <td>Former</td>\n",
       "      <td>20.0</td>\n",
       "      <td>31.00</td>\n",
       "      <td>17.0</td>\n",
       "      <td>17.0</td>\n",
       "      <td>No</td>\n",
       "      <td>2-3</td>\n",
       "      <td>Other department</td>\n",
       "      <td>90266.0</td>\n",
       "      <td>87308.0</td>\n",
       "      <td>1.0</td>\n",
       "      <td>4.73</td>\n",
       "      <td>Lung Screening LDCT</td>\n",
       "      <td>2165.0</td>\n",
       "      <td>0</td>\n",
       "      <td>NaN</td>\n",
       "      <td>5</td>\n",
       "      <td>2165.0</td>\n",
       "      <td>5</td>\n",
       "      <td>[[0.0, 0.0, 0.0, 0.0, 0.0, 0.0, 0.0, 0.0, 0.0,...</td>\n",
       "      <td>[0.00024783147459727387, 0.0018443903490632462...</td>\n",
       "      <td>[0.0, 0.0005899705014749262, 0.002814979876759...</td>\n",
       "      <td>[0.0002958579881656805, 0.00211893983897163, 0...</td>\n",
       "      <td>[0.0, 0.0015055175432533924, 0.007472889985015...</td>\n",
       "      <td>[0.0, 0.0013167013167013166, 0.006009722211571...</td>\n",
       "      <td>[0.0, 0.0015740740740740743, 0.002951348726509...</td>\n",
       "    </tr>\n",
       "    <tr>\n",
       "      <th>360</th>\n",
       "      <td>3098443910</td>\n",
       "      <td>1.3.12.2.1107.5.1.4.64297.30000016100716240925...</td>\n",
       "      <td>/datasets/3098443910/Chest  1.0  B45f</td>\n",
       "      <td>2328</td>\n",
       "      <td>2097638295</td>\n",
       "      <td>3098443910</td>\n",
       "      <td>2016-10-07</td>\n",
       "      <td>Chest  1.0  B45f</td>\n",
       "      <td>NaN</td>\n",
       "      <td>NaN</td>\n",
       "      <td>NaN</td>\n",
       "      <td>NaN</td>\n",
       "      <td>NaN</td>\n",
       "      <td>NaN</td>\n",
       "      <td>4A</td>\n",
       "      <td>Male</td>\n",
       "      <td>White</td>\n",
       "      <td>&gt;=65</td>\n",
       "      <td>Medicare/Medicaid</td>\n",
       "      <td>Some college or technical school</td>\n",
       "      <td>3-4</td>\n",
       "      <td>NaN</td>\n",
       "      <td>Ineligible: pack-years&lt;30 &amp; years since quit&gt;1...</td>\n",
       "      <td>Former</td>\n",
       "      <td>20.0</td>\n",
       "      <td>31.00</td>\n",
       "      <td>17.0</td>\n",
       "      <td>17.0</td>\n",
       "      <td>No</td>\n",
       "      <td>2-3</td>\n",
       "      <td>Other department</td>\n",
       "      <td>90266.0</td>\n",
       "      <td>87308.0</td>\n",
       "      <td>1.0</td>\n",
       "      <td>4.73</td>\n",
       "      <td>Lung Screening LDCT</td>\n",
       "      <td>2016.0</td>\n",
       "      <td>0</td>\n",
       "      <td>NaN</td>\n",
       "      <td>5</td>\n",
       "      <td>2016.0</td>\n",
       "      <td>5</td>\n",
       "      <td>[[0.0, 0.0, 0.0, 0.0, 0.0, 0.0, 0.0, 0.0, 0.0,...</td>\n",
       "      <td>[0.00024783147459727387, 0.0018443903490632462...</td>\n",
       "      <td>[0.0, 0.0017629910293341638, 0.005242449030307...</td>\n",
       "      <td>[0.0, 0.0, 0.0, 0.0, 0.0, 0.0]</td>\n",
       "      <td>[0.002213790176909282, 0.009741252045447527, 0...</td>\n",
       "      <td>[0.003391257415926386, 0.009784349687796911, 0...</td>\n",
       "      <td>[0.0011701163019909324, 0.002554438672368111, ...</td>\n",
       "    </tr>\n",
       "    <tr>\n",
       "      <th>329</th>\n",
       "      <td>2966483744</td>\n",
       "      <td>1.3.12.2.1107.5.1.4.66859.30050016021915055931...</td>\n",
       "      <td>/datasets/2966483744/Chest  1.0  B45f</td>\n",
       "      <td>2546</td>\n",
       "      <td>1827086933</td>\n",
       "      <td>2966483744</td>\n",
       "      <td>2016-02-19</td>\n",
       "      <td>Chest  1.0  B45f</td>\n",
       "      <td>NaN</td>\n",
       "      <td>NaN</td>\n",
       "      <td>NaN</td>\n",
       "      <td>NaN</td>\n",
       "      <td>NaN</td>\n",
       "      <td>NaN</td>\n",
       "      <td>4A</td>\n",
       "      <td>Female</td>\n",
       "      <td>White</td>\n",
       "      <td>&lt;65</td>\n",
       "      <td>Other</td>\n",
       "      <td>College Graduate</td>\n",
       "      <td>3-4</td>\n",
       "      <td>NaN</td>\n",
       "      <td>Eligible by 2013 USPSTF guidelines</td>\n",
       "      <td>Current</td>\n",
       "      <td>20.0</td>\n",
       "      <td>0.00</td>\n",
       "      <td>40.0</td>\n",
       "      <td>40.0</td>\n",
       "      <td>No</td>\n",
       "      <td>2-3</td>\n",
       "      <td>Other department</td>\n",
       "      <td>90095.0</td>\n",
       "      <td>66744.0</td>\n",
       "      <td>3.0</td>\n",
       "      <td>4.95</td>\n",
       "      <td>Lung Screening LDCT</td>\n",
       "      <td>139.0</td>\n",
       "      <td>0</td>\n",
       "      <td>NaN</td>\n",
       "      <td>0</td>\n",
       "      <td>139.0</td>\n",
       "      <td>0</td>\n",
       "      <td>[[0.0, 0.0, 0.0, 0.0, 0.0, 0.0, 0.0, 0.0, 0.0,...</td>\n",
       "      <td>[0.08900949268596328, 0.13877252693191972, 0.1...</td>\n",
       "      <td>[0.16934291521465886, 0.23476486754083506, 0.2...</td>\n",
       "      <td>[0.08898724264241506, 0.13120495495495493, 0.1...</td>\n",
       "      <td>[0.04905731245968562, 0.10909247757073844, 0.1...</td>\n",
       "      <td>[0.061784037558685445, 0.12065703474372205, 0....</td>\n",
       "      <td>[0.11779524713111052, 0.16783944433313297, 0.1...</td>\n",
       "    </tr>\n",
       "    <tr>\n",
       "      <th>627</th>\n",
       "      <td>2188479454</td>\n",
       "      <td>1.3.12.2.1107.5.1.4.75487.30000016070714192493...</td>\n",
       "      <td>/datasets/2188479454/Lung Low Dose  1.0  Br49</td>\n",
       "      <td>1558</td>\n",
       "      <td>1827086933</td>\n",
       "      <td>2188479454</td>\n",
       "      <td>2016-07-07</td>\n",
       "      <td>Lung Low Dose  1.0  Br49</td>\n",
       "      <td>NaN</td>\n",
       "      <td>NaN</td>\n",
       "      <td>NaN</td>\n",
       "      <td>NaN</td>\n",
       "      <td>NaN</td>\n",
       "      <td>NaN</td>\n",
       "      <td>4A</td>\n",
       "      <td>Female</td>\n",
       "      <td>White</td>\n",
       "      <td>&lt;65</td>\n",
       "      <td>Other</td>\n",
       "      <td>College Graduate</td>\n",
       "      <td>3-4</td>\n",
       "      <td>NaN</td>\n",
       "      <td>Eligible by 2013 USPSTF guidelines</td>\n",
       "      <td>Current</td>\n",
       "      <td>20.0</td>\n",
       "      <td>0.00</td>\n",
       "      <td>40.0</td>\n",
       "      <td>40.0</td>\n",
       "      <td>No</td>\n",
       "      <td>2-3</td>\n",
       "      <td>Other department</td>\n",
       "      <td>90095.0</td>\n",
       "      <td>66744.0</td>\n",
       "      <td>3.0</td>\n",
       "      <td>4.95</td>\n",
       "      <td>Lung Screening LDCT</td>\n",
       "      <td>0.0</td>\n",
       "      <td>0</td>\n",
       "      <td>NaN</td>\n",
       "      <td>0</td>\n",
       "      <td>0.0</td>\n",
       "      <td>0</td>\n",
       "      <td>[[0.0, 0.0, 0.0, 0.0, 0.0, 0.0, 0.0, 0.0, 0.0,...</td>\n",
       "      <td>[0.1488691322901849, 0.19326993994595681, 0.21...</td>\n",
       "      <td>[0.2229369876879196, 0.294754522287761, 0.3441...</td>\n",
       "      <td>[0.1529039452771704, 0.18384920634920632, 0.21...</td>\n",
       "      <td>[0.15634953481245256, 0.2250283446712018, 0.22...</td>\n",
       "      <td>[0.19874624097130492, 0.2283667711598746, 0.24...</td>\n",
       "      <td>[0.19086834733893557, 0.2734935897435897, 0.28...</td>\n",
       "    </tr>\n",
       "    <tr>\n",
       "      <th>104</th>\n",
       "      <td>1686967637</td>\n",
       "      <td>1.3.12.2.1107.5.1.4.54023.30000016041815384571...</td>\n",
       "      <td>/datasets/1686967637/A Chest   1.0  B45f</td>\n",
       "      <td>455</td>\n",
       "      <td>1732283945</td>\n",
       "      <td>1686967637</td>\n",
       "      <td>2016-04-18</td>\n",
       "      <td>A Chest   1.0  B45f</td>\n",
       "      <td>NaN</td>\n",
       "      <td>NaN</td>\n",
       "      <td>NaN</td>\n",
       "      <td>NaN</td>\n",
       "      <td>NaN</td>\n",
       "      <td>NaN</td>\n",
       "      <td>2</td>\n",
       "      <td>Male</td>\n",
       "      <td>White</td>\n",
       "      <td>&gt;=65</td>\n",
       "      <td>Medicare/Medicaid</td>\n",
       "      <td>Some college or technical school</td>\n",
       "      <td>1-2</td>\n",
       "      <td>NaN</td>\n",
       "      <td>Eligible by 2013 USPSTF guidelines</td>\n",
       "      <td>Former</td>\n",
       "      <td>20.0</td>\n",
       "      <td>11.00</td>\n",
       "      <td>55.0</td>\n",
       "      <td>55.0</td>\n",
       "      <td>Yes</td>\n",
       "      <td>&gt;=4</td>\n",
       "      <td>Other department</td>\n",
       "      <td>90095.0</td>\n",
       "      <td>NaN</td>\n",
       "      <td>3.0</td>\n",
       "      <td>NaN</td>\n",
       "      <td>Lung Diagnostic Imaging</td>\n",
       "      <td>323.0</td>\n",
       "      <td>0</td>\n",
       "      <td>NaN</td>\n",
       "      <td>0</td>\n",
       "      <td>323.0</td>\n",
       "      <td>0</td>\n",
       "      <td>[[0.0, 0.0, 0.0, 0.0, 0.0, 0.0, 0.0, 0.0, 0.0,...</td>\n",
       "      <td>[0.0005993253234549188, 0.003348511228184125, ...</td>\n",
       "      <td>[0.002747925540147072, 0.008246862026556234, 0...</td>\n",
       "      <td>[0.0006226553737865955, 0.003640400210403906, ...</td>\n",
       "      <td>[0.0, 0.0015055175432533924, 0.007472889985015...</td>\n",
       "      <td>[0.0018241603253739177, 0.006418154872067668, ...</td>\n",
       "      <td>[0.0011701163019909324, 0.0038702281460523216,...</td>\n",
       "    </tr>\n",
       "    <tr>\n",
       "      <th>455</th>\n",
       "      <td>5833683534</td>\n",
       "      <td>1.3.12.2.1107.5.1.4.54023.30000016100615304896...</td>\n",
       "      <td>/datasets/5833683534/A Chest   1.0  B45f</td>\n",
       "      <td>3652</td>\n",
       "      <td>1732283945</td>\n",
       "      <td>5833683534</td>\n",
       "      <td>2016-10-06</td>\n",
       "      <td>A Chest   1.0  B45f</td>\n",
       "      <td>NaN</td>\n",
       "      <td>NaN</td>\n",
       "      <td>NaN</td>\n",
       "      <td>NaN</td>\n",
       "      <td>NaN</td>\n",
       "      <td>NaN</td>\n",
       "      <td>2</td>\n",
       "      <td>Male</td>\n",
       "      <td>White</td>\n",
       "      <td>&gt;=65</td>\n",
       "      <td>Medicare/Medicaid</td>\n",
       "      <td>Some college or technical school</td>\n",
       "      <td>1-2</td>\n",
       "      <td>NaN</td>\n",
       "      <td>Eligible by 2013 USPSTF guidelines</td>\n",
       "      <td>Former</td>\n",
       "      <td>20.0</td>\n",
       "      <td>11.00</td>\n",
       "      <td>55.0</td>\n",
       "      <td>55.0</td>\n",
       "      <td>Yes</td>\n",
       "      <td>&gt;=4</td>\n",
       "      <td>Other department</td>\n",
       "      <td>90095.0</td>\n",
       "      <td>NaN</td>\n",
       "      <td>3.0</td>\n",
       "      <td>NaN</td>\n",
       "      <td>Lung Diagnostic Imaging</td>\n",
       "      <td>152.0</td>\n",
       "      <td>0</td>\n",
       "      <td>NaN</td>\n",
       "      <td>0</td>\n",
       "      <td>152.0</td>\n",
       "      <td>0</td>\n",
       "      <td>[[0.0, 0.0, 0.0, 0.0, 0.0, 0.0, 0.0, 0.0, 0.0,...</td>\n",
       "      <td>[0.00024783147459727387, 0.0018443903490632462...</td>\n",
       "      <td>[0.0, 0.0005899705014749262, 0.002814979876759...</td>\n",
       "      <td>[0.0002958579881656805, 0.00211893983897163, 0...</td>\n",
       "      <td>[0.0, 0.0004273504273504274, 0.002230460302749...</td>\n",
       "      <td>[0.002639377716678266, 0.006418154872067668, 0...</td>\n",
       "      <td>[0.00042105263157894734, 0.0020480077233631737...</td>\n",
       "    </tr>\n",
       "    <tr>\n",
       "      <th>94</th>\n",
       "      <td>1643827876</td>\n",
       "      <td>1.3.12.2.1107.5.1.4.60120.30000016060615162315...</td>\n",
       "      <td>/datasets/1643827876/Chest wo  1.0  B45f</td>\n",
       "      <td>3612</td>\n",
       "      <td>1731633320</td>\n",
       "      <td>1643827876</td>\n",
       "      <td>2016-06-06</td>\n",
       "      <td>Chest wo  1.0  B45f</td>\n",
       "      <td>NaN</td>\n",
       "      <td>NaN</td>\n",
       "      <td>NaN</td>\n",
       "      <td>NaN</td>\n",
       "      <td>NaN</td>\n",
       "      <td>NaN</td>\n",
       "      <td>4A</td>\n",
       "      <td>Female</td>\n",
       "      <td>White</td>\n",
       "      <td>&gt;=65</td>\n",
       "      <td>Medicare/Medicaid</td>\n",
       "      <td>College Graduate</td>\n",
       "      <td>3-4</td>\n",
       "      <td>NaN</td>\n",
       "      <td>Ineligible: pack-years&lt;30 &amp; years since quit&gt;1...</td>\n",
       "      <td>Former</td>\n",
       "      <td>20.0</td>\n",
       "      <td>36.00</td>\n",
       "      <td>10.0</td>\n",
       "      <td>10.0</td>\n",
       "      <td>No</td>\n",
       "      <td>2-3</td>\n",
       "      <td>Other department</td>\n",
       "      <td>90404.0</td>\n",
       "      <td>66744.0</td>\n",
       "      <td>4.0</td>\n",
       "      <td>3.09</td>\n",
       "      <td>Lung Screening LDCT</td>\n",
       "      <td>178.0</td>\n",
       "      <td>0</td>\n",
       "      <td>NaN</td>\n",
       "      <td>0</td>\n",
       "      <td>178.0</td>\n",
       "      <td>0</td>\n",
       "      <td>[[0.0, 0.0, 0.0, 0.0, 0.0, 0.0, 0.0, 0.0, 0.0,...</td>\n",
       "      <td>[0.002614143679095454, 0.006778430365650433, 0...</td>\n",
       "      <td>[0.003167443298374507, 0.00945461801592798, 0....</td>\n",
       "      <td>[0.0006226553737865955, 0.003640400210403906, ...</td>\n",
       "      <td>[0.002791824858990207, 0.009865956692336473, 0...</td>\n",
       "      <td>[0.002639377716678266, 0.009784349687796911, 0...</td>\n",
       "      <td>[0.0017836132345062697, 0.005733155166957225, ...</td>\n",
       "    </tr>\n",
       "    <tr>\n",
       "      <th>591</th>\n",
       "      <td>3381242934</td>\n",
       "      <td>1.3.12.2.1107.5.1.4.51964.30000016120115241645...</td>\n",
       "      <td>/datasets/3381242934/Chest low dose  1.0  B46f</td>\n",
       "      <td>4548</td>\n",
       "      <td>1731633320</td>\n",
       "      <td>3381242934</td>\n",
       "      <td>2016-12-01</td>\n",
       "      <td>Chest low dose  1.0  B46f</td>\n",
       "      <td>NaN</td>\n",
       "      <td>NaN</td>\n",
       "      <td>NaN</td>\n",
       "      <td>NaN</td>\n",
       "      <td>NaN</td>\n",
       "      <td>NaN</td>\n",
       "      <td>4A</td>\n",
       "      <td>Female</td>\n",
       "      <td>White</td>\n",
       "      <td>&gt;=65</td>\n",
       "      <td>Medicare/Medicaid</td>\n",
       "      <td>College Graduate</td>\n",
       "      <td>3-4</td>\n",
       "      <td>NaN</td>\n",
       "      <td>Ineligible: pack-years&lt;30 &amp; years since quit&gt;1...</td>\n",
       "      <td>Former</td>\n",
       "      <td>20.0</td>\n",
       "      <td>36.00</td>\n",
       "      <td>10.0</td>\n",
       "      <td>10.0</td>\n",
       "      <td>No</td>\n",
       "      <td>2-3</td>\n",
       "      <td>Other department</td>\n",
       "      <td>90404.0</td>\n",
       "      <td>66744.0</td>\n",
       "      <td>4.0</td>\n",
       "      <td>3.09</td>\n",
       "      <td>Lung Screening LDCT</td>\n",
       "      <td>0.0</td>\n",
       "      <td>0</td>\n",
       "      <td>NaN</td>\n",
       "      <td>0</td>\n",
       "      <td>0.0</td>\n",
       "      <td>0</td>\n",
       "      <td>[[0.0, 0.0, 0.0, 0.0, 0.0, 0.0, 0.0, 0.0, 0.0,...</td>\n",
       "      <td>[0.0005993253234549188, 0.003348511228184125, ...</td>\n",
       "      <td>[0.0021648351611383253, 0.008246862026556234, ...</td>\n",
       "      <td>[0.0002958579881656805, 0.00211893983897163, 0...</td>\n",
       "      <td>[0.0008275862068965517, 0.002675108186528246, ...</td>\n",
       "      <td>[0.0014358108108108109, 0.004088219803957519, ...</td>\n",
       "      <td>[0.0011701163019909324, 0.002554438672368111, ...</td>\n",
       "    </tr>\n",
       "    <tr>\n",
       "      <th>532</th>\n",
       "      <td>1100567667</td>\n",
       "      <td>1.3.12.2.1107.5.1.4.51964.30000016012116082767...</td>\n",
       "      <td>/datasets/1100567667/Chest low dose  1.0  B50f</td>\n",
       "      <td>898</td>\n",
       "      <td>1725698813</td>\n",
       "      <td>1100567667</td>\n",
       "      <td>2016-01-21</td>\n",
       "      <td>Chest low dose  1.0  B50f</td>\n",
       "      <td>NaN</td>\n",
       "      <td>NaN</td>\n",
       "      <td>NaN</td>\n",
       "      <td>NaN</td>\n",
       "      <td>NaN</td>\n",
       "      <td>NaN</td>\n",
       "      <td>2</td>\n",
       "      <td>Male</td>\n",
       "      <td>White</td>\n",
       "      <td>&gt;=65</td>\n",
       "      <td>Medicare/Medicaid</td>\n",
       "      <td>College Graduate</td>\n",
       "      <td>1-2</td>\n",
       "      <td>NaN</td>\n",
       "      <td>Unable to determine: missing data</td>\n",
       "      <td>Former</td>\n",
       "      <td>30.0</td>\n",
       "      <td>26.00</td>\n",
       "      <td>NaN</td>\n",
       "      <td>NaN</td>\n",
       "      <td>No</td>\n",
       "      <td>2-3</td>\n",
       "      <td>Other department</td>\n",
       "      <td>90404.0</td>\n",
       "      <td>59329.0</td>\n",
       "      <td>NaN</td>\n",
       "      <td>19.04</td>\n",
       "      <td>Lung Screening LDCT</td>\n",
       "      <td>153.0</td>\n",
       "      <td>0</td>\n",
       "      <td>NaN</td>\n",
       "      <td>0</td>\n",
       "      <td>153.0</td>\n",
       "      <td>0</td>\n",
       "      <td>[[0.0, 0.0, 0.0, 0.0, 0.0, 0.0, 0.0, 0.0, 0.0,...</td>\n",
       "      <td>[0.0005993253234549188, 0.003348511228184125, ...</td>\n",
       "      <td>[0.0021648351611383253, 0.008246862026556234, ...</td>\n",
       "      <td>[0.0006226553737865955, 0.005290044597760708, ...</td>\n",
       "      <td>[0.0, 0.0015055175432533924, 0.007472889985015...</td>\n",
       "      <td>[0.002639377716678266, 0.007722677216193972, 0...</td>\n",
       "      <td>[0.0017836132345062697, 0.005281162890320399, ...</td>\n",
       "    </tr>\n",
       "    <tr>\n",
       "      <th>475</th>\n",
       "      <td>6943764071</td>\n",
       "      <td>1.3.12.2.1107.5.1.4.66859.30050016062215250684...</td>\n",
       "      <td>/datasets/6943764071/Chest  1.0  B45f</td>\n",
       "      <td>3656</td>\n",
       "      <td>1725698813</td>\n",
       "      <td>6943764071</td>\n",
       "      <td>2016-06-22</td>\n",
       "      <td>Chest  1.0  B45f</td>\n",
       "      <td>NaN</td>\n",
       "      <td>NaN</td>\n",
       "      <td>NaN</td>\n",
       "      <td>NaN</td>\n",
       "      <td>NaN</td>\n",
       "      <td>NaN</td>\n",
       "      <td>2</td>\n",
       "      <td>Male</td>\n",
       "      <td>White</td>\n",
       "      <td>&gt;=65</td>\n",
       "      <td>Medicare/Medicaid</td>\n",
       "      <td>College Graduate</td>\n",
       "      <td>1-2</td>\n",
       "      <td>NaN</td>\n",
       "      <td>Unable to determine: missing data</td>\n",
       "      <td>Former</td>\n",
       "      <td>30.0</td>\n",
       "      <td>26.00</td>\n",
       "      <td>NaN</td>\n",
       "      <td>NaN</td>\n",
       "      <td>No</td>\n",
       "      <td>2-3</td>\n",
       "      <td>Other department</td>\n",
       "      <td>90404.0</td>\n",
       "      <td>59329.0</td>\n",
       "      <td>NaN</td>\n",
       "      <td>19.04</td>\n",
       "      <td>Lung Screening LDCT</td>\n",
       "      <td>0.0</td>\n",
       "      <td>0</td>\n",
       "      <td>NaN</td>\n",
       "      <td>0</td>\n",
       "      <td>0.0</td>\n",
       "      <td>0</td>\n",
       "      <td>[[0.0, 0.0, 0.0, 0.0, 0.0, 0.0, 0.0, 0.0, 0.0,...</td>\n",
       "      <td>[0.002614143679095454, 0.012768073747244868, 0...</td>\n",
       "      <td>[0.005742515277543164, 0.01578939349874242, 0....</td>\n",
       "      <td>[0.0060896384390207526, 0.014946661041082887, ...</td>\n",
       "      <td>[0.002791824858990207, 0.009865956692336473, 0...</td>\n",
       "      <td>[0.003391257415926386, 0.015639796644281157, 0...</td>\n",
       "      <td>[0.002191516327167115, 0.011458655748540176, 0...</td>\n",
       "    </tr>\n",
       "    <tr>\n",
       "      <th>321</th>\n",
       "      <td>2933819605</td>\n",
       "      <td>1.3.12.2.1107.5.1.4.64297.30000016011216054091...</td>\n",
       "      <td>/datasets/2933819605/Chest  1.0  B45f</td>\n",
       "      <td>2960</td>\n",
       "      <td>1685870225</td>\n",
       "      <td>2933819605</td>\n",
       "      <td>2016-01-12</td>\n",
       "      <td>Chest  1.0  B45f</td>\n",
       "      <td>NaN</td>\n",
       "      <td>NaN</td>\n",
       "      <td>NaN</td>\n",
       "      <td>NaN</td>\n",
       "      <td>NaN</td>\n",
       "      <td>NaN</td>\n",
       "      <td>NaN</td>\n",
       "      <td>NaN</td>\n",
       "      <td>NaN</td>\n",
       "      <td>NaN</td>\n",
       "      <td>NaN</td>\n",
       "      <td>NaN</td>\n",
       "      <td>NaN</td>\n",
       "      <td>NaN</td>\n",
       "      <td>NaN</td>\n",
       "      <td>NaN</td>\n",
       "      <td>NaN</td>\n",
       "      <td>NaN</td>\n",
       "      <td>NaN</td>\n",
       "      <td>NaN</td>\n",
       "      <td>NaN</td>\n",
       "      <td>NaN</td>\n",
       "      <td>NaN</td>\n",
       "      <td>NaN</td>\n",
       "      <td>NaN</td>\n",
       "      <td>NaN</td>\n",
       "      <td>NaN</td>\n",
       "      <td>Lung Non-Screening LDCT</td>\n",
       "      <td>2304.0</td>\n",
       "      <td>0</td>\n",
       "      <td>NaN</td>\n",
       "      <td>6</td>\n",
       "      <td>2304.0</td>\n",
       "      <td>6</td>\n",
       "      <td>[[0.0, 0.0, 0.0, 0.0, 0.0, 0.0, 0.0, 0.0, 0.0,...</td>\n",
       "      <td>[0.011891088336936041, 0.025743208030524028, 0...</td>\n",
       "      <td>[0.007401745617755098, 0.01943424256123729, 0....</td>\n",
       "      <td>[0.024214780203470454, 0.04301444073088678, 0....</td>\n",
       "      <td>[0.002791824858990207, 0.009865956692336473, 0...</td>\n",
       "      <td>[0.010185907900890943, 0.019207990396578226, 0...</td>\n",
       "      <td>[0.010900917281180979, 0.02384829677758669, 0....</td>\n",
       "    </tr>\n",
       "    <tr>\n",
       "      <th>240</th>\n",
       "      <td>2431530488</td>\n",
       "      <td>1.3.12.2.1107.5.1.4.64297.30000016061616254260...</td>\n",
       "      <td>/datasets/2431530488/Chest  1.0  B45f</td>\n",
       "      <td>5355</td>\n",
       "      <td>1685870225</td>\n",
       "      <td>2431530488</td>\n",
       "      <td>2016-06-16</td>\n",
       "      <td>Chest  1.0  B45f</td>\n",
       "      <td>NaN</td>\n",
       "      <td>NaN</td>\n",
       "      <td>NaN</td>\n",
       "      <td>NaN</td>\n",
       "      <td>NaN</td>\n",
       "      <td>NaN</td>\n",
       "      <td>NaN</td>\n",
       "      <td>NaN</td>\n",
       "      <td>NaN</td>\n",
       "      <td>NaN</td>\n",
       "      <td>NaN</td>\n",
       "      <td>NaN</td>\n",
       "      <td>NaN</td>\n",
       "      <td>NaN</td>\n",
       "      <td>NaN</td>\n",
       "      <td>NaN</td>\n",
       "      <td>NaN</td>\n",
       "      <td>NaN</td>\n",
       "      <td>NaN</td>\n",
       "      <td>NaN</td>\n",
       "      <td>NaN</td>\n",
       "      <td>NaN</td>\n",
       "      <td>NaN</td>\n",
       "      <td>NaN</td>\n",
       "      <td>NaN</td>\n",
       "      <td>NaN</td>\n",
       "      <td>NaN</td>\n",
       "      <td>Lung Non-Screening LDCT</td>\n",
       "      <td>2148.0</td>\n",
       "      <td>0</td>\n",
       "      <td>NaN</td>\n",
       "      <td>5</td>\n",
       "      <td>2148.0</td>\n",
       "      <td>5</td>\n",
       "      <td>[[0.0, 0.0, 0.0, 0.0, 0.0, 0.0, 0.0, 0.0, 0.0,...</td>\n",
       "      <td>[0.005670641576314818, 0.016728911619303625, 0...</td>\n",
       "      <td>[0.005742515277543164, 0.01578939349874242, 0....</td>\n",
       "      <td>[0.04054368473496949, 0.05800782697427302, 0.0...</td>\n",
       "      <td>[0.005838330430977005, 0.01379944977048499, 0....</td>\n",
       "      <td>[0.0037604836589390364, 0.017633108558254014, ...</td>\n",
       "      <td>[0.010900917281180979, 0.02384829677758669, 0....</td>\n",
       "    </tr>\n",
       "    <tr>\n",
       "      <th>142</th>\n",
       "      <td>1888595497</td>\n",
       "      <td>1.3.12.2.1107.5.1.4.64297.30000016040116092750...</td>\n",
       "      <td>/datasets/1888595497/Chest  1.0  B45f</td>\n",
       "      <td>2541</td>\n",
       "      <td>1592101850</td>\n",
       "      <td>1888595497</td>\n",
       "      <td>2016-04-01</td>\n",
       "      <td>Chest  1.0  B45f</td>\n",
       "      <td>NaN</td>\n",
       "      <td>NaN</td>\n",
       "      <td>NaN</td>\n",
       "      <td>NaN</td>\n",
       "      <td>NaN</td>\n",
       "      <td>NaN</td>\n",
       "      <td>2</td>\n",
       "      <td>Male</td>\n",
       "      <td>White</td>\n",
       "      <td>&gt;=65</td>\n",
       "      <td>Medicare/Medicaid</td>\n",
       "      <td>Some college or technical school</td>\n",
       "      <td>1-2</td>\n",
       "      <td>NaN</td>\n",
       "      <td>Eligible by 2013 USPSTF guidelines</td>\n",
       "      <td>Former</td>\n",
       "      <td>40.0</td>\n",
       "      <td>4.00</td>\n",
       "      <td>90.0</td>\n",
       "      <td>45.0</td>\n",
       "      <td>No</td>\n",
       "      <td>2-3</td>\n",
       "      <td>Other department</td>\n",
       "      <td>90266.0</td>\n",
       "      <td>55138.0</td>\n",
       "      <td>NaN</td>\n",
       "      <td>6.62</td>\n",
       "      <td>Lung Diagnostic Imaging</td>\n",
       "      <td>410.0</td>\n",
       "      <td>0</td>\n",
       "      <td>NaN</td>\n",
       "      <td>1</td>\n",
       "      <td>410.0</td>\n",
       "      <td>1</td>\n",
       "      <td>[[0.0, 0.0, 0.0, 0.0, 0.0, 0.0, 0.0, 0.0, 0.0,...</td>\n",
       "      <td>[0.04766051775731597, 0.07865623535891339, 0.1...</td>\n",
       "      <td>[0.01823439866278741, 0.02963307151006624, 0.0...</td>\n",
       "      <td>[0.02598614704277985, 0.05198900535432231, 0.0...</td>\n",
       "      <td>[0.06524778865016181, 0.13212092768400757, 0.1...</td>\n",
       "      <td>[0.061784037558685445, 0.09765983586417024, 0....</td>\n",
       "      <td>[0.03388673708469479, 0.0667378207277615, 0.09...</td>\n",
       "    </tr>\n",
       "    <tr>\n",
       "      <th>115</th>\n",
       "      <td>1765945264</td>\n",
       "      <td>1.3.12.2.1107.5.1.4.64297.30000016100615481865...</td>\n",
       "      <td>/datasets/1765945264/Chest  1.0  B45f</td>\n",
       "      <td>886</td>\n",
       "      <td>1592101850</td>\n",
       "      <td>1765945264</td>\n",
       "      <td>2016-10-06</td>\n",
       "      <td>Chest  1.0  B45f</td>\n",
       "      <td>NaN</td>\n",
       "      <td>NaN</td>\n",
       "      <td>NaN</td>\n",
       "      <td>NaN</td>\n",
       "      <td>NaN</td>\n",
       "      <td>NaN</td>\n",
       "      <td>2</td>\n",
       "      <td>Male</td>\n",
       "      <td>White</td>\n",
       "      <td>&gt;=65</td>\n",
       "      <td>Medicare/Medicaid</td>\n",
       "      <td>Some college or technical school</td>\n",
       "      <td>1-2</td>\n",
       "      <td>NaN</td>\n",
       "      <td>Eligible by 2013 USPSTF guidelines</td>\n",
       "      <td>Former</td>\n",
       "      <td>40.0</td>\n",
       "      <td>4.00</td>\n",
       "      <td>90.0</td>\n",
       "      <td>45.0</td>\n",
       "      <td>No</td>\n",
       "      <td>2-3</td>\n",
       "      <td>Other department</td>\n",
       "      <td>90266.0</td>\n",
       "      <td>55138.0</td>\n",
       "      <td>NaN</td>\n",
       "      <td>6.62</td>\n",
       "      <td>Lung Diagnostic Imaging</td>\n",
       "      <td>222.0</td>\n",
       "      <td>0</td>\n",
       "      <td>NaN</td>\n",
       "      <td>0</td>\n",
       "      <td>222.0</td>\n",
       "      <td>0</td>\n",
       "      <td>[[0.0, 0.0, 0.0, 0.0, 0.0, 0.0, 0.0, 0.0, 0.0,...</td>\n",
       "      <td>[0.08900949268596328, 0.13877252693191972, 0.1...</td>\n",
       "      <td>[0.05093914886753762, 0.09688824580730572, 0.1...</td>\n",
       "      <td>[0.024214780203470454, 0.04491920263564868, 0....</td>\n",
       "      <td>[0.06524778865016181, 0.1297870711976629, 0.12...</td>\n",
       "      <td>[0.061784037558685445, 0.09765983586417024, 0....</td>\n",
       "      <td>[0.04341054660850431, 0.06931846588905181, 0.0...</td>\n",
       "    </tr>\n",
       "    <tr>\n",
       "      <th>551</th>\n",
       "      <td>3160783233</td>\n",
       "      <td>1.3.12.2.1107.5.1.4.51964.30000016031115490726...</td>\n",
       "      <td>/datasets/3160783233/Chest low dose  1.0  B50f</td>\n",
       "      <td>4374</td>\n",
       "      <td>1506510687</td>\n",
       "      <td>3160783233</td>\n",
       "      <td>2016-03-11</td>\n",
       "      <td>Chest low dose  1.0  B50f</td>\n",
       "      <td>Adenocarcinoma</td>\n",
       "      <td>NSCLC</td>\n",
       "      <td>IA</td>\n",
       "      <td>I-II (early)</td>\n",
       "      <td>NaN</td>\n",
       "      <td>1130.0</td>\n",
       "      <td>3</td>\n",
       "      <td>Female</td>\n",
       "      <td>White</td>\n",
       "      <td>&gt;=65</td>\n",
       "      <td>Medicare/Medicaid</td>\n",
       "      <td>Postgraduate</td>\n",
       "      <td>3-4</td>\n",
       "      <td>NaN</td>\n",
       "      <td>Eligible by 2013 USPSTF guidelines</td>\n",
       "      <td>Former</td>\n",
       "      <td>20.0</td>\n",
       "      <td>13.00</td>\n",
       "      <td>35.0</td>\n",
       "      <td>35.0</td>\n",
       "      <td>No</td>\n",
       "      <td>&gt;=4</td>\n",
       "      <td>Other department</td>\n",
       "      <td>90404.0</td>\n",
       "      <td>50996.0</td>\n",
       "      <td>6.0</td>\n",
       "      <td>16.98</td>\n",
       "      <td>Lung Diagnostic Imaging</td>\n",
       "      <td>2491.0</td>\n",
       "      <td>1</td>\n",
       "      <td>3.0</td>\n",
       "      <td>6</td>\n",
       "      <td>1130.0</td>\n",
       "      <td>3</td>\n",
       "      <td>[[0.0, 0.0, 0.0, 0.0, 0.0, 0.0, 0.0, 0.0, 0.0,...</td>\n",
       "      <td>[0.014803430051891348, 0.025743208030524028, 0...</td>\n",
       "      <td>[0.007401745617755098, 0.01943424256123729, 0....</td>\n",
       "      <td>[0.0065063051056874184, 0.015601745500941538, ...</td>\n",
       "      <td>[0.010489318802199903, 0.029319487129935075, 0...</td>\n",
       "      <td>[0.013722923177036656, 0.02958032822300364, 0....</td>\n",
       "      <td>[0.010938370464701579, 0.024063714534164626, 0...</td>\n",
       "    </tr>\n",
       "    <tr>\n",
       "      <th>370</th>\n",
       "      <td>3141266091</td>\n",
       "      <td>1.3.12.2.1107.5.1.4.66859.30050016071115404276...</td>\n",
       "      <td>/datasets/3141266091/Chest  1.0  B45f</td>\n",
       "      <td>505</td>\n",
       "      <td>1506510687</td>\n",
       "      <td>3141266091</td>\n",
       "      <td>2016-07-11</td>\n",
       "      <td>Chest  1.0  B45f</td>\n",
       "      <td>Adenocarcinoma</td>\n",
       "      <td>NSCLC</td>\n",
       "      <td>IA</td>\n",
       "      <td>I-II (early)</td>\n",
       "      <td>NaN</td>\n",
       "      <td>1008.0</td>\n",
       "      <td>3</td>\n",
       "      <td>Female</td>\n",
       "      <td>White</td>\n",
       "      <td>&gt;=65</td>\n",
       "      <td>Medicare/Medicaid</td>\n",
       "      <td>Postgraduate</td>\n",
       "      <td>3-4</td>\n",
       "      <td>NaN</td>\n",
       "      <td>Eligible by 2013 USPSTF guidelines</td>\n",
       "      <td>Former</td>\n",
       "      <td>20.0</td>\n",
       "      <td>13.00</td>\n",
       "      <td>35.0</td>\n",
       "      <td>35.0</td>\n",
       "      <td>No</td>\n",
       "      <td>&gt;=4</td>\n",
       "      <td>Other department</td>\n",
       "      <td>90404.0</td>\n",
       "      <td>50996.0</td>\n",
       "      <td>6.0</td>\n",
       "      <td>16.98</td>\n",
       "      <td>Lung Diagnostic Imaging</td>\n",
       "      <td>2369.0</td>\n",
       "      <td>1</td>\n",
       "      <td>2.0</td>\n",
       "      <td>6</td>\n",
       "      <td>1008.0</td>\n",
       "      <td>2</td>\n",
       "      <td>[[0.0, 0.0, 0.0, 0.0, 0.0, 0.0, 0.0, 0.0, 0.0,...</td>\n",
       "      <td>[0.014803430051891348, 0.025743208030524028, 0...</td>\n",
       "      <td>[0.024149747974363135, 0.0397637904643146, 0.0...</td>\n",
       "      <td>[0.05721481086998328, 0.08429346554346553, 0.1...</td>\n",
       "      <td>[0.04905731245968562, 0.06989667484571144, 0.0...</td>\n",
       "      <td>[0.01589278041259798, 0.03629576206901757, 0.0...</td>\n",
       "      <td>[0.02812232605712587, 0.0501870704618688, 0.07...</td>\n",
       "    </tr>\n",
       "    <tr>\n",
       "      <th>344</th>\n",
       "      <td>3030784085</td>\n",
       "      <td>1.3.12.2.1107.5.1.4.54023.30000016033015363660...</td>\n",
       "      <td>/datasets/3030784085/A Chest   1.0  B45f</td>\n",
       "      <td>4354</td>\n",
       "      <td>1496693650</td>\n",
       "      <td>3030784085</td>\n",
       "      <td>2016-03-30</td>\n",
       "      <td>A Chest   1.0  B45f</td>\n",
       "      <td>NaN</td>\n",
       "      <td>NaN</td>\n",
       "      <td>NaN</td>\n",
       "      <td>NaN</td>\n",
       "      <td>NaN</td>\n",
       "      <td>NaN</td>\n",
       "      <td>3</td>\n",
       "      <td>Male</td>\n",
       "      <td>White</td>\n",
       "      <td>&gt;=65</td>\n",
       "      <td>Private or Commercial</td>\n",
       "      <td>Postgraduate</td>\n",
       "      <td>3-4</td>\n",
       "      <td>NaN</td>\n",
       "      <td>Ineligible: years since quit&gt;15</td>\n",
       "      <td>Former</td>\n",
       "      <td>30.0</td>\n",
       "      <td>26.00</td>\n",
       "      <td>39.0</td>\n",
       "      <td>26.0</td>\n",
       "      <td>No</td>\n",
       "      <td>2-3</td>\n",
       "      <td>Other department</td>\n",
       "      <td>90095.0</td>\n",
       "      <td>56946.0</td>\n",
       "      <td>10.0</td>\n",
       "      <td>3.75</td>\n",
       "      <td>Lung Diagnostic Imaging</td>\n",
       "      <td>2463.0</td>\n",
       "      <td>0</td>\n",
       "      <td>NaN</td>\n",
       "      <td>6</td>\n",
       "      <td>2463.0</td>\n",
       "      <td>6</td>\n",
       "      <td>[[0.0, 0.0, 0.0, 0.0, 0.0, 0.0, 0.0, 0.0, 0.0,...</td>\n",
       "      <td>[0.00024783147459727387, 0.0018443903490632462...</td>\n",
       "      <td>[0.002747925540147072, 0.008246862026556234, 0...</td>\n",
       "      <td>[0.0006226553737865955, 0.0029286564381619134,...</td>\n",
       "      <td>[0.0, 0.0004273504273504274, 0.001204819277108...</td>\n",
       "      <td>[0.003391257415926386, 0.010970075459655606, 0...</td>\n",
       "      <td>[0.0011701163019909324, 0.005281162890320399, ...</td>\n",
       "    </tr>\n",
       "    <tr>\n",
       "      <th>488</th>\n",
       "      <td>7796570167</td>\n",
       "      <td>1.3.12.2.1107.5.1.4.66859.30050016092215040745...</td>\n",
       "      <td>/datasets/7796570167/Chest  1.0  B45f</td>\n",
       "      <td>4171</td>\n",
       "      <td>1496693650</td>\n",
       "      <td>7796570167</td>\n",
       "      <td>2016-09-22</td>\n",
       "      <td>Chest  1.0  B45f</td>\n",
       "      <td>NaN</td>\n",
       "      <td>NaN</td>\n",
       "      <td>NaN</td>\n",
       "      <td>NaN</td>\n",
       "      <td>NaN</td>\n",
       "      <td>NaN</td>\n",
       "      <td>3</td>\n",
       "      <td>Male</td>\n",
       "      <td>White</td>\n",
       "      <td>&gt;=65</td>\n",
       "      <td>Private or Commercial</td>\n",
       "      <td>Postgraduate</td>\n",
       "      <td>3-4</td>\n",
       "      <td>NaN</td>\n",
       "      <td>Ineligible: years since quit&gt;15</td>\n",
       "      <td>Former</td>\n",
       "      <td>30.0</td>\n",
       "      <td>26.00</td>\n",
       "      <td>39.0</td>\n",
       "      <td>26.0</td>\n",
       "      <td>No</td>\n",
       "      <td>2-3</td>\n",
       "      <td>Other department</td>\n",
       "      <td>90095.0</td>\n",
       "      <td>56946.0</td>\n",
       "      <td>10.0</td>\n",
       "      <td>3.75</td>\n",
       "      <td>Lung Diagnostic Imaging</td>\n",
       "      <td>2287.0</td>\n",
       "      <td>0</td>\n",
       "      <td>NaN</td>\n",
       "      <td>6</td>\n",
       "      <td>2287.0</td>\n",
       "      <td>6</td>\n",
       "      <td>[[0.0, 0.0, 0.0, 0.0, 0.0, 0.0, 0.0, 0.0, 0.0,...</td>\n",
       "      <td>[0.00024783147459727387, 0.0018443903490632462...</td>\n",
       "      <td>[0.0, 0.0017629910293341638, 0.004279090553600...</td>\n",
       "      <td>[0.0006226553737865955, 0.0029286564381619134,...</td>\n",
       "      <td>[0.0008275862068965517, 0.002675108186528246, ...</td>\n",
       "      <td>[0.002639377716678266, 0.007722677216193972, 0...</td>\n",
       "      <td>[0.0011701163019909324, 0.002554438672368111, ...</td>\n",
       "    </tr>\n",
       "    <tr>\n",
       "      <th>108</th>\n",
       "      <td>1700265902</td>\n",
       "      <td>1.3.12.2.1107.5.1.4.60120.30000016061714575488...</td>\n",
       "      <td>/datasets/1700265902/Chest wo  1.0  B45f</td>\n",
       "      <td>867</td>\n",
       "      <td>1406843651</td>\n",
       "      <td>1700265902</td>\n",
       "      <td>2016-06-17</td>\n",
       "      <td>Chest wo  1.0  B45f</td>\n",
       "      <td>NaN</td>\n",
       "      <td>NaN</td>\n",
       "      <td>NaN</td>\n",
       "      <td>NaN</td>\n",
       "      <td>NaN</td>\n",
       "      <td>NaN</td>\n",
       "      <td>3</td>\n",
       "      <td>Male</td>\n",
       "      <td>White</td>\n",
       "      <td>&lt;65</td>\n",
       "      <td>Private or Commercial</td>\n",
       "      <td>Postgraduate</td>\n",
       "      <td>3-4</td>\n",
       "      <td>NaN</td>\n",
       "      <td>Eligible by 2013 USPSTF guidelines</td>\n",
       "      <td>Former</td>\n",
       "      <td>20.0</td>\n",
       "      <td>1.00</td>\n",
       "      <td>30.0</td>\n",
       "      <td>30.0</td>\n",
       "      <td>Yes</td>\n",
       "      <td>&gt;=4</td>\n",
       "      <td>Other department</td>\n",
       "      <td>90404.0</td>\n",
       "      <td>79736.0</td>\n",
       "      <td>1.0</td>\n",
       "      <td>2.82</td>\n",
       "      <td>Lung Screening LDCT</td>\n",
       "      <td>2132.0</td>\n",
       "      <td>0</td>\n",
       "      <td>NaN</td>\n",
       "      <td>5</td>\n",
       "      <td>2132.0</td>\n",
       "      <td>5</td>\n",
       "      <td>[[0.0, 0.0, 0.0, 0.0, 0.0, 0.0, 0.0, 0.0, 0.0,...</td>\n",
       "      <td>[0.1488691322901849, 0.19326993994595681, 0.21...</td>\n",
       "      <td>[0.046323764252152996, 0.09688824580730572, 0....</td>\n",
       "      <td>[0.0453088622836522, 0.08277831402831402, 0.10...</td>\n",
       "      <td>[0.07501790359269055, 0.13702279157276948, 0.1...</td>\n",
       "      <td>[0.04699133440777334, 0.07499942897841123, 0.1...</td>\n",
       "      <td>[0.07695632798573974, 0.14351710001078866, 0.1...</td>\n",
       "    </tr>\n",
       "    <tr>\n",
       "      <th>313</th>\n",
       "      <td>2903695654</td>\n",
       "      <td>1.3.12.2.1107.5.1.4.60120.30000016120715052873...</td>\n",
       "      <td>/datasets/2903695654/Chest wo  1.0  B45f</td>\n",
       "      <td>2801</td>\n",
       "      <td>1406843651</td>\n",
       "      <td>2903695654</td>\n",
       "      <td>2016-12-07</td>\n",
       "      <td>Chest wo  1.0  B45f</td>\n",
       "      <td>NaN</td>\n",
       "      <td>NaN</td>\n",
       "      <td>NaN</td>\n",
       "      <td>NaN</td>\n",
       "      <td>NaN</td>\n",
       "      <td>NaN</td>\n",
       "      <td>3</td>\n",
       "      <td>Male</td>\n",
       "      <td>White</td>\n",
       "      <td>&lt;65</td>\n",
       "      <td>Private or Commercial</td>\n",
       "      <td>Postgraduate</td>\n",
       "      <td>3-4</td>\n",
       "      <td>NaN</td>\n",
       "      <td>Eligible by 2013 USPSTF guidelines</td>\n",
       "      <td>Former</td>\n",
       "      <td>20.0</td>\n",
       "      <td>1.00</td>\n",
       "      <td>30.0</td>\n",
       "      <td>30.0</td>\n",
       "      <td>Yes</td>\n",
       "      <td>&gt;=4</td>\n",
       "      <td>Other department</td>\n",
       "      <td>90404.0</td>\n",
       "      <td>79736.0</td>\n",
       "      <td>1.0</td>\n",
       "      <td>2.82</td>\n",
       "      <td>Lung Screening LDCT</td>\n",
       "      <td>1959.0</td>\n",
       "      <td>0</td>\n",
       "      <td>NaN</td>\n",
       "      <td>5</td>\n",
       "      <td>1959.0</td>\n",
       "      <td>5</td>\n",
       "      <td>[[0.0, 0.0, 0.0, 0.0, 0.0, 0.0, 0.0, 0.0, 0.0,...</td>\n",
       "      <td>[0.08832729602663451, 0.11812950893630043, 0.1...</td>\n",
       "      <td>[0.04142830275291791, 0.07866102859355475, 0.1...</td>\n",
       "      <td>[0.04054368473496949, 0.05800782697427302, 0.0...</td>\n",
       "      <td>[0.12643278887540008, 0.17246701710987425, 0.2...</td>\n",
       "      <td>[0.061784037558685445, 0.1233237014103887, 0.1...</td>\n",
       "      <td>[0.06699378116926033, 0.12865848818559583, 0.1...</td>\n",
       "    </tr>\n",
       "    <tr>\n",
       "      <th>367</th>\n",
       "      <td>3121368349</td>\n",
       "      <td>1.3.12.2.1107.5.1.4.60120.30000016093015111729...</td>\n",
       "      <td>/datasets/3121368349/Chest wo  1.0  B45f</td>\n",
       "      <td>1203</td>\n",
       "      <td>1344763489</td>\n",
       "      <td>3121368349</td>\n",
       "      <td>2016-09-30</td>\n",
       "      <td>Chest wo  1.0  B45f</td>\n",
       "      <td>NaN</td>\n",
       "      <td>NaN</td>\n",
       "      <td>NaN</td>\n",
       "      <td>NaN</td>\n",
       "      <td>NaN</td>\n",
       "      <td>NaN</td>\n",
       "      <td>1</td>\n",
       "      <td>Female</td>\n",
       "      <td>White</td>\n",
       "      <td>&gt;=65</td>\n",
       "      <td>Medicare/Medicaid</td>\n",
       "      <td>NaN</td>\n",
       "      <td>1-2</td>\n",
       "      <td>NaN</td>\n",
       "      <td>Eligible by 2013 USPSTF guidelines</td>\n",
       "      <td>Former</td>\n",
       "      <td>15.0</td>\n",
       "      <td>0.17</td>\n",
       "      <td>38.0</td>\n",
       "      <td>51.0</td>\n",
       "      <td>No</td>\n",
       "      <td>2-3</td>\n",
       "      <td>Other department</td>\n",
       "      <td>90404.0</td>\n",
       "      <td>73478.0</td>\n",
       "      <td>3.0</td>\n",
       "      <td>2.21</td>\n",
       "      <td>Lung Screening LDCT</td>\n",
       "      <td>2329.0</td>\n",
       "      <td>0</td>\n",
       "      <td>NaN</td>\n",
       "      <td>6</td>\n",
       "      <td>2329.0</td>\n",
       "      <td>6</td>\n",
       "      <td>[[0.0, 0.0, 0.0, 0.0, 0.0, 0.0, 0.0, 0.0, 0.0,...</td>\n",
       "      <td>[0.002614143679095454, 0.01045940834560034, 0....</td>\n",
       "      <td>[0.007401745617755098, 0.01943424256123729, 0....</td>\n",
       "      <td>[0.0065063051056874184, 0.015601745500941538, ...</td>\n",
       "      <td>[0.0008275862068965517, 0.002675108186528246, ...</td>\n",
       "      <td>[0.002639377716678266, 0.006418154872067668, 0...</td>\n",
       "      <td>[0.003950885877035175, 0.01567411799742145, 0....</td>\n",
       "    </tr>\n",
       "    <tr>\n",
       "      <th>435</th>\n",
       "      <td>4635605877</td>\n",
       "      <td>1.3.12.2.1107.5.1.4.60120.30000016122715264073...</td>\n",
       "      <td>/datasets/4635605877/Chest wo  1.0  B45f</td>\n",
       "      <td>3501</td>\n",
       "      <td>1344763489</td>\n",
       "      <td>4635605877</td>\n",
       "      <td>2016-12-27</td>\n",
       "      <td>Chest wo  1.0  B45f</td>\n",
       "      <td>NaN</td>\n",
       "      <td>NaN</td>\n",
       "      <td>NaN</td>\n",
       "      <td>NaN</td>\n",
       "      <td>NaN</td>\n",
       "      <td>NaN</td>\n",
       "      <td>1</td>\n",
       "      <td>Female</td>\n",
       "      <td>White</td>\n",
       "      <td>&gt;=65</td>\n",
       "      <td>Medicare/Medicaid</td>\n",
       "      <td>NaN</td>\n",
       "      <td>1-2</td>\n",
       "      <td>NaN</td>\n",
       "      <td>Eligible by 2013 USPSTF guidelines</td>\n",
       "      <td>Former</td>\n",
       "      <td>15.0</td>\n",
       "      <td>0.17</td>\n",
       "      <td>38.0</td>\n",
       "      <td>51.0</td>\n",
       "      <td>No</td>\n",
       "      <td>2-3</td>\n",
       "      <td>Other department</td>\n",
       "      <td>90404.0</td>\n",
       "      <td>73478.0</td>\n",
       "      <td>3.0</td>\n",
       "      <td>2.21</td>\n",
       "      <td>Lung Screening LDCT</td>\n",
       "      <td>2241.0</td>\n",
       "      <td>0</td>\n",
       "      <td>NaN</td>\n",
       "      <td>6</td>\n",
       "      <td>2241.0</td>\n",
       "      <td>6</td>\n",
       "      <td>[[0.0, 0.0, 0.0, 0.0, 0.0, 0.0, 0.0, 0.0, 0.0,...</td>\n",
       "      <td>[0.005670641576314818, 0.016728911619303625, 0...</td>\n",
       "      <td>[0.005742515277543164, 0.01578939349874242, 0....</td>\n",
       "      <td>[0.0006226553737865955, 0.0029286564381619134,...</td>\n",
       "      <td>[0.002791824858990207, 0.009865956692336473, 0...</td>\n",
       "      <td>[0.002639377716678266, 0.010970075459655606, 0...</td>\n",
       "      <td>[0.0019649702414815395, 0.011458655748540176, ...</td>\n",
       "    </tr>\n",
       "  </tbody>\n",
       "</table>\n",
       "</div>"
      ],
      "text/plain": [
       "     AccessionNumber                                  SeriesInstanceUID  \\\n",
       "232       2382810005  1.3.12.2.1107.5.1.4.60120.30000016060115243623...   \n",
       "118       1777455208  1.3.12.2.1107.5.1.4.60120.30000016113015123331...   \n",
       "73        1496740476  1.3.12.2.1107.5.1.4.60120.30000016031015205611...   \n",
       "537       1907321864  1.3.12.2.1107.5.1.4.51964.30000016050615572117...   \n",
       "103       1680110787  1.3.12.2.1107.5.1.4.60120.30000016061515174560...   \n",
       "147       1903295728  1.3.12.2.1107.5.1.4.60120.30000016121215300213...   \n",
       "28        1156164761  1.3.12.2.1107.5.1.4.60120.30000016071315281017...   \n",
       "431       4415158803  1.3.12.2.1107.5.1.4.60120.30000016122015262317...   \n",
       "120       1783825635  1.3.12.2.1107.5.1.4.60120.30000016070715234428...   \n",
       "79        1509867261  1.3.12.2.1107.5.1.4.60120.30000016111515405936...   \n",
       "614       1544799163  1.3.12.2.1107.5.1.4.75487.30000016070814131194...   \n",
       "665       5729262520  1.3.12.2.1107.5.1.4.75487.30000016122214114911...   \n",
       "40        1208875823  1.3.12.2.1107.5.1.4.60120.30000016022221255217...   \n",
       "39        1207264947  1.3.12.2.1107.5.1.4.60120.30000016060615162315...   \n",
       "356       3082281180  1.3.12.2.1107.5.1.4.60120.30000016041115243799...   \n",
       "602       1100322115  1.3.12.2.1107.5.1.4.75487.30000016120714321287...   \n",
       "140       1882952296  1.3.12.2.1107.5.1.4.64297.30000016063016153917...   \n",
       "424       3792597358  1.3.12.2.1107.5.1.4.64297.30000016093016070344...   \n",
       "183       2056342538  1.3.12.2.1107.5.1.4.60120.30000016092615121555...   \n",
       "438       4768377765  1.3.12.2.1107.5.1.4.64297.30000016062316115356...   \n",
       "361       3098522484  1.3.12.2.1107.5.1.4.60120.30000016050315181888...   \n",
       "25        1134196192  1.3.12.2.1107.5.1.4.60120.30000016111815222417...   \n",
       "60        1360036383  1.3.12.2.1107.5.1.4.64297.30000016051115590071...   \n",
       "360       3098443910  1.3.12.2.1107.5.1.4.64297.30000016100716240925...   \n",
       "329       2966483744  1.3.12.2.1107.5.1.4.66859.30050016021915055931...   \n",
       "627       2188479454  1.3.12.2.1107.5.1.4.75487.30000016070714192493...   \n",
       "104       1686967637  1.3.12.2.1107.5.1.4.54023.30000016041815384571...   \n",
       "455       5833683534  1.3.12.2.1107.5.1.4.54023.30000016100615304896...   \n",
       "94        1643827876  1.3.12.2.1107.5.1.4.60120.30000016060615162315...   \n",
       "591       3381242934  1.3.12.2.1107.5.1.4.51964.30000016120115241645...   \n",
       "532       1100567667  1.3.12.2.1107.5.1.4.51964.30000016012116082767...   \n",
       "475       6943764071  1.3.12.2.1107.5.1.4.66859.30050016062215250684...   \n",
       "321       2933819605  1.3.12.2.1107.5.1.4.64297.30000016011216054091...   \n",
       "240       2431530488  1.3.12.2.1107.5.1.4.64297.30000016061616254260...   \n",
       "142       1888595497  1.3.12.2.1107.5.1.4.64297.30000016040116092750...   \n",
       "115       1765945264  1.3.12.2.1107.5.1.4.64297.30000016100615481865...   \n",
       "551       3160783233  1.3.12.2.1107.5.1.4.51964.30000016031115490726...   \n",
       "370       3141266091  1.3.12.2.1107.5.1.4.66859.30050016071115404276...   \n",
       "344       3030784085  1.3.12.2.1107.5.1.4.54023.30000016033015363660...   \n",
       "488       7796570167  1.3.12.2.1107.5.1.4.66859.30050016092215040745...   \n",
       "108       1700265902  1.3.12.2.1107.5.1.4.60120.30000016061714575488...   \n",
       "313       2903695654  1.3.12.2.1107.5.1.4.60120.30000016120715052873...   \n",
       "367       3121368349  1.3.12.2.1107.5.1.4.60120.30000016093015111729...   \n",
       "435       4635605877  1.3.12.2.1107.5.1.4.60120.30000016122715264073...   \n",
       "\n",
       "                                   Diacom Directory  Unnamed: 0       MRN_h  \\\n",
       "232        /datasets/2382810005/Chest wo  1.0  B45f        3554  9514511616   \n",
       "118        /datasets/1777455208/Chest wo  1.0  B45f        4776  9514511616   \n",
       "73         /datasets/1496740476/Chest wo  1.0  B45f         787  6928974397   \n",
       "537  /datasets/1907321864/Chest low dose  1.0  B50f         309  6928974397   \n",
       "103        /datasets/1680110787/Chest wo  1.0  B45f        1419  6279224535   \n",
       "147        /datasets/1903295728/Chest wo  1.0  B45f         640  6279224535   \n",
       "28         /datasets/1156164761/Chest wo  1.0  B45f        4788  4365886903   \n",
       "431        /datasets/4415158803/Chest wo  1.0  B45f        3852  4365886903   \n",
       "120        /datasets/1783825635/Chest wo  1.0  B45f        4976  3392869532   \n",
       "79         /datasets/1509867261/Chest wo  1.0  B45f        2855  3392869532   \n",
       "614   /datasets/1544799163/Lung Low Dose  1.0  Br49        3162  3069382446   \n",
       "665   /datasets/5729262520/Lung Low Dose  1.0  Br49         773  3069382446   \n",
       "40         /datasets/1208875823/Chest wo  1.0  B45f        2303  2667564932   \n",
       "39         /datasets/1207264947/Chest wo  1.0  B45f        1156  2667564932   \n",
       "356        /datasets/3082281180/Chest wo  1.0  B45f        1155  2516700108   \n",
       "602   /datasets/1100322115/Lung Low Dose  1.0  Br49        1668  2516700108   \n",
       "140           /datasets/1882952296/Chest  1.0  B45f        4722  2470163127   \n",
       "424           /datasets/3792597358/Chest  1.0  B45f         686  2470163127   \n",
       "183        /datasets/2056342538/Chest wo  1.0  B45f         279  2469379477   \n",
       "438           /datasets/4768377765/Chest  1.0  B45f        4063  2469379477   \n",
       "361        /datasets/3098522484/Chest wo  1.0  B45f        3303  2343491512   \n",
       "25         /datasets/1134196192/Chest wo  1.0  B45f        4465  2343491512   \n",
       "60            /datasets/1360036383/Chest  1.0  B45f         814  2097638295   \n",
       "360           /datasets/3098443910/Chest  1.0  B45f        2328  2097638295   \n",
       "329           /datasets/2966483744/Chest  1.0  B45f        2546  1827086933   \n",
       "627   /datasets/2188479454/Lung Low Dose  1.0  Br49        1558  1827086933   \n",
       "104        /datasets/1686967637/A Chest   1.0  B45f         455  1732283945   \n",
       "455        /datasets/5833683534/A Chest   1.0  B45f        3652  1732283945   \n",
       "94         /datasets/1643827876/Chest wo  1.0  B45f        3612  1731633320   \n",
       "591  /datasets/3381242934/Chest low dose  1.0  B46f        4548  1731633320   \n",
       "532  /datasets/1100567667/Chest low dose  1.0  B50f         898  1725698813   \n",
       "475           /datasets/6943764071/Chest  1.0  B45f        3656  1725698813   \n",
       "321           /datasets/2933819605/Chest  1.0  B45f        2960  1685870225   \n",
       "240           /datasets/2431530488/Chest  1.0  B45f        5355  1685870225   \n",
       "142           /datasets/1888595497/Chest  1.0  B45f        2541  1592101850   \n",
       "115           /datasets/1765945264/Chest  1.0  B45f         886  1592101850   \n",
       "551  /datasets/3160783233/Chest low dose  1.0  B50f        4374  1506510687   \n",
       "370           /datasets/3141266091/Chest  1.0  B45f         505  1506510687   \n",
       "344        /datasets/3030784085/A Chest   1.0  B45f        4354  1496693650   \n",
       "488           /datasets/7796570167/Chest  1.0  B45f        4171  1496693650   \n",
       "108        /datasets/1700265902/Chest wo  1.0  B45f         867  1406843651   \n",
       "313        /datasets/2903695654/Chest wo  1.0  B45f        2801  1406843651   \n",
       "367        /datasets/3121368349/Chest wo  1.0  B45f        1203  1344763489   \n",
       "435        /datasets/4635605877/Chest wo  1.0  B45f        3501  1344763489   \n",
       "\n",
       "      Acc_num_h  exam_date                series_desc            hist  \\\n",
       "232  2382810005 2016-06-01        Chest wo  1.0  B45f             NaN   \n",
       "118  1777455208 2016-11-30        Chest wo  1.0  B45f             NaN   \n",
       "73   1496740476 2016-03-10        Chest wo  1.0  B45f             NaN   \n",
       "537  1907321864 2016-05-06  Chest low dose  1.0  B50f             NaN   \n",
       "103  1680110787 2016-06-15        Chest wo  1.0  B45f             NaN   \n",
       "147  1903295728 2016-12-12        Chest wo  1.0  B45f             NaN   \n",
       "28   1156164761 2016-07-13        Chest wo  1.0  B45f             NaN   \n",
       "431  4415158803 2016-12-20        Chest wo  1.0  B45f             NaN   \n",
       "120  1783825635 2016-07-07        Chest wo  1.0  B45f             NaN   \n",
       "79   1509867261 2016-11-15        Chest wo  1.0  B45f             NaN   \n",
       "614  1544799163 2016-07-08   Lung Low Dose  1.0  Br49             NaN   \n",
       "665  5729262520 2016-12-22   Lung Low Dose  1.0  Br49             NaN   \n",
       "40   1208875823 2016-02-22        Chest wo  1.0  B45f  Adenocarcinoma   \n",
       "39   1207264947 2016-06-06        Chest wo  1.0  B45f  Adenocarcinoma   \n",
       "356  3082281180 2016-04-11        Chest wo  1.0  B45f             NaN   \n",
       "602  1100322115 2016-12-07   Lung Low Dose  1.0  Br49             NaN   \n",
       "140  1882952296 2016-06-30           Chest  1.0  B45f  Adenocarcinoma   \n",
       "424  3792597358 2016-09-30           Chest  1.0  B45f  Adenocarcinoma   \n",
       "183  2056342538 2016-09-26        Chest wo  1.0  B45f             NaN   \n",
       "438  4768377765 2016-06-23           Chest  1.0  B45f             NaN   \n",
       "361  3098522484 2016-05-03        Chest wo  1.0  B45f             NaN   \n",
       "25   1134196192 2016-11-18        Chest wo  1.0  B45f             NaN   \n",
       "60   1360036383 2016-05-11           Chest  1.0  B45f             NaN   \n",
       "360  3098443910 2016-10-07           Chest  1.0  B45f             NaN   \n",
       "329  2966483744 2016-02-19           Chest  1.0  B45f             NaN   \n",
       "627  2188479454 2016-07-07   Lung Low Dose  1.0  Br49             NaN   \n",
       "104  1686967637 2016-04-18        A Chest   1.0  B45f             NaN   \n",
       "455  5833683534 2016-10-06        A Chest   1.0  B45f             NaN   \n",
       "94   1643827876 2016-06-06        Chest wo  1.0  B45f             NaN   \n",
       "591  3381242934 2016-12-01  Chest low dose  1.0  B46f             NaN   \n",
       "532  1100567667 2016-01-21  Chest low dose  1.0  B50f             NaN   \n",
       "475  6943764071 2016-06-22           Chest  1.0  B45f             NaN   \n",
       "321  2933819605 2016-01-12           Chest  1.0  B45f             NaN   \n",
       "240  2431530488 2016-06-16           Chest  1.0  B45f             NaN   \n",
       "142  1888595497 2016-04-01           Chest  1.0  B45f             NaN   \n",
       "115  1765945264 2016-10-06           Chest  1.0  B45f             NaN   \n",
       "551  3160783233 2016-03-11  Chest low dose  1.0  B50f  Adenocarcinoma   \n",
       "370  3141266091 2016-07-11           Chest  1.0  B45f  Adenocarcinoma   \n",
       "344  3030784085 2016-03-30        A Chest   1.0  B45f             NaN   \n",
       "488  7796570167 2016-09-22           Chest  1.0  B45f             NaN   \n",
       "108  1700265902 2016-06-17        Chest wo  1.0  B45f             NaN   \n",
       "313  2903695654 2016-12-07        Chest wo  1.0  B45f             NaN   \n",
       "367  3121368349 2016-09-30        Chest wo  1.0  B45f             NaN   \n",
       "435  4635605877 2016-12-27        Chest wo  1.0  B45f             NaN   \n",
       "\n",
       "    hist_category stage stage_category post_screen_lc_x  interval_ct_hist  \\\n",
       "232           NaN   NaN            NaN              NaN               NaN   \n",
       "118           NaN   NaN            NaN              NaN               NaN   \n",
       "73            NaN   NaN            NaN              NaN               NaN   \n",
       "537           NaN   NaN            NaN              NaN               NaN   \n",
       "103           NaN   NaN            NaN              NaN               NaN   \n",
       "147           NaN   NaN            NaN              NaN               NaN   \n",
       "28            NaN   NaN            NaN              NaN               NaN   \n",
       "431           NaN   NaN            NaN              NaN               NaN   \n",
       "120           NaN   NaN            NaN              NaN               NaN   \n",
       "79            NaN   NaN            NaN              NaN               NaN   \n",
       "614           NaN   NaN            NaN              NaN               NaN   \n",
       "665           NaN   NaN            NaN              NaN               NaN   \n",
       "40          NSCLC    IA   I-II (early)              NaN            1626.0   \n",
       "39          NSCLC    IA   I-II (early)              NaN            1521.0   \n",
       "356           NaN   NaN            NaN              NaN               NaN   \n",
       "602           NaN   NaN            NaN              NaN               NaN   \n",
       "140         NSCLC     0   I-II (early)              NaN             124.0   \n",
       "424         NSCLC     0   I-II (early)              NaN              32.0   \n",
       "183           NaN   NaN            NaN              NaN               NaN   \n",
       "438           NaN   NaN            NaN              NaN               NaN   \n",
       "361           NaN   NaN            NaN              NaN               NaN   \n",
       "25            NaN   NaN            NaN              NaN               NaN   \n",
       "60            NaN   NaN            NaN              NaN               NaN   \n",
       "360           NaN   NaN            NaN              NaN               NaN   \n",
       "329           NaN   NaN            NaN              NaN               NaN   \n",
       "627           NaN   NaN            NaN              NaN               NaN   \n",
       "104           NaN   NaN            NaN              NaN               NaN   \n",
       "455           NaN   NaN            NaN              NaN               NaN   \n",
       "94            NaN   NaN            NaN              NaN               NaN   \n",
       "591           NaN   NaN            NaN              NaN               NaN   \n",
       "532           NaN   NaN            NaN              NaN               NaN   \n",
       "475           NaN   NaN            NaN              NaN               NaN   \n",
       "321           NaN   NaN            NaN              NaN               NaN   \n",
       "240           NaN   NaN            NaN              NaN               NaN   \n",
       "142           NaN   NaN            NaN              NaN               NaN   \n",
       "115           NaN   NaN            NaN              NaN               NaN   \n",
       "551         NSCLC    IA   I-II (early)              NaN            1130.0   \n",
       "370         NSCLC    IA   I-II (early)              NaN            1008.0   \n",
       "344           NaN   NaN            NaN              NaN               NaN   \n",
       "488           NaN   NaN            NaN              NaN               NaN   \n",
       "108           NaN   NaN            NaN              NaN               NaN   \n",
       "313           NaN   NaN            NaN              NaN               NaN   \n",
       "367           NaN   NaN            NaN              NaN               NaN   \n",
       "435           NaN   NaN            NaN              NaN               NaN   \n",
       "\n",
       "    lungrads     sex race_ethnicity_new age_new          insurance_new  \\\n",
       "232        1    Male              White    >=65  Private or Commercial   \n",
       "118        1    Male              White    >=65  Private or Commercial   \n",
       "73        4A    Male              White    >=65      Medicare/Medicaid   \n",
       "537       4A    Male              White    >=65      Medicare/Medicaid   \n",
       "103        2    Male              White     <65  Private or Commercial   \n",
       "147        2    Male              White     <65  Private or Commercial   \n",
       "28         2  Female              White    >=65      Medicare/Medicaid   \n",
       "431        2  Female              White    >=65      Medicare/Medicaid   \n",
       "120        3    Male              White    >=65  Private or Commercial   \n",
       "79         3    Male              White    >=65  Private or Commercial   \n",
       "614      NaN     NaN                NaN     NaN                    NaN   \n",
       "665      NaN     NaN                NaN     NaN                    NaN   \n",
       "40        4A  Female              White     <65  Private or Commercial   \n",
       "39        4A  Female              White     <65  Private or Commercial   \n",
       "356        3    Male              White    >=65  Private or Commercial   \n",
       "602        3    Male              White    >=65  Private or Commercial   \n",
       "140       4A  Female              White    >=65      Medicare/Medicaid   \n",
       "424       4A  Female              White    >=65      Medicare/Medicaid   \n",
       "183      NaN     NaN                NaN     NaN                    NaN   \n",
       "438      NaN     NaN                NaN     NaN                    NaN   \n",
       "361        3    Male              White     <65  Private or Commercial   \n",
       "25         3    Male              White     <65  Private or Commercial   \n",
       "60        4A    Male              White    >=65      Medicare/Medicaid   \n",
       "360       4A    Male              White    >=65      Medicare/Medicaid   \n",
       "329       4A  Female              White     <65                  Other   \n",
       "627       4A  Female              White     <65                  Other   \n",
       "104        2    Male              White    >=65      Medicare/Medicaid   \n",
       "455        2    Male              White    >=65      Medicare/Medicaid   \n",
       "94        4A  Female              White    >=65      Medicare/Medicaid   \n",
       "591       4A  Female              White    >=65      Medicare/Medicaid   \n",
       "532        2    Male              White    >=65      Medicare/Medicaid   \n",
       "475        2    Male              White    >=65      Medicare/Medicaid   \n",
       "321      NaN     NaN                NaN     NaN                    NaN   \n",
       "240      NaN     NaN                NaN     NaN                    NaN   \n",
       "142        2    Male              White    >=65      Medicare/Medicaid   \n",
       "115        2    Male              White    >=65      Medicare/Medicaid   \n",
       "551        3  Female              White    >=65      Medicare/Medicaid   \n",
       "370        3  Female              White    >=65      Medicare/Medicaid   \n",
       "344        3    Male              White    >=65  Private or Commercial   \n",
       "488        3    Male              White    >=65  Private or Commercial   \n",
       "108        3    Male              White     <65  Private or Commercial   \n",
       "313        3    Male              White     <65  Private or Commercial   \n",
       "367        1  Female              White    >=65      Medicare/Medicaid   \n",
       "435        1  Female              White    >=65      Medicare/Medicaid   \n",
       "\n",
       "                        education_new lungrads_category post_screen_lc_y  \\\n",
       "232                               NaN               1-2              NaN   \n",
       "118                               NaN               1-2              NaN   \n",
       "73                   College Graduate               3-4              NaN   \n",
       "537                  College Graduate               3-4              NaN   \n",
       "103       High school graduate or GED               1-2              NaN   \n",
       "147       High school graduate or GED               1-2              NaN   \n",
       "28                                NaN               1-2              NaN   \n",
       "431                               NaN               1-2              NaN   \n",
       "120                  College Graduate               3-4              NaN   \n",
       "79                   College Graduate               3-4              NaN   \n",
       "614                               NaN               NaN              NaN   \n",
       "665                               NaN               NaN              NaN   \n",
       "40                       Postgraduate               3-4              NaN   \n",
       "39                       Postgraduate               3-4              NaN   \n",
       "356                  College Graduate               3-4              NaN   \n",
       "602                  College Graduate               3-4              NaN   \n",
       "140  Some college or technical school               3-4              NaN   \n",
       "424  Some college or technical school               3-4              NaN   \n",
       "183                               NaN               NaN              NaN   \n",
       "438                               NaN               NaN              NaN   \n",
       "361                  College Graduate               3-4              NaN   \n",
       "25                   College Graduate               3-4              NaN   \n",
       "60   Some college or technical school               3-4              NaN   \n",
       "360  Some college or technical school               3-4              NaN   \n",
       "329                  College Graduate               3-4              NaN   \n",
       "627                  College Graduate               3-4              NaN   \n",
       "104  Some college or technical school               1-2              NaN   \n",
       "455  Some college or technical school               1-2              NaN   \n",
       "94                   College Graduate               3-4              NaN   \n",
       "591                  College Graduate               3-4              NaN   \n",
       "532                  College Graduate               1-2              NaN   \n",
       "475                  College Graduate               1-2              NaN   \n",
       "321                               NaN               NaN              NaN   \n",
       "240                               NaN               NaN              NaN   \n",
       "142  Some college or technical school               1-2              NaN   \n",
       "115  Some college or technical school               1-2              NaN   \n",
       "551                      Postgraduate               3-4              NaN   \n",
       "370                      Postgraduate               3-4              NaN   \n",
       "344                      Postgraduate               3-4              NaN   \n",
       "488                      Postgraduate               3-4              NaN   \n",
       "108                      Postgraduate               3-4              NaN   \n",
       "313                      Postgraduate               3-4              NaN   \n",
       "367                               NaN               1-2              NaN   \n",
       "435                               NaN               1-2              NaN   \n",
       "\n",
       "                           eligibility_final_corrected  \\\n",
       "232                    Ineligible: years since quit>15   \n",
       "118                    Ineligible: years since quit>15   \n",
       "73                  Ineligible: pack-years<30 - before   \n",
       "537                 Ineligible: pack-years<30 - before   \n",
       "103                                     Newly eligible   \n",
       "147                                     Newly eligible   \n",
       "28                  Eligible by 2013 USPSTF guidelines   \n",
       "431                 Eligible by 2013 USPSTF guidelines   \n",
       "120                 Eligible by 2013 USPSTF guidelines   \n",
       "79                  Eligible by 2013 USPSTF guidelines   \n",
       "614                                                NaN   \n",
       "665                                                NaN   \n",
       "40                  Eligible by 2013 USPSTF guidelines   \n",
       "39                  Eligible by 2013 USPSTF guidelines   \n",
       "356                 Eligible by 2013 USPSTF guidelines   \n",
       "602                 Eligible by 2013 USPSTF guidelines   \n",
       "140                 Eligible by 2013 USPSTF guidelines   \n",
       "424                 Eligible by 2013 USPSTF guidelines   \n",
       "183                                                NaN   \n",
       "438                                                NaN   \n",
       "361                 Eligible by 2013 USPSTF guidelines   \n",
       "25                  Eligible by 2013 USPSTF guidelines   \n",
       "60   Ineligible: pack-years<30 & years since quit>1...   \n",
       "360  Ineligible: pack-years<30 & years since quit>1...   \n",
       "329                 Eligible by 2013 USPSTF guidelines   \n",
       "627                 Eligible by 2013 USPSTF guidelines   \n",
       "104                 Eligible by 2013 USPSTF guidelines   \n",
       "455                 Eligible by 2013 USPSTF guidelines   \n",
       "94   Ineligible: pack-years<30 & years since quit>1...   \n",
       "591  Ineligible: pack-years<30 & years since quit>1...   \n",
       "532                  Unable to determine: missing data   \n",
       "475                  Unable to determine: missing data   \n",
       "321                                                NaN   \n",
       "240                                                NaN   \n",
       "142                 Eligible by 2013 USPSTF guidelines   \n",
       "115                 Eligible by 2013 USPSTF guidelines   \n",
       "551                 Eligible by 2013 USPSTF guidelines   \n",
       "370                 Eligible by 2013 USPSTF guidelines   \n",
       "344                    Ineligible: years since quit>15   \n",
       "488                    Ineligible: years since quit>15   \n",
       "108                 Eligible by 2013 USPSTF guidelines   \n",
       "313                 Eligible by 2013 USPSTF guidelines   \n",
       "367                 Eligible by 2013 USPSTF guidelines   \n",
       "435                 Eligible by 2013 USPSTF guidelines   \n",
       "\n",
       "    smoking_status_final_corrected  intensity_final_corrected  \\\n",
       "232                         Former                       60.0   \n",
       "118                         Former                       60.0   \n",
       "73                          Former                        5.0   \n",
       "537                         Former                        5.0   \n",
       "103                        Current                       20.0   \n",
       "147                        Current                       20.0   \n",
       "28                          Former                       30.0   \n",
       "431                         Former                       30.0   \n",
       "120                         Former                       20.0   \n",
       "79                          Former                       20.0   \n",
       "614                            NaN                        NaN   \n",
       "665                            NaN                        NaN   \n",
       "40                          Former                       20.0   \n",
       "39                          Former                       20.0   \n",
       "356                         Former                       20.0   \n",
       "602                         Former                       20.0   \n",
       "140                         Former                       20.0   \n",
       "424                         Former                       20.0   \n",
       "183                            NaN                        NaN   \n",
       "438                            NaN                        NaN   \n",
       "361                        Current                       14.0   \n",
       "25                         Current                       14.0   \n",
       "60                          Former                       20.0   \n",
       "360                         Former                       20.0   \n",
       "329                        Current                       20.0   \n",
       "627                        Current                       20.0   \n",
       "104                         Former                       20.0   \n",
       "455                         Former                       20.0   \n",
       "94                          Former                       20.0   \n",
       "591                         Former                       20.0   \n",
       "532                         Former                       30.0   \n",
       "475                         Former                       30.0   \n",
       "321                            NaN                        NaN   \n",
       "240                            NaN                        NaN   \n",
       "142                         Former                       40.0   \n",
       "115                         Former                       40.0   \n",
       "551                         Former                       20.0   \n",
       "370                         Former                       20.0   \n",
       "344                         Former                       30.0   \n",
       "488                         Former                       30.0   \n",
       "108                         Former                       20.0   \n",
       "313                         Former                       20.0   \n",
       "367                         Former                       15.0   \n",
       "435                         Former                       15.0   \n",
       "\n",
       "     quit_year_final_corrected  pk_final_corrected  duration_final_corrected  \\\n",
       "232                      37.00                51.0                      17.0   \n",
       "118                      37.00                51.0                      17.0   \n",
       "73                        2.00                10.0                      40.0   \n",
       "537                       2.00                10.0                      40.0   \n",
       "103                       0.00                26.0                      26.0   \n",
       "147                       0.00                26.0                      26.0   \n",
       "28                        9.00                64.0                      43.0   \n",
       "431                       9.00                64.0                      43.0   \n",
       "120                      14.00                30.0                      30.0   \n",
       "79                       14.00                30.0                      30.0   \n",
       "614                        NaN                 NaN                       NaN   \n",
       "665                        NaN                 NaN                       NaN   \n",
       "40                        3.00                35.0                      35.0   \n",
       "39                        3.00                35.0                      35.0   \n",
       "356                       2.00                40.0                      40.0   \n",
       "602                       2.00                40.0                      40.0   \n",
       "140                       3.00                50.0                      50.0   \n",
       "424                       3.00                50.0                      50.0   \n",
       "183                        NaN                 NaN                       NaN   \n",
       "438                        NaN                 NaN                       NaN   \n",
       "361                       0.00                30.0                      43.0   \n",
       "25                        0.00                30.0                      43.0   \n",
       "60                       31.00                17.0                      17.0   \n",
       "360                      31.00                17.0                      17.0   \n",
       "329                       0.00                40.0                      40.0   \n",
       "627                       0.00                40.0                      40.0   \n",
       "104                      11.00                55.0                      55.0   \n",
       "455                      11.00                55.0                      55.0   \n",
       "94                       36.00                10.0                      10.0   \n",
       "591                      36.00                10.0                      10.0   \n",
       "532                      26.00                 NaN                       NaN   \n",
       "475                      26.00                 NaN                       NaN   \n",
       "321                        NaN                 NaN                       NaN   \n",
       "240                        NaN                 NaN                       NaN   \n",
       "142                       4.00                90.0                      45.0   \n",
       "115                       4.00                90.0                      45.0   \n",
       "551                      13.00                35.0                      35.0   \n",
       "370                      13.00                35.0                      35.0   \n",
       "344                      26.00                39.0                      26.0   \n",
       "488                      26.00                39.0                      26.0   \n",
       "108                       1.00                30.0                      30.0   \n",
       "313                       1.00                30.0                      30.0   \n",
       "367                       0.17                38.0                      51.0   \n",
       "435                       0.17                38.0                      51.0   \n",
       "\n",
       "    fam_hx_lc_new cci_t0                                   department_new  \\\n",
       "232           Yes    2-3  pulmonology&thoracic oncology/surgery/radiology   \n",
       "118           Yes    2-3  pulmonology&thoracic oncology/surgery/radiology   \n",
       "73             No    2-3                                 Other department   \n",
       "537            No    2-3                                 Other department   \n",
       "103            No    0-1                                 Other department   \n",
       "147            No    0-1                                 Other department   \n",
       "28             No    2-3                                 Other department   \n",
       "431            No    2-3                                 Other department   \n",
       "120            No    2-3                                 Other department   \n",
       "79             No    2-3                                 Other department   \n",
       "614           NaN    NaN                                              NaN   \n",
       "665           NaN    NaN                                              NaN   \n",
       "40            Yes    2-3                                 Other department   \n",
       "39            Yes    2-3                                 Other department   \n",
       "356           Yes    2-3                                 Other department   \n",
       "602           Yes    2-3                                 Other department   \n",
       "140           Yes    2-3                                 Other department   \n",
       "424           Yes    2-3                                 Other department   \n",
       "183           NaN    NaN                                              NaN   \n",
       "438           NaN    NaN                                              NaN   \n",
       "361            No    2-3                                 Other department   \n",
       "25             No    2-3                                 Other department   \n",
       "60             No    2-3                                 Other department   \n",
       "360            No    2-3                                 Other department   \n",
       "329            No    2-3                                 Other department   \n",
       "627            No    2-3                                 Other department   \n",
       "104           Yes    >=4                                 Other department   \n",
       "455           Yes    >=4                                 Other department   \n",
       "94             No    2-3                                 Other department   \n",
       "591            No    2-3                                 Other department   \n",
       "532            No    2-3                                 Other department   \n",
       "475            No    2-3                                 Other department   \n",
       "321           NaN    NaN                                              NaN   \n",
       "240           NaN    NaN                                              NaN   \n",
       "142            No    2-3                                 Other department   \n",
       "115            No    2-3                                 Other department   \n",
       "551            No    >=4                                 Other department   \n",
       "370            No    >=4                                 Other department   \n",
       "344            No    2-3                                 Other department   \n",
       "488            No    2-3                                 Other department   \n",
       "108           Yes    >=4                                 Other department   \n",
       "313           Yes    >=4                                 Other department   \n",
       "367            No    2-3                                 Other department   \n",
       "435            No    2-3                                 Other department   \n",
       "\n",
       "      loc_t0  median_income_new  adi_new  distance_to_center_new  \\\n",
       "232  90404.0            59695.0      2.0                    0.10   \n",
       "118  90404.0            59695.0      2.0                    0.10   \n",
       "73   90404.0           110854.0      1.0                    4.48   \n",
       "537  90404.0           110854.0      1.0                    4.48   \n",
       "103  90404.0            66744.0      2.0                    3.09   \n",
       "147  90404.0            66744.0      2.0                    3.09   \n",
       "28   90404.0            71424.0      1.0                    1.15   \n",
       "431  90404.0            71424.0      1.0                    1.15   \n",
       "120  90404.0            62794.0      2.0                    2.21   \n",
       "79   90404.0            62794.0      2.0                    2.21   \n",
       "614      NaN                NaN      NaN                     NaN   \n",
       "665      NaN                NaN      NaN                     NaN   \n",
       "40   90404.0            59695.0      2.0                    0.10   \n",
       "39   90404.0            59695.0      2.0                    0.10   \n",
       "356  90404.0            99314.0      6.0                   55.71   \n",
       "602  90404.0            99314.0      6.0                   55.71   \n",
       "140  90266.0            55415.0     10.0                   17.09   \n",
       "424  90266.0            55415.0     10.0                   17.09   \n",
       "183      NaN                NaN      NaN                     NaN   \n",
       "438      NaN                NaN      NaN                     NaN   \n",
       "361  90404.0           110854.0      1.0                    4.48   \n",
       "25   90404.0           110854.0      1.0                    4.48   \n",
       "60   90266.0            87308.0      1.0                    4.73   \n",
       "360  90266.0            87308.0      1.0                    4.73   \n",
       "329  90095.0            66744.0      3.0                    4.95   \n",
       "627  90095.0            66744.0      3.0                    4.95   \n",
       "104  90095.0                NaN      3.0                     NaN   \n",
       "455  90095.0                NaN      3.0                     NaN   \n",
       "94   90404.0            66744.0      4.0                    3.09   \n",
       "591  90404.0            66744.0      4.0                    3.09   \n",
       "532  90404.0            59329.0      NaN                   19.04   \n",
       "475  90404.0            59329.0      NaN                   19.04   \n",
       "321      NaN                NaN      NaN                     NaN   \n",
       "240      NaN                NaN      NaN                     NaN   \n",
       "142  90266.0            55138.0      NaN                    6.62   \n",
       "115  90266.0            55138.0      NaN                    6.62   \n",
       "551  90404.0            50996.0      6.0                   16.98   \n",
       "370  90404.0            50996.0      6.0                   16.98   \n",
       "344  90095.0            56946.0     10.0                    3.75   \n",
       "488  90095.0            56946.0     10.0                    3.75   \n",
       "108  90404.0            79736.0      1.0                    2.82   \n",
       "313  90404.0            79736.0      1.0                    2.82   \n",
       "367  90404.0            73478.0      3.0                    2.21   \n",
       "435  90404.0            73478.0      3.0                    2.21   \n",
       "\n",
       "              last_exam_type  interval_2016_to_last_img_exam  Diagnosis  \\\n",
       "232      Lung Screening LDCT                           915.0          0   \n",
       "118      Lung Screening LDCT                           733.0          0   \n",
       "73   Lung Diagnostic Imaging                           270.0          0   \n",
       "537  Lung Diagnostic Imaging                           213.0          0   \n",
       "103      Lung Screening LDCT                          2370.0          0   \n",
       "147      Lung Screening LDCT                          2190.0          0   \n",
       "28       Lung Screening LDCT                          2232.0          0   \n",
       "431      Lung Screening LDCT                          2072.0          0   \n",
       "120  Lung Diagnostic Imaging                          2548.0          0   \n",
       "79   Lung Diagnostic Imaging                          2417.0          0   \n",
       "614                      NaN                             NaN          0   \n",
       "665                      NaN                             NaN          0   \n",
       "40   Lung Diagnostic Imaging                          2535.0          1   \n",
       "39   Lung Diagnostic Imaging                          2430.0          1   \n",
       "356  Lung Diagnostic Imaging                           660.0          0   \n",
       "602  Lung Diagnostic Imaging                           420.0          0   \n",
       "140  Lung Diagnostic Imaging                          2570.0          1   \n",
       "424  Lung Diagnostic Imaging                          2478.0          1   \n",
       "183                      NaN                             NaN          0   \n",
       "438                      NaN                             NaN          0   \n",
       "361      Lung Screening LDCT                          2341.0          0   \n",
       "25       Lung Screening LDCT                          2142.0          0   \n",
       "60       Lung Screening LDCT                          2165.0          0   \n",
       "360      Lung Screening LDCT                          2016.0          0   \n",
       "329      Lung Screening LDCT                           139.0          0   \n",
       "627      Lung Screening LDCT                             0.0          0   \n",
       "104  Lung Diagnostic Imaging                           323.0          0   \n",
       "455  Lung Diagnostic Imaging                           152.0          0   \n",
       "94       Lung Screening LDCT                           178.0          0   \n",
       "591      Lung Screening LDCT                             0.0          0   \n",
       "532      Lung Screening LDCT                           153.0          0   \n",
       "475      Lung Screening LDCT                             0.0          0   \n",
       "321  Lung Non-Screening LDCT                          2304.0          0   \n",
       "240  Lung Non-Screening LDCT                          2148.0          0   \n",
       "142  Lung Diagnostic Imaging                           410.0          0   \n",
       "115  Lung Diagnostic Imaging                           222.0          0   \n",
       "551  Lung Diagnostic Imaging                          2491.0          1   \n",
       "370  Lung Diagnostic Imaging                          2369.0          1   \n",
       "344  Lung Diagnostic Imaging                          2463.0          0   \n",
       "488  Lung Diagnostic Imaging                          2287.0          0   \n",
       "108      Lung Screening LDCT                          2132.0          0   \n",
       "313      Lung Screening LDCT                          1959.0          0   \n",
       "367      Lung Screening LDCT                          2329.0          0   \n",
       "435      Lung Screening LDCT                          2241.0          0   \n",
       "\n",
       "     interval_ct_hist_as_year  last_exam_as_year  Day of Diagnosis  \\\n",
       "232                       NaN                  2             915.0   \n",
       "118                       NaN                  2             733.0   \n",
       "73                        NaN                  0             270.0   \n",
       "537                       NaN                  0             213.0   \n",
       "103                       NaN                  6            2370.0   \n",
       "147                       NaN                  6            2190.0   \n",
       "28                        NaN                  6            2232.0   \n",
       "431                       NaN                  5            2072.0   \n",
       "120                       NaN                  6            2548.0   \n",
       "79                        NaN                  6            2417.0   \n",
       "614                       NaN                  6               NaN   \n",
       "665                       NaN                  6               NaN   \n",
       "40                        4.0                  6            1626.0   \n",
       "39                        4.0                  6            1521.0   \n",
       "356                       NaN                  1             660.0   \n",
       "602                       NaN                  1             420.0   \n",
       "140                       0.0                  7             124.0   \n",
       "424                       0.0                  6              32.0   \n",
       "183                       NaN                  6               NaN   \n",
       "438                       NaN                  6               NaN   \n",
       "361                       NaN                  6            2341.0   \n",
       "25                        NaN                  5            2142.0   \n",
       "60                        NaN                  5            2165.0   \n",
       "360                       NaN                  5            2016.0   \n",
       "329                       NaN                  0             139.0   \n",
       "627                       NaN                  0               0.0   \n",
       "104                       NaN                  0             323.0   \n",
       "455                       NaN                  0             152.0   \n",
       "94                        NaN                  0             178.0   \n",
       "591                       NaN                  0               0.0   \n",
       "532                       NaN                  0             153.0   \n",
       "475                       NaN                  0               0.0   \n",
       "321                       NaN                  6            2304.0   \n",
       "240                       NaN                  5            2148.0   \n",
       "142                       NaN                  1             410.0   \n",
       "115                       NaN                  0             222.0   \n",
       "551                       3.0                  6            1130.0   \n",
       "370                       2.0                  6            1008.0   \n",
       "344                       NaN                  6            2463.0   \n",
       "488                       NaN                  6            2287.0   \n",
       "108                       NaN                  5            2132.0   \n",
       "313                       NaN                  5            1959.0   \n",
       "367                       NaN                  6            2329.0   \n",
       "435                       NaN                  6            2241.0   \n",
       "\n",
       "     Year of Diagnosis                                     Feature Vector  \\\n",
       "232                  2  [[0.0, 0.0, 0.0, 0.0, 0.0, 0.0, 0.0, 0.0, 0.0,...   \n",
       "118                  2  [[0.0, 0.0, 0.0, 0.0, 0.0, 0.0, 0.0, 0.0, 0.0,...   \n",
       "73                   0  [[0.0, 0.0, 0.0, 0.0, 0.0, 0.0, 0.0, 0.0, 0.0,...   \n",
       "537                  0  [[0.0, 0.0, 0.0, 0.0, 0.0, 0.0, 0.0, 0.0, 0.0,...   \n",
       "103                  6  [[0.0, 0.0, 0.0, 0.0, 0.0, 0.0, 0.0, 0.0, 0.0,...   \n",
       "147                  6  [[0.0, 0.0, 0.0, 0.0, 0.0, 0.0, 0.0, 0.0, 0.0,...   \n",
       "28                   6  [[0.0, 0.0, 0.0, 0.0, 0.0, 0.0, 0.0, 0.0, 0.0,...   \n",
       "431                  5  [[0.0, 0.0, 0.0, 0.0, 0.0, 0.0, 0.0, 0.0, 0.0,...   \n",
       "120                  6  [[0.0, 0.0, 0.0, 0.0, 0.0, 0.0, 0.0, 0.0, 0.0,...   \n",
       "79                   6  [[0.0, 0.0, 0.0, 0.0, 0.0, 0.0, 0.0, 0.0, 0.0,...   \n",
       "614                  6  [[0.0, 0.0, 0.0, 0.0, 0.0, 0.0, 0.0, 0.0, 0.0,...   \n",
       "665                  6  [[0.0, 0.0, 0.0, 0.0, 0.0, 0.0, 0.0, 0.0, 0.0,...   \n",
       "40                   4  [[0.0, 0.0, 0.0, 0.0, 0.0, 0.0, 0.0, 0.0, 0.0,...   \n",
       "39                   4  [[0.0, 0.0, 0.0, 0.0, 0.0, 0.0, 0.0, 0.0, 0.0,...   \n",
       "356                  1  [[0.0, 0.0, 0.0, 0.0, 0.0, 0.0, 0.0, 0.0, 0.0,...   \n",
       "602                  1  [[0.0, 0.0, 0.0, 0.0, 0.0, 0.0, 0.0, 0.0, 0.0,...   \n",
       "140                  0  [[0.0, 0.0, 0.0, 0.0, 0.0, 0.0, 0.0, 0.0, 0.0,...   \n",
       "424                  0  [[0.0, 0.0, 0.0, 0.0, 0.0, 0.0, 0.0, 0.0, 0.0,...   \n",
       "183                  6  [[0.0, 0.0, 0.0, 0.0, 0.0, 0.0, 0.0, 0.0, 0.0,...   \n",
       "438                  6  [[0.0, 0.0, 0.0, 0.0, 0.0, 0.0, 0.0, 0.0, 0.0,...   \n",
       "361                  6  [[0.0, 0.0, 0.0, 0.0, 0.0, 0.0, 0.0, 0.0, 0.0,...   \n",
       "25                   5  [[0.0, 0.0, 0.0, 0.0, 0.0, 0.0, 0.0, 0.0, 0.0,...   \n",
       "60                   5  [[0.0, 0.0, 0.0, 0.0, 0.0, 0.0, 0.0, 0.0, 0.0,...   \n",
       "360                  5  [[0.0, 0.0, 0.0, 0.0, 0.0, 0.0, 0.0, 0.0, 0.0,...   \n",
       "329                  0  [[0.0, 0.0, 0.0, 0.0, 0.0, 0.0, 0.0, 0.0, 0.0,...   \n",
       "627                  0  [[0.0, 0.0, 0.0, 0.0, 0.0, 0.0, 0.0, 0.0, 0.0,...   \n",
       "104                  0  [[0.0, 0.0, 0.0, 0.0, 0.0, 0.0, 0.0, 0.0, 0.0,...   \n",
       "455                  0  [[0.0, 0.0, 0.0, 0.0, 0.0, 0.0, 0.0, 0.0, 0.0,...   \n",
       "94                   0  [[0.0, 0.0, 0.0, 0.0, 0.0, 0.0, 0.0, 0.0, 0.0,...   \n",
       "591                  0  [[0.0, 0.0, 0.0, 0.0, 0.0, 0.0, 0.0, 0.0, 0.0,...   \n",
       "532                  0  [[0.0, 0.0, 0.0, 0.0, 0.0, 0.0, 0.0, 0.0, 0.0,...   \n",
       "475                  0  [[0.0, 0.0, 0.0, 0.0, 0.0, 0.0, 0.0, 0.0, 0.0,...   \n",
       "321                  6  [[0.0, 0.0, 0.0, 0.0, 0.0, 0.0, 0.0, 0.0, 0.0,...   \n",
       "240                  5  [[0.0, 0.0, 0.0, 0.0, 0.0, 0.0, 0.0, 0.0, 0.0,...   \n",
       "142                  1  [[0.0, 0.0, 0.0, 0.0, 0.0, 0.0, 0.0, 0.0, 0.0,...   \n",
       "115                  0  [[0.0, 0.0, 0.0, 0.0, 0.0, 0.0, 0.0, 0.0, 0.0,...   \n",
       "551                  3  [[0.0, 0.0, 0.0, 0.0, 0.0, 0.0, 0.0, 0.0, 0.0,...   \n",
       "370                  2  [[0.0, 0.0, 0.0, 0.0, 0.0, 0.0, 0.0, 0.0, 0.0,...   \n",
       "344                  6  [[0.0, 0.0, 0.0, 0.0, 0.0, 0.0, 0.0, 0.0, 0.0,...   \n",
       "488                  6  [[0.0, 0.0, 0.0, 0.0, 0.0, 0.0, 0.0, 0.0, 0.0,...   \n",
       "108                  5  [[0.0, 0.0, 0.0, 0.0, 0.0, 0.0, 0.0, 0.0, 0.0,...   \n",
       "313                  5  [[0.0, 0.0, 0.0, 0.0, 0.0, 0.0, 0.0, 0.0, 0.0,...   \n",
       "367                  6  [[0.0, 0.0, 0.0, 0.0, 0.0, 0.0, 0.0, 0.0, 0.0,...   \n",
       "435                  6  [[0.0, 0.0, 0.0, 0.0, 0.0, 0.0, 0.0, 0.0, 0.0,...   \n",
       "\n",
       "                                    Sybil 1 Prediction  \\\n",
       "232  [0.00024783147459727387, 0.0018443903490632462...   \n",
       "118  [0.002614143679095454, 0.006778430365650433, 0...   \n",
       "73   [0.03762263896943718, 0.07865623535891339, 0.1...   \n",
       "537  [0.14363418465561012, 0.18866856911754976, 0.2...   \n",
       "103  [0.0033378278896217693, 0.016646469849514296, ...   \n",
       "147  [0.002614143679095454, 0.012768073747244868, 0...   \n",
       "28   [0.002614143679095454, 0.01045940834560034, 0....   \n",
       "431  [0.0005993253234549188, 0.003348511228184125, ...   \n",
       "120  [0.010294141146778048, 0.02449007519844383, 0....   \n",
       "79   [0.002614143679095454, 0.01045940834560034, 0....   \n",
       "614  [0.22272114360981066, 0.3987438052143934, 0.44...   \n",
       "665  [0.21877109307449866, 0.3595618219325061, 0.40...   \n",
       "40   [0.03762263896943718, 0.07865623535891339, 0.0...   \n",
       "39   [0.11246132288020863, 0.16193415958964064, 0.1...   \n",
       "356  [0.014803430051891348, 0.025743208030524028, 0...   \n",
       "602  [0.010294141146778048, 0.02449007519844383, 0....   \n",
       "140  [0.16181030876077312, 0.25882490286155957, 0.2...   \n",
       "424  [0.21877109307449866, 0.28831909478968304, 0.3...   \n",
       "183  [0.2059775877949567, 0.27054151921513386, 0.30...   \n",
       "438  [0.014803430051891348, 0.025743208030524028, 0...   \n",
       "361  [0.024977851324649542, 0.06370672702705212, 0....   \n",
       "25   [0.00876742358952614, 0.01787919298309045, 0.0...   \n",
       "60   [0.00024783147459727387, 0.0018443903490632462...   \n",
       "360  [0.00024783147459727387, 0.0018443903490632462...   \n",
       "329  [0.08900949268596328, 0.13877252693191972, 0.1...   \n",
       "627  [0.1488691322901849, 0.19326993994595681, 0.21...   \n",
       "104  [0.0005993253234549188, 0.003348511228184125, ...   \n",
       "455  [0.00024783147459727387, 0.0018443903490632462...   \n",
       "94   [0.002614143679095454, 0.006778430365650433, 0...   \n",
       "591  [0.0005993253234549188, 0.003348511228184125, ...   \n",
       "532  [0.0005993253234549188, 0.003348511228184125, ...   \n",
       "475  [0.002614143679095454, 0.012768073747244868, 0...   \n",
       "321  [0.011891088336936041, 0.025743208030524028, 0...   \n",
       "240  [0.005670641576314818, 0.016728911619303625, 0...   \n",
       "142  [0.04766051775731597, 0.07865623535891339, 0.1...   \n",
       "115  [0.08900949268596328, 0.13877252693191972, 0.1...   \n",
       "551  [0.014803430051891348, 0.025743208030524028, 0...   \n",
       "370  [0.014803430051891348, 0.025743208030524028, 0...   \n",
       "344  [0.00024783147459727387, 0.0018443903490632462...   \n",
       "488  [0.00024783147459727387, 0.0018443903490632462...   \n",
       "108  [0.1488691322901849, 0.19326993994595681, 0.21...   \n",
       "313  [0.08832729602663451, 0.11812950893630043, 0.1...   \n",
       "367  [0.002614143679095454, 0.01045940834560034, 0....   \n",
       "435  [0.005670641576314818, 0.016728911619303625, 0...   \n",
       "\n",
       "                                    Sybil 2 Prediction  \\\n",
       "232  [0.0, 0.0005899705014749262, 0.002814979876759...   \n",
       "118  [0.0021648351611383253, 0.006532658626959574, ...   \n",
       "73   [0.01823439866278741, 0.02963307151006624, 0.0...   \n",
       "537  [0.024149747974363135, 0.0397637904643146, 0.0...   \n",
       "103  [0.007401745617755098, 0.01578939349874242, 0....   \n",
       "147  [0.007401745617755098, 0.01943424256123729, 0....   \n",
       "28   [0.005742515277543164, 0.01578939349874242, 0....   \n",
       "431  [0.0027640306463362803, 0.008246862026556234, ...   \n",
       "120  [0.01823439866278741, 0.02963307151006624, 0.0...   \n",
       "79   [0.003167443298374507, 0.00945461801592798, 0....   \n",
       "614  [0.21644599609072673, 0.2815120966716995, 0.33...   \n",
       "665  [0.2501067082908834, 0.36977443609022553, 0.39...   \n",
       "40   [0.05316137108975984, 0.11430125875784403, 0.1...   \n",
       "39   [0.1312585672021956, 0.17647784712667763, 0.20...   \n",
       "356  [0.007401745617755098, 0.01578939349874242, 0....   \n",
       "602  [0.005742515277543164, 0.01578939349874242, 0....   \n",
       "140  [0.024149747974363135, 0.0397637904643146, 0.0...   \n",
       "424  [0.061686301686301695, 0.11430125875784403, 0....   \n",
       "183  [0.21364714360796816, 0.2815120966716995, 0.32...   \n",
       "438  [0.007401745617755098, 0.01943424256123729, 0....   \n",
       "361  [0.007401745617755098, 0.01578939349874242, 0....   \n",
       "25   [0.003167443298374507, 0.011123455932676721, 0...   \n",
       "60   [0.0, 0.0005899705014749262, 0.002814979876759...   \n",
       "360  [0.0, 0.0017629910293341638, 0.005242449030307...   \n",
       "329  [0.16934291521465886, 0.23476486754083506, 0.2...   \n",
       "627  [0.2229369876879196, 0.294754522287761, 0.3441...   \n",
       "104  [0.002747925540147072, 0.008246862026556234, 0...   \n",
       "455  [0.0, 0.0005899705014749262, 0.002814979876759...   \n",
       "94   [0.003167443298374507, 0.00945461801592798, 0....   \n",
       "591  [0.0021648351611383253, 0.008246862026556234, ...   \n",
       "532  [0.0021648351611383253, 0.008246862026556234, ...   \n",
       "475  [0.005742515277543164, 0.01578939349874242, 0....   \n",
       "321  [0.007401745617755098, 0.01943424256123729, 0....   \n",
       "240  [0.005742515277543164, 0.01578939349874242, 0....   \n",
       "142  [0.01823439866278741, 0.02963307151006624, 0.0...   \n",
       "115  [0.05093914886753762, 0.09688824580730572, 0.1...   \n",
       "551  [0.007401745617755098, 0.01943424256123729, 0....   \n",
       "370  [0.024149747974363135, 0.0397637904643146, 0.0...   \n",
       "344  [0.002747925540147072, 0.008246862026556234, 0...   \n",
       "488  [0.0, 0.0017629910293341638, 0.004279090553600...   \n",
       "108  [0.046323764252152996, 0.09688824580730572, 0....   \n",
       "313  [0.04142830275291791, 0.07866102859355475, 0.1...   \n",
       "367  [0.007401745617755098, 0.01943424256123729, 0....   \n",
       "435  [0.005742515277543164, 0.01578939349874242, 0....   \n",
       "\n",
       "                                    Sybil 3 Prediction  \\\n",
       "232  [0.0006226553737865955, 0.005290044597760708, ...   \n",
       "118  [0.0033341079748987175, 0.013722021289276543, ...   \n",
       "73   [0.010123499886675302, 0.03287791302538494, 0....   \n",
       "537  [0.010123499886675302, 0.03287791302538494, 0....   \n",
       "103  [0.010123499886675302, 0.017200582710243863, 0...   \n",
       "147  [0.0065063051056874184, 0.015228657576554023, ...   \n",
       "28   [0.0006226553737865955, 0.005290044597760708, ...   \n",
       "431  [0.0002958579881656805, 0.00211893983897163, 0...   \n",
       "120  [0.007756305105687418, 0.015601745500941538, 0...   \n",
       "79   [0.0025488848819833166, 0.008828609215985637, ...   \n",
       "614  [0.19846320346320348, 0.3194397759103641, 0.35...   \n",
       "665  [0.1529039452771704, 0.23023540018463312, 0.24...   \n",
       "40   [0.024214780203470454, 0.04491920263564868, 0....   \n",
       "39   [0.08249151614668856, 0.12720408845141984, 0.1...   \n",
       "356  [0.024214780203470454, 0.043097148346112155, 0...   \n",
       "602  [0.024214780203470454, 0.04301444073088678, 0....   \n",
       "140  [0.04054368473496949, 0.059859678826124876, 0....   \n",
       "424  [0.05721481086998328, 0.08611164736164736, 0.1...   \n",
       "183  [0.2042293186554775, 0.32262187577303725, 0.38...   \n",
       "438  [0.010123499886675302, 0.017200582710243863, 0...   \n",
       "361  [0.05721481086998328, 0.08429346554346553, 0.1...   \n",
       "25   [0.0065063051056874184, 0.015601745500941538, ...   \n",
       "60   [0.0002958579881656805, 0.00211893983897163, 0...   \n",
       "360                     [0.0, 0.0, 0.0, 0.0, 0.0, 0.0]   \n",
       "329  [0.08898724264241506, 0.13120495495495493, 0.1...   \n",
       "627  [0.1529039452771704, 0.18384920634920632, 0.21...   \n",
       "104  [0.0006226553737865955, 0.003640400210403906, ...   \n",
       "455  [0.0002958579881656805, 0.00211893983897163, 0...   \n",
       "94   [0.0006226553737865955, 0.003640400210403906, ...   \n",
       "591  [0.0002958579881656805, 0.00211893983897163, 0...   \n",
       "532  [0.0006226553737865955, 0.005290044597760708, ...   \n",
       "475  [0.0060896384390207526, 0.014946661041082887, ...   \n",
       "321  [0.024214780203470454, 0.04301444073088678, 0....   \n",
       "240  [0.04054368473496949, 0.05800782697427302, 0.0...   \n",
       "142  [0.02598614704277985, 0.05198900535432231, 0.0...   \n",
       "115  [0.024214780203470454, 0.04491920263564868, 0....   \n",
       "551  [0.0065063051056874184, 0.015601745500941538, ...   \n",
       "370  [0.05721481086998328, 0.08429346554346553, 0.1...   \n",
       "344  [0.0006226553737865955, 0.0029286564381619134,...   \n",
       "488  [0.0006226553737865955, 0.0029286564381619134,...   \n",
       "108  [0.0453088622836522, 0.08277831402831402, 0.10...   \n",
       "313  [0.04054368473496949, 0.05800782697427302, 0.0...   \n",
       "367  [0.0065063051056874184, 0.015601745500941538, ...   \n",
       "435  [0.0006226553737865955, 0.0029286564381619134,...   \n",
       "\n",
       "                                    Sybil 4 Prediction  \\\n",
       "232  [0.001614987781699701, 0.006718101865562728, 0...   \n",
       "118  [0.002791824858990207, 0.009865956692336473, 0...   \n",
       "73   [0.03663718825844361, 0.053636415129716064, 0....   \n",
       "537  [0.010489318802199903, 0.029319487129935075, 0...   \n",
       "103  [0.0048837980632495, 0.01160030474031926, 0.02...   \n",
       "147  [0.010489318802199903, 0.023877310259186775, 0...   \n",
       "28   [0.005838330430977005, 0.01379944977048499, 0....   \n",
       "431  [0.0008275862068965517, 0.002675108186528246, ...   \n",
       "120  [0.0030404800908992702, 0.010096545775384573, ...   \n",
       "79   [0.002791824858990207, 0.009865956692336473, 0...   \n",
       "614  [0.12643278887540008, 0.17246701710987425, 0.2...   \n",
       "665  [0.12643278887540008, 0.18159400123685837, 0.2...   \n",
       "40   [0.031047826076789336, 0.05298986340557813, 0....   \n",
       "39   [0.12715880835087146, 0.18159400123685837, 0.2...   \n",
       "356  [0.008523112965026324, 0.0225606545646509, 0.0...   \n",
       "602  [0.007744554331982366, 0.01855492291246473, 0....   \n",
       "140  [0.010489318802199903, 0.023877310259186775, 0...   \n",
       "424  [0.04905731245968562, 0.0693908226737915, 0.09...   \n",
       "183  [0.04905731245968562, 0.0693908226737915, 0.08...   \n",
       "438  [0.0048837980632495, 0.01066372053610772, 0.01...   \n",
       "361  [0.010489318802199903, 0.023877310259186775, 0...   \n",
       "25   [0.0030404800908992702, 0.010096545775384573, ...   \n",
       "60   [0.0, 0.0015055175432533924, 0.007472889985015...   \n",
       "360  [0.002213790176909282, 0.009741252045447527, 0...   \n",
       "329  [0.04905731245968562, 0.10909247757073844, 0.1...   \n",
       "627  [0.15634953481245256, 0.2250283446712018, 0.22...   \n",
       "104  [0.0, 0.0015055175432533924, 0.007472889985015...   \n",
       "455  [0.0, 0.0004273504273504274, 0.002230460302749...   \n",
       "94   [0.002791824858990207, 0.009865956692336473, 0...   \n",
       "591  [0.0008275862068965517, 0.002675108186528246, ...   \n",
       "532  [0.0, 0.0015055175432533924, 0.007472889985015...   \n",
       "475  [0.002791824858990207, 0.009865956692336473, 0...   \n",
       "321  [0.002791824858990207, 0.009865956692336473, 0...   \n",
       "240  [0.005838330430977005, 0.01379944977048499, 0....   \n",
       "142  [0.06524778865016181, 0.13212092768400757, 0.1...   \n",
       "115  [0.06524778865016181, 0.1297870711976629, 0.12...   \n",
       "551  [0.010489318802199903, 0.029319487129935075, 0...   \n",
       "370  [0.04905731245968562, 0.06989667484571144, 0.0...   \n",
       "344  [0.0, 0.0004273504273504274, 0.001204819277108...   \n",
       "488  [0.0008275862068965517, 0.002675108186528246, ...   \n",
       "108  [0.07501790359269055, 0.13702279157276948, 0.1...   \n",
       "313  [0.12643278887540008, 0.17246701710987425, 0.2...   \n",
       "367  [0.0008275862068965517, 0.002675108186528246, ...   \n",
       "435  [0.002791824858990207, 0.009865956692336473, 0...   \n",
       "\n",
       "                                    Sybil 5 Prediction  \\\n",
       "232  [0.003391257415926386, 0.015639796644281157, 0...   \n",
       "118  [0.003391257415926386, 0.009784349687796911, 0...   \n",
       "73   [0.061784037558685445, 0.1233237014103887, 0.1...   \n",
       "537  [0.061784037558685445, 0.1233237014103887, 0.1...   \n",
       "103  [0.013722923177036656, 0.03340061339922101, 0....   \n",
       "147  [0.010185907900890943, 0.018393504597857973, 0...   \n",
       "28   [0.002639377716678266, 0.006418154872067668, 0...   \n",
       "431  [0.000625, 0.002668052668052668, 0.00819551456...   \n",
       "120  [0.013722923177036656, 0.03525246525107287, 0....   \n",
       "79   [0.0037604836589390364, 0.015639796644281157, ...   \n",
       "614  [0.19665317696931556, 0.2270348213404268, 0.24...   \n",
       "665  [0.21874624097130488, 0.35743971800945745, 0.4...   \n",
       "40   [0.06574539021569029, 0.13599999999999998, 0.1...   \n",
       "39   [0.210727294247293, 0.2792657610588645, 0.3802...   \n",
       "356  [0.013722923177036656, 0.03525246525107287, 0....   \n",
       "602  [0.010185907900890943, 0.018393504597857973, 0...   \n",
       "140  [0.04699133440777334, 0.07499942897841123, 0.1...   \n",
       "424  [0.08917640364670372, 0.14538596491228067, 0.1...   \n",
       "183  [0.06574539021569029, 0.13599999999999998, 0.1...   \n",
       "438  [0.010185907900890943, 0.02194807082731464, 0....   \n",
       "361  [0.01589278041259798, 0.03629576206901757, 0.0...   \n",
       "25   [0.013722923177036656, 0.03525246525107287, 0....   \n",
       "60   [0.0, 0.0013167013167013166, 0.006009722211571...   \n",
       "360  [0.003391257415926386, 0.009784349687796911, 0...   \n",
       "329  [0.061784037558685445, 0.12065703474372205, 0....   \n",
       "627  [0.19874624097130492, 0.2283667711598746, 0.24...   \n",
       "104  [0.0018241603253739177, 0.006418154872067668, ...   \n",
       "455  [0.002639377716678266, 0.006418154872067668, 0...   \n",
       "94   [0.002639377716678266, 0.009784349687796911, 0...   \n",
       "591  [0.0014358108108108109, 0.004088219803957519, ...   \n",
       "532  [0.002639377716678266, 0.007722677216193972, 0...   \n",
       "475  [0.003391257415926386, 0.015639796644281157, 0...   \n",
       "321  [0.010185907900890943, 0.019207990396578226, 0...   \n",
       "240  [0.0037604836589390364, 0.017633108558254014, ...   \n",
       "142  [0.061784037558685445, 0.09765983586417024, 0....   \n",
       "115  [0.061784037558685445, 0.09765983586417024, 0....   \n",
       "551  [0.013722923177036656, 0.02958032822300364, 0....   \n",
       "370  [0.01589278041259798, 0.03629576206901757, 0.0...   \n",
       "344  [0.003391257415926386, 0.010970075459655606, 0...   \n",
       "488  [0.002639377716678266, 0.007722677216193972, 0...   \n",
       "108  [0.04699133440777334, 0.07499942897841123, 0.1...   \n",
       "313  [0.061784037558685445, 0.1233237014103887, 0.1...   \n",
       "367  [0.002639377716678266, 0.006418154872067668, 0...   \n",
       "435  [0.002639377716678266, 0.010970075459655606, 0...   \n",
       "\n",
       "                             Sybil Ensemble Prediction  \n",
       "232  [0.0017836132345062697, 0.005281162890320399, ...  \n",
       "118  [0.0017836132345062697, 0.005733155166957225, ...  \n",
       "73   [0.02812232605712587, 0.05480245507725341, 0.0...  \n",
       "537  [0.03388673708469479, 0.0667378207277615, 0.09...  \n",
       "103  [0.010900917281180979, 0.022468311458281577, 0...  \n",
       "147  [0.007145048736580039, 0.02014553619432984, 0....  \n",
       "28   [0.0019649702414815395, 0.010089723091537396, ...  \n",
       "431  [0.0011701163019909324, 0.002554438672368111, ...  \n",
       "120  [0.010938370464701579, 0.02384829677758669, 0....  \n",
       "79   [0.0019649702414815395, 0.006792662605387028, ...  \n",
       "614  [0.25563025210084034, 0.33992633828160146, 0.3...  \n",
       "665  [0.25563025210084034, 0.3580424761440275, 0.37...  \n",
       "40   [0.03842782539003932, 0.06796830917179032, 0.0...  \n",
       "39   [0.1347000090358724, 0.20156874039938555, 0.21...  \n",
       "356  [0.012096924141240866, 0.024063714534164626, 0...  \n",
       "602  [0.010938370464701579, 0.02384829677758669, 0....  \n",
       "140  [0.04341054660850431, 0.06931846588905181, 0.0...  \n",
       "424  [0.11779524713111052, 0.16783944433313297, 0.1...  \n",
       "183  [0.1347000090358724, 0.20156874039938555, 0.21...  \n",
       "438  [0.010938370464701579, 0.02384829677758669, 0....  \n",
       "361  [0.021628819563619374, 0.03857256315036462, 0....  \n",
       "25   [0.007145048736580039, 0.01567411799742145, 0....  \n",
       "60   [0.0, 0.0015740740740740743, 0.002951348726509...  \n",
       "360  [0.0011701163019909324, 0.002554438672368111, ...  \n",
       "329  [0.11779524713111052, 0.16783944433313297, 0.1...  \n",
       "627  [0.19086834733893557, 0.2734935897435897, 0.28...  \n",
       "104  [0.0011701163019909324, 0.0038702281460523216,...  \n",
       "455  [0.00042105263157894734, 0.0020480077233631737...  \n",
       "94   [0.0017836132345062697, 0.005733155166957225, ...  \n",
       "591  [0.0011701163019909324, 0.002554438672368111, ...  \n",
       "532  [0.0017836132345062697, 0.005281162890320399, ...  \n",
       "475  [0.002191516327167115, 0.011458655748540176, 0...  \n",
       "321  [0.010900917281180979, 0.02384829677758669, 0....  \n",
       "240  [0.010900917281180979, 0.02384829677758669, 0....  \n",
       "142  [0.03388673708469479, 0.0667378207277615, 0.09...  \n",
       "115  [0.04341054660850431, 0.06931846588905181, 0.0...  \n",
       "551  [0.010938370464701579, 0.024063714534164626, 0...  \n",
       "370  [0.02812232605712587, 0.0501870704618688, 0.07...  \n",
       "344  [0.0011701163019909324, 0.005281162890320399, ...  \n",
       "488  [0.0011701163019909324, 0.002554438672368111, ...  \n",
       "108  [0.07695632798573974, 0.14351710001078866, 0.1...  \n",
       "313  [0.06699378116926033, 0.12865848818559583, 0.1...  \n",
       "367  [0.003950885877035175, 0.01567411799742145, 0....  \n",
       "435  [0.0019649702414815395, 0.011458655748540176, ...  "
      ]
     },
     "execution_count": 139,
     "metadata": {},
     "output_type": "execute_result"
    }
   ],
   "source": [
    "duplicates_df = final_evaluation_df[final_evaluation_df.duplicated('MRN_h', keep=False)]\n",
    "duplicates_df = duplicates_df.sort_values(['MRN_h', 'interval_2016_to_last_img_exam'], ascending=False)\n",
    "duplicates_df"
   ]
  },
  {
   "cell_type": "code",
   "execution_count": 147,
   "id": "fbe19408",
   "metadata": {},
   "outputs": [],
   "source": [
    "drop_duplicates_df = duplicates_df.drop_duplicates(subset='MRN_h', keep='last')"
   ]
  },
  {
   "cell_type": "code",
   "execution_count": 145,
   "id": "0a874f82",
   "metadata": {},
   "outputs": [
    {
     "data": {
      "text/html": [
       "<div>\n",
       "<style scoped>\n",
       "    .dataframe tbody tr th:only-of-type {\n",
       "        vertical-align: middle;\n",
       "    }\n",
       "\n",
       "    .dataframe tbody tr th {\n",
       "        vertical-align: top;\n",
       "    }\n",
       "\n",
       "    .dataframe thead th {\n",
       "        text-align: right;\n",
       "    }\n",
       "</style>\n",
       "<table border=\"1\" class=\"dataframe\">\n",
       "  <thead>\n",
       "    <tr style=\"text-align: right;\">\n",
       "      <th></th>\n",
       "      <th>AccessionNumber</th>\n",
       "      <th>SeriesInstanceUID</th>\n",
       "      <th>Diacom Directory</th>\n",
       "      <th>Unnamed: 0</th>\n",
       "      <th>MRN_h</th>\n",
       "      <th>Acc_num_h</th>\n",
       "      <th>exam_date</th>\n",
       "      <th>series_desc</th>\n",
       "      <th>hist</th>\n",
       "      <th>hist_category</th>\n",
       "      <th>stage</th>\n",
       "      <th>stage_category</th>\n",
       "      <th>post_screen_lc_x</th>\n",
       "      <th>interval_ct_hist</th>\n",
       "      <th>lungrads</th>\n",
       "      <th>sex</th>\n",
       "      <th>race_ethnicity_new</th>\n",
       "      <th>age_new</th>\n",
       "      <th>insurance_new</th>\n",
       "      <th>education_new</th>\n",
       "      <th>lungrads_category</th>\n",
       "      <th>post_screen_lc_y</th>\n",
       "      <th>eligibility_final_corrected</th>\n",
       "      <th>smoking_status_final_corrected</th>\n",
       "      <th>intensity_final_corrected</th>\n",
       "      <th>quit_year_final_corrected</th>\n",
       "      <th>pk_final_corrected</th>\n",
       "      <th>duration_final_corrected</th>\n",
       "      <th>fam_hx_lc_new</th>\n",
       "      <th>cci_t0</th>\n",
       "      <th>department_new</th>\n",
       "      <th>loc_t0</th>\n",
       "      <th>median_income_new</th>\n",
       "      <th>adi_new</th>\n",
       "      <th>distance_to_center_new</th>\n",
       "      <th>last_exam_type</th>\n",
       "      <th>interval_2016_to_last_img_exam</th>\n",
       "      <th>Diagnosis</th>\n",
       "      <th>interval_ct_hist_as_year</th>\n",
       "      <th>last_exam_as_year</th>\n",
       "      <th>Day of Diagnosis</th>\n",
       "      <th>Year of Diagnosis</th>\n",
       "      <th>Feature Vector</th>\n",
       "      <th>Sybil 1 Prediction</th>\n",
       "      <th>Sybil 2 Prediction</th>\n",
       "      <th>Sybil 3 Prediction</th>\n",
       "      <th>Sybil 4 Prediction</th>\n",
       "      <th>Sybil 5 Prediction</th>\n",
       "      <th>Sybil Ensemble Prediction</th>\n",
       "    </tr>\n",
       "  </thead>\n",
       "  <tbody>\n",
       "    <tr>\n",
       "      <th>232</th>\n",
       "      <td>2382810005</td>\n",
       "      <td>1.3.12.2.1107.5.1.4.60120.30000016060115243623...</td>\n",
       "      <td>/datasets/2382810005/Chest wo  1.0  B45f</td>\n",
       "      <td>3554</td>\n",
       "      <td>9514511616</td>\n",
       "      <td>2382810005</td>\n",
       "      <td>2016-06-01</td>\n",
       "      <td>Chest wo  1.0  B45f</td>\n",
       "      <td>NaN</td>\n",
       "      <td>NaN</td>\n",
       "      <td>NaN</td>\n",
       "      <td>NaN</td>\n",
       "      <td>NaN</td>\n",
       "      <td>NaN</td>\n",
       "      <td>1</td>\n",
       "      <td>Male</td>\n",
       "      <td>White</td>\n",
       "      <td>&gt;=65</td>\n",
       "      <td>Private or Commercial</td>\n",
       "      <td>NaN</td>\n",
       "      <td>1-2</td>\n",
       "      <td>NaN</td>\n",
       "      <td>Ineligible: years since quit&gt;15</td>\n",
       "      <td>Former</td>\n",
       "      <td>60.0</td>\n",
       "      <td>37.0</td>\n",
       "      <td>51.0</td>\n",
       "      <td>17.0</td>\n",
       "      <td>Yes</td>\n",
       "      <td>2-3</td>\n",
       "      <td>pulmonology&amp;thoracic oncology/surgery/radiology</td>\n",
       "      <td>90404.0</td>\n",
       "      <td>59695.0</td>\n",
       "      <td>2.0</td>\n",
       "      <td>0.10</td>\n",
       "      <td>Lung Screening LDCT</td>\n",
       "      <td>915.0</td>\n",
       "      <td>0</td>\n",
       "      <td>NaN</td>\n",
       "      <td>2</td>\n",
       "      <td>915.0</td>\n",
       "      <td>2</td>\n",
       "      <td>[[0.0, 0.0, 0.0, 0.0, 0.0, 0.0, 0.0, 0.0, 0.0,...</td>\n",
       "      <td>[0.00024783147459727387, 0.0018443903490632462...</td>\n",
       "      <td>[0.0, 0.0005899705014749262, 0.002814979876759...</td>\n",
       "      <td>[0.0006226553737865955, 0.005290044597760708, ...</td>\n",
       "      <td>[0.001614987781699701, 0.006718101865562728, 0...</td>\n",
       "      <td>[0.003391257415926386, 0.015639796644281157, 0...</td>\n",
       "      <td>[0.0017836132345062697, 0.005281162890320399, ...</td>\n",
       "    </tr>\n",
       "    <tr>\n",
       "      <th>118</th>\n",
       "      <td>1777455208</td>\n",
       "      <td>1.3.12.2.1107.5.1.4.60120.30000016113015123331...</td>\n",
       "      <td>/datasets/1777455208/Chest wo  1.0  B45f</td>\n",
       "      <td>4776</td>\n",
       "      <td>9514511616</td>\n",
       "      <td>1777455208</td>\n",
       "      <td>2016-11-30</td>\n",
       "      <td>Chest wo  1.0  B45f</td>\n",
       "      <td>NaN</td>\n",
       "      <td>NaN</td>\n",
       "      <td>NaN</td>\n",
       "      <td>NaN</td>\n",
       "      <td>NaN</td>\n",
       "      <td>NaN</td>\n",
       "      <td>1</td>\n",
       "      <td>Male</td>\n",
       "      <td>White</td>\n",
       "      <td>&gt;=65</td>\n",
       "      <td>Private or Commercial</td>\n",
       "      <td>NaN</td>\n",
       "      <td>1-2</td>\n",
       "      <td>NaN</td>\n",
       "      <td>Ineligible: years since quit&gt;15</td>\n",
       "      <td>Former</td>\n",
       "      <td>60.0</td>\n",
       "      <td>37.0</td>\n",
       "      <td>51.0</td>\n",
       "      <td>17.0</td>\n",
       "      <td>Yes</td>\n",
       "      <td>2-3</td>\n",
       "      <td>pulmonology&amp;thoracic oncology/surgery/radiology</td>\n",
       "      <td>90404.0</td>\n",
       "      <td>59695.0</td>\n",
       "      <td>2.0</td>\n",
       "      <td>0.10</td>\n",
       "      <td>Lung Screening LDCT</td>\n",
       "      <td>733.0</td>\n",
       "      <td>0</td>\n",
       "      <td>NaN</td>\n",
       "      <td>2</td>\n",
       "      <td>733.0</td>\n",
       "      <td>2</td>\n",
       "      <td>[[0.0, 0.0, 0.0, 0.0, 0.0, 0.0, 0.0, 0.0, 0.0,...</td>\n",
       "      <td>[0.002614143679095454, 0.006778430365650433, 0...</td>\n",
       "      <td>[0.0021648351611383253, 0.006532658626959574, ...</td>\n",
       "      <td>[0.0033341079748987175, 0.013722021289276543, ...</td>\n",
       "      <td>[0.002791824858990207, 0.009865956692336473, 0...</td>\n",
       "      <td>[0.003391257415926386, 0.009784349687796911, 0...</td>\n",
       "      <td>[0.0017836132345062697, 0.005733155166957225, ...</td>\n",
       "    </tr>\n",
       "    <tr>\n",
       "      <th>73</th>\n",
       "      <td>1496740476</td>\n",
       "      <td>1.3.12.2.1107.5.1.4.60120.30000016031015205611...</td>\n",
       "      <td>/datasets/1496740476/Chest wo  1.0  B45f</td>\n",
       "      <td>787</td>\n",
       "      <td>6928974397</td>\n",
       "      <td>1496740476</td>\n",
       "      <td>2016-03-10</td>\n",
       "      <td>Chest wo  1.0  B45f</td>\n",
       "      <td>NaN</td>\n",
       "      <td>NaN</td>\n",
       "      <td>NaN</td>\n",
       "      <td>NaN</td>\n",
       "      <td>NaN</td>\n",
       "      <td>NaN</td>\n",
       "      <td>4A</td>\n",
       "      <td>Male</td>\n",
       "      <td>White</td>\n",
       "      <td>&gt;=65</td>\n",
       "      <td>Medicare/Medicaid</td>\n",
       "      <td>College Graduate</td>\n",
       "      <td>3-4</td>\n",
       "      <td>NaN</td>\n",
       "      <td>Ineligible: pack-years&lt;30 - before</td>\n",
       "      <td>Former</td>\n",
       "      <td>5.0</td>\n",
       "      <td>2.0</td>\n",
       "      <td>10.0</td>\n",
       "      <td>40.0</td>\n",
       "      <td>No</td>\n",
       "      <td>2-3</td>\n",
       "      <td>Other department</td>\n",
       "      <td>90404.0</td>\n",
       "      <td>110854.0</td>\n",
       "      <td>1.0</td>\n",
       "      <td>4.48</td>\n",
       "      <td>Lung Diagnostic Imaging</td>\n",
       "      <td>270.0</td>\n",
       "      <td>0</td>\n",
       "      <td>NaN</td>\n",
       "      <td>0</td>\n",
       "      <td>270.0</td>\n",
       "      <td>0</td>\n",
       "      <td>[[0.0, 0.0, 0.0, 0.0, 0.0, 0.0, 0.0, 0.0, 0.0,...</td>\n",
       "      <td>[0.03762263896943718, 0.07865623535891339, 0.1...</td>\n",
       "      <td>[0.01823439866278741, 0.02963307151006624, 0.0...</td>\n",
       "      <td>[0.010123499886675302, 0.03287791302538494, 0....</td>\n",
       "      <td>[0.03663718825844361, 0.053636415129716064, 0....</td>\n",
       "      <td>[0.061784037558685445, 0.1233237014103887, 0.1...</td>\n",
       "      <td>[0.02812232605712587, 0.05480245507725341, 0.0...</td>\n",
       "    </tr>\n",
       "    <tr>\n",
       "      <th>537</th>\n",
       "      <td>1907321864</td>\n",
       "      <td>1.3.12.2.1107.5.1.4.51964.30000016050615572117...</td>\n",
       "      <td>/datasets/1907321864/Chest low dose  1.0  B50f</td>\n",
       "      <td>309</td>\n",
       "      <td>6928974397</td>\n",
       "      <td>1907321864</td>\n",
       "      <td>2016-05-06</td>\n",
       "      <td>Chest low dose  1.0  B50f</td>\n",
       "      <td>NaN</td>\n",
       "      <td>NaN</td>\n",
       "      <td>NaN</td>\n",
       "      <td>NaN</td>\n",
       "      <td>NaN</td>\n",
       "      <td>NaN</td>\n",
       "      <td>4A</td>\n",
       "      <td>Male</td>\n",
       "      <td>White</td>\n",
       "      <td>&gt;=65</td>\n",
       "      <td>Medicare/Medicaid</td>\n",
       "      <td>College Graduate</td>\n",
       "      <td>3-4</td>\n",
       "      <td>NaN</td>\n",
       "      <td>Ineligible: pack-years&lt;30 - before</td>\n",
       "      <td>Former</td>\n",
       "      <td>5.0</td>\n",
       "      <td>2.0</td>\n",
       "      <td>10.0</td>\n",
       "      <td>40.0</td>\n",
       "      <td>No</td>\n",
       "      <td>2-3</td>\n",
       "      <td>Other department</td>\n",
       "      <td>90404.0</td>\n",
       "      <td>110854.0</td>\n",
       "      <td>1.0</td>\n",
       "      <td>4.48</td>\n",
       "      <td>Lung Diagnostic Imaging</td>\n",
       "      <td>213.0</td>\n",
       "      <td>0</td>\n",
       "      <td>NaN</td>\n",
       "      <td>0</td>\n",
       "      <td>213.0</td>\n",
       "      <td>0</td>\n",
       "      <td>[[0.0, 0.0, 0.0, 0.0, 0.0, 0.0, 0.0, 0.0, 0.0,...</td>\n",
       "      <td>[0.14363418465561012, 0.18866856911754976, 0.2...</td>\n",
       "      <td>[0.024149747974363135, 0.0397637904643146, 0.0...</td>\n",
       "      <td>[0.010123499886675302, 0.03287791302538494, 0....</td>\n",
       "      <td>[0.010489318802199903, 0.029319487129935075, 0...</td>\n",
       "      <td>[0.061784037558685445, 0.1233237014103887, 0.1...</td>\n",
       "      <td>[0.03388673708469479, 0.0667378207277615, 0.09...</td>\n",
       "    </tr>\n",
       "    <tr>\n",
       "      <th>103</th>\n",
       "      <td>1680110787</td>\n",
       "      <td>1.3.12.2.1107.5.1.4.60120.30000016061515174560...</td>\n",
       "      <td>/datasets/1680110787/Chest wo  1.0  B45f</td>\n",
       "      <td>1419</td>\n",
       "      <td>6279224535</td>\n",
       "      <td>1680110787</td>\n",
       "      <td>2016-06-15</td>\n",
       "      <td>Chest wo  1.0  B45f</td>\n",
       "      <td>NaN</td>\n",
       "      <td>NaN</td>\n",
       "      <td>NaN</td>\n",
       "      <td>NaN</td>\n",
       "      <td>NaN</td>\n",
       "      <td>NaN</td>\n",
       "      <td>2</td>\n",
       "      <td>Male</td>\n",
       "      <td>White</td>\n",
       "      <td>&lt;65</td>\n",
       "      <td>Private or Commercial</td>\n",
       "      <td>High school graduate or GED</td>\n",
       "      <td>1-2</td>\n",
       "      <td>NaN</td>\n",
       "      <td>Newly eligible</td>\n",
       "      <td>Current</td>\n",
       "      <td>20.0</td>\n",
       "      <td>0.0</td>\n",
       "      <td>26.0</td>\n",
       "      <td>26.0</td>\n",
       "      <td>No</td>\n",
       "      <td>0-1</td>\n",
       "      <td>Other department</td>\n",
       "      <td>90404.0</td>\n",
       "      <td>66744.0</td>\n",
       "      <td>2.0</td>\n",
       "      <td>3.09</td>\n",
       "      <td>Lung Screening LDCT</td>\n",
       "      <td>2370.0</td>\n",
       "      <td>0</td>\n",
       "      <td>NaN</td>\n",
       "      <td>6</td>\n",
       "      <td>2370.0</td>\n",
       "      <td>6</td>\n",
       "      <td>[[0.0, 0.0, 0.0, 0.0, 0.0, 0.0, 0.0, 0.0, 0.0,...</td>\n",
       "      <td>[0.0033378278896217693, 0.016646469849514296, ...</td>\n",
       "      <td>[0.007401745617755098, 0.01578939349874242, 0....</td>\n",
       "      <td>[0.010123499886675302, 0.017200582710243863, 0...</td>\n",
       "      <td>[0.0048837980632495, 0.01160030474031926, 0.02...</td>\n",
       "      <td>[0.013722923177036656, 0.03340061339922101, 0....</td>\n",
       "      <td>[0.010900917281180979, 0.022468311458281577, 0...</td>\n",
       "    </tr>\n",
       "    <tr>\n",
       "      <th>147</th>\n",
       "      <td>1903295728</td>\n",
       "      <td>1.3.12.2.1107.5.1.4.60120.30000016121215300213...</td>\n",
       "      <td>/datasets/1903295728/Chest wo  1.0  B45f</td>\n",
       "      <td>640</td>\n",
       "      <td>6279224535</td>\n",
       "      <td>1903295728</td>\n",
       "      <td>2016-12-12</td>\n",
       "      <td>Chest wo  1.0  B45f</td>\n",
       "      <td>NaN</td>\n",
       "      <td>NaN</td>\n",
       "      <td>NaN</td>\n",
       "      <td>NaN</td>\n",
       "      <td>NaN</td>\n",
       "      <td>NaN</td>\n",
       "      <td>2</td>\n",
       "      <td>Male</td>\n",
       "      <td>White</td>\n",
       "      <td>&lt;65</td>\n",
       "      <td>Private or Commercial</td>\n",
       "      <td>High school graduate or GED</td>\n",
       "      <td>1-2</td>\n",
       "      <td>NaN</td>\n",
       "      <td>Newly eligible</td>\n",
       "      <td>Current</td>\n",
       "      <td>20.0</td>\n",
       "      <td>0.0</td>\n",
       "      <td>26.0</td>\n",
       "      <td>26.0</td>\n",
       "      <td>No</td>\n",
       "      <td>0-1</td>\n",
       "      <td>Other department</td>\n",
       "      <td>90404.0</td>\n",
       "      <td>66744.0</td>\n",
       "      <td>2.0</td>\n",
       "      <td>3.09</td>\n",
       "      <td>Lung Screening LDCT</td>\n",
       "      <td>2190.0</td>\n",
       "      <td>0</td>\n",
       "      <td>NaN</td>\n",
       "      <td>6</td>\n",
       "      <td>2190.0</td>\n",
       "      <td>6</td>\n",
       "      <td>[[0.0, 0.0, 0.0, 0.0, 0.0, 0.0, 0.0, 0.0, 0.0,...</td>\n",
       "      <td>[0.002614143679095454, 0.012768073747244868, 0...</td>\n",
       "      <td>[0.007401745617755098, 0.01943424256123729, 0....</td>\n",
       "      <td>[0.0065063051056874184, 0.015228657576554023, ...</td>\n",
       "      <td>[0.010489318802199903, 0.023877310259186775, 0...</td>\n",
       "      <td>[0.010185907900890943, 0.018393504597857973, 0...</td>\n",
       "      <td>[0.007145048736580039, 0.02014553619432984, 0....</td>\n",
       "    </tr>\n",
       "    <tr>\n",
       "      <th>28</th>\n",
       "      <td>1156164761</td>\n",
       "      <td>1.3.12.2.1107.5.1.4.60120.30000016071315281017...</td>\n",
       "      <td>/datasets/1156164761/Chest wo  1.0  B45f</td>\n",
       "      <td>4788</td>\n",
       "      <td>4365886903</td>\n",
       "      <td>1156164761</td>\n",
       "      <td>2016-07-13</td>\n",
       "      <td>Chest wo  1.0  B45f</td>\n",
       "      <td>NaN</td>\n",
       "      <td>NaN</td>\n",
       "      <td>NaN</td>\n",
       "      <td>NaN</td>\n",
       "      <td>NaN</td>\n",
       "      <td>NaN</td>\n",
       "      <td>2</td>\n",
       "      <td>Female</td>\n",
       "      <td>White</td>\n",
       "      <td>&gt;=65</td>\n",
       "      <td>Medicare/Medicaid</td>\n",
       "      <td>NaN</td>\n",
       "      <td>1-2</td>\n",
       "      <td>NaN</td>\n",
       "      <td>Eligible by 2013 USPSTF guidelines</td>\n",
       "      <td>Former</td>\n",
       "      <td>30.0</td>\n",
       "      <td>9.0</td>\n",
       "      <td>64.0</td>\n",
       "      <td>43.0</td>\n",
       "      <td>No</td>\n",
       "      <td>2-3</td>\n",
       "      <td>Other department</td>\n",
       "      <td>90404.0</td>\n",
       "      <td>71424.0</td>\n",
       "      <td>1.0</td>\n",
       "      <td>1.15</td>\n",
       "      <td>Lung Screening LDCT</td>\n",
       "      <td>2232.0</td>\n",
       "      <td>0</td>\n",
       "      <td>NaN</td>\n",
       "      <td>6</td>\n",
       "      <td>2232.0</td>\n",
       "      <td>6</td>\n",
       "      <td>[[0.0, 0.0, 0.0, 0.0, 0.0, 0.0, 0.0, 0.0, 0.0,...</td>\n",
       "      <td>[0.002614143679095454, 0.01045940834560034, 0....</td>\n",
       "      <td>[0.005742515277543164, 0.01578939349874242, 0....</td>\n",
       "      <td>[0.0006226553737865955, 0.005290044597760708, ...</td>\n",
       "      <td>[0.005838330430977005, 0.01379944977048499, 0....</td>\n",
       "      <td>[0.002639377716678266, 0.006418154872067668, 0...</td>\n",
       "      <td>[0.0019649702414815395, 0.010089723091537396, ...</td>\n",
       "    </tr>\n",
       "    <tr>\n",
       "      <th>431</th>\n",
       "      <td>4415158803</td>\n",
       "      <td>1.3.12.2.1107.5.1.4.60120.30000016122015262317...</td>\n",
       "      <td>/datasets/4415158803/Chest wo  1.0  B45f</td>\n",
       "      <td>3852</td>\n",
       "      <td>4365886903</td>\n",
       "      <td>4415158803</td>\n",
       "      <td>2016-12-20</td>\n",
       "      <td>Chest wo  1.0  B45f</td>\n",
       "      <td>NaN</td>\n",
       "      <td>NaN</td>\n",
       "      <td>NaN</td>\n",
       "      <td>NaN</td>\n",
       "      <td>NaN</td>\n",
       "      <td>NaN</td>\n",
       "      <td>2</td>\n",
       "      <td>Female</td>\n",
       "      <td>White</td>\n",
       "      <td>&gt;=65</td>\n",
       "      <td>Medicare/Medicaid</td>\n",
       "      <td>NaN</td>\n",
       "      <td>1-2</td>\n",
       "      <td>NaN</td>\n",
       "      <td>Eligible by 2013 USPSTF guidelines</td>\n",
       "      <td>Former</td>\n",
       "      <td>30.0</td>\n",
       "      <td>9.0</td>\n",
       "      <td>64.0</td>\n",
       "      <td>43.0</td>\n",
       "      <td>No</td>\n",
       "      <td>2-3</td>\n",
       "      <td>Other department</td>\n",
       "      <td>90404.0</td>\n",
       "      <td>71424.0</td>\n",
       "      <td>1.0</td>\n",
       "      <td>1.15</td>\n",
       "      <td>Lung Screening LDCT</td>\n",
       "      <td>2072.0</td>\n",
       "      <td>0</td>\n",
       "      <td>NaN</td>\n",
       "      <td>5</td>\n",
       "      <td>2072.0</td>\n",
       "      <td>5</td>\n",
       "      <td>[[0.0, 0.0, 0.0, 0.0, 0.0, 0.0, 0.0, 0.0, 0.0,...</td>\n",
       "      <td>[0.0005993253234549188, 0.003348511228184125, ...</td>\n",
       "      <td>[0.0027640306463362803, 0.008246862026556234, ...</td>\n",
       "      <td>[0.0002958579881656805, 0.00211893983897163, 0...</td>\n",
       "      <td>[0.0008275862068965517, 0.002675108186528246, ...</td>\n",
       "      <td>[0.000625, 0.002668052668052668, 0.00819551456...</td>\n",
       "      <td>[0.0011701163019909324, 0.002554438672368111, ...</td>\n",
       "    </tr>\n",
       "  </tbody>\n",
       "</table>\n",
       "</div>"
      ],
      "text/plain": [
       "     AccessionNumber                                  SeriesInstanceUID  \\\n",
       "232       2382810005  1.3.12.2.1107.5.1.4.60120.30000016060115243623...   \n",
       "118       1777455208  1.3.12.2.1107.5.1.4.60120.30000016113015123331...   \n",
       "73        1496740476  1.3.12.2.1107.5.1.4.60120.30000016031015205611...   \n",
       "537       1907321864  1.3.12.2.1107.5.1.4.51964.30000016050615572117...   \n",
       "103       1680110787  1.3.12.2.1107.5.1.4.60120.30000016061515174560...   \n",
       "147       1903295728  1.3.12.2.1107.5.1.4.60120.30000016121215300213...   \n",
       "28        1156164761  1.3.12.2.1107.5.1.4.60120.30000016071315281017...   \n",
       "431       4415158803  1.3.12.2.1107.5.1.4.60120.30000016122015262317...   \n",
       "\n",
       "                                   Diacom Directory  Unnamed: 0       MRN_h  \\\n",
       "232        /datasets/2382810005/Chest wo  1.0  B45f        3554  9514511616   \n",
       "118        /datasets/1777455208/Chest wo  1.0  B45f        4776  9514511616   \n",
       "73         /datasets/1496740476/Chest wo  1.0  B45f         787  6928974397   \n",
       "537  /datasets/1907321864/Chest low dose  1.0  B50f         309  6928974397   \n",
       "103        /datasets/1680110787/Chest wo  1.0  B45f        1419  6279224535   \n",
       "147        /datasets/1903295728/Chest wo  1.0  B45f         640  6279224535   \n",
       "28         /datasets/1156164761/Chest wo  1.0  B45f        4788  4365886903   \n",
       "431        /datasets/4415158803/Chest wo  1.0  B45f        3852  4365886903   \n",
       "\n",
       "      Acc_num_h  exam_date                series_desc hist hist_category  \\\n",
       "232  2382810005 2016-06-01        Chest wo  1.0  B45f  NaN           NaN   \n",
       "118  1777455208 2016-11-30        Chest wo  1.0  B45f  NaN           NaN   \n",
       "73   1496740476 2016-03-10        Chest wo  1.0  B45f  NaN           NaN   \n",
       "537  1907321864 2016-05-06  Chest low dose  1.0  B50f  NaN           NaN   \n",
       "103  1680110787 2016-06-15        Chest wo  1.0  B45f  NaN           NaN   \n",
       "147  1903295728 2016-12-12        Chest wo  1.0  B45f  NaN           NaN   \n",
       "28   1156164761 2016-07-13        Chest wo  1.0  B45f  NaN           NaN   \n",
       "431  4415158803 2016-12-20        Chest wo  1.0  B45f  NaN           NaN   \n",
       "\n",
       "    stage stage_category post_screen_lc_x  interval_ct_hist lungrads     sex  \\\n",
       "232   NaN            NaN              NaN               NaN        1    Male   \n",
       "118   NaN            NaN              NaN               NaN        1    Male   \n",
       "73    NaN            NaN              NaN               NaN       4A    Male   \n",
       "537   NaN            NaN              NaN               NaN       4A    Male   \n",
       "103   NaN            NaN              NaN               NaN        2    Male   \n",
       "147   NaN            NaN              NaN               NaN        2    Male   \n",
       "28    NaN            NaN              NaN               NaN        2  Female   \n",
       "431   NaN            NaN              NaN               NaN        2  Female   \n",
       "\n",
       "    race_ethnicity_new age_new          insurance_new  \\\n",
       "232              White    >=65  Private or Commercial   \n",
       "118              White    >=65  Private or Commercial   \n",
       "73               White    >=65      Medicare/Medicaid   \n",
       "537              White    >=65      Medicare/Medicaid   \n",
       "103              White     <65  Private or Commercial   \n",
       "147              White     <65  Private or Commercial   \n",
       "28               White    >=65      Medicare/Medicaid   \n",
       "431              White    >=65      Medicare/Medicaid   \n",
       "\n",
       "                   education_new lungrads_category post_screen_lc_y  \\\n",
       "232                          NaN               1-2              NaN   \n",
       "118                          NaN               1-2              NaN   \n",
       "73              College Graduate               3-4              NaN   \n",
       "537             College Graduate               3-4              NaN   \n",
       "103  High school graduate or GED               1-2              NaN   \n",
       "147  High school graduate or GED               1-2              NaN   \n",
       "28                           NaN               1-2              NaN   \n",
       "431                          NaN               1-2              NaN   \n",
       "\n",
       "            eligibility_final_corrected smoking_status_final_corrected  \\\n",
       "232     Ineligible: years since quit>15                         Former   \n",
       "118     Ineligible: years since quit>15                         Former   \n",
       "73   Ineligible: pack-years<30 - before                         Former   \n",
       "537  Ineligible: pack-years<30 - before                         Former   \n",
       "103                      Newly eligible                        Current   \n",
       "147                      Newly eligible                        Current   \n",
       "28   Eligible by 2013 USPSTF guidelines                         Former   \n",
       "431  Eligible by 2013 USPSTF guidelines                         Former   \n",
       "\n",
       "     intensity_final_corrected  quit_year_final_corrected  pk_final_corrected  \\\n",
       "232                       60.0                       37.0                51.0   \n",
       "118                       60.0                       37.0                51.0   \n",
       "73                         5.0                        2.0                10.0   \n",
       "537                        5.0                        2.0                10.0   \n",
       "103                       20.0                        0.0                26.0   \n",
       "147                       20.0                        0.0                26.0   \n",
       "28                        30.0                        9.0                64.0   \n",
       "431                       30.0                        9.0                64.0   \n",
       "\n",
       "     duration_final_corrected fam_hx_lc_new cci_t0  \\\n",
       "232                      17.0           Yes    2-3   \n",
       "118                      17.0           Yes    2-3   \n",
       "73                       40.0            No    2-3   \n",
       "537                      40.0            No    2-3   \n",
       "103                      26.0            No    0-1   \n",
       "147                      26.0            No    0-1   \n",
       "28                       43.0            No    2-3   \n",
       "431                      43.0            No    2-3   \n",
       "\n",
       "                                      department_new   loc_t0  \\\n",
       "232  pulmonology&thoracic oncology/surgery/radiology  90404.0   \n",
       "118  pulmonology&thoracic oncology/surgery/radiology  90404.0   \n",
       "73                                  Other department  90404.0   \n",
       "537                                 Other department  90404.0   \n",
       "103                                 Other department  90404.0   \n",
       "147                                 Other department  90404.0   \n",
       "28                                  Other department  90404.0   \n",
       "431                                 Other department  90404.0   \n",
       "\n",
       "     median_income_new  adi_new  distance_to_center_new  \\\n",
       "232            59695.0      2.0                    0.10   \n",
       "118            59695.0      2.0                    0.10   \n",
       "73            110854.0      1.0                    4.48   \n",
       "537           110854.0      1.0                    4.48   \n",
       "103            66744.0      2.0                    3.09   \n",
       "147            66744.0      2.0                    3.09   \n",
       "28             71424.0      1.0                    1.15   \n",
       "431            71424.0      1.0                    1.15   \n",
       "\n",
       "              last_exam_type  interval_2016_to_last_img_exam  Diagnosis  \\\n",
       "232      Lung Screening LDCT                           915.0          0   \n",
       "118      Lung Screening LDCT                           733.0          0   \n",
       "73   Lung Diagnostic Imaging                           270.0          0   \n",
       "537  Lung Diagnostic Imaging                           213.0          0   \n",
       "103      Lung Screening LDCT                          2370.0          0   \n",
       "147      Lung Screening LDCT                          2190.0          0   \n",
       "28       Lung Screening LDCT                          2232.0          0   \n",
       "431      Lung Screening LDCT                          2072.0          0   \n",
       "\n",
       "     interval_ct_hist_as_year  last_exam_as_year  Day of Diagnosis  \\\n",
       "232                       NaN                  2             915.0   \n",
       "118                       NaN                  2             733.0   \n",
       "73                        NaN                  0             270.0   \n",
       "537                       NaN                  0             213.0   \n",
       "103                       NaN                  6            2370.0   \n",
       "147                       NaN                  6            2190.0   \n",
       "28                        NaN                  6            2232.0   \n",
       "431                       NaN                  5            2072.0   \n",
       "\n",
       "     Year of Diagnosis                                     Feature Vector  \\\n",
       "232                  2  [[0.0, 0.0, 0.0, 0.0, 0.0, 0.0, 0.0, 0.0, 0.0,...   \n",
       "118                  2  [[0.0, 0.0, 0.0, 0.0, 0.0, 0.0, 0.0, 0.0, 0.0,...   \n",
       "73                   0  [[0.0, 0.0, 0.0, 0.0, 0.0, 0.0, 0.0, 0.0, 0.0,...   \n",
       "537                  0  [[0.0, 0.0, 0.0, 0.0, 0.0, 0.0, 0.0, 0.0, 0.0,...   \n",
       "103                  6  [[0.0, 0.0, 0.0, 0.0, 0.0, 0.0, 0.0, 0.0, 0.0,...   \n",
       "147                  6  [[0.0, 0.0, 0.0, 0.0, 0.0, 0.0, 0.0, 0.0, 0.0,...   \n",
       "28                   6  [[0.0, 0.0, 0.0, 0.0, 0.0, 0.0, 0.0, 0.0, 0.0,...   \n",
       "431                  5  [[0.0, 0.0, 0.0, 0.0, 0.0, 0.0, 0.0, 0.0, 0.0,...   \n",
       "\n",
       "                                    Sybil 1 Prediction  \\\n",
       "232  [0.00024783147459727387, 0.0018443903490632462...   \n",
       "118  [0.002614143679095454, 0.006778430365650433, 0...   \n",
       "73   [0.03762263896943718, 0.07865623535891339, 0.1...   \n",
       "537  [0.14363418465561012, 0.18866856911754976, 0.2...   \n",
       "103  [0.0033378278896217693, 0.016646469849514296, ...   \n",
       "147  [0.002614143679095454, 0.012768073747244868, 0...   \n",
       "28   [0.002614143679095454, 0.01045940834560034, 0....   \n",
       "431  [0.0005993253234549188, 0.003348511228184125, ...   \n",
       "\n",
       "                                    Sybil 2 Prediction  \\\n",
       "232  [0.0, 0.0005899705014749262, 0.002814979876759...   \n",
       "118  [0.0021648351611383253, 0.006532658626959574, ...   \n",
       "73   [0.01823439866278741, 0.02963307151006624, 0.0...   \n",
       "537  [0.024149747974363135, 0.0397637904643146, 0.0...   \n",
       "103  [0.007401745617755098, 0.01578939349874242, 0....   \n",
       "147  [0.007401745617755098, 0.01943424256123729, 0....   \n",
       "28   [0.005742515277543164, 0.01578939349874242, 0....   \n",
       "431  [0.0027640306463362803, 0.008246862026556234, ...   \n",
       "\n",
       "                                    Sybil 3 Prediction  \\\n",
       "232  [0.0006226553737865955, 0.005290044597760708, ...   \n",
       "118  [0.0033341079748987175, 0.013722021289276543, ...   \n",
       "73   [0.010123499886675302, 0.03287791302538494, 0....   \n",
       "537  [0.010123499886675302, 0.03287791302538494, 0....   \n",
       "103  [0.010123499886675302, 0.017200582710243863, 0...   \n",
       "147  [0.0065063051056874184, 0.015228657576554023, ...   \n",
       "28   [0.0006226553737865955, 0.005290044597760708, ...   \n",
       "431  [0.0002958579881656805, 0.00211893983897163, 0...   \n",
       "\n",
       "                                    Sybil 4 Prediction  \\\n",
       "232  [0.001614987781699701, 0.006718101865562728, 0...   \n",
       "118  [0.002791824858990207, 0.009865956692336473, 0...   \n",
       "73   [0.03663718825844361, 0.053636415129716064, 0....   \n",
       "537  [0.010489318802199903, 0.029319487129935075, 0...   \n",
       "103  [0.0048837980632495, 0.01160030474031926, 0.02...   \n",
       "147  [0.010489318802199903, 0.023877310259186775, 0...   \n",
       "28   [0.005838330430977005, 0.01379944977048499, 0....   \n",
       "431  [0.0008275862068965517, 0.002675108186528246, ...   \n",
       "\n",
       "                                    Sybil 5 Prediction  \\\n",
       "232  [0.003391257415926386, 0.015639796644281157, 0...   \n",
       "118  [0.003391257415926386, 0.009784349687796911, 0...   \n",
       "73   [0.061784037558685445, 0.1233237014103887, 0.1...   \n",
       "537  [0.061784037558685445, 0.1233237014103887, 0.1...   \n",
       "103  [0.013722923177036656, 0.03340061339922101, 0....   \n",
       "147  [0.010185907900890943, 0.018393504597857973, 0...   \n",
       "28   [0.002639377716678266, 0.006418154872067668, 0...   \n",
       "431  [0.000625, 0.002668052668052668, 0.00819551456...   \n",
       "\n",
       "                             Sybil Ensemble Prediction  \n",
       "232  [0.0017836132345062697, 0.005281162890320399, ...  \n",
       "118  [0.0017836132345062697, 0.005733155166957225, ...  \n",
       "73   [0.02812232605712587, 0.05480245507725341, 0.0...  \n",
       "537  [0.03388673708469479, 0.0667378207277615, 0.09...  \n",
       "103  [0.010900917281180979, 0.022468311458281577, 0...  \n",
       "147  [0.007145048736580039, 0.02014553619432984, 0....  \n",
       "28   [0.0019649702414815395, 0.010089723091537396, ...  \n",
       "431  [0.0011701163019909324, 0.002554438672368111, ...  "
      ]
     },
     "execution_count": 145,
     "metadata": {},
     "output_type": "execute_result"
    }
   ],
   "source": [
    "duplicates_df.head(8)"
   ]
  },
  {
   "cell_type": "code",
   "execution_count": 148,
   "id": "4f651783",
   "metadata": {},
   "outputs": [
    {
     "data": {
      "text/html": [
       "<div>\n",
       "<style scoped>\n",
       "    .dataframe tbody tr th:only-of-type {\n",
       "        vertical-align: middle;\n",
       "    }\n",
       "\n",
       "    .dataframe tbody tr th {\n",
       "        vertical-align: top;\n",
       "    }\n",
       "\n",
       "    .dataframe thead th {\n",
       "        text-align: right;\n",
       "    }\n",
       "</style>\n",
       "<table border=\"1\" class=\"dataframe\">\n",
       "  <thead>\n",
       "    <tr style=\"text-align: right;\">\n",
       "      <th></th>\n",
       "      <th>AccessionNumber</th>\n",
       "      <th>SeriesInstanceUID</th>\n",
       "      <th>Diacom Directory</th>\n",
       "      <th>Unnamed: 0</th>\n",
       "      <th>MRN_h</th>\n",
       "      <th>Acc_num_h</th>\n",
       "      <th>exam_date</th>\n",
       "      <th>series_desc</th>\n",
       "      <th>hist</th>\n",
       "      <th>hist_category</th>\n",
       "      <th>stage</th>\n",
       "      <th>stage_category</th>\n",
       "      <th>post_screen_lc_x</th>\n",
       "      <th>interval_ct_hist</th>\n",
       "      <th>lungrads</th>\n",
       "      <th>sex</th>\n",
       "      <th>race_ethnicity_new</th>\n",
       "      <th>age_new</th>\n",
       "      <th>insurance_new</th>\n",
       "      <th>education_new</th>\n",
       "      <th>lungrads_category</th>\n",
       "      <th>post_screen_lc_y</th>\n",
       "      <th>eligibility_final_corrected</th>\n",
       "      <th>smoking_status_final_corrected</th>\n",
       "      <th>intensity_final_corrected</th>\n",
       "      <th>quit_year_final_corrected</th>\n",
       "      <th>pk_final_corrected</th>\n",
       "      <th>duration_final_corrected</th>\n",
       "      <th>fam_hx_lc_new</th>\n",
       "      <th>cci_t0</th>\n",
       "      <th>department_new</th>\n",
       "      <th>loc_t0</th>\n",
       "      <th>median_income_new</th>\n",
       "      <th>adi_new</th>\n",
       "      <th>distance_to_center_new</th>\n",
       "      <th>last_exam_type</th>\n",
       "      <th>interval_2016_to_last_img_exam</th>\n",
       "      <th>Diagnosis</th>\n",
       "      <th>interval_ct_hist_as_year</th>\n",
       "      <th>last_exam_as_year</th>\n",
       "      <th>Day of Diagnosis</th>\n",
       "      <th>Year of Diagnosis</th>\n",
       "      <th>Feature Vector</th>\n",
       "      <th>Sybil 1 Prediction</th>\n",
       "      <th>Sybil 2 Prediction</th>\n",
       "      <th>Sybil 3 Prediction</th>\n",
       "      <th>Sybil 4 Prediction</th>\n",
       "      <th>Sybil 5 Prediction</th>\n",
       "      <th>Sybil Ensemble Prediction</th>\n",
       "    </tr>\n",
       "  </thead>\n",
       "  <tbody>\n",
       "    <tr>\n",
       "      <th>118</th>\n",
       "      <td>1777455208</td>\n",
       "      <td>1.3.12.2.1107.5.1.4.60120.30000016113015123331...</td>\n",
       "      <td>/datasets/1777455208/Chest wo  1.0  B45f</td>\n",
       "      <td>4776</td>\n",
       "      <td>9514511616</td>\n",
       "      <td>1777455208</td>\n",
       "      <td>2016-11-30</td>\n",
       "      <td>Chest wo  1.0  B45f</td>\n",
       "      <td>NaN</td>\n",
       "      <td>NaN</td>\n",
       "      <td>NaN</td>\n",
       "      <td>NaN</td>\n",
       "      <td>NaN</td>\n",
       "      <td>NaN</td>\n",
       "      <td>1</td>\n",
       "      <td>Male</td>\n",
       "      <td>White</td>\n",
       "      <td>&gt;=65</td>\n",
       "      <td>Private or Commercial</td>\n",
       "      <td>NaN</td>\n",
       "      <td>1-2</td>\n",
       "      <td>NaN</td>\n",
       "      <td>Ineligible: years since quit&gt;15</td>\n",
       "      <td>Former</td>\n",
       "      <td>60.0</td>\n",
       "      <td>37.0</td>\n",
       "      <td>51.0</td>\n",
       "      <td>17.0</td>\n",
       "      <td>Yes</td>\n",
       "      <td>2-3</td>\n",
       "      <td>pulmonology&amp;thoracic oncology/surgery/radiology</td>\n",
       "      <td>90404.0</td>\n",
       "      <td>59695.0</td>\n",
       "      <td>2.0</td>\n",
       "      <td>0.10</td>\n",
       "      <td>Lung Screening LDCT</td>\n",
       "      <td>733.0</td>\n",
       "      <td>0</td>\n",
       "      <td>NaN</td>\n",
       "      <td>2</td>\n",
       "      <td>733.0</td>\n",
       "      <td>2</td>\n",
       "      <td>[[0.0, 0.0, 0.0, 0.0, 0.0, 0.0, 0.0, 0.0, 0.0,...</td>\n",
       "      <td>[0.002614143679095454, 0.006778430365650433, 0...</td>\n",
       "      <td>[0.0021648351611383253, 0.006532658626959574, ...</td>\n",
       "      <td>[0.0033341079748987175, 0.013722021289276543, ...</td>\n",
       "      <td>[0.002791824858990207, 0.009865956692336473, 0...</td>\n",
       "      <td>[0.003391257415926386, 0.009784349687796911, 0...</td>\n",
       "      <td>[0.0017836132345062697, 0.005733155166957225, ...</td>\n",
       "    </tr>\n",
       "    <tr>\n",
       "      <th>537</th>\n",
       "      <td>1907321864</td>\n",
       "      <td>1.3.12.2.1107.5.1.4.51964.30000016050615572117...</td>\n",
       "      <td>/datasets/1907321864/Chest low dose  1.0  B50f</td>\n",
       "      <td>309</td>\n",
       "      <td>6928974397</td>\n",
       "      <td>1907321864</td>\n",
       "      <td>2016-05-06</td>\n",
       "      <td>Chest low dose  1.0  B50f</td>\n",
       "      <td>NaN</td>\n",
       "      <td>NaN</td>\n",
       "      <td>NaN</td>\n",
       "      <td>NaN</td>\n",
       "      <td>NaN</td>\n",
       "      <td>NaN</td>\n",
       "      <td>4A</td>\n",
       "      <td>Male</td>\n",
       "      <td>White</td>\n",
       "      <td>&gt;=65</td>\n",
       "      <td>Medicare/Medicaid</td>\n",
       "      <td>College Graduate</td>\n",
       "      <td>3-4</td>\n",
       "      <td>NaN</td>\n",
       "      <td>Ineligible: pack-years&lt;30 - before</td>\n",
       "      <td>Former</td>\n",
       "      <td>5.0</td>\n",
       "      <td>2.0</td>\n",
       "      <td>10.0</td>\n",
       "      <td>40.0</td>\n",
       "      <td>No</td>\n",
       "      <td>2-3</td>\n",
       "      <td>Other department</td>\n",
       "      <td>90404.0</td>\n",
       "      <td>110854.0</td>\n",
       "      <td>1.0</td>\n",
       "      <td>4.48</td>\n",
       "      <td>Lung Diagnostic Imaging</td>\n",
       "      <td>213.0</td>\n",
       "      <td>0</td>\n",
       "      <td>NaN</td>\n",
       "      <td>0</td>\n",
       "      <td>213.0</td>\n",
       "      <td>0</td>\n",
       "      <td>[[0.0, 0.0, 0.0, 0.0, 0.0, 0.0, 0.0, 0.0, 0.0,...</td>\n",
       "      <td>[0.14363418465561012, 0.18866856911754976, 0.2...</td>\n",
       "      <td>[0.024149747974363135, 0.0397637904643146, 0.0...</td>\n",
       "      <td>[0.010123499886675302, 0.03287791302538494, 0....</td>\n",
       "      <td>[0.010489318802199903, 0.029319487129935075, 0...</td>\n",
       "      <td>[0.061784037558685445, 0.1233237014103887, 0.1...</td>\n",
       "      <td>[0.03388673708469479, 0.0667378207277615, 0.09...</td>\n",
       "    </tr>\n",
       "    <tr>\n",
       "      <th>147</th>\n",
       "      <td>1903295728</td>\n",
       "      <td>1.3.12.2.1107.5.1.4.60120.30000016121215300213...</td>\n",
       "      <td>/datasets/1903295728/Chest wo  1.0  B45f</td>\n",
       "      <td>640</td>\n",
       "      <td>6279224535</td>\n",
       "      <td>1903295728</td>\n",
       "      <td>2016-12-12</td>\n",
       "      <td>Chest wo  1.0  B45f</td>\n",
       "      <td>NaN</td>\n",
       "      <td>NaN</td>\n",
       "      <td>NaN</td>\n",
       "      <td>NaN</td>\n",
       "      <td>NaN</td>\n",
       "      <td>NaN</td>\n",
       "      <td>2</td>\n",
       "      <td>Male</td>\n",
       "      <td>White</td>\n",
       "      <td>&lt;65</td>\n",
       "      <td>Private or Commercial</td>\n",
       "      <td>High school graduate or GED</td>\n",
       "      <td>1-2</td>\n",
       "      <td>NaN</td>\n",
       "      <td>Newly eligible</td>\n",
       "      <td>Current</td>\n",
       "      <td>20.0</td>\n",
       "      <td>0.0</td>\n",
       "      <td>26.0</td>\n",
       "      <td>26.0</td>\n",
       "      <td>No</td>\n",
       "      <td>0-1</td>\n",
       "      <td>Other department</td>\n",
       "      <td>90404.0</td>\n",
       "      <td>66744.0</td>\n",
       "      <td>2.0</td>\n",
       "      <td>3.09</td>\n",
       "      <td>Lung Screening LDCT</td>\n",
       "      <td>2190.0</td>\n",
       "      <td>0</td>\n",
       "      <td>NaN</td>\n",
       "      <td>6</td>\n",
       "      <td>2190.0</td>\n",
       "      <td>6</td>\n",
       "      <td>[[0.0, 0.0, 0.0, 0.0, 0.0, 0.0, 0.0, 0.0, 0.0,...</td>\n",
       "      <td>[0.002614143679095454, 0.012768073747244868, 0...</td>\n",
       "      <td>[0.007401745617755098, 0.01943424256123729, 0....</td>\n",
       "      <td>[0.0065063051056874184, 0.015228657576554023, ...</td>\n",
       "      <td>[0.010489318802199903, 0.023877310259186775, 0...</td>\n",
       "      <td>[0.010185907900890943, 0.018393504597857973, 0...</td>\n",
       "      <td>[0.007145048736580039, 0.02014553619432984, 0....</td>\n",
       "    </tr>\n",
       "    <tr>\n",
       "      <th>431</th>\n",
       "      <td>4415158803</td>\n",
       "      <td>1.3.12.2.1107.5.1.4.60120.30000016122015262317...</td>\n",
       "      <td>/datasets/4415158803/Chest wo  1.0  B45f</td>\n",
       "      <td>3852</td>\n",
       "      <td>4365886903</td>\n",
       "      <td>4415158803</td>\n",
       "      <td>2016-12-20</td>\n",
       "      <td>Chest wo  1.0  B45f</td>\n",
       "      <td>NaN</td>\n",
       "      <td>NaN</td>\n",
       "      <td>NaN</td>\n",
       "      <td>NaN</td>\n",
       "      <td>NaN</td>\n",
       "      <td>NaN</td>\n",
       "      <td>2</td>\n",
       "      <td>Female</td>\n",
       "      <td>White</td>\n",
       "      <td>&gt;=65</td>\n",
       "      <td>Medicare/Medicaid</td>\n",
       "      <td>NaN</td>\n",
       "      <td>1-2</td>\n",
       "      <td>NaN</td>\n",
       "      <td>Eligible by 2013 USPSTF guidelines</td>\n",
       "      <td>Former</td>\n",
       "      <td>30.0</td>\n",
       "      <td>9.0</td>\n",
       "      <td>64.0</td>\n",
       "      <td>43.0</td>\n",
       "      <td>No</td>\n",
       "      <td>2-3</td>\n",
       "      <td>Other department</td>\n",
       "      <td>90404.0</td>\n",
       "      <td>71424.0</td>\n",
       "      <td>1.0</td>\n",
       "      <td>1.15</td>\n",
       "      <td>Lung Screening LDCT</td>\n",
       "      <td>2072.0</td>\n",
       "      <td>0</td>\n",
       "      <td>NaN</td>\n",
       "      <td>5</td>\n",
       "      <td>2072.0</td>\n",
       "      <td>5</td>\n",
       "      <td>[[0.0, 0.0, 0.0, 0.0, 0.0, 0.0, 0.0, 0.0, 0.0,...</td>\n",
       "      <td>[0.0005993253234549188, 0.003348511228184125, ...</td>\n",
       "      <td>[0.0027640306463362803, 0.008246862026556234, ...</td>\n",
       "      <td>[0.0002958579881656805, 0.00211893983897163, 0...</td>\n",
       "      <td>[0.0008275862068965517, 0.002675108186528246, ...</td>\n",
       "      <td>[0.000625, 0.002668052668052668, 0.00819551456...</td>\n",
       "      <td>[0.0011701163019909324, 0.002554438672368111, ...</td>\n",
       "    </tr>\n",
       "  </tbody>\n",
       "</table>\n",
       "</div>"
      ],
      "text/plain": [
       "     AccessionNumber                                  SeriesInstanceUID  \\\n",
       "118       1777455208  1.3.12.2.1107.5.1.4.60120.30000016113015123331...   \n",
       "537       1907321864  1.3.12.2.1107.5.1.4.51964.30000016050615572117...   \n",
       "147       1903295728  1.3.12.2.1107.5.1.4.60120.30000016121215300213...   \n",
       "431       4415158803  1.3.12.2.1107.5.1.4.60120.30000016122015262317...   \n",
       "\n",
       "                                   Diacom Directory  Unnamed: 0       MRN_h  \\\n",
       "118        /datasets/1777455208/Chest wo  1.0  B45f        4776  9514511616   \n",
       "537  /datasets/1907321864/Chest low dose  1.0  B50f         309  6928974397   \n",
       "147        /datasets/1903295728/Chest wo  1.0  B45f         640  6279224535   \n",
       "431        /datasets/4415158803/Chest wo  1.0  B45f        3852  4365886903   \n",
       "\n",
       "      Acc_num_h  exam_date                series_desc hist hist_category  \\\n",
       "118  1777455208 2016-11-30        Chest wo  1.0  B45f  NaN           NaN   \n",
       "537  1907321864 2016-05-06  Chest low dose  1.0  B50f  NaN           NaN   \n",
       "147  1903295728 2016-12-12        Chest wo  1.0  B45f  NaN           NaN   \n",
       "431  4415158803 2016-12-20        Chest wo  1.0  B45f  NaN           NaN   \n",
       "\n",
       "    stage stage_category post_screen_lc_x  interval_ct_hist lungrads     sex  \\\n",
       "118   NaN            NaN              NaN               NaN        1    Male   \n",
       "537   NaN            NaN              NaN               NaN       4A    Male   \n",
       "147   NaN            NaN              NaN               NaN        2    Male   \n",
       "431   NaN            NaN              NaN               NaN        2  Female   \n",
       "\n",
       "    race_ethnicity_new age_new          insurance_new  \\\n",
       "118              White    >=65  Private or Commercial   \n",
       "537              White    >=65      Medicare/Medicaid   \n",
       "147              White     <65  Private or Commercial   \n",
       "431              White    >=65      Medicare/Medicaid   \n",
       "\n",
       "                   education_new lungrads_category post_screen_lc_y  \\\n",
       "118                          NaN               1-2              NaN   \n",
       "537             College Graduate               3-4              NaN   \n",
       "147  High school graduate or GED               1-2              NaN   \n",
       "431                          NaN               1-2              NaN   \n",
       "\n",
       "            eligibility_final_corrected smoking_status_final_corrected  \\\n",
       "118     Ineligible: years since quit>15                         Former   \n",
       "537  Ineligible: pack-years<30 - before                         Former   \n",
       "147                      Newly eligible                        Current   \n",
       "431  Eligible by 2013 USPSTF guidelines                         Former   \n",
       "\n",
       "     intensity_final_corrected  quit_year_final_corrected  pk_final_corrected  \\\n",
       "118                       60.0                       37.0                51.0   \n",
       "537                        5.0                        2.0                10.0   \n",
       "147                       20.0                        0.0                26.0   \n",
       "431                       30.0                        9.0                64.0   \n",
       "\n",
       "     duration_final_corrected fam_hx_lc_new cci_t0  \\\n",
       "118                      17.0           Yes    2-3   \n",
       "537                      40.0            No    2-3   \n",
       "147                      26.0            No    0-1   \n",
       "431                      43.0            No    2-3   \n",
       "\n",
       "                                      department_new   loc_t0  \\\n",
       "118  pulmonology&thoracic oncology/surgery/radiology  90404.0   \n",
       "537                                 Other department  90404.0   \n",
       "147                                 Other department  90404.0   \n",
       "431                                 Other department  90404.0   \n",
       "\n",
       "     median_income_new  adi_new  distance_to_center_new  \\\n",
       "118            59695.0      2.0                    0.10   \n",
       "537           110854.0      1.0                    4.48   \n",
       "147            66744.0      2.0                    3.09   \n",
       "431            71424.0      1.0                    1.15   \n",
       "\n",
       "              last_exam_type  interval_2016_to_last_img_exam  Diagnosis  \\\n",
       "118      Lung Screening LDCT                           733.0          0   \n",
       "537  Lung Diagnostic Imaging                           213.0          0   \n",
       "147      Lung Screening LDCT                          2190.0          0   \n",
       "431      Lung Screening LDCT                          2072.0          0   \n",
       "\n",
       "     interval_ct_hist_as_year  last_exam_as_year  Day of Diagnosis  \\\n",
       "118                       NaN                  2             733.0   \n",
       "537                       NaN                  0             213.0   \n",
       "147                       NaN                  6            2190.0   \n",
       "431                       NaN                  5            2072.0   \n",
       "\n",
       "     Year of Diagnosis                                     Feature Vector  \\\n",
       "118                  2  [[0.0, 0.0, 0.0, 0.0, 0.0, 0.0, 0.0, 0.0, 0.0,...   \n",
       "537                  0  [[0.0, 0.0, 0.0, 0.0, 0.0, 0.0, 0.0, 0.0, 0.0,...   \n",
       "147                  6  [[0.0, 0.0, 0.0, 0.0, 0.0, 0.0, 0.0, 0.0, 0.0,...   \n",
       "431                  5  [[0.0, 0.0, 0.0, 0.0, 0.0, 0.0, 0.0, 0.0, 0.0,...   \n",
       "\n",
       "                                    Sybil 1 Prediction  \\\n",
       "118  [0.002614143679095454, 0.006778430365650433, 0...   \n",
       "537  [0.14363418465561012, 0.18866856911754976, 0.2...   \n",
       "147  [0.002614143679095454, 0.012768073747244868, 0...   \n",
       "431  [0.0005993253234549188, 0.003348511228184125, ...   \n",
       "\n",
       "                                    Sybil 2 Prediction  \\\n",
       "118  [0.0021648351611383253, 0.006532658626959574, ...   \n",
       "537  [0.024149747974363135, 0.0397637904643146, 0.0...   \n",
       "147  [0.007401745617755098, 0.01943424256123729, 0....   \n",
       "431  [0.0027640306463362803, 0.008246862026556234, ...   \n",
       "\n",
       "                                    Sybil 3 Prediction  \\\n",
       "118  [0.0033341079748987175, 0.013722021289276543, ...   \n",
       "537  [0.010123499886675302, 0.03287791302538494, 0....   \n",
       "147  [0.0065063051056874184, 0.015228657576554023, ...   \n",
       "431  [0.0002958579881656805, 0.00211893983897163, 0...   \n",
       "\n",
       "                                    Sybil 4 Prediction  \\\n",
       "118  [0.002791824858990207, 0.009865956692336473, 0...   \n",
       "537  [0.010489318802199903, 0.029319487129935075, 0...   \n",
       "147  [0.010489318802199903, 0.023877310259186775, 0...   \n",
       "431  [0.0008275862068965517, 0.002675108186528246, ...   \n",
       "\n",
       "                                    Sybil 5 Prediction  \\\n",
       "118  [0.003391257415926386, 0.009784349687796911, 0...   \n",
       "537  [0.061784037558685445, 0.1233237014103887, 0.1...   \n",
       "147  [0.010185907900890943, 0.018393504597857973, 0...   \n",
       "431  [0.000625, 0.002668052668052668, 0.00819551456...   \n",
       "\n",
       "                             Sybil Ensemble Prediction  \n",
       "118  [0.0017836132345062697, 0.005733155166957225, ...  \n",
       "537  [0.03388673708469479, 0.0667378207277615, 0.09...  \n",
       "147  [0.007145048736580039, 0.02014553619432984, 0....  \n",
       "431  [0.0011701163019909324, 0.002554438672368111, ...  "
      ]
     },
     "execution_count": 148,
     "metadata": {},
     "output_type": "execute_result"
    }
   ],
   "source": [
    "drop_duplicates_df.head(4)"
   ]
  },
  {
   "cell_type": "code",
   "execution_count": 153,
   "id": "d705a327",
   "metadata": {},
   "outputs": [],
   "source": [
    "SeriesInstanceUID = drop_duplicates_df['SeriesInstanceUID'].tolist()"
   ]
  },
  {
   "cell_type": "code",
   "execution_count": 155,
   "id": "d12ffff1",
   "metadata": {},
   "outputs": [],
   "source": [
    "# Create a boolean mask\n",
    "mask = final_evaluation_df['SeriesInstanceUID'].isin(SeriesInstanceUID)\n",
    "\n",
    "# Use the mask to filter the DataFrame and drop the rows\n",
    "final_evaluation_no_duplicates_df = final_evaluation_df[~mask]"
   ]
  },
  {
   "cell_type": "code",
   "execution_count": 157,
   "id": "04b38cce",
   "metadata": {},
   "outputs": [
    {
     "data": {
      "text/plain": [
       "650"
      ]
     },
     "execution_count": 157,
     "metadata": {},
     "output_type": "execute_result"
    }
   ],
   "source": [
    "len(final_evaluation_no_duplicates_df)"
   ]
  },
  {
   "cell_type": "code",
   "execution_count": 156,
   "id": "bf6f8408",
   "metadata": {},
   "outputs": [
    {
     "data": {
      "text/plain": [
       "650"
      ]
     },
     "execution_count": 156,
     "metadata": {},
     "output_type": "execute_result"
    }
   ],
   "source": [
    "len(final_evaluation_no_duplicates_df['MRN_h'].unique())"
   ]
  },
  {
   "cell_type": "code",
   "execution_count": 211,
   "id": "8341b7ae",
   "metadata": {},
   "outputs": [
    {
     "data": {
      "text/plain": [
       "(650, 49)"
      ]
     },
     "execution_count": 211,
     "metadata": {},
     "output_type": "execute_result"
    }
   ],
   "source": [
    "final_evaluation_no_duplicates_df.loc[final_evaluation_df['MRN_h']==1725698813]"
   ]
  },
  {
   "cell_type": "code",
   "execution_count": 219,
   "id": "534da0a0",
   "metadata": {},
   "outputs": [
    {
     "data": {
      "text/plain": [
       "(650, 1)"
      ]
     },
     "execution_count": 219,
     "metadata": {},
     "output_type": "execute_result"
    }
   ],
   "source": [
    "feature_vector_no_duplicates = pd.DataFrame(final_evaluation_no_duplicates_df['Feature Vector'])\n",
    "feature_vector_no_duplicates.shape"
   ]
  },
  {
   "cell_type": "code",
   "execution_count": 225,
   "id": "c32086a5",
   "metadata": {},
   "outputs": [
    {
     "data": {
      "text/plain": [
       "(650, 3)"
      ]
     },
     "execution_count": 225,
     "metadata": {},
     "output_type": "execute_result"
    }
   ],
   "source": [
    "risk_scores_no_duplicates = pd.DataFrame(final_evaluation_no_duplicates_df[['AccessionNumber','SeriesInstanceUID','Sybil Ensemble Prediction']])\n",
    "risk_scores_no_duplicates.shape"
   ]
  },
  {
   "cell_type": "code",
   "execution_count": 134,
   "id": "d3459273",
   "metadata": {},
   "outputs": [
    {
     "data": {
      "text/plain": [
       "44"
      ]
     },
     "execution_count": 134,
     "metadata": {},
     "output_type": "execute_result"
    }
   ],
   "source": [
    "len(duplicates_df)"
   ]
  },
  {
   "cell_type": "code",
   "execution_count": 128,
   "id": "23221c29",
   "metadata": {},
   "outputs": [
    {
     "data": {
      "text/html": [
       "<div>\n",
       "<style scoped>\n",
       "    .dataframe tbody tr th:only-of-type {\n",
       "        vertical-align: middle;\n",
       "    }\n",
       "\n",
       "    .dataframe tbody tr th {\n",
       "        vertical-align: top;\n",
       "    }\n",
       "\n",
       "    .dataframe thead th {\n",
       "        text-align: right;\n",
       "    }\n",
       "</style>\n",
       "<table border=\"1\" class=\"dataframe\">\n",
       "  <thead>\n",
       "    <tr style=\"text-align: right;\">\n",
       "      <th></th>\n",
       "      <th>AccessionNumber</th>\n",
       "      <th>SeriesInstanceUID</th>\n",
       "      <th>Diacom Directory</th>\n",
       "      <th>Unnamed: 0</th>\n",
       "      <th>MRN_h</th>\n",
       "      <th>Acc_num_h</th>\n",
       "      <th>exam_date</th>\n",
       "      <th>series_desc</th>\n",
       "      <th>hist</th>\n",
       "      <th>hist_category</th>\n",
       "      <th>stage</th>\n",
       "      <th>stage_category</th>\n",
       "      <th>post_screen_lc_x</th>\n",
       "      <th>interval_ct_hist</th>\n",
       "      <th>lungrads</th>\n",
       "      <th>sex</th>\n",
       "      <th>race_ethnicity_new</th>\n",
       "      <th>age_new</th>\n",
       "      <th>insurance_new</th>\n",
       "      <th>education_new</th>\n",
       "      <th>lungrads_category</th>\n",
       "      <th>post_screen_lc_y</th>\n",
       "      <th>eligibility_final_corrected</th>\n",
       "      <th>smoking_status_final_corrected</th>\n",
       "      <th>intensity_final_corrected</th>\n",
       "      <th>quit_year_final_corrected</th>\n",
       "      <th>pk_final_corrected</th>\n",
       "      <th>duration_final_corrected</th>\n",
       "      <th>fam_hx_lc_new</th>\n",
       "      <th>cci_t0</th>\n",
       "      <th>department_new</th>\n",
       "      <th>loc_t0</th>\n",
       "      <th>median_income_new</th>\n",
       "      <th>adi_new</th>\n",
       "      <th>distance_to_center_new</th>\n",
       "      <th>last_exam_type</th>\n",
       "      <th>interval_2016_to_last_img_exam</th>\n",
       "      <th>Diagnosis</th>\n",
       "      <th>interval_ct_hist_as_year</th>\n",
       "      <th>last_exam_as_year</th>\n",
       "      <th>Day of Diagnosis</th>\n",
       "      <th>Year of Diagnosis</th>\n",
       "      <th>Feature Vector</th>\n",
       "      <th>Sybil 1 Prediction</th>\n",
       "      <th>Sybil 2 Prediction</th>\n",
       "      <th>Sybil 3 Prediction</th>\n",
       "      <th>Sybil 4 Prediction</th>\n",
       "      <th>Sybil 5 Prediction</th>\n",
       "      <th>Sybil Ensemble Prediction</th>\n",
       "    </tr>\n",
       "  </thead>\n",
       "  <tbody>\n",
       "    <tr>\n",
       "      <th>28</th>\n",
       "      <td>1156164761</td>\n",
       "      <td>1.3.12.2.1107.5.1.4.60120.30000016071315281017...</td>\n",
       "      <td>/datasets/1156164761/Chest wo  1.0  B45f</td>\n",
       "      <td>4788</td>\n",
       "      <td>4365886903</td>\n",
       "      <td>1156164761</td>\n",
       "      <td>2016-07-13</td>\n",
       "      <td>Chest wo  1.0  B45f</td>\n",
       "      <td>NaN</td>\n",
       "      <td>NaN</td>\n",
       "      <td>NaN</td>\n",
       "      <td>NaN</td>\n",
       "      <td>NaN</td>\n",
       "      <td>NaN</td>\n",
       "      <td>2</td>\n",
       "      <td>Female</td>\n",
       "      <td>White</td>\n",
       "      <td>&gt;=65</td>\n",
       "      <td>Medicare/Medicaid</td>\n",
       "      <td>NaN</td>\n",
       "      <td>1-2</td>\n",
       "      <td>NaN</td>\n",
       "      <td>Eligible by 2013 USPSTF guidelines</td>\n",
       "      <td>Former</td>\n",
       "      <td>30.0</td>\n",
       "      <td>9.0</td>\n",
       "      <td>64.0</td>\n",
       "      <td>43.0</td>\n",
       "      <td>No</td>\n",
       "      <td>2-3</td>\n",
       "      <td>Other department</td>\n",
       "      <td>90404.0</td>\n",
       "      <td>71424.0</td>\n",
       "      <td>1.0</td>\n",
       "      <td>1.15</td>\n",
       "      <td>Lung Screening LDCT</td>\n",
       "      <td>2232.0</td>\n",
       "      <td>0</td>\n",
       "      <td>NaN</td>\n",
       "      <td>6</td>\n",
       "      <td>2232.0</td>\n",
       "      <td>6</td>\n",
       "      <td>[[0.0, 0.0, 0.0, 0.0, 0.0, 0.0, 0.0, 0.0, 0.0,...</td>\n",
       "      <td>[0.002614143679095454, 0.01045940834560034, 0....</td>\n",
       "      <td>[0.005742515277543164, 0.01578939349874242, 0....</td>\n",
       "      <td>[0.0006226553737865955, 0.005290044597760708, ...</td>\n",
       "      <td>[0.005838330430977005, 0.01379944977048499, 0....</td>\n",
       "      <td>[0.002639377716678266, 0.006418154872067668, 0...</td>\n",
       "      <td>[0.0019649702414815395, 0.010089723091537396, ...</td>\n",
       "    </tr>\n",
       "    <tr>\n",
       "      <th>431</th>\n",
       "      <td>4415158803</td>\n",
       "      <td>1.3.12.2.1107.5.1.4.60120.30000016122015262317...</td>\n",
       "      <td>/datasets/4415158803/Chest wo  1.0  B45f</td>\n",
       "      <td>3852</td>\n",
       "      <td>4365886903</td>\n",
       "      <td>4415158803</td>\n",
       "      <td>2016-12-20</td>\n",
       "      <td>Chest wo  1.0  B45f</td>\n",
       "      <td>NaN</td>\n",
       "      <td>NaN</td>\n",
       "      <td>NaN</td>\n",
       "      <td>NaN</td>\n",
       "      <td>NaN</td>\n",
       "      <td>NaN</td>\n",
       "      <td>2</td>\n",
       "      <td>Female</td>\n",
       "      <td>White</td>\n",
       "      <td>&gt;=65</td>\n",
       "      <td>Medicare/Medicaid</td>\n",
       "      <td>NaN</td>\n",
       "      <td>1-2</td>\n",
       "      <td>NaN</td>\n",
       "      <td>Eligible by 2013 USPSTF guidelines</td>\n",
       "      <td>Former</td>\n",
       "      <td>30.0</td>\n",
       "      <td>9.0</td>\n",
       "      <td>64.0</td>\n",
       "      <td>43.0</td>\n",
       "      <td>No</td>\n",
       "      <td>2-3</td>\n",
       "      <td>Other department</td>\n",
       "      <td>90404.0</td>\n",
       "      <td>71424.0</td>\n",
       "      <td>1.0</td>\n",
       "      <td>1.15</td>\n",
       "      <td>Lung Screening LDCT</td>\n",
       "      <td>2072.0</td>\n",
       "      <td>0</td>\n",
       "      <td>NaN</td>\n",
       "      <td>5</td>\n",
       "      <td>2072.0</td>\n",
       "      <td>5</td>\n",
       "      <td>[[0.0, 0.0, 0.0, 0.0, 0.0, 0.0, 0.0, 0.0, 0.0,...</td>\n",
       "      <td>[0.0005993253234549188, 0.003348511228184125, ...</td>\n",
       "      <td>[0.0027640306463362803, 0.008246862026556234, ...</td>\n",
       "      <td>[0.0002958579881656805, 0.00211893983897163, 0...</td>\n",
       "      <td>[0.0008275862068965517, 0.002675108186528246, ...</td>\n",
       "      <td>[0.000625, 0.002668052668052668, 0.00819551456...</td>\n",
       "      <td>[0.0011701163019909324, 0.002554438672368111, ...</td>\n",
       "    </tr>\n",
       "  </tbody>\n",
       "</table>\n",
       "</div>"
      ],
      "text/plain": [
       "     AccessionNumber                                  SeriesInstanceUID  \\\n",
       "28        1156164761  1.3.12.2.1107.5.1.4.60120.30000016071315281017...   \n",
       "431       4415158803  1.3.12.2.1107.5.1.4.60120.30000016122015262317...   \n",
       "\n",
       "                             Diacom Directory  Unnamed: 0       MRN_h  \\\n",
       "28   /datasets/1156164761/Chest wo  1.0  B45f        4788  4365886903   \n",
       "431  /datasets/4415158803/Chest wo  1.0  B45f        3852  4365886903   \n",
       "\n",
       "      Acc_num_h  exam_date          series_desc hist hist_category stage  \\\n",
       "28   1156164761 2016-07-13  Chest wo  1.0  B45f  NaN           NaN   NaN   \n",
       "431  4415158803 2016-12-20  Chest wo  1.0  B45f  NaN           NaN   NaN   \n",
       "\n",
       "    stage_category post_screen_lc_x  interval_ct_hist lungrads     sex  \\\n",
       "28             NaN              NaN               NaN        2  Female   \n",
       "431            NaN              NaN               NaN        2  Female   \n",
       "\n",
       "    race_ethnicity_new age_new      insurance_new education_new  \\\n",
       "28               White    >=65  Medicare/Medicaid           NaN   \n",
       "431              White    >=65  Medicare/Medicaid           NaN   \n",
       "\n",
       "    lungrads_category post_screen_lc_y         eligibility_final_corrected  \\\n",
       "28                1-2              NaN  Eligible by 2013 USPSTF guidelines   \n",
       "431               1-2              NaN  Eligible by 2013 USPSTF guidelines   \n",
       "\n",
       "    smoking_status_final_corrected  intensity_final_corrected  \\\n",
       "28                          Former                       30.0   \n",
       "431                         Former                       30.0   \n",
       "\n",
       "     quit_year_final_corrected  pk_final_corrected  duration_final_corrected  \\\n",
       "28                         9.0                64.0                      43.0   \n",
       "431                        9.0                64.0                      43.0   \n",
       "\n",
       "    fam_hx_lc_new cci_t0    department_new   loc_t0  median_income_new  \\\n",
       "28             No    2-3  Other department  90404.0            71424.0   \n",
       "431            No    2-3  Other department  90404.0            71424.0   \n",
       "\n",
       "     adi_new  distance_to_center_new       last_exam_type  \\\n",
       "28       1.0                    1.15  Lung Screening LDCT   \n",
       "431      1.0                    1.15  Lung Screening LDCT   \n",
       "\n",
       "     interval_2016_to_last_img_exam  Diagnosis  interval_ct_hist_as_year  \\\n",
       "28                           2232.0          0                       NaN   \n",
       "431                          2072.0          0                       NaN   \n",
       "\n",
       "     last_exam_as_year  Day of Diagnosis  Year of Diagnosis  \\\n",
       "28                   6            2232.0                  6   \n",
       "431                  5            2072.0                  5   \n",
       "\n",
       "                                        Feature Vector  \\\n",
       "28   [[0.0, 0.0, 0.0, 0.0, 0.0, 0.0, 0.0, 0.0, 0.0,...   \n",
       "431  [[0.0, 0.0, 0.0, 0.0, 0.0, 0.0, 0.0, 0.0, 0.0,...   \n",
       "\n",
       "                                    Sybil 1 Prediction  \\\n",
       "28   [0.002614143679095454, 0.01045940834560034, 0....   \n",
       "431  [0.0005993253234549188, 0.003348511228184125, ...   \n",
       "\n",
       "                                    Sybil 2 Prediction  \\\n",
       "28   [0.005742515277543164, 0.01578939349874242, 0....   \n",
       "431  [0.0027640306463362803, 0.008246862026556234, ...   \n",
       "\n",
       "                                    Sybil 3 Prediction  \\\n",
       "28   [0.0006226553737865955, 0.005290044597760708, ...   \n",
       "431  [0.0002958579881656805, 0.00211893983897163, 0...   \n",
       "\n",
       "                                    Sybil 4 Prediction  \\\n",
       "28   [0.005838330430977005, 0.01379944977048499, 0....   \n",
       "431  [0.0008275862068965517, 0.002675108186528246, ...   \n",
       "\n",
       "                                    Sybil 5 Prediction  \\\n",
       "28   [0.002639377716678266, 0.006418154872067668, 0...   \n",
       "431  [0.000625, 0.002668052668052668, 0.00819551456...   \n",
       "\n",
       "                             Sybil Ensemble Prediction  \n",
       "28   [0.0019649702414815395, 0.010089723091537396, ...  \n",
       "431  [0.0011701163019909324, 0.002554438672368111, ...  "
      ]
     },
     "execution_count": 128,
     "metadata": {},
     "output_type": "execute_result"
    }
   ],
   "source": [
    "final_evaluation_df.loc[final_evaluation_df['MRN_h']==4365886903]"
   ]
  },
  {
   "cell_type": "code",
   "execution_count": 129,
   "id": "4bd3d049",
   "metadata": {},
   "outputs": [
    {
     "data": {
      "text/html": [
       "<div>\n",
       "<style scoped>\n",
       "    .dataframe tbody tr th:only-of-type {\n",
       "        vertical-align: middle;\n",
       "    }\n",
       "\n",
       "    .dataframe tbody tr th {\n",
       "        vertical-align: top;\n",
       "    }\n",
       "\n",
       "    .dataframe thead th {\n",
       "        text-align: right;\n",
       "    }\n",
       "</style>\n",
       "<table border=\"1\" class=\"dataframe\">\n",
       "  <thead>\n",
       "    <tr style=\"text-align: right;\">\n",
       "      <th></th>\n",
       "      <th>AccessionNumber</th>\n",
       "      <th>SeriesInstanceUID</th>\n",
       "      <th>Diacom Directory</th>\n",
       "      <th>Unnamed: 0</th>\n",
       "      <th>MRN_h</th>\n",
       "      <th>Acc_num_h</th>\n",
       "      <th>exam_date</th>\n",
       "      <th>series_desc</th>\n",
       "      <th>hist</th>\n",
       "      <th>hist_category</th>\n",
       "      <th>stage</th>\n",
       "      <th>stage_category</th>\n",
       "      <th>post_screen_lc_x</th>\n",
       "      <th>interval_ct_hist</th>\n",
       "      <th>lungrads</th>\n",
       "      <th>sex</th>\n",
       "      <th>race_ethnicity_new</th>\n",
       "      <th>age_new</th>\n",
       "      <th>insurance_new</th>\n",
       "      <th>education_new</th>\n",
       "      <th>lungrads_category</th>\n",
       "      <th>post_screen_lc_y</th>\n",
       "      <th>eligibility_final_corrected</th>\n",
       "      <th>smoking_status_final_corrected</th>\n",
       "      <th>intensity_final_corrected</th>\n",
       "      <th>quit_year_final_corrected</th>\n",
       "      <th>pk_final_corrected</th>\n",
       "      <th>duration_final_corrected</th>\n",
       "      <th>fam_hx_lc_new</th>\n",
       "      <th>cci_t0</th>\n",
       "      <th>department_new</th>\n",
       "      <th>loc_t0</th>\n",
       "      <th>median_income_new</th>\n",
       "      <th>adi_new</th>\n",
       "      <th>distance_to_center_new</th>\n",
       "      <th>last_exam_type</th>\n",
       "      <th>interval_2016_to_last_img_exam</th>\n",
       "      <th>Diagnosis</th>\n",
       "      <th>interval_ct_hist_as_year</th>\n",
       "      <th>last_exam_as_year</th>\n",
       "      <th>Day of Diagnosis</th>\n",
       "      <th>Year of Diagnosis</th>\n",
       "      <th>Feature Vector</th>\n",
       "      <th>Sybil 1 Prediction</th>\n",
       "      <th>Sybil 2 Prediction</th>\n",
       "      <th>Sybil 3 Prediction</th>\n",
       "      <th>Sybil 4 Prediction</th>\n",
       "      <th>Sybil 5 Prediction</th>\n",
       "      <th>Sybil Ensemble Prediction</th>\n",
       "    </tr>\n",
       "  </thead>\n",
       "  <tbody>\n",
       "    <tr>\n",
       "      <th>60</th>\n",
       "      <td>1360036383</td>\n",
       "      <td>1.3.12.2.1107.5.1.4.64297.30000016051115590071...</td>\n",
       "      <td>/datasets/1360036383/Chest  1.0  B45f</td>\n",
       "      <td>814</td>\n",
       "      <td>2097638295</td>\n",
       "      <td>1360036383</td>\n",
       "      <td>2016-05-11</td>\n",
       "      <td>Chest  1.0  B45f</td>\n",
       "      <td>NaN</td>\n",
       "      <td>NaN</td>\n",
       "      <td>NaN</td>\n",
       "      <td>NaN</td>\n",
       "      <td>NaN</td>\n",
       "      <td>NaN</td>\n",
       "      <td>4A</td>\n",
       "      <td>Male</td>\n",
       "      <td>White</td>\n",
       "      <td>&gt;=65</td>\n",
       "      <td>Medicare/Medicaid</td>\n",
       "      <td>Some college or technical school</td>\n",
       "      <td>3-4</td>\n",
       "      <td>NaN</td>\n",
       "      <td>Ineligible: pack-years&lt;30 &amp; years since quit&gt;1...</td>\n",
       "      <td>Former</td>\n",
       "      <td>20.0</td>\n",
       "      <td>31.0</td>\n",
       "      <td>17.0</td>\n",
       "      <td>17.0</td>\n",
       "      <td>No</td>\n",
       "      <td>2-3</td>\n",
       "      <td>Other department</td>\n",
       "      <td>90266.0</td>\n",
       "      <td>87308.0</td>\n",
       "      <td>1.0</td>\n",
       "      <td>4.73</td>\n",
       "      <td>Lung Screening LDCT</td>\n",
       "      <td>2165.0</td>\n",
       "      <td>0</td>\n",
       "      <td>NaN</td>\n",
       "      <td>5</td>\n",
       "      <td>2165.0</td>\n",
       "      <td>5</td>\n",
       "      <td>[[0.0, 0.0, 0.0, 0.0, 0.0, 0.0, 0.0, 0.0, 0.0,...</td>\n",
       "      <td>[0.00024783147459727387, 0.0018443903490632462...</td>\n",
       "      <td>[0.0, 0.0005899705014749262, 0.002814979876759...</td>\n",
       "      <td>[0.0002958579881656805, 0.00211893983897163, 0...</td>\n",
       "      <td>[0.0, 0.0015055175432533924, 0.007472889985015...</td>\n",
       "      <td>[0.0, 0.0013167013167013166, 0.006009722211571...</td>\n",
       "      <td>[0.0, 0.0015740740740740743, 0.002951348726509...</td>\n",
       "    </tr>\n",
       "    <tr>\n",
       "      <th>360</th>\n",
       "      <td>3098443910</td>\n",
       "      <td>1.3.12.2.1107.5.1.4.64297.30000016100716240925...</td>\n",
       "      <td>/datasets/3098443910/Chest  1.0  B45f</td>\n",
       "      <td>2328</td>\n",
       "      <td>2097638295</td>\n",
       "      <td>3098443910</td>\n",
       "      <td>2016-10-07</td>\n",
       "      <td>Chest  1.0  B45f</td>\n",
       "      <td>NaN</td>\n",
       "      <td>NaN</td>\n",
       "      <td>NaN</td>\n",
       "      <td>NaN</td>\n",
       "      <td>NaN</td>\n",
       "      <td>NaN</td>\n",
       "      <td>4A</td>\n",
       "      <td>Male</td>\n",
       "      <td>White</td>\n",
       "      <td>&gt;=65</td>\n",
       "      <td>Medicare/Medicaid</td>\n",
       "      <td>Some college or technical school</td>\n",
       "      <td>3-4</td>\n",
       "      <td>NaN</td>\n",
       "      <td>Ineligible: pack-years&lt;30 &amp; years since quit&gt;1...</td>\n",
       "      <td>Former</td>\n",
       "      <td>20.0</td>\n",
       "      <td>31.0</td>\n",
       "      <td>17.0</td>\n",
       "      <td>17.0</td>\n",
       "      <td>No</td>\n",
       "      <td>2-3</td>\n",
       "      <td>Other department</td>\n",
       "      <td>90266.0</td>\n",
       "      <td>87308.0</td>\n",
       "      <td>1.0</td>\n",
       "      <td>4.73</td>\n",
       "      <td>Lung Screening LDCT</td>\n",
       "      <td>2016.0</td>\n",
       "      <td>0</td>\n",
       "      <td>NaN</td>\n",
       "      <td>5</td>\n",
       "      <td>2016.0</td>\n",
       "      <td>5</td>\n",
       "      <td>[[0.0, 0.0, 0.0, 0.0, 0.0, 0.0, 0.0, 0.0, 0.0,...</td>\n",
       "      <td>[0.00024783147459727387, 0.0018443903490632462...</td>\n",
       "      <td>[0.0, 0.0017629910293341638, 0.005242449030307...</td>\n",
       "      <td>[0.0, 0.0, 0.0, 0.0, 0.0, 0.0]</td>\n",
       "      <td>[0.002213790176909282, 0.009741252045447527, 0...</td>\n",
       "      <td>[0.003391257415926386, 0.009784349687796911, 0...</td>\n",
       "      <td>[0.0011701163019909324, 0.002554438672368111, ...</td>\n",
       "    </tr>\n",
       "  </tbody>\n",
       "</table>\n",
       "</div>"
      ],
      "text/plain": [
       "     AccessionNumber                                  SeriesInstanceUID  \\\n",
       "60        1360036383  1.3.12.2.1107.5.1.4.64297.30000016051115590071...   \n",
       "360       3098443910  1.3.12.2.1107.5.1.4.64297.30000016100716240925...   \n",
       "\n",
       "                          Diacom Directory  Unnamed: 0       MRN_h  \\\n",
       "60   /datasets/1360036383/Chest  1.0  B45f         814  2097638295   \n",
       "360  /datasets/3098443910/Chest  1.0  B45f        2328  2097638295   \n",
       "\n",
       "      Acc_num_h  exam_date       series_desc hist hist_category stage  \\\n",
       "60   1360036383 2016-05-11  Chest  1.0  B45f  NaN           NaN   NaN   \n",
       "360  3098443910 2016-10-07  Chest  1.0  B45f  NaN           NaN   NaN   \n",
       "\n",
       "    stage_category post_screen_lc_x  interval_ct_hist lungrads   sex  \\\n",
       "60             NaN              NaN               NaN       4A  Male   \n",
       "360            NaN              NaN               NaN       4A  Male   \n",
       "\n",
       "    race_ethnicity_new age_new      insurance_new  \\\n",
       "60               White    >=65  Medicare/Medicaid   \n",
       "360              White    >=65  Medicare/Medicaid   \n",
       "\n",
       "                        education_new lungrads_category post_screen_lc_y  \\\n",
       "60   Some college or technical school               3-4              NaN   \n",
       "360  Some college or technical school               3-4              NaN   \n",
       "\n",
       "                           eligibility_final_corrected  \\\n",
       "60   Ineligible: pack-years<30 & years since quit>1...   \n",
       "360  Ineligible: pack-years<30 & years since quit>1...   \n",
       "\n",
       "    smoking_status_final_corrected  intensity_final_corrected  \\\n",
       "60                          Former                       20.0   \n",
       "360                         Former                       20.0   \n",
       "\n",
       "     quit_year_final_corrected  pk_final_corrected  duration_final_corrected  \\\n",
       "60                        31.0                17.0                      17.0   \n",
       "360                       31.0                17.0                      17.0   \n",
       "\n",
       "    fam_hx_lc_new cci_t0    department_new   loc_t0  median_income_new  \\\n",
       "60             No    2-3  Other department  90266.0            87308.0   \n",
       "360            No    2-3  Other department  90266.0            87308.0   \n",
       "\n",
       "     adi_new  distance_to_center_new       last_exam_type  \\\n",
       "60       1.0                    4.73  Lung Screening LDCT   \n",
       "360      1.0                    4.73  Lung Screening LDCT   \n",
       "\n",
       "     interval_2016_to_last_img_exam  Diagnosis  interval_ct_hist_as_year  \\\n",
       "60                           2165.0          0                       NaN   \n",
       "360                          2016.0          0                       NaN   \n",
       "\n",
       "     last_exam_as_year  Day of Diagnosis  Year of Diagnosis  \\\n",
       "60                   5            2165.0                  5   \n",
       "360                  5            2016.0                  5   \n",
       "\n",
       "                                        Feature Vector  \\\n",
       "60   [[0.0, 0.0, 0.0, 0.0, 0.0, 0.0, 0.0, 0.0, 0.0,...   \n",
       "360  [[0.0, 0.0, 0.0, 0.0, 0.0, 0.0, 0.0, 0.0, 0.0,...   \n",
       "\n",
       "                                    Sybil 1 Prediction  \\\n",
       "60   [0.00024783147459727387, 0.0018443903490632462...   \n",
       "360  [0.00024783147459727387, 0.0018443903490632462...   \n",
       "\n",
       "                                    Sybil 2 Prediction  \\\n",
       "60   [0.0, 0.0005899705014749262, 0.002814979876759...   \n",
       "360  [0.0, 0.0017629910293341638, 0.005242449030307...   \n",
       "\n",
       "                                    Sybil 3 Prediction  \\\n",
       "60   [0.0002958579881656805, 0.00211893983897163, 0...   \n",
       "360                     [0.0, 0.0, 0.0, 0.0, 0.0, 0.0]   \n",
       "\n",
       "                                    Sybil 4 Prediction  \\\n",
       "60   [0.0, 0.0015055175432533924, 0.007472889985015...   \n",
       "360  [0.002213790176909282, 0.009741252045447527, 0...   \n",
       "\n",
       "                                    Sybil 5 Prediction  \\\n",
       "60   [0.0, 0.0013167013167013166, 0.006009722211571...   \n",
       "360  [0.003391257415926386, 0.009784349687796911, 0...   \n",
       "\n",
       "                             Sybil Ensemble Prediction  \n",
       "60   [0.0, 0.0015740740740740743, 0.002951348726509...  \n",
       "360  [0.0011701163019909324, 0.002554438672368111, ...  "
      ]
     },
     "execution_count": 129,
     "metadata": {},
     "output_type": "execute_result"
    }
   ],
   "source": [
    "final_evaluation_df.loc[final_evaluation_df['MRN_h']==2097638295]"
   ]
  },
  {
   "cell_type": "code",
   "execution_count": 130,
   "id": "f072f596",
   "metadata": {},
   "outputs": [
    {
     "data": {
      "text/html": [
       "<div>\n",
       "<style scoped>\n",
       "    .dataframe tbody tr th:only-of-type {\n",
       "        vertical-align: middle;\n",
       "    }\n",
       "\n",
       "    .dataframe tbody tr th {\n",
       "        vertical-align: top;\n",
       "    }\n",
       "\n",
       "    .dataframe thead th {\n",
       "        text-align: right;\n",
       "    }\n",
       "</style>\n",
       "<table border=\"1\" class=\"dataframe\">\n",
       "  <thead>\n",
       "    <tr style=\"text-align: right;\">\n",
       "      <th></th>\n",
       "      <th>AccessionNumber</th>\n",
       "      <th>SeriesInstanceUID</th>\n",
       "      <th>Diacom Directory</th>\n",
       "      <th>Unnamed: 0</th>\n",
       "      <th>MRN_h</th>\n",
       "      <th>Acc_num_h</th>\n",
       "      <th>exam_date</th>\n",
       "      <th>series_desc</th>\n",
       "      <th>hist</th>\n",
       "      <th>hist_category</th>\n",
       "      <th>stage</th>\n",
       "      <th>stage_category</th>\n",
       "      <th>post_screen_lc_x</th>\n",
       "      <th>interval_ct_hist</th>\n",
       "      <th>lungrads</th>\n",
       "      <th>sex</th>\n",
       "      <th>race_ethnicity_new</th>\n",
       "      <th>age_new</th>\n",
       "      <th>insurance_new</th>\n",
       "      <th>education_new</th>\n",
       "      <th>lungrads_category</th>\n",
       "      <th>post_screen_lc_y</th>\n",
       "      <th>eligibility_final_corrected</th>\n",
       "      <th>smoking_status_final_corrected</th>\n",
       "      <th>intensity_final_corrected</th>\n",
       "      <th>quit_year_final_corrected</th>\n",
       "      <th>pk_final_corrected</th>\n",
       "      <th>duration_final_corrected</th>\n",
       "      <th>fam_hx_lc_new</th>\n",
       "      <th>cci_t0</th>\n",
       "      <th>department_new</th>\n",
       "      <th>loc_t0</th>\n",
       "      <th>median_income_new</th>\n",
       "      <th>adi_new</th>\n",
       "      <th>distance_to_center_new</th>\n",
       "      <th>last_exam_type</th>\n",
       "      <th>interval_2016_to_last_img_exam</th>\n",
       "      <th>Diagnosis</th>\n",
       "      <th>interval_ct_hist_as_year</th>\n",
       "      <th>last_exam_as_year</th>\n",
       "      <th>Day of Diagnosis</th>\n",
       "      <th>Year of Diagnosis</th>\n",
       "      <th>Feature Vector</th>\n",
       "      <th>Sybil 1 Prediction</th>\n",
       "      <th>Sybil 2 Prediction</th>\n",
       "      <th>Sybil 3 Prediction</th>\n",
       "      <th>Sybil 4 Prediction</th>\n",
       "      <th>Sybil 5 Prediction</th>\n",
       "      <th>Sybil Ensemble Prediction</th>\n",
       "    </tr>\n",
       "  </thead>\n",
       "  <tbody>\n",
       "    <tr>\n",
       "      <th>475</th>\n",
       "      <td>6943764071</td>\n",
       "      <td>1.3.12.2.1107.5.1.4.66859.30050016062215250684...</td>\n",
       "      <td>/datasets/6943764071/Chest  1.0  B45f</td>\n",
       "      <td>3656</td>\n",
       "      <td>1725698813</td>\n",
       "      <td>6943764071</td>\n",
       "      <td>2016-06-22</td>\n",
       "      <td>Chest  1.0  B45f</td>\n",
       "      <td>NaN</td>\n",
       "      <td>NaN</td>\n",
       "      <td>NaN</td>\n",
       "      <td>NaN</td>\n",
       "      <td>NaN</td>\n",
       "      <td>NaN</td>\n",
       "      <td>2</td>\n",
       "      <td>Male</td>\n",
       "      <td>White</td>\n",
       "      <td>&gt;=65</td>\n",
       "      <td>Medicare/Medicaid</td>\n",
       "      <td>College Graduate</td>\n",
       "      <td>1-2</td>\n",
       "      <td>NaN</td>\n",
       "      <td>Unable to determine: missing data</td>\n",
       "      <td>Former</td>\n",
       "      <td>30.0</td>\n",
       "      <td>26.0</td>\n",
       "      <td>NaN</td>\n",
       "      <td>NaN</td>\n",
       "      <td>No</td>\n",
       "      <td>2-3</td>\n",
       "      <td>Other department</td>\n",
       "      <td>90404.0</td>\n",
       "      <td>59329.0</td>\n",
       "      <td>NaN</td>\n",
       "      <td>19.04</td>\n",
       "      <td>Lung Screening LDCT</td>\n",
       "      <td>0.0</td>\n",
       "      <td>0</td>\n",
       "      <td>NaN</td>\n",
       "      <td>0</td>\n",
       "      <td>0.0</td>\n",
       "      <td>0</td>\n",
       "      <td>[[0.0, 0.0, 0.0, 0.0, 0.0, 0.0, 0.0, 0.0, 0.0,...</td>\n",
       "      <td>[0.002614143679095454, 0.012768073747244868, 0...</td>\n",
       "      <td>[0.005742515277543164, 0.01578939349874242, 0....</td>\n",
       "      <td>[0.0060896384390207526, 0.014946661041082887, ...</td>\n",
       "      <td>[0.002791824858990207, 0.009865956692336473, 0...</td>\n",
       "      <td>[0.003391257415926386, 0.015639796644281157, 0...</td>\n",
       "      <td>[0.002191516327167115, 0.011458655748540176, 0...</td>\n",
       "    </tr>\n",
       "    <tr>\n",
       "      <th>532</th>\n",
       "      <td>1100567667</td>\n",
       "      <td>1.3.12.2.1107.5.1.4.51964.30000016012116082767...</td>\n",
       "      <td>/datasets/1100567667/Chest low dose  1.0  B50f</td>\n",
       "      <td>898</td>\n",
       "      <td>1725698813</td>\n",
       "      <td>1100567667</td>\n",
       "      <td>2016-01-21</td>\n",
       "      <td>Chest low dose  1.0  B50f</td>\n",
       "      <td>NaN</td>\n",
       "      <td>NaN</td>\n",
       "      <td>NaN</td>\n",
       "      <td>NaN</td>\n",
       "      <td>NaN</td>\n",
       "      <td>NaN</td>\n",
       "      <td>2</td>\n",
       "      <td>Male</td>\n",
       "      <td>White</td>\n",
       "      <td>&gt;=65</td>\n",
       "      <td>Medicare/Medicaid</td>\n",
       "      <td>College Graduate</td>\n",
       "      <td>1-2</td>\n",
       "      <td>NaN</td>\n",
       "      <td>Unable to determine: missing data</td>\n",
       "      <td>Former</td>\n",
       "      <td>30.0</td>\n",
       "      <td>26.0</td>\n",
       "      <td>NaN</td>\n",
       "      <td>NaN</td>\n",
       "      <td>No</td>\n",
       "      <td>2-3</td>\n",
       "      <td>Other department</td>\n",
       "      <td>90404.0</td>\n",
       "      <td>59329.0</td>\n",
       "      <td>NaN</td>\n",
       "      <td>19.04</td>\n",
       "      <td>Lung Screening LDCT</td>\n",
       "      <td>153.0</td>\n",
       "      <td>0</td>\n",
       "      <td>NaN</td>\n",
       "      <td>0</td>\n",
       "      <td>153.0</td>\n",
       "      <td>0</td>\n",
       "      <td>[[0.0, 0.0, 0.0, 0.0, 0.0, 0.0, 0.0, 0.0, 0.0,...</td>\n",
       "      <td>[0.0005993253234549188, 0.003348511228184125, ...</td>\n",
       "      <td>[0.0021648351611383253, 0.008246862026556234, ...</td>\n",
       "      <td>[0.0006226553737865955, 0.005290044597760708, ...</td>\n",
       "      <td>[0.0, 0.0015055175432533924, 0.007472889985015...</td>\n",
       "      <td>[0.002639377716678266, 0.007722677216193972, 0...</td>\n",
       "      <td>[0.0017836132345062697, 0.005281162890320399, ...</td>\n",
       "    </tr>\n",
       "  </tbody>\n",
       "</table>\n",
       "</div>"
      ],
      "text/plain": [
       "     AccessionNumber                                  SeriesInstanceUID  \\\n",
       "475       6943764071  1.3.12.2.1107.5.1.4.66859.30050016062215250684...   \n",
       "532       1100567667  1.3.12.2.1107.5.1.4.51964.30000016012116082767...   \n",
       "\n",
       "                                   Diacom Directory  Unnamed: 0       MRN_h  \\\n",
       "475           /datasets/6943764071/Chest  1.0  B45f        3656  1725698813   \n",
       "532  /datasets/1100567667/Chest low dose  1.0  B50f         898  1725698813   \n",
       "\n",
       "      Acc_num_h  exam_date                series_desc hist hist_category  \\\n",
       "475  6943764071 2016-06-22           Chest  1.0  B45f  NaN           NaN   \n",
       "532  1100567667 2016-01-21  Chest low dose  1.0  B50f  NaN           NaN   \n",
       "\n",
       "    stage stage_category post_screen_lc_x  interval_ct_hist lungrads   sex  \\\n",
       "475   NaN            NaN              NaN               NaN        2  Male   \n",
       "532   NaN            NaN              NaN               NaN        2  Male   \n",
       "\n",
       "    race_ethnicity_new age_new      insurance_new     education_new  \\\n",
       "475              White    >=65  Medicare/Medicaid  College Graduate   \n",
       "532              White    >=65  Medicare/Medicaid  College Graduate   \n",
       "\n",
       "    lungrads_category post_screen_lc_y        eligibility_final_corrected  \\\n",
       "475               1-2              NaN  Unable to determine: missing data   \n",
       "532               1-2              NaN  Unable to determine: missing data   \n",
       "\n",
       "    smoking_status_final_corrected  intensity_final_corrected  \\\n",
       "475                         Former                       30.0   \n",
       "532                         Former                       30.0   \n",
       "\n",
       "     quit_year_final_corrected  pk_final_corrected  duration_final_corrected  \\\n",
       "475                       26.0                 NaN                       NaN   \n",
       "532                       26.0                 NaN                       NaN   \n",
       "\n",
       "    fam_hx_lc_new cci_t0    department_new   loc_t0  median_income_new  \\\n",
       "475            No    2-3  Other department  90404.0            59329.0   \n",
       "532            No    2-3  Other department  90404.0            59329.0   \n",
       "\n",
       "     adi_new  distance_to_center_new       last_exam_type  \\\n",
       "475      NaN                   19.04  Lung Screening LDCT   \n",
       "532      NaN                   19.04  Lung Screening LDCT   \n",
       "\n",
       "     interval_2016_to_last_img_exam  Diagnosis  interval_ct_hist_as_year  \\\n",
       "475                             0.0          0                       NaN   \n",
       "532                           153.0          0                       NaN   \n",
       "\n",
       "     last_exam_as_year  Day of Diagnosis  Year of Diagnosis  \\\n",
       "475                  0               0.0                  0   \n",
       "532                  0             153.0                  0   \n",
       "\n",
       "                                        Feature Vector  \\\n",
       "475  [[0.0, 0.0, 0.0, 0.0, 0.0, 0.0, 0.0, 0.0, 0.0,...   \n",
       "532  [[0.0, 0.0, 0.0, 0.0, 0.0, 0.0, 0.0, 0.0, 0.0,...   \n",
       "\n",
       "                                    Sybil 1 Prediction  \\\n",
       "475  [0.002614143679095454, 0.012768073747244868, 0...   \n",
       "532  [0.0005993253234549188, 0.003348511228184125, ...   \n",
       "\n",
       "                                    Sybil 2 Prediction  \\\n",
       "475  [0.005742515277543164, 0.01578939349874242, 0....   \n",
       "532  [0.0021648351611383253, 0.008246862026556234, ...   \n",
       "\n",
       "                                    Sybil 3 Prediction  \\\n",
       "475  [0.0060896384390207526, 0.014946661041082887, ...   \n",
       "532  [0.0006226553737865955, 0.005290044597760708, ...   \n",
       "\n",
       "                                    Sybil 4 Prediction  \\\n",
       "475  [0.002791824858990207, 0.009865956692336473, 0...   \n",
       "532  [0.0, 0.0015055175432533924, 0.007472889985015...   \n",
       "\n",
       "                                    Sybil 5 Prediction  \\\n",
       "475  [0.003391257415926386, 0.015639796644281157, 0...   \n",
       "532  [0.002639377716678266, 0.007722677216193972, 0...   \n",
       "\n",
       "                             Sybil Ensemble Prediction  \n",
       "475  [0.002191516327167115, 0.011458655748540176, 0...  \n",
       "532  [0.0017836132345062697, 0.005281162890320399, ...  "
      ]
     },
     "execution_count": 130,
     "metadata": {},
     "output_type": "execute_result"
    }
   ],
   "source": [
    "final_evaluation_df.loc[final_evaluation_df['MRN_h']==1725698813]"
   ]
  },
  {
   "cell_type": "markdown",
   "id": "af6ea55b",
   "metadata": {},
   "source": [
    "# Kaplan-Meier-Curve"
   ]
  },
  {
   "cell_type": "code",
   "execution_count": null,
   "id": "71b9a06a",
   "metadata": {},
   "outputs": [],
   "source": [
    "!pip install lifelines"
   ]
  },
  {
   "cell_type": "code",
   "execution_count": null,
   "id": "58808a8c",
   "metadata": {},
   "outputs": [],
   "source": [
    "from lifelines import KaplanMeierFitter\n",
    "import matplotlib.pyplot as plt"
   ]
  },
  {
   "cell_type": "code",
   "execution_count": null,
   "id": "b2c41743",
   "metadata": {},
   "outputs": [],
   "source": [
    "E = merged_eval_df['Diagnosis']\n",
    "T = merged_eval_df['Year of Diagnosis']\n",
    "\n",
    "kmf = KaplanMeierFitter()\n",
    "kmf.fit(durations = T, event_observed = E)\n",
    "kmf.plot_survival_function()"
   ]
  },
  {
   "cell_type": "code",
   "execution_count": null,
   "id": "d9aa5d4f",
   "metadata": {},
   "outputs": [],
   "source": [
    "merged_eval_df.head(5)"
   ]
  },
  {
   "cell_type": "code",
   "execution_count": null,
   "id": "e18eba49",
   "metadata": {},
   "outputs": [],
   "source": [
    "#make 1st year prediction a column\n",
    "\n",
    "pred_list = merged_eval_df['Sybil Prediction'].tolist()\n",
    "first_year_pred_list = [pred[0] for pred in pred_list]\n",
    "\n",
    "merged_eval_df['First Year Prediction'] = first_year_pred_list"
   ]
  },
  {
   "cell_type": "code",
   "execution_count": null,
   "id": "84cd0437",
   "metadata": {},
   "outputs": [],
   "source": [
    "merged_eval_df.head(5)"
   ]
  },
  {
   "cell_type": "code",
   "execution_count": null,
   "id": "fa774859",
   "metadata": {},
   "outputs": [],
   "source": [
    "# identify high risk population based on median first year prediction\n",
    "\n",
    "median_value = merged_eval_df['First Year Prediction'].median()\n",
    "print(\"The median first year prediction is:\", median_value)"
   ]
  },
  {
   "cell_type": "code",
   "execution_count": null,
   "id": "4d7a69f7",
   "metadata": {},
   "outputs": [],
   "source": [
    "merged_eval_df.isnull().sum()"
   ]
  },
  {
   "cell_type": "code",
   "execution_count": null,
   "id": "9f890927",
   "metadata": {},
   "outputs": [],
   "source": [
    "#check distribution of positive case diagnosis time\n",
    "\n",
    "test_df = merged_eval_df[merged_eval_df['Diagnosis']==1]\n",
    "\n",
    "test_df = test_df.sort_values(by=['Year of Diagnosis'], ascending=True)\n",
    "test_df['Year of Diagnosis'].value_counts()"
   ]
  },
  {
   "cell_type": "code",
   "execution_count": null,
   "id": "43bfa48d",
   "metadata": {},
   "outputs": [],
   "source": [
    "merged_eval_df['Year of Diagnosis'].value_counts()"
   ]
  },
  {
   "cell_type": "markdown",
   "id": "1476aa04",
   "metadata": {},
   "source": [
    "## Kaplan-Meyer curve based on years"
   ]
  },
  {
   "cell_type": "code",
   "execution_count": null,
   "id": "67faee8f",
   "metadata": {},
   "outputs": [],
   "source": [
    "# Make Kaplan-Meyer curve based on years\n",
    "\n",
    "ax = plt.subplot(111)\n",
    "\n",
    "m = (merged_eval_df[\"First Year Prediction\"] > median_value)\n",
    "\n",
    "kmf.fit(durations = T[m], event_observed = E[m], label = \"High Risk\")\n",
    "kmf.plot_survival_function(ax = ax)\n",
    "\n",
    "kmf.fit(T[~m], event_observed = E[~m], label = \"Low Risk\")\n",
    "\n",
    "kmf.plot_survival_function(ax = ax, at_risk_counts = False)\n",
    "\n",
    "ax.set_xlabel(\"Time in Years\", size = 10)\n",
    "ax.set_ylabel(\"Survival Percentage\", size = 10)\n",
    "ax.set_title(\"Survival of Different Risk Groups\", size = 16)"
   ]
  },
  {
   "cell_type": "code",
   "execution_count": null,
   "id": "0e9ece89",
   "metadata": {},
   "outputs": [],
   "source": [
    "from lifelines.statistics import logrank_test\n",
    "log_rank_results = logrank_test(T[m], T[~m], event_observed_A=E[m], event_observed_B=E[~m])\n"
   ]
  },
  {
   "cell_type": "code",
   "execution_count": null,
   "id": "5787b6f2",
   "metadata": {},
   "outputs": [],
   "source": [
    "log_rank_results"
   ]
  },
  {
   "cell_type": "code",
   "execution_count": null,
   "id": "0c6d8877",
   "metadata": {},
   "outputs": [],
   "source": [
    "print(f\"P-value: {log_rank_results.p_value}\")\n",
    "print(f\"Test statistic: {log_rank_results.test_statistic}\")"
   ]
  },
  {
   "cell_type": "code",
   "execution_count": null,
   "id": "23deebc0",
   "metadata": {},
   "outputs": [],
   "source": []
  },
  {
   "cell_type": "code",
   "execution_count": null,
   "id": "1e5080ce",
   "metadata": {},
   "outputs": [],
   "source": []
  },
  {
   "cell_type": "markdown",
   "id": "cbff4d37",
   "metadata": {},
   "source": [
    "## Kaplan-Meyer curve based on days"
   ]
  },
  {
   "cell_type": "code",
   "execution_count": null,
   "id": "d469fe38",
   "metadata": {},
   "outputs": [],
   "source": [
    "merged_eval_copy_df = merged_eval_df.copy()"
   ]
  },
  {
   "cell_type": "code",
   "execution_count": null,
   "id": "15aa7ba0",
   "metadata": {},
   "outputs": [],
   "source": [
    "# Drop rows with null values in 'Day of Diagnosis '\n",
    "merged_eval_copy_df = merged_eval_copy_df.dropna(subset=['Day of Diagnosis'])"
   ]
  },
  {
   "cell_type": "code",
   "execution_count": null,
   "id": "cb97f875",
   "metadata": {},
   "outputs": [],
   "source": []
  },
  {
   "cell_type": "code",
   "execution_count": null,
   "id": "faccb233",
   "metadata": {},
   "outputs": [],
   "source": [
    "E = merged_eval_copy_df['Diagnosis']\n",
    "T = merged_eval_copy_df['Day of Diagnosis']\n",
    "\n",
    "# identify high risk population based on median first year prediction\n",
    "\n",
    "median_value = merged_eval_df['First Year Prediction'].median()\n",
    "print(\"The median first year prediction is:\", median_value)"
   ]
  },
  {
   "cell_type": "code",
   "execution_count": null,
   "id": "c73ac54e",
   "metadata": {},
   "outputs": [],
   "source": [
    "# Make Kaplan-Meyer curve based on days\n",
    "\n",
    "ax = plt.subplot(111)\n",
    "\n",
    "m = (merged_eval_copy_df[\"First Year Prediction\"] > median_value)\n",
    "\n",
    "kmf.fit(durations = T[m], event_observed = E[m], label = \"High Risk\")\n",
    "kmf.plot_survival_function(ax = ax)\n",
    "\n",
    "kmf.fit(T[~m], event_observed = E[~m], label = \"Low Risk\")\n",
    "\n",
    "kmf.plot_survival_function(ax = ax, at_risk_counts = False)\n",
    "\n",
    "ax.set_xlabel(\"Time in Days\", size = 10)\n",
    "ax.set_ylabel(\"Survival Percentage\", size = 10)\n",
    "ax.set_title(\"Survival of Different Risk Groups\", size = 16)"
   ]
  },
  {
   "cell_type": "code",
   "execution_count": null,
   "id": "24bcedd8",
   "metadata": {},
   "outputs": [],
   "source": [
    "from lifelines.statistics import logrank_test\n",
    "log_rank_results = logrank_test(T[m], T[~m], event_observed_A=E[m], event_observed_B=E[~m])\n",
    "\n",
    "log_rank_results"
   ]
  },
  {
   "cell_type": "code",
   "execution_count": null,
   "id": "e00c8a72",
   "metadata": {},
   "outputs": [],
   "source": [
    "print(f\"P-value: {log_rank_results.p_value}\")\n",
    "print(f\"Test statistic: {log_rank_results.test_statistic}\")"
   ]
  },
  {
   "cell_type": "markdown",
   "id": "9068c749",
   "metadata": {},
   "source": [
    "# Kaplan-Meyer curve based on years at 0"
   ]
  },
  {
   "cell_type": "code",
   "execution_count": null,
   "id": "23178831",
   "metadata": {},
   "outputs": [],
   "source": [
    "# Create a new column by performing an operation on 'Column1'\n",
    "merged_eval_copy_df['Year of Diagnosis as Decimal'] = merged_eval_copy_df['Day of Diagnosis'] / 365.0\n",
    "\n",
    "#merged_eval_copy_df.head(5)"
   ]
  },
  {
   "cell_type": "code",
   "execution_count": null,
   "id": "492e7a20",
   "metadata": {},
   "outputs": [],
   "source": [
    "merged_eval_copy_df['Year of Diagnosis as Decimal'].unique()"
   ]
  },
  {
   "cell_type": "code",
   "execution_count": null,
   "id": "e3034fee",
   "metadata": {},
   "outputs": [],
   "source": [
    "E = merged_eval_copy_df['Diagnosis']\n",
    "T = merged_eval_copy_df['Year of Diagnosis as Decimal']\n",
    "\n",
    "# identify high risk population based on median first year prediction\n",
    "\n",
    "median_value = merged_eval_df['First Year Prediction'].median()\n",
    "print(\"The median first year prediction is:\", median_value)"
   ]
  },
  {
   "cell_type": "code",
   "execution_count": null,
   "id": "cd417de7",
   "metadata": {},
   "outputs": [],
   "source": [
    "# Make Kaplan-Meyer curve based on years as decimals\n",
    "\n",
    "ax = plt.subplot(111)\n",
    "\n",
    "m = (merged_eval_copy_df[\"First Year Prediction\"] > median_value)\n",
    "\n",
    "kmf.fit(T[~m], event_observed = E[~m], label = \"Low Risk\")\n",
    "kmf.plot_survival_function(ax = ax, at_risk_counts = False)\n",
    "\n",
    "kmf.fit(durations = T[m], event_observed = E[m], label = \"High Risk\")\n",
    "kmf.plot_survival_function(ax = ax)\n",
    "\n",
    "ax.set_ylim(0,1.00)\n",
    "ax.set_xlim(0,7)\n",
    "ax.set_xlabel(\"Time in Years\", size = 10)\n",
    "ax.set_ylabel(\"Survival Percentage\", size = 10)\n",
    "ax.set_title(\"Survival of Different Risk Groups\", size = 16)"
   ]
  },
  {
   "cell_type": "code",
   "execution_count": null,
   "id": "664291ec",
   "metadata": {},
   "outputs": [],
   "source": [
    "from lifelines.statistics import logrank_test\n",
    "log_rank_results = logrank_test(T[m], T[~m], event_observed_A=E[m], event_observed_B=E[~m])\n",
    "\n",
    "log_rank_results"
   ]
  },
  {
   "cell_type": "code",
   "execution_count": null,
   "id": "0515a36a",
   "metadata": {},
   "outputs": [],
   "source": [
    "print(f\"P-value: {log_rank_results.p_value}\")\n",
    "print(f\"Test statistic: {log_rank_results.test_statistic}\")"
   ]
  },
  {
   "cell_type": "markdown",
   "id": "1104c4a1",
   "metadata": {},
   "source": [
    "# Sybil Feature Extraction"
   ]
  },
  {
   "cell_type": "code",
   "execution_count": 1,
   "id": "99f0caa6",
   "metadata": {},
   "outputs": [],
   "source": [
    "import os\n",
    "os.environ[\"CUDA_DEVICE_ORDER\"]=\"PCI_BUS_ID\"\n",
    "os.environ[\"CUDA_VISIBLE_DEVICES\"]=\"3\""
   ]
  },
  {
   "cell_type": "code",
   "execution_count": 2,
   "id": "aec65361",
   "metadata": {},
   "outputs": [],
   "source": [
    "%load_ext autoreload\n",
    "%autoreload 2"
   ]
  },
  {
   "cell_type": "code",
   "execution_count": 2,
   "id": "73c3e3f8",
   "metadata": {},
   "outputs": [
    {
     "name": "stdout",
     "output_type": "stream",
     "text": [
      "/workspace/home/Sybil/Sybil\n"
     ]
    }
   ],
   "source": [
    "%cd Sybil/Sybil"
   ]
  },
  {
   "cell_type": "code",
   "execution_count": 5,
   "id": "787e35e0",
   "metadata": {},
   "outputs": [
    {
     "name": "stdout",
     "output_type": "stream",
     "text": [
      "AUTHORS.md    LICENSE.txt  \u001b[0m\u001b[01;34mdocs\u001b[0m/   pyproject.toml  setup.cfg  \u001b[01;34msybil\u001b[0m/  tox.ini\n",
      "CHANGELOG.md  README.md    \u001b[01;34mfiles\u001b[0m/  \u001b[01;34mscripts\u001b[0m/        setup.py   \u001b[01;34mtests\u001b[0m/\n"
     ]
    }
   ],
   "source": [
    "%ls"
   ]
  },
  {
   "cell_type": "code",
   "execution_count": 3,
   "id": "ff353ad1",
   "metadata": {},
   "outputs": [],
   "source": [
    "import pandas as pd\n",
    "import glob"
   ]
  },
  {
   "cell_type": "code",
   "execution_count": 4,
   "id": "67d50747",
   "metadata": {
    "collapsed": true,
    "jupyter": {
     "outputs_hidden": true
    }
   },
   "outputs": [
    {
     "name": "stderr",
     "output_type": "stream",
     "text": [
      "/usr/local/lib/python3.10/dist-packages/tqdm/auto.py:21: TqdmWarning: IProgress not found. Please update jupyter and ipywidgets. See https://ipywidgets.readthedocs.io/en/stable/user_install.html\n",
      "  from .autonotebook import tqdm as notebook_tqdm\n",
      "INFO:albumentations.check_version:A new version of Albumentations is available: 1.4.11 (you have 1.4.10). Upgrade using: pip install --upgrade albumentations\n",
      "/usr/local/lib/python3.10/dist-packages/torchvision/models/_utils.py:208: UserWarning: The parameter 'pretrained' is deprecated since 0.13 and may be removed in the future, please use 'weights' instead.\n",
      "  warnings.warn(\n",
      "/usr/local/lib/python3.10/dist-packages/torchvision/models/_utils.py:223: UserWarning: Arguments other than a weight enum or `None` for 'weights' are deprecated since 0.13 and may be removed in the future. The current behavior is equivalent to passing `weights=R3D_18_Weights.KINETICS400_V1`. You can also use `weights=R3D_18_Weights.DEFAULT` to get the most up-to-date weights.\n",
      "  warnings.warn(msg)\n",
      "INFO:sybil-process-2649269:Loaded model from /home/leonardgarcia/.sybil/28a7cd44f5bcd3e6cc760b65c7e0d54d.ckpt\n"
     ]
    }
   ],
   "source": [
    "#re-import sybil with code changes\n",
    "from sybil import Serie, Sybil\n",
    "sybil1_model = Sybil(\"sybil_1\")"
   ]
  },
  {
   "cell_type": "code",
   "execution_count": 5,
   "id": "78868bc6",
   "metadata": {},
   "outputs": [],
   "source": [
    "def make_serie_list(diacom_directory_list):\n",
    "    serie_list = []\n",
    "#    index = 0\n",
    "    \n",
    "    for directory in diacom_directory_list:\n",
    "        directory_list = glob.glob(directory + '/*')\n",
    "        serie = Serie(directory_list)\n",
    "        serie_list.append(serie)\n",
    "          \n",
    "    return serie_list"
   ]
  },
  {
   "cell_type": "code",
   "execution_count": 6,
   "id": "7f427197",
   "metadata": {},
   "outputs": [],
   "source": [
    "final_evaluation_df = pd.read_excel(f'/workspace/home/Final_Sybil_Evaluation_Results.xlsx')"
   ]
  },
  {
   "cell_type": "code",
   "execution_count": 7,
   "id": "8feaea7d",
   "metadata": {},
   "outputs": [],
   "source": [
    "final_diacom_directory = final_evaluation_df['Diacom Directory'].tolist()"
   ]
  },
  {
   "cell_type": "code",
   "execution_count": 8,
   "id": "c11ab6d3",
   "metadata": {},
   "outputs": [],
   "source": [
    "complete_serie_list = make_serie_list(final_diacom_directory[0:10])"
   ]
  },
  {
   "cell_type": "code",
   "execution_count": null,
   "id": "ff409f03",
   "metadata": {},
   "outputs": [],
   "source": []
  },
  {
   "cell_type": "code",
   "execution_count": 16,
   "id": "5e2fec57",
   "metadata": {
    "collapsed": true,
    "jupyter": {
     "outputs_hidden": true
    }
   },
   "outputs": [
    {
     "name": "stderr",
     "output_type": "stream",
     "text": [
      "INFO:sybil-process-2649269:Loaded model from /home/leonardgarcia/.sybil/28a7cd44f5bcd3e6cc760b65c7e0d54d.ckpt\n"
     ]
    },
    {
     "name": "stdout",
     "output_type": "stream",
     "text": [
      "0\n"
     ]
    },
    {
     "name": "stderr",
     "output_type": "stream",
     "text": [
      "INFO:sybil-process-2649269:Loaded model from /home/leonardgarcia/.sybil/28a7cd44f5bcd3e6cc760b65c7e0d54d.ckpt\n"
     ]
    },
    {
     "name": "stdout",
     "output_type": "stream",
     "text": [
      "1\n"
     ]
    },
    {
     "name": "stderr",
     "output_type": "stream",
     "text": [
      "INFO:sybil-process-2649269:Loaded model from /home/leonardgarcia/.sybil/28a7cd44f5bcd3e6cc760b65c7e0d54d.ckpt\n"
     ]
    },
    {
     "name": "stdout",
     "output_type": "stream",
     "text": [
      "2\n"
     ]
    },
    {
     "name": "stderr",
     "output_type": "stream",
     "text": [
      "INFO:sybil-process-2649269:Loaded model from /home/leonardgarcia/.sybil/28a7cd44f5bcd3e6cc760b65c7e0d54d.ckpt\n"
     ]
    },
    {
     "name": "stdout",
     "output_type": "stream",
     "text": [
      "3\n"
     ]
    },
    {
     "name": "stderr",
     "output_type": "stream",
     "text": [
      "INFO:sybil-process-2649269:Loaded model from /home/leonardgarcia/.sybil/28a7cd44f5bcd3e6cc760b65c7e0d54d.ckpt\n"
     ]
    },
    {
     "name": "stdout",
     "output_type": "stream",
     "text": [
      "4\n"
     ]
    },
    {
     "name": "stderr",
     "output_type": "stream",
     "text": [
      "INFO:sybil-process-2649269:Loaded model from /home/leonardgarcia/.sybil/28a7cd44f5bcd3e6cc760b65c7e0d54d.ckpt\n"
     ]
    },
    {
     "name": "stdout",
     "output_type": "stream",
     "text": [
      "5\n"
     ]
    },
    {
     "name": "stderr",
     "output_type": "stream",
     "text": [
      "INFO:sybil-process-2649269:Loaded model from /home/leonardgarcia/.sybil/28a7cd44f5bcd3e6cc760b65c7e0d54d.ckpt\n"
     ]
    },
    {
     "name": "stdout",
     "output_type": "stream",
     "text": [
      "6\n"
     ]
    },
    {
     "name": "stderr",
     "output_type": "stream",
     "text": [
      "INFO:sybil-process-2649269:Loaded model from /home/leonardgarcia/.sybil/28a7cd44f5bcd3e6cc760b65c7e0d54d.ckpt\n"
     ]
    },
    {
     "name": "stdout",
     "output_type": "stream",
     "text": [
      "7\n"
     ]
    },
    {
     "name": "stderr",
     "output_type": "stream",
     "text": [
      "INFO:sybil-process-2649269:Loaded model from /home/leonardgarcia/.sybil/28a7cd44f5bcd3e6cc760b65c7e0d54d.ckpt\n"
     ]
    },
    {
     "name": "stdout",
     "output_type": "stream",
     "text": [
      "8\n"
     ]
    },
    {
     "name": "stderr",
     "output_type": "stream",
     "text": [
      "INFO:sybil-process-2649269:Loaded model from /home/leonardgarcia/.sybil/28a7cd44f5bcd3e6cc760b65c7e0d54d.ckpt\n"
     ]
    },
    {
     "name": "stdout",
     "output_type": "stream",
     "text": [
      "9\n"
     ]
    },
    {
     "name": "stderr",
     "output_type": "stream",
     "text": [
      "INFO:sybil-process-2649269:Loaded model from /home/leonardgarcia/.sybil/28a7cd44f5bcd3e6cc760b65c7e0d54d.ckpt\n"
     ]
    },
    {
     "name": "stdout",
     "output_type": "stream",
     "text": [
      "10\n"
     ]
    },
    {
     "name": "stderr",
     "output_type": "stream",
     "text": [
      "INFO:sybil-process-2649269:Loaded model from /home/leonardgarcia/.sybil/28a7cd44f5bcd3e6cc760b65c7e0d54d.ckpt\n"
     ]
    },
    {
     "name": "stdout",
     "output_type": "stream",
     "text": [
      "11\n"
     ]
    },
    {
     "name": "stderr",
     "output_type": "stream",
     "text": [
      "INFO:sybil-process-2649269:Loaded model from /home/leonardgarcia/.sybil/28a7cd44f5bcd3e6cc760b65c7e0d54d.ckpt\n"
     ]
    },
    {
     "name": "stdout",
     "output_type": "stream",
     "text": [
      "12\n"
     ]
    },
    {
     "name": "stderr",
     "output_type": "stream",
     "text": [
      "INFO:sybil-process-2649269:Loaded model from /home/leonardgarcia/.sybil/28a7cd44f5bcd3e6cc760b65c7e0d54d.ckpt\n"
     ]
    },
    {
     "name": "stdout",
     "output_type": "stream",
     "text": [
      "13\n"
     ]
    },
    {
     "name": "stderr",
     "output_type": "stream",
     "text": [
      "INFO:sybil-process-2649269:Loaded model from /home/leonardgarcia/.sybil/28a7cd44f5bcd3e6cc760b65c7e0d54d.ckpt\n"
     ]
    },
    {
     "name": "stdout",
     "output_type": "stream",
     "text": [
      "14\n"
     ]
    },
    {
     "name": "stderr",
     "output_type": "stream",
     "text": [
      "INFO:sybil-process-2649269:Loaded model from /home/leonardgarcia/.sybil/28a7cd44f5bcd3e6cc760b65c7e0d54d.ckpt\n"
     ]
    },
    {
     "name": "stdout",
     "output_type": "stream",
     "text": [
      "15\n"
     ]
    },
    {
     "name": "stderr",
     "output_type": "stream",
     "text": [
      "INFO:sybil-process-2649269:Loaded model from /home/leonardgarcia/.sybil/28a7cd44f5bcd3e6cc760b65c7e0d54d.ckpt\n"
     ]
    },
    {
     "name": "stdout",
     "output_type": "stream",
     "text": [
      "16\n"
     ]
    },
    {
     "name": "stderr",
     "output_type": "stream",
     "text": [
      "INFO:sybil-process-2649269:Loaded model from /home/leonardgarcia/.sybil/28a7cd44f5bcd3e6cc760b65c7e0d54d.ckpt\n"
     ]
    },
    {
     "name": "stdout",
     "output_type": "stream",
     "text": [
      "17\n"
     ]
    },
    {
     "name": "stderr",
     "output_type": "stream",
     "text": [
      "INFO:sybil-process-2649269:Loaded model from /home/leonardgarcia/.sybil/28a7cd44f5bcd3e6cc760b65c7e0d54d.ckpt\n"
     ]
    },
    {
     "name": "stdout",
     "output_type": "stream",
     "text": [
      "18\n"
     ]
    },
    {
     "name": "stderr",
     "output_type": "stream",
     "text": [
      "INFO:sybil-process-2649269:Loaded model from /home/leonardgarcia/.sybil/28a7cd44f5bcd3e6cc760b65c7e0d54d.ckpt\n"
     ]
    },
    {
     "name": "stdout",
     "output_type": "stream",
     "text": [
      "19\n"
     ]
    },
    {
     "name": "stderr",
     "output_type": "stream",
     "text": [
      "INFO:sybil-process-2649269:Loaded model from /home/leonardgarcia/.sybil/28a7cd44f5bcd3e6cc760b65c7e0d54d.ckpt\n"
     ]
    },
    {
     "name": "stdout",
     "output_type": "stream",
     "text": [
      "20\n"
     ]
    },
    {
     "name": "stderr",
     "output_type": "stream",
     "text": [
      "INFO:sybil-process-2649269:Loaded model from /home/leonardgarcia/.sybil/28a7cd44f5bcd3e6cc760b65c7e0d54d.ckpt\n"
     ]
    },
    {
     "name": "stdout",
     "output_type": "stream",
     "text": [
      "21\n"
     ]
    },
    {
     "name": "stderr",
     "output_type": "stream",
     "text": [
      "INFO:sybil-process-2649269:Loaded model from /home/leonardgarcia/.sybil/28a7cd44f5bcd3e6cc760b65c7e0d54d.ckpt\n"
     ]
    },
    {
     "name": "stdout",
     "output_type": "stream",
     "text": [
      "22\n"
     ]
    },
    {
     "name": "stderr",
     "output_type": "stream",
     "text": [
      "INFO:sybil-process-2649269:Loaded model from /home/leonardgarcia/.sybil/28a7cd44f5bcd3e6cc760b65c7e0d54d.ckpt\n"
     ]
    },
    {
     "name": "stdout",
     "output_type": "stream",
     "text": [
      "23\n"
     ]
    },
    {
     "name": "stderr",
     "output_type": "stream",
     "text": [
      "INFO:sybil-process-2649269:Loaded model from /home/leonardgarcia/.sybil/28a7cd44f5bcd3e6cc760b65c7e0d54d.ckpt\n"
     ]
    },
    {
     "name": "stdout",
     "output_type": "stream",
     "text": [
      "24\n"
     ]
    },
    {
     "name": "stderr",
     "output_type": "stream",
     "text": [
      "INFO:sybil-process-2649269:Loaded model from /home/leonardgarcia/.sybil/28a7cd44f5bcd3e6cc760b65c7e0d54d.ckpt\n"
     ]
    },
    {
     "name": "stdout",
     "output_type": "stream",
     "text": [
      "25\n"
     ]
    },
    {
     "name": "stderr",
     "output_type": "stream",
     "text": [
      "INFO:sybil-process-2649269:Loaded model from /home/leonardgarcia/.sybil/28a7cd44f5bcd3e6cc760b65c7e0d54d.ckpt\n"
     ]
    },
    {
     "name": "stdout",
     "output_type": "stream",
     "text": [
      "26\n"
     ]
    },
    {
     "name": "stderr",
     "output_type": "stream",
     "text": [
      "INFO:sybil-process-2649269:Loaded model from /home/leonardgarcia/.sybil/28a7cd44f5bcd3e6cc760b65c7e0d54d.ckpt\n"
     ]
    },
    {
     "name": "stdout",
     "output_type": "stream",
     "text": [
      "27\n"
     ]
    },
    {
     "name": "stderr",
     "output_type": "stream",
     "text": [
      "INFO:sybil-process-2649269:Loaded model from /home/leonardgarcia/.sybil/28a7cd44f5bcd3e6cc760b65c7e0d54d.ckpt\n"
     ]
    },
    {
     "name": "stdout",
     "output_type": "stream",
     "text": [
      "28\n"
     ]
    },
    {
     "name": "stderr",
     "output_type": "stream",
     "text": [
      "INFO:sybil-process-2649269:Loaded model from /home/leonardgarcia/.sybil/28a7cd44f5bcd3e6cc760b65c7e0d54d.ckpt\n"
     ]
    },
    {
     "name": "stdout",
     "output_type": "stream",
     "text": [
      "29\n"
     ]
    },
    {
     "name": "stderr",
     "output_type": "stream",
     "text": [
      "INFO:sybil-process-2649269:Loaded model from /home/leonardgarcia/.sybil/28a7cd44f5bcd3e6cc760b65c7e0d54d.ckpt\n"
     ]
    },
    {
     "name": "stdout",
     "output_type": "stream",
     "text": [
      "30\n"
     ]
    },
    {
     "name": "stderr",
     "output_type": "stream",
     "text": [
      "INFO:sybil-process-2649269:Loaded model from /home/leonardgarcia/.sybil/28a7cd44f5bcd3e6cc760b65c7e0d54d.ckpt\n"
     ]
    },
    {
     "name": "stdout",
     "output_type": "stream",
     "text": [
      "31\n"
     ]
    },
    {
     "name": "stderr",
     "output_type": "stream",
     "text": [
      "INFO:sybil-process-2649269:Loaded model from /home/leonardgarcia/.sybil/28a7cd44f5bcd3e6cc760b65c7e0d54d.ckpt\n"
     ]
    },
    {
     "name": "stdout",
     "output_type": "stream",
     "text": [
      "32\n"
     ]
    },
    {
     "name": "stderr",
     "output_type": "stream",
     "text": [
      "INFO:sybil-process-2649269:Loaded model from /home/leonardgarcia/.sybil/28a7cd44f5bcd3e6cc760b65c7e0d54d.ckpt\n"
     ]
    },
    {
     "name": "stdout",
     "output_type": "stream",
     "text": [
      "33\n"
     ]
    },
    {
     "name": "stderr",
     "output_type": "stream",
     "text": [
      "INFO:sybil-process-2649269:Loaded model from /home/leonardgarcia/.sybil/28a7cd44f5bcd3e6cc760b65c7e0d54d.ckpt\n"
     ]
    },
    {
     "name": "stdout",
     "output_type": "stream",
     "text": [
      "34\n"
     ]
    },
    {
     "name": "stderr",
     "output_type": "stream",
     "text": [
      "INFO:sybil-process-2649269:Loaded model from /home/leonardgarcia/.sybil/28a7cd44f5bcd3e6cc760b65c7e0d54d.ckpt\n"
     ]
    },
    {
     "name": "stdout",
     "output_type": "stream",
     "text": [
      "35\n"
     ]
    },
    {
     "name": "stderr",
     "output_type": "stream",
     "text": [
      "INFO:sybil-process-2649269:Loaded model from /home/leonardgarcia/.sybil/28a7cd44f5bcd3e6cc760b65c7e0d54d.ckpt\n"
     ]
    },
    {
     "name": "stdout",
     "output_type": "stream",
     "text": [
      "36\n"
     ]
    },
    {
     "name": "stderr",
     "output_type": "stream",
     "text": [
      "INFO:sybil-process-2649269:Loaded model from /home/leonardgarcia/.sybil/28a7cd44f5bcd3e6cc760b65c7e0d54d.ckpt\n"
     ]
    },
    {
     "name": "stdout",
     "output_type": "stream",
     "text": [
      "37\n"
     ]
    },
    {
     "name": "stderr",
     "output_type": "stream",
     "text": [
      "INFO:sybil-process-2649269:Loaded model from /home/leonardgarcia/.sybil/28a7cd44f5bcd3e6cc760b65c7e0d54d.ckpt\n"
     ]
    },
    {
     "name": "stdout",
     "output_type": "stream",
     "text": [
      "38\n"
     ]
    },
    {
     "name": "stderr",
     "output_type": "stream",
     "text": [
      "INFO:sybil-process-2649269:Loaded model from /home/leonardgarcia/.sybil/28a7cd44f5bcd3e6cc760b65c7e0d54d.ckpt\n"
     ]
    },
    {
     "name": "stdout",
     "output_type": "stream",
     "text": [
      "39\n"
     ]
    },
    {
     "name": "stderr",
     "output_type": "stream",
     "text": [
      "INFO:sybil-process-2649269:Loaded model from /home/leonardgarcia/.sybil/28a7cd44f5bcd3e6cc760b65c7e0d54d.ckpt\n"
     ]
    },
    {
     "name": "stdout",
     "output_type": "stream",
     "text": [
      "40\n"
     ]
    },
    {
     "name": "stderr",
     "output_type": "stream",
     "text": [
      "INFO:sybil-process-2649269:Loaded model from /home/leonardgarcia/.sybil/28a7cd44f5bcd3e6cc760b65c7e0d54d.ckpt\n"
     ]
    },
    {
     "name": "stdout",
     "output_type": "stream",
     "text": [
      "41\n"
     ]
    },
    {
     "name": "stderr",
     "output_type": "stream",
     "text": [
      "INFO:sybil-process-2649269:Loaded model from /home/leonardgarcia/.sybil/28a7cd44f5bcd3e6cc760b65c7e0d54d.ckpt\n"
     ]
    },
    {
     "name": "stdout",
     "output_type": "stream",
     "text": [
      "42\n"
     ]
    },
    {
     "name": "stderr",
     "output_type": "stream",
     "text": [
      "INFO:sybil-process-2649269:Loaded model from /home/leonardgarcia/.sybil/28a7cd44f5bcd3e6cc760b65c7e0d54d.ckpt\n"
     ]
    },
    {
     "name": "stdout",
     "output_type": "stream",
     "text": [
      "43\n"
     ]
    },
    {
     "name": "stderr",
     "output_type": "stream",
     "text": [
      "INFO:sybil-process-2649269:Loaded model from /home/leonardgarcia/.sybil/28a7cd44f5bcd3e6cc760b65c7e0d54d.ckpt\n"
     ]
    },
    {
     "name": "stdout",
     "output_type": "stream",
     "text": [
      "44\n"
     ]
    },
    {
     "name": "stderr",
     "output_type": "stream",
     "text": [
      "INFO:sybil-process-2649269:Loaded model from /home/leonardgarcia/.sybil/28a7cd44f5bcd3e6cc760b65c7e0d54d.ckpt\n"
     ]
    },
    {
     "name": "stdout",
     "output_type": "stream",
     "text": [
      "45\n"
     ]
    },
    {
     "name": "stderr",
     "output_type": "stream",
     "text": [
      "INFO:sybil-process-2649269:Loaded model from /home/leonardgarcia/.sybil/28a7cd44f5bcd3e6cc760b65c7e0d54d.ckpt\n"
     ]
    },
    {
     "name": "stdout",
     "output_type": "stream",
     "text": [
      "46\n"
     ]
    },
    {
     "name": "stderr",
     "output_type": "stream",
     "text": [
      "INFO:sybil-process-2649269:Loaded model from /home/leonardgarcia/.sybil/28a7cd44f5bcd3e6cc760b65c7e0d54d.ckpt\n"
     ]
    },
    {
     "name": "stdout",
     "output_type": "stream",
     "text": [
      "47\n"
     ]
    },
    {
     "name": "stderr",
     "output_type": "stream",
     "text": [
      "INFO:sybil-process-2649269:Loaded model from /home/leonardgarcia/.sybil/28a7cd44f5bcd3e6cc760b65c7e0d54d.ckpt\n"
     ]
    },
    {
     "name": "stdout",
     "output_type": "stream",
     "text": [
      "48\n"
     ]
    },
    {
     "name": "stderr",
     "output_type": "stream",
     "text": [
      "INFO:sybil-process-2649269:Loaded model from /home/leonardgarcia/.sybil/28a7cd44f5bcd3e6cc760b65c7e0d54d.ckpt\n"
     ]
    },
    {
     "name": "stdout",
     "output_type": "stream",
     "text": [
      "49\n"
     ]
    },
    {
     "name": "stderr",
     "output_type": "stream",
     "text": [
      "INFO:sybil-process-2649269:Loaded model from /home/leonardgarcia/.sybil/28a7cd44f5bcd3e6cc760b65c7e0d54d.ckpt\n"
     ]
    },
    {
     "name": "stdout",
     "output_type": "stream",
     "text": [
      "50\n"
     ]
    },
    {
     "name": "stderr",
     "output_type": "stream",
     "text": [
      "INFO:sybil-process-2649269:Loaded model from /home/leonardgarcia/.sybil/28a7cd44f5bcd3e6cc760b65c7e0d54d.ckpt\n"
     ]
    },
    {
     "name": "stdout",
     "output_type": "stream",
     "text": [
      "51\n"
     ]
    },
    {
     "name": "stderr",
     "output_type": "stream",
     "text": [
      "INFO:sybil-process-2649269:Loaded model from /home/leonardgarcia/.sybil/28a7cd44f5bcd3e6cc760b65c7e0d54d.ckpt\n"
     ]
    },
    {
     "name": "stdout",
     "output_type": "stream",
     "text": [
      "52\n"
     ]
    },
    {
     "name": "stderr",
     "output_type": "stream",
     "text": [
      "INFO:sybil-process-2649269:Loaded model from /home/leonardgarcia/.sybil/28a7cd44f5bcd3e6cc760b65c7e0d54d.ckpt\n"
     ]
    },
    {
     "name": "stdout",
     "output_type": "stream",
     "text": [
      "53\n"
     ]
    },
    {
     "name": "stderr",
     "output_type": "stream",
     "text": [
      "INFO:sybil-process-2649269:Loaded model from /home/leonardgarcia/.sybil/28a7cd44f5bcd3e6cc760b65c7e0d54d.ckpt\n"
     ]
    },
    {
     "name": "stdout",
     "output_type": "stream",
     "text": [
      "54\n"
     ]
    },
    {
     "name": "stderr",
     "output_type": "stream",
     "text": [
      "INFO:sybil-process-2649269:Loaded model from /home/leonardgarcia/.sybil/28a7cd44f5bcd3e6cc760b65c7e0d54d.ckpt\n"
     ]
    },
    {
     "name": "stdout",
     "output_type": "stream",
     "text": [
      "55\n"
     ]
    },
    {
     "name": "stderr",
     "output_type": "stream",
     "text": [
      "INFO:sybil-process-2649269:Loaded model from /home/leonardgarcia/.sybil/28a7cd44f5bcd3e6cc760b65c7e0d54d.ckpt\n"
     ]
    },
    {
     "name": "stdout",
     "output_type": "stream",
     "text": [
      "56\n"
     ]
    },
    {
     "name": "stderr",
     "output_type": "stream",
     "text": [
      "INFO:sybil-process-2649269:Loaded model from /home/leonardgarcia/.sybil/28a7cd44f5bcd3e6cc760b65c7e0d54d.ckpt\n"
     ]
    },
    {
     "name": "stdout",
     "output_type": "stream",
     "text": [
      "57\n"
     ]
    },
    {
     "name": "stderr",
     "output_type": "stream",
     "text": [
      "INFO:sybil-process-2649269:Loaded model from /home/leonardgarcia/.sybil/28a7cd44f5bcd3e6cc760b65c7e0d54d.ckpt\n"
     ]
    },
    {
     "name": "stdout",
     "output_type": "stream",
     "text": [
      "58\n"
     ]
    },
    {
     "name": "stderr",
     "output_type": "stream",
     "text": [
      "INFO:sybil-process-2649269:Loaded model from /home/leonardgarcia/.sybil/28a7cd44f5bcd3e6cc760b65c7e0d54d.ckpt\n"
     ]
    },
    {
     "name": "stdout",
     "output_type": "stream",
     "text": [
      "59\n"
     ]
    },
    {
     "name": "stderr",
     "output_type": "stream",
     "text": [
      "INFO:sybil-process-2649269:Loaded model from /home/leonardgarcia/.sybil/28a7cd44f5bcd3e6cc760b65c7e0d54d.ckpt\n"
     ]
    },
    {
     "name": "stdout",
     "output_type": "stream",
     "text": [
      "60\n"
     ]
    },
    {
     "name": "stderr",
     "output_type": "stream",
     "text": [
      "INFO:sybil-process-2649269:Loaded model from /home/leonardgarcia/.sybil/28a7cd44f5bcd3e6cc760b65c7e0d54d.ckpt\n"
     ]
    },
    {
     "name": "stdout",
     "output_type": "stream",
     "text": [
      "61\n"
     ]
    },
    {
     "name": "stderr",
     "output_type": "stream",
     "text": [
      "INFO:sybil-process-2649269:Loaded model from /home/leonardgarcia/.sybil/28a7cd44f5bcd3e6cc760b65c7e0d54d.ckpt\n"
     ]
    },
    {
     "name": "stdout",
     "output_type": "stream",
     "text": [
      "62\n"
     ]
    },
    {
     "name": "stderr",
     "output_type": "stream",
     "text": [
      "INFO:sybil-process-2649269:Loaded model from /home/leonardgarcia/.sybil/28a7cd44f5bcd3e6cc760b65c7e0d54d.ckpt\n"
     ]
    },
    {
     "name": "stdout",
     "output_type": "stream",
     "text": [
      "63\n"
     ]
    },
    {
     "name": "stderr",
     "output_type": "stream",
     "text": [
      "INFO:sybil-process-2649269:Loaded model from /home/leonardgarcia/.sybil/28a7cd44f5bcd3e6cc760b65c7e0d54d.ckpt\n"
     ]
    },
    {
     "name": "stdout",
     "output_type": "stream",
     "text": [
      "64\n"
     ]
    },
    {
     "name": "stderr",
     "output_type": "stream",
     "text": [
      "INFO:sybil-process-2649269:Loaded model from /home/leonardgarcia/.sybil/28a7cd44f5bcd3e6cc760b65c7e0d54d.ckpt\n"
     ]
    },
    {
     "name": "stdout",
     "output_type": "stream",
     "text": [
      "65\n"
     ]
    },
    {
     "name": "stderr",
     "output_type": "stream",
     "text": [
      "INFO:sybil-process-2649269:Loaded model from /home/leonardgarcia/.sybil/28a7cd44f5bcd3e6cc760b65c7e0d54d.ckpt\n"
     ]
    },
    {
     "name": "stdout",
     "output_type": "stream",
     "text": [
      "66\n"
     ]
    },
    {
     "name": "stderr",
     "output_type": "stream",
     "text": [
      "INFO:sybil-process-2649269:Loaded model from /home/leonardgarcia/.sybil/28a7cd44f5bcd3e6cc760b65c7e0d54d.ckpt\n"
     ]
    },
    {
     "name": "stdout",
     "output_type": "stream",
     "text": [
      "67\n"
     ]
    },
    {
     "name": "stderr",
     "output_type": "stream",
     "text": [
      "INFO:sybil-process-2649269:Loaded model from /home/leonardgarcia/.sybil/28a7cd44f5bcd3e6cc760b65c7e0d54d.ckpt\n"
     ]
    },
    {
     "name": "stdout",
     "output_type": "stream",
     "text": [
      "68\n"
     ]
    },
    {
     "name": "stderr",
     "output_type": "stream",
     "text": [
      "INFO:sybil-process-2649269:Loaded model from /home/leonardgarcia/.sybil/28a7cd44f5bcd3e6cc760b65c7e0d54d.ckpt\n"
     ]
    },
    {
     "name": "stdout",
     "output_type": "stream",
     "text": [
      "69\n"
     ]
    },
    {
     "name": "stderr",
     "output_type": "stream",
     "text": [
      "INFO:sybil-process-2649269:Loaded model from /home/leonardgarcia/.sybil/28a7cd44f5bcd3e6cc760b65c7e0d54d.ckpt\n"
     ]
    },
    {
     "name": "stdout",
     "output_type": "stream",
     "text": [
      "70\n"
     ]
    },
    {
     "name": "stderr",
     "output_type": "stream",
     "text": [
      "INFO:sybil-process-2649269:Loaded model from /home/leonardgarcia/.sybil/28a7cd44f5bcd3e6cc760b65c7e0d54d.ckpt\n"
     ]
    },
    {
     "name": "stdout",
     "output_type": "stream",
     "text": [
      "71\n"
     ]
    },
    {
     "name": "stderr",
     "output_type": "stream",
     "text": [
      "INFO:sybil-process-2649269:Loaded model from /home/leonardgarcia/.sybil/28a7cd44f5bcd3e6cc760b65c7e0d54d.ckpt\n"
     ]
    },
    {
     "name": "stdout",
     "output_type": "stream",
     "text": [
      "72\n"
     ]
    },
    {
     "name": "stderr",
     "output_type": "stream",
     "text": [
      "INFO:sybil-process-2649269:Loaded model from /home/leonardgarcia/.sybil/28a7cd44f5bcd3e6cc760b65c7e0d54d.ckpt\n"
     ]
    },
    {
     "name": "stdout",
     "output_type": "stream",
     "text": [
      "73\n"
     ]
    },
    {
     "name": "stderr",
     "output_type": "stream",
     "text": [
      "INFO:sybil-process-2649269:Loaded model from /home/leonardgarcia/.sybil/28a7cd44f5bcd3e6cc760b65c7e0d54d.ckpt\n"
     ]
    },
    {
     "name": "stdout",
     "output_type": "stream",
     "text": [
      "74\n"
     ]
    },
    {
     "name": "stderr",
     "output_type": "stream",
     "text": [
      "INFO:sybil-process-2649269:Loaded model from /home/leonardgarcia/.sybil/28a7cd44f5bcd3e6cc760b65c7e0d54d.ckpt\n"
     ]
    },
    {
     "name": "stdout",
     "output_type": "stream",
     "text": [
      "75\n"
     ]
    },
    {
     "name": "stderr",
     "output_type": "stream",
     "text": [
      "INFO:sybil-process-2649269:Loaded model from /home/leonardgarcia/.sybil/28a7cd44f5bcd3e6cc760b65c7e0d54d.ckpt\n"
     ]
    },
    {
     "name": "stdout",
     "output_type": "stream",
     "text": [
      "76\n"
     ]
    },
    {
     "name": "stderr",
     "output_type": "stream",
     "text": [
      "INFO:sybil-process-2649269:Loaded model from /home/leonardgarcia/.sybil/28a7cd44f5bcd3e6cc760b65c7e0d54d.ckpt\n"
     ]
    },
    {
     "name": "stdout",
     "output_type": "stream",
     "text": [
      "77\n"
     ]
    },
    {
     "name": "stderr",
     "output_type": "stream",
     "text": [
      "INFO:sybil-process-2649269:Loaded model from /home/leonardgarcia/.sybil/28a7cd44f5bcd3e6cc760b65c7e0d54d.ckpt\n"
     ]
    },
    {
     "name": "stdout",
     "output_type": "stream",
     "text": [
      "78\n"
     ]
    },
    {
     "name": "stderr",
     "output_type": "stream",
     "text": [
      "INFO:sybil-process-2649269:Loaded model from /home/leonardgarcia/.sybil/28a7cd44f5bcd3e6cc760b65c7e0d54d.ckpt\n"
     ]
    },
    {
     "name": "stdout",
     "output_type": "stream",
     "text": [
      "79\n"
     ]
    },
    {
     "name": "stderr",
     "output_type": "stream",
     "text": [
      "INFO:sybil-process-2649269:Loaded model from /home/leonardgarcia/.sybil/28a7cd44f5bcd3e6cc760b65c7e0d54d.ckpt\n"
     ]
    },
    {
     "name": "stdout",
     "output_type": "stream",
     "text": [
      "80\n"
     ]
    },
    {
     "name": "stderr",
     "output_type": "stream",
     "text": [
      "INFO:sybil-process-2649269:Loaded model from /home/leonardgarcia/.sybil/28a7cd44f5bcd3e6cc760b65c7e0d54d.ckpt\n"
     ]
    },
    {
     "name": "stdout",
     "output_type": "stream",
     "text": [
      "81\n"
     ]
    },
    {
     "name": "stderr",
     "output_type": "stream",
     "text": [
      "INFO:sybil-process-2649269:Loaded model from /home/leonardgarcia/.sybil/28a7cd44f5bcd3e6cc760b65c7e0d54d.ckpt\n"
     ]
    },
    {
     "name": "stdout",
     "output_type": "stream",
     "text": [
      "82\n"
     ]
    },
    {
     "name": "stderr",
     "output_type": "stream",
     "text": [
      "INFO:sybil-process-2649269:Loaded model from /home/leonardgarcia/.sybil/28a7cd44f5bcd3e6cc760b65c7e0d54d.ckpt\n"
     ]
    },
    {
     "name": "stdout",
     "output_type": "stream",
     "text": [
      "83\n"
     ]
    },
    {
     "name": "stderr",
     "output_type": "stream",
     "text": [
      "INFO:sybil-process-2649269:Loaded model from /home/leonardgarcia/.sybil/28a7cd44f5bcd3e6cc760b65c7e0d54d.ckpt\n"
     ]
    },
    {
     "name": "stdout",
     "output_type": "stream",
     "text": [
      "84\n"
     ]
    },
    {
     "name": "stderr",
     "output_type": "stream",
     "text": [
      "INFO:sybil-process-2649269:Loaded model from /home/leonardgarcia/.sybil/28a7cd44f5bcd3e6cc760b65c7e0d54d.ckpt\n"
     ]
    },
    {
     "name": "stdout",
     "output_type": "stream",
     "text": [
      "85\n"
     ]
    },
    {
     "name": "stderr",
     "output_type": "stream",
     "text": [
      "INFO:sybil-process-2649269:Loaded model from /home/leonardgarcia/.sybil/28a7cd44f5bcd3e6cc760b65c7e0d54d.ckpt\n"
     ]
    },
    {
     "name": "stdout",
     "output_type": "stream",
     "text": [
      "86\n"
     ]
    },
    {
     "name": "stderr",
     "output_type": "stream",
     "text": [
      "INFO:sybil-process-2649269:Loaded model from /home/leonardgarcia/.sybil/28a7cd44f5bcd3e6cc760b65c7e0d54d.ckpt\n"
     ]
    },
    {
     "name": "stdout",
     "output_type": "stream",
     "text": [
      "87\n"
     ]
    },
    {
     "name": "stderr",
     "output_type": "stream",
     "text": [
      "INFO:sybil-process-2649269:Loaded model from /home/leonardgarcia/.sybil/28a7cd44f5bcd3e6cc760b65c7e0d54d.ckpt\n"
     ]
    },
    {
     "name": "stdout",
     "output_type": "stream",
     "text": [
      "88\n"
     ]
    },
    {
     "name": "stderr",
     "output_type": "stream",
     "text": [
      "INFO:sybil-process-2649269:Loaded model from /home/leonardgarcia/.sybil/28a7cd44f5bcd3e6cc760b65c7e0d54d.ckpt\n"
     ]
    },
    {
     "name": "stdout",
     "output_type": "stream",
     "text": [
      "89\n"
     ]
    },
    {
     "name": "stderr",
     "output_type": "stream",
     "text": [
      "INFO:sybil-process-2649269:Loaded model from /home/leonardgarcia/.sybil/28a7cd44f5bcd3e6cc760b65c7e0d54d.ckpt\n"
     ]
    },
    {
     "name": "stdout",
     "output_type": "stream",
     "text": [
      "90\n"
     ]
    },
    {
     "name": "stderr",
     "output_type": "stream",
     "text": [
      "INFO:sybil-process-2649269:Loaded model from /home/leonardgarcia/.sybil/28a7cd44f5bcd3e6cc760b65c7e0d54d.ckpt\n"
     ]
    },
    {
     "name": "stdout",
     "output_type": "stream",
     "text": [
      "91\n"
     ]
    },
    {
     "name": "stderr",
     "output_type": "stream",
     "text": [
      "INFO:sybil-process-2649269:Loaded model from /home/leonardgarcia/.sybil/28a7cd44f5bcd3e6cc760b65c7e0d54d.ckpt\n"
     ]
    },
    {
     "name": "stdout",
     "output_type": "stream",
     "text": [
      "92\n"
     ]
    },
    {
     "name": "stderr",
     "output_type": "stream",
     "text": [
      "INFO:sybil-process-2649269:Loaded model from /home/leonardgarcia/.sybil/28a7cd44f5bcd3e6cc760b65c7e0d54d.ckpt\n"
     ]
    },
    {
     "name": "stdout",
     "output_type": "stream",
     "text": [
      "93\n"
     ]
    },
    {
     "name": "stderr",
     "output_type": "stream",
     "text": [
      "INFO:sybil-process-2649269:Loaded model from /home/leonardgarcia/.sybil/28a7cd44f5bcd3e6cc760b65c7e0d54d.ckpt\n"
     ]
    },
    {
     "name": "stdout",
     "output_type": "stream",
     "text": [
      "94\n"
     ]
    },
    {
     "name": "stderr",
     "output_type": "stream",
     "text": [
      "INFO:sybil-process-2649269:Loaded model from /home/leonardgarcia/.sybil/28a7cd44f5bcd3e6cc760b65c7e0d54d.ckpt\n"
     ]
    },
    {
     "name": "stdout",
     "output_type": "stream",
     "text": [
      "95\n"
     ]
    },
    {
     "name": "stderr",
     "output_type": "stream",
     "text": [
      "INFO:sybil-process-2649269:Loaded model from /home/leonardgarcia/.sybil/28a7cd44f5bcd3e6cc760b65c7e0d54d.ckpt\n"
     ]
    },
    {
     "name": "stdout",
     "output_type": "stream",
     "text": [
      "96\n"
     ]
    },
    {
     "name": "stderr",
     "output_type": "stream",
     "text": [
      "INFO:sybil-process-2649269:Loaded model from /home/leonardgarcia/.sybil/28a7cd44f5bcd3e6cc760b65c7e0d54d.ckpt\n"
     ]
    },
    {
     "name": "stdout",
     "output_type": "stream",
     "text": [
      "97\n"
     ]
    },
    {
     "name": "stderr",
     "output_type": "stream",
     "text": [
      "INFO:sybil-process-2649269:Loaded model from /home/leonardgarcia/.sybil/28a7cd44f5bcd3e6cc760b65c7e0d54d.ckpt\n"
     ]
    },
    {
     "name": "stdout",
     "output_type": "stream",
     "text": [
      "98\n"
     ]
    },
    {
     "name": "stderr",
     "output_type": "stream",
     "text": [
      "INFO:sybil-process-2649269:Loaded model from /home/leonardgarcia/.sybil/28a7cd44f5bcd3e6cc760b65c7e0d54d.ckpt\n"
     ]
    },
    {
     "name": "stdout",
     "output_type": "stream",
     "text": [
      "99\n"
     ]
    },
    {
     "name": "stderr",
     "output_type": "stream",
     "text": [
      "INFO:sybil-process-2649269:Loaded model from /home/leonardgarcia/.sybil/28a7cd44f5bcd3e6cc760b65c7e0d54d.ckpt\n"
     ]
    },
    {
     "name": "stdout",
     "output_type": "stream",
     "text": [
      "100\n"
     ]
    },
    {
     "name": "stderr",
     "output_type": "stream",
     "text": [
      "INFO:sybil-process-2649269:Loaded model from /home/leonardgarcia/.sybil/28a7cd44f5bcd3e6cc760b65c7e0d54d.ckpt\n"
     ]
    },
    {
     "name": "stdout",
     "output_type": "stream",
     "text": [
      "101\n"
     ]
    },
    {
     "name": "stderr",
     "output_type": "stream",
     "text": [
      "INFO:sybil-process-2649269:Loaded model from /home/leonardgarcia/.sybil/28a7cd44f5bcd3e6cc760b65c7e0d54d.ckpt\n"
     ]
    },
    {
     "name": "stdout",
     "output_type": "stream",
     "text": [
      "102\n"
     ]
    },
    {
     "name": "stderr",
     "output_type": "stream",
     "text": [
      "INFO:sybil-process-2649269:Loaded model from /home/leonardgarcia/.sybil/28a7cd44f5bcd3e6cc760b65c7e0d54d.ckpt\n"
     ]
    },
    {
     "name": "stdout",
     "output_type": "stream",
     "text": [
      "103\n"
     ]
    },
    {
     "name": "stderr",
     "output_type": "stream",
     "text": [
      "INFO:sybil-process-2649269:Loaded model from /home/leonardgarcia/.sybil/28a7cd44f5bcd3e6cc760b65c7e0d54d.ckpt\n"
     ]
    },
    {
     "name": "stdout",
     "output_type": "stream",
     "text": [
      "104\n"
     ]
    },
    {
     "name": "stderr",
     "output_type": "stream",
     "text": [
      "INFO:sybil-process-2649269:Loaded model from /home/leonardgarcia/.sybil/28a7cd44f5bcd3e6cc760b65c7e0d54d.ckpt\n"
     ]
    },
    {
     "name": "stdout",
     "output_type": "stream",
     "text": [
      "105\n"
     ]
    },
    {
     "name": "stderr",
     "output_type": "stream",
     "text": [
      "INFO:sybil-process-2649269:Loaded model from /home/leonardgarcia/.sybil/28a7cd44f5bcd3e6cc760b65c7e0d54d.ckpt\n"
     ]
    },
    {
     "name": "stdout",
     "output_type": "stream",
     "text": [
      "106\n"
     ]
    },
    {
     "name": "stderr",
     "output_type": "stream",
     "text": [
      "INFO:sybil-process-2649269:Loaded model from /home/leonardgarcia/.sybil/28a7cd44f5bcd3e6cc760b65c7e0d54d.ckpt\n"
     ]
    },
    {
     "name": "stdout",
     "output_type": "stream",
     "text": [
      "107\n"
     ]
    },
    {
     "name": "stderr",
     "output_type": "stream",
     "text": [
      "INFO:sybil-process-2649269:Loaded model from /home/leonardgarcia/.sybil/28a7cd44f5bcd3e6cc760b65c7e0d54d.ckpt\n"
     ]
    },
    {
     "name": "stdout",
     "output_type": "stream",
     "text": [
      "108\n"
     ]
    },
    {
     "name": "stderr",
     "output_type": "stream",
     "text": [
      "INFO:sybil-process-2649269:Loaded model from /home/leonardgarcia/.sybil/28a7cd44f5bcd3e6cc760b65c7e0d54d.ckpt\n"
     ]
    },
    {
     "name": "stdout",
     "output_type": "stream",
     "text": [
      "109\n"
     ]
    },
    {
     "name": "stderr",
     "output_type": "stream",
     "text": [
      "INFO:sybil-process-2649269:Loaded model from /home/leonardgarcia/.sybil/28a7cd44f5bcd3e6cc760b65c7e0d54d.ckpt\n"
     ]
    },
    {
     "name": "stdout",
     "output_type": "stream",
     "text": [
      "110\n"
     ]
    },
    {
     "name": "stderr",
     "output_type": "stream",
     "text": [
      "INFO:sybil-process-2649269:Loaded model from /home/leonardgarcia/.sybil/28a7cd44f5bcd3e6cc760b65c7e0d54d.ckpt\n"
     ]
    },
    {
     "name": "stdout",
     "output_type": "stream",
     "text": [
      "111\n"
     ]
    },
    {
     "name": "stderr",
     "output_type": "stream",
     "text": [
      "INFO:sybil-process-2649269:Loaded model from /home/leonardgarcia/.sybil/28a7cd44f5bcd3e6cc760b65c7e0d54d.ckpt\n"
     ]
    },
    {
     "name": "stdout",
     "output_type": "stream",
     "text": [
      "112\n"
     ]
    },
    {
     "name": "stderr",
     "output_type": "stream",
     "text": [
      "INFO:sybil-process-2649269:Loaded model from /home/leonardgarcia/.sybil/28a7cd44f5bcd3e6cc760b65c7e0d54d.ckpt\n"
     ]
    },
    {
     "name": "stdout",
     "output_type": "stream",
     "text": [
      "113\n"
     ]
    },
    {
     "name": "stderr",
     "output_type": "stream",
     "text": [
      "INFO:sybil-process-2649269:Loaded model from /home/leonardgarcia/.sybil/28a7cd44f5bcd3e6cc760b65c7e0d54d.ckpt\n"
     ]
    },
    {
     "name": "stdout",
     "output_type": "stream",
     "text": [
      "114\n"
     ]
    },
    {
     "name": "stderr",
     "output_type": "stream",
     "text": [
      "INFO:sybil-process-2649269:Loaded model from /home/leonardgarcia/.sybil/28a7cd44f5bcd3e6cc760b65c7e0d54d.ckpt\n"
     ]
    },
    {
     "name": "stdout",
     "output_type": "stream",
     "text": [
      "115\n"
     ]
    },
    {
     "name": "stderr",
     "output_type": "stream",
     "text": [
      "INFO:sybil-process-2649269:Loaded model from /home/leonardgarcia/.sybil/28a7cd44f5bcd3e6cc760b65c7e0d54d.ckpt\n"
     ]
    },
    {
     "name": "stdout",
     "output_type": "stream",
     "text": [
      "116\n"
     ]
    },
    {
     "name": "stderr",
     "output_type": "stream",
     "text": [
      "INFO:sybil-process-2649269:Loaded model from /home/leonardgarcia/.sybil/28a7cd44f5bcd3e6cc760b65c7e0d54d.ckpt\n"
     ]
    },
    {
     "name": "stdout",
     "output_type": "stream",
     "text": [
      "117\n"
     ]
    },
    {
     "name": "stderr",
     "output_type": "stream",
     "text": [
      "INFO:sybil-process-2649269:Loaded model from /home/leonardgarcia/.sybil/28a7cd44f5bcd3e6cc760b65c7e0d54d.ckpt\n"
     ]
    },
    {
     "name": "stdout",
     "output_type": "stream",
     "text": [
      "118\n"
     ]
    },
    {
     "name": "stderr",
     "output_type": "stream",
     "text": [
      "INFO:sybil-process-2649269:Loaded model from /home/leonardgarcia/.sybil/28a7cd44f5bcd3e6cc760b65c7e0d54d.ckpt\n"
     ]
    },
    {
     "name": "stdout",
     "output_type": "stream",
     "text": [
      "119\n"
     ]
    },
    {
     "name": "stderr",
     "output_type": "stream",
     "text": [
      "INFO:sybil-process-2649269:Loaded model from /home/leonardgarcia/.sybil/28a7cd44f5bcd3e6cc760b65c7e0d54d.ckpt\n"
     ]
    },
    {
     "name": "stdout",
     "output_type": "stream",
     "text": [
      "120\n"
     ]
    },
    {
     "name": "stderr",
     "output_type": "stream",
     "text": [
      "INFO:sybil-process-2649269:Loaded model from /home/leonardgarcia/.sybil/28a7cd44f5bcd3e6cc760b65c7e0d54d.ckpt\n"
     ]
    },
    {
     "name": "stdout",
     "output_type": "stream",
     "text": [
      "121\n"
     ]
    },
    {
     "name": "stderr",
     "output_type": "stream",
     "text": [
      "INFO:sybil-process-2649269:Loaded model from /home/leonardgarcia/.sybil/28a7cd44f5bcd3e6cc760b65c7e0d54d.ckpt\n"
     ]
    },
    {
     "name": "stdout",
     "output_type": "stream",
     "text": [
      "122\n"
     ]
    },
    {
     "name": "stderr",
     "output_type": "stream",
     "text": [
      "INFO:sybil-process-2649269:Loaded model from /home/leonardgarcia/.sybil/28a7cd44f5bcd3e6cc760b65c7e0d54d.ckpt\n"
     ]
    },
    {
     "name": "stdout",
     "output_type": "stream",
     "text": [
      "123\n"
     ]
    },
    {
     "name": "stderr",
     "output_type": "stream",
     "text": [
      "INFO:sybil-process-2649269:Loaded model from /home/leonardgarcia/.sybil/28a7cd44f5bcd3e6cc760b65c7e0d54d.ckpt\n"
     ]
    },
    {
     "name": "stdout",
     "output_type": "stream",
     "text": [
      "124\n"
     ]
    },
    {
     "name": "stderr",
     "output_type": "stream",
     "text": [
      "INFO:sybil-process-2649269:Loaded model from /home/leonardgarcia/.sybil/28a7cd44f5bcd3e6cc760b65c7e0d54d.ckpt\n"
     ]
    },
    {
     "name": "stdout",
     "output_type": "stream",
     "text": [
      "125\n"
     ]
    },
    {
     "name": "stderr",
     "output_type": "stream",
     "text": [
      "INFO:sybil-process-2649269:Loaded model from /home/leonardgarcia/.sybil/28a7cd44f5bcd3e6cc760b65c7e0d54d.ckpt\n"
     ]
    },
    {
     "name": "stdout",
     "output_type": "stream",
     "text": [
      "126\n"
     ]
    },
    {
     "name": "stderr",
     "output_type": "stream",
     "text": [
      "INFO:sybil-process-2649269:Loaded model from /home/leonardgarcia/.sybil/28a7cd44f5bcd3e6cc760b65c7e0d54d.ckpt\n"
     ]
    },
    {
     "name": "stdout",
     "output_type": "stream",
     "text": [
      "127\n"
     ]
    },
    {
     "name": "stderr",
     "output_type": "stream",
     "text": [
      "INFO:sybil-process-2649269:Loaded model from /home/leonardgarcia/.sybil/28a7cd44f5bcd3e6cc760b65c7e0d54d.ckpt\n"
     ]
    },
    {
     "name": "stdout",
     "output_type": "stream",
     "text": [
      "128\n"
     ]
    },
    {
     "name": "stderr",
     "output_type": "stream",
     "text": [
      "INFO:sybil-process-2649269:Loaded model from /home/leonardgarcia/.sybil/28a7cd44f5bcd3e6cc760b65c7e0d54d.ckpt\n"
     ]
    },
    {
     "name": "stdout",
     "output_type": "stream",
     "text": [
      "129\n"
     ]
    },
    {
     "name": "stderr",
     "output_type": "stream",
     "text": [
      "INFO:sybil-process-2649269:Loaded model from /home/leonardgarcia/.sybil/28a7cd44f5bcd3e6cc760b65c7e0d54d.ckpt\n"
     ]
    },
    {
     "name": "stdout",
     "output_type": "stream",
     "text": [
      "130\n"
     ]
    },
    {
     "name": "stderr",
     "output_type": "stream",
     "text": [
      "INFO:sybil-process-2649269:Loaded model from /home/leonardgarcia/.sybil/28a7cd44f5bcd3e6cc760b65c7e0d54d.ckpt\n"
     ]
    },
    {
     "name": "stdout",
     "output_type": "stream",
     "text": [
      "131\n"
     ]
    },
    {
     "name": "stderr",
     "output_type": "stream",
     "text": [
      "INFO:sybil-process-2649269:Loaded model from /home/leonardgarcia/.sybil/28a7cd44f5bcd3e6cc760b65c7e0d54d.ckpt\n"
     ]
    },
    {
     "name": "stdout",
     "output_type": "stream",
     "text": [
      "132\n"
     ]
    },
    {
     "name": "stderr",
     "output_type": "stream",
     "text": [
      "INFO:sybil-process-2649269:Loaded model from /home/leonardgarcia/.sybil/28a7cd44f5bcd3e6cc760b65c7e0d54d.ckpt\n"
     ]
    },
    {
     "name": "stdout",
     "output_type": "stream",
     "text": [
      "133\n"
     ]
    },
    {
     "name": "stderr",
     "output_type": "stream",
     "text": [
      "INFO:sybil-process-2649269:Loaded model from /home/leonardgarcia/.sybil/28a7cd44f5bcd3e6cc760b65c7e0d54d.ckpt\n"
     ]
    },
    {
     "name": "stdout",
     "output_type": "stream",
     "text": [
      "134\n"
     ]
    },
    {
     "name": "stderr",
     "output_type": "stream",
     "text": [
      "INFO:sybil-process-2649269:Loaded model from /home/leonardgarcia/.sybil/28a7cd44f5bcd3e6cc760b65c7e0d54d.ckpt\n"
     ]
    },
    {
     "name": "stdout",
     "output_type": "stream",
     "text": [
      "135\n"
     ]
    },
    {
     "name": "stderr",
     "output_type": "stream",
     "text": [
      "INFO:sybil-process-2649269:Loaded model from /home/leonardgarcia/.sybil/28a7cd44f5bcd3e6cc760b65c7e0d54d.ckpt\n"
     ]
    },
    {
     "name": "stdout",
     "output_type": "stream",
     "text": [
      "136\n"
     ]
    },
    {
     "name": "stderr",
     "output_type": "stream",
     "text": [
      "INFO:sybil-process-2649269:Loaded model from /home/leonardgarcia/.sybil/28a7cd44f5bcd3e6cc760b65c7e0d54d.ckpt\n"
     ]
    },
    {
     "name": "stdout",
     "output_type": "stream",
     "text": [
      "137\n"
     ]
    },
    {
     "name": "stderr",
     "output_type": "stream",
     "text": [
      "INFO:sybil-process-2649269:Loaded model from /home/leonardgarcia/.sybil/28a7cd44f5bcd3e6cc760b65c7e0d54d.ckpt\n"
     ]
    },
    {
     "name": "stdout",
     "output_type": "stream",
     "text": [
      "138\n"
     ]
    },
    {
     "name": "stderr",
     "output_type": "stream",
     "text": [
      "INFO:sybil-process-2649269:Loaded model from /home/leonardgarcia/.sybil/28a7cd44f5bcd3e6cc760b65c7e0d54d.ckpt\n"
     ]
    },
    {
     "name": "stdout",
     "output_type": "stream",
     "text": [
      "139\n"
     ]
    },
    {
     "name": "stderr",
     "output_type": "stream",
     "text": [
      "INFO:sybil-process-2649269:Loaded model from /home/leonardgarcia/.sybil/28a7cd44f5bcd3e6cc760b65c7e0d54d.ckpt\n"
     ]
    },
    {
     "name": "stdout",
     "output_type": "stream",
     "text": [
      "140\n"
     ]
    },
    {
     "name": "stderr",
     "output_type": "stream",
     "text": [
      "INFO:sybil-process-2649269:Loaded model from /home/leonardgarcia/.sybil/28a7cd44f5bcd3e6cc760b65c7e0d54d.ckpt\n"
     ]
    },
    {
     "name": "stdout",
     "output_type": "stream",
     "text": [
      "141\n"
     ]
    },
    {
     "name": "stderr",
     "output_type": "stream",
     "text": [
      "INFO:sybil-process-2649269:Loaded model from /home/leonardgarcia/.sybil/28a7cd44f5bcd3e6cc760b65c7e0d54d.ckpt\n"
     ]
    },
    {
     "name": "stdout",
     "output_type": "stream",
     "text": [
      "142\n"
     ]
    },
    {
     "name": "stderr",
     "output_type": "stream",
     "text": [
      "INFO:sybil-process-2649269:Loaded model from /home/leonardgarcia/.sybil/28a7cd44f5bcd3e6cc760b65c7e0d54d.ckpt\n"
     ]
    },
    {
     "name": "stdout",
     "output_type": "stream",
     "text": [
      "143\n"
     ]
    },
    {
     "name": "stderr",
     "output_type": "stream",
     "text": [
      "INFO:sybil-process-2649269:Loaded model from /home/leonardgarcia/.sybil/28a7cd44f5bcd3e6cc760b65c7e0d54d.ckpt\n"
     ]
    },
    {
     "name": "stdout",
     "output_type": "stream",
     "text": [
      "144\n"
     ]
    },
    {
     "name": "stderr",
     "output_type": "stream",
     "text": [
      "INFO:sybil-process-2649269:Loaded model from /home/leonardgarcia/.sybil/28a7cd44f5bcd3e6cc760b65c7e0d54d.ckpt\n"
     ]
    },
    {
     "name": "stdout",
     "output_type": "stream",
     "text": [
      "145\n"
     ]
    },
    {
     "name": "stderr",
     "output_type": "stream",
     "text": [
      "INFO:sybil-process-2649269:Loaded model from /home/leonardgarcia/.sybil/28a7cd44f5bcd3e6cc760b65c7e0d54d.ckpt\n"
     ]
    },
    {
     "name": "stdout",
     "output_type": "stream",
     "text": [
      "146\n"
     ]
    },
    {
     "name": "stderr",
     "output_type": "stream",
     "text": [
      "INFO:sybil-process-2649269:Loaded model from /home/leonardgarcia/.sybil/28a7cd44f5bcd3e6cc760b65c7e0d54d.ckpt\n"
     ]
    },
    {
     "name": "stdout",
     "output_type": "stream",
     "text": [
      "147\n"
     ]
    },
    {
     "name": "stderr",
     "output_type": "stream",
     "text": [
      "INFO:sybil-process-2649269:Loaded model from /home/leonardgarcia/.sybil/28a7cd44f5bcd3e6cc760b65c7e0d54d.ckpt\n"
     ]
    },
    {
     "name": "stdout",
     "output_type": "stream",
     "text": [
      "148\n"
     ]
    },
    {
     "name": "stderr",
     "output_type": "stream",
     "text": [
      "INFO:sybil-process-2649269:Loaded model from /home/leonardgarcia/.sybil/28a7cd44f5bcd3e6cc760b65c7e0d54d.ckpt\n"
     ]
    },
    {
     "name": "stdout",
     "output_type": "stream",
     "text": [
      "149\n"
     ]
    },
    {
     "name": "stderr",
     "output_type": "stream",
     "text": [
      "INFO:sybil-process-2649269:Loaded model from /home/leonardgarcia/.sybil/28a7cd44f5bcd3e6cc760b65c7e0d54d.ckpt\n"
     ]
    },
    {
     "name": "stdout",
     "output_type": "stream",
     "text": [
      "150\n"
     ]
    },
    {
     "name": "stderr",
     "output_type": "stream",
     "text": [
      "INFO:sybil-process-2649269:Loaded model from /home/leonardgarcia/.sybil/28a7cd44f5bcd3e6cc760b65c7e0d54d.ckpt\n"
     ]
    },
    {
     "name": "stdout",
     "output_type": "stream",
     "text": [
      "151\n"
     ]
    },
    {
     "name": "stderr",
     "output_type": "stream",
     "text": [
      "INFO:sybil-process-2649269:Loaded model from /home/leonardgarcia/.sybil/28a7cd44f5bcd3e6cc760b65c7e0d54d.ckpt\n"
     ]
    },
    {
     "name": "stdout",
     "output_type": "stream",
     "text": [
      "152\n"
     ]
    },
    {
     "name": "stderr",
     "output_type": "stream",
     "text": [
      "INFO:sybil-process-2649269:Loaded model from /home/leonardgarcia/.sybil/28a7cd44f5bcd3e6cc760b65c7e0d54d.ckpt\n"
     ]
    },
    {
     "name": "stdout",
     "output_type": "stream",
     "text": [
      "153\n"
     ]
    },
    {
     "name": "stderr",
     "output_type": "stream",
     "text": [
      "INFO:sybil-process-2649269:Loaded model from /home/leonardgarcia/.sybil/28a7cd44f5bcd3e6cc760b65c7e0d54d.ckpt\n"
     ]
    },
    {
     "name": "stdout",
     "output_type": "stream",
     "text": [
      "154\n"
     ]
    },
    {
     "name": "stderr",
     "output_type": "stream",
     "text": [
      "INFO:sybil-process-2649269:Loaded model from /home/leonardgarcia/.sybil/28a7cd44f5bcd3e6cc760b65c7e0d54d.ckpt\n"
     ]
    },
    {
     "name": "stdout",
     "output_type": "stream",
     "text": [
      "155\n"
     ]
    },
    {
     "name": "stderr",
     "output_type": "stream",
     "text": [
      "INFO:sybil-process-2649269:Loaded model from /home/leonardgarcia/.sybil/28a7cd44f5bcd3e6cc760b65c7e0d54d.ckpt\n"
     ]
    },
    {
     "name": "stdout",
     "output_type": "stream",
     "text": [
      "156\n"
     ]
    },
    {
     "name": "stderr",
     "output_type": "stream",
     "text": [
      "INFO:sybil-process-2649269:Loaded model from /home/leonardgarcia/.sybil/28a7cd44f5bcd3e6cc760b65c7e0d54d.ckpt\n"
     ]
    },
    {
     "name": "stdout",
     "output_type": "stream",
     "text": [
      "157\n"
     ]
    },
    {
     "name": "stderr",
     "output_type": "stream",
     "text": [
      "INFO:sybil-process-2649269:Loaded model from /home/leonardgarcia/.sybil/28a7cd44f5bcd3e6cc760b65c7e0d54d.ckpt\n"
     ]
    },
    {
     "name": "stdout",
     "output_type": "stream",
     "text": [
      "158\n"
     ]
    },
    {
     "name": "stderr",
     "output_type": "stream",
     "text": [
      "INFO:sybil-process-2649269:Loaded model from /home/leonardgarcia/.sybil/28a7cd44f5bcd3e6cc760b65c7e0d54d.ckpt\n"
     ]
    },
    {
     "name": "stdout",
     "output_type": "stream",
     "text": [
      "159\n"
     ]
    },
    {
     "name": "stderr",
     "output_type": "stream",
     "text": [
      "INFO:sybil-process-2649269:Loaded model from /home/leonardgarcia/.sybil/28a7cd44f5bcd3e6cc760b65c7e0d54d.ckpt\n"
     ]
    },
    {
     "name": "stdout",
     "output_type": "stream",
     "text": [
      "160\n"
     ]
    },
    {
     "name": "stderr",
     "output_type": "stream",
     "text": [
      "INFO:sybil-process-2649269:Loaded model from /home/leonardgarcia/.sybil/28a7cd44f5bcd3e6cc760b65c7e0d54d.ckpt\n"
     ]
    },
    {
     "name": "stdout",
     "output_type": "stream",
     "text": [
      "161\n"
     ]
    },
    {
     "name": "stderr",
     "output_type": "stream",
     "text": [
      "INFO:sybil-process-2649269:Loaded model from /home/leonardgarcia/.sybil/28a7cd44f5bcd3e6cc760b65c7e0d54d.ckpt\n"
     ]
    },
    {
     "name": "stdout",
     "output_type": "stream",
     "text": [
      "162\n"
     ]
    },
    {
     "name": "stderr",
     "output_type": "stream",
     "text": [
      "INFO:sybil-process-2649269:Loaded model from /home/leonardgarcia/.sybil/28a7cd44f5bcd3e6cc760b65c7e0d54d.ckpt\n"
     ]
    },
    {
     "name": "stdout",
     "output_type": "stream",
     "text": [
      "163\n"
     ]
    },
    {
     "name": "stderr",
     "output_type": "stream",
     "text": [
      "INFO:sybil-process-2649269:Loaded model from /home/leonardgarcia/.sybil/28a7cd44f5bcd3e6cc760b65c7e0d54d.ckpt\n"
     ]
    },
    {
     "name": "stdout",
     "output_type": "stream",
     "text": [
      "164\n"
     ]
    },
    {
     "name": "stderr",
     "output_type": "stream",
     "text": [
      "INFO:sybil-process-2649269:Loaded model from /home/leonardgarcia/.sybil/28a7cd44f5bcd3e6cc760b65c7e0d54d.ckpt\n"
     ]
    },
    {
     "name": "stdout",
     "output_type": "stream",
     "text": [
      "165\n"
     ]
    },
    {
     "name": "stderr",
     "output_type": "stream",
     "text": [
      "INFO:sybil-process-2649269:Loaded model from /home/leonardgarcia/.sybil/28a7cd44f5bcd3e6cc760b65c7e0d54d.ckpt\n"
     ]
    },
    {
     "name": "stdout",
     "output_type": "stream",
     "text": [
      "166\n"
     ]
    },
    {
     "name": "stderr",
     "output_type": "stream",
     "text": [
      "INFO:sybil-process-2649269:Loaded model from /home/leonardgarcia/.sybil/28a7cd44f5bcd3e6cc760b65c7e0d54d.ckpt\n"
     ]
    },
    {
     "name": "stdout",
     "output_type": "stream",
     "text": [
      "167\n"
     ]
    },
    {
     "name": "stderr",
     "output_type": "stream",
     "text": [
      "INFO:sybil-process-2649269:Loaded model from /home/leonardgarcia/.sybil/28a7cd44f5bcd3e6cc760b65c7e0d54d.ckpt\n"
     ]
    },
    {
     "name": "stdout",
     "output_type": "stream",
     "text": [
      "168\n"
     ]
    },
    {
     "name": "stderr",
     "output_type": "stream",
     "text": [
      "INFO:sybil-process-2649269:Loaded model from /home/leonardgarcia/.sybil/28a7cd44f5bcd3e6cc760b65c7e0d54d.ckpt\n"
     ]
    },
    {
     "name": "stdout",
     "output_type": "stream",
     "text": [
      "169\n"
     ]
    },
    {
     "name": "stderr",
     "output_type": "stream",
     "text": [
      "INFO:sybil-process-2649269:Loaded model from /home/leonardgarcia/.sybil/28a7cd44f5bcd3e6cc760b65c7e0d54d.ckpt\n"
     ]
    },
    {
     "name": "stdout",
     "output_type": "stream",
     "text": [
      "170\n"
     ]
    },
    {
     "name": "stderr",
     "output_type": "stream",
     "text": [
      "INFO:sybil-process-2649269:Loaded model from /home/leonardgarcia/.sybil/28a7cd44f5bcd3e6cc760b65c7e0d54d.ckpt\n"
     ]
    },
    {
     "name": "stdout",
     "output_type": "stream",
     "text": [
      "171\n"
     ]
    },
    {
     "name": "stderr",
     "output_type": "stream",
     "text": [
      "INFO:sybil-process-2649269:Loaded model from /home/leonardgarcia/.sybil/28a7cd44f5bcd3e6cc760b65c7e0d54d.ckpt\n"
     ]
    },
    {
     "name": "stdout",
     "output_type": "stream",
     "text": [
      "172\n"
     ]
    },
    {
     "name": "stderr",
     "output_type": "stream",
     "text": [
      "INFO:sybil-process-2649269:Loaded model from /home/leonardgarcia/.sybil/28a7cd44f5bcd3e6cc760b65c7e0d54d.ckpt\n"
     ]
    },
    {
     "name": "stdout",
     "output_type": "stream",
     "text": [
      "173\n"
     ]
    },
    {
     "name": "stderr",
     "output_type": "stream",
     "text": [
      "INFO:sybil-process-2649269:Loaded model from /home/leonardgarcia/.sybil/28a7cd44f5bcd3e6cc760b65c7e0d54d.ckpt\n"
     ]
    },
    {
     "name": "stdout",
     "output_type": "stream",
     "text": [
      "174\n"
     ]
    },
    {
     "name": "stderr",
     "output_type": "stream",
     "text": [
      "INFO:sybil-process-2649269:Loaded model from /home/leonardgarcia/.sybil/28a7cd44f5bcd3e6cc760b65c7e0d54d.ckpt\n"
     ]
    },
    {
     "name": "stdout",
     "output_type": "stream",
     "text": [
      "175\n"
     ]
    },
    {
     "name": "stderr",
     "output_type": "stream",
     "text": [
      "INFO:sybil-process-2649269:Loaded model from /home/leonardgarcia/.sybil/28a7cd44f5bcd3e6cc760b65c7e0d54d.ckpt\n"
     ]
    },
    {
     "name": "stdout",
     "output_type": "stream",
     "text": [
      "176\n"
     ]
    },
    {
     "name": "stderr",
     "output_type": "stream",
     "text": [
      "INFO:sybil-process-2649269:Loaded model from /home/leonardgarcia/.sybil/28a7cd44f5bcd3e6cc760b65c7e0d54d.ckpt\n"
     ]
    },
    {
     "name": "stdout",
     "output_type": "stream",
     "text": [
      "177\n"
     ]
    },
    {
     "name": "stderr",
     "output_type": "stream",
     "text": [
      "INFO:sybil-process-2649269:Loaded model from /home/leonardgarcia/.sybil/28a7cd44f5bcd3e6cc760b65c7e0d54d.ckpt\n"
     ]
    },
    {
     "name": "stdout",
     "output_type": "stream",
     "text": [
      "178\n"
     ]
    },
    {
     "name": "stderr",
     "output_type": "stream",
     "text": [
      "INFO:sybil-process-2649269:Loaded model from /home/leonardgarcia/.sybil/28a7cd44f5bcd3e6cc760b65c7e0d54d.ckpt\n"
     ]
    },
    {
     "name": "stdout",
     "output_type": "stream",
     "text": [
      "179\n"
     ]
    },
    {
     "name": "stderr",
     "output_type": "stream",
     "text": [
      "INFO:sybil-process-2649269:Loaded model from /home/leonardgarcia/.sybil/28a7cd44f5bcd3e6cc760b65c7e0d54d.ckpt\n"
     ]
    },
    {
     "name": "stdout",
     "output_type": "stream",
     "text": [
      "180\n"
     ]
    },
    {
     "name": "stderr",
     "output_type": "stream",
     "text": [
      "INFO:sybil-process-2649269:Loaded model from /home/leonardgarcia/.sybil/28a7cd44f5bcd3e6cc760b65c7e0d54d.ckpt\n"
     ]
    },
    {
     "name": "stdout",
     "output_type": "stream",
     "text": [
      "181\n"
     ]
    },
    {
     "name": "stderr",
     "output_type": "stream",
     "text": [
      "INFO:sybil-process-2649269:Loaded model from /home/leonardgarcia/.sybil/28a7cd44f5bcd3e6cc760b65c7e0d54d.ckpt\n"
     ]
    },
    {
     "name": "stdout",
     "output_type": "stream",
     "text": [
      "182\n"
     ]
    },
    {
     "name": "stderr",
     "output_type": "stream",
     "text": [
      "INFO:sybil-process-2649269:Loaded model from /home/leonardgarcia/.sybil/28a7cd44f5bcd3e6cc760b65c7e0d54d.ckpt\n"
     ]
    },
    {
     "name": "stdout",
     "output_type": "stream",
     "text": [
      "183\n"
     ]
    },
    {
     "name": "stderr",
     "output_type": "stream",
     "text": [
      "INFO:sybil-process-2649269:Loaded model from /home/leonardgarcia/.sybil/28a7cd44f5bcd3e6cc760b65c7e0d54d.ckpt\n"
     ]
    },
    {
     "name": "stdout",
     "output_type": "stream",
     "text": [
      "184\n"
     ]
    },
    {
     "name": "stderr",
     "output_type": "stream",
     "text": [
      "INFO:sybil-process-2649269:Loaded model from /home/leonardgarcia/.sybil/28a7cd44f5bcd3e6cc760b65c7e0d54d.ckpt\n"
     ]
    },
    {
     "name": "stdout",
     "output_type": "stream",
     "text": [
      "185\n"
     ]
    },
    {
     "name": "stderr",
     "output_type": "stream",
     "text": [
      "INFO:sybil-process-2649269:Loaded model from /home/leonardgarcia/.sybil/28a7cd44f5bcd3e6cc760b65c7e0d54d.ckpt\n"
     ]
    },
    {
     "name": "stdout",
     "output_type": "stream",
     "text": [
      "186\n"
     ]
    },
    {
     "name": "stderr",
     "output_type": "stream",
     "text": [
      "INFO:sybil-process-2649269:Loaded model from /home/leonardgarcia/.sybil/28a7cd44f5bcd3e6cc760b65c7e0d54d.ckpt\n"
     ]
    },
    {
     "name": "stdout",
     "output_type": "stream",
     "text": [
      "187\n"
     ]
    },
    {
     "name": "stderr",
     "output_type": "stream",
     "text": [
      "INFO:sybil-process-2649269:Loaded model from /home/leonardgarcia/.sybil/28a7cd44f5bcd3e6cc760b65c7e0d54d.ckpt\n"
     ]
    },
    {
     "name": "stdout",
     "output_type": "stream",
     "text": [
      "188\n"
     ]
    },
    {
     "name": "stderr",
     "output_type": "stream",
     "text": [
      "INFO:sybil-process-2649269:Loaded model from /home/leonardgarcia/.sybil/28a7cd44f5bcd3e6cc760b65c7e0d54d.ckpt\n"
     ]
    },
    {
     "name": "stdout",
     "output_type": "stream",
     "text": [
      "189\n"
     ]
    },
    {
     "name": "stderr",
     "output_type": "stream",
     "text": [
      "INFO:sybil-process-2649269:Loaded model from /home/leonardgarcia/.sybil/28a7cd44f5bcd3e6cc760b65c7e0d54d.ckpt\n"
     ]
    },
    {
     "name": "stdout",
     "output_type": "stream",
     "text": [
      "190\n"
     ]
    },
    {
     "name": "stderr",
     "output_type": "stream",
     "text": [
      "INFO:sybil-process-2649269:Loaded model from /home/leonardgarcia/.sybil/28a7cd44f5bcd3e6cc760b65c7e0d54d.ckpt\n"
     ]
    },
    {
     "name": "stdout",
     "output_type": "stream",
     "text": [
      "191\n"
     ]
    },
    {
     "name": "stderr",
     "output_type": "stream",
     "text": [
      "INFO:sybil-process-2649269:Loaded model from /home/leonardgarcia/.sybil/28a7cd44f5bcd3e6cc760b65c7e0d54d.ckpt\n"
     ]
    },
    {
     "name": "stdout",
     "output_type": "stream",
     "text": [
      "192\n"
     ]
    },
    {
     "name": "stderr",
     "output_type": "stream",
     "text": [
      "INFO:sybil-process-2649269:Loaded model from /home/leonardgarcia/.sybil/28a7cd44f5bcd3e6cc760b65c7e0d54d.ckpt\n"
     ]
    },
    {
     "name": "stdout",
     "output_type": "stream",
     "text": [
      "193\n"
     ]
    },
    {
     "name": "stderr",
     "output_type": "stream",
     "text": [
      "INFO:sybil-process-2649269:Loaded model from /home/leonardgarcia/.sybil/28a7cd44f5bcd3e6cc760b65c7e0d54d.ckpt\n"
     ]
    },
    {
     "name": "stdout",
     "output_type": "stream",
     "text": [
      "194\n"
     ]
    },
    {
     "name": "stderr",
     "output_type": "stream",
     "text": [
      "INFO:sybil-process-2649269:Loaded model from /home/leonardgarcia/.sybil/28a7cd44f5bcd3e6cc760b65c7e0d54d.ckpt\n"
     ]
    },
    {
     "name": "stdout",
     "output_type": "stream",
     "text": [
      "195\n"
     ]
    },
    {
     "name": "stderr",
     "output_type": "stream",
     "text": [
      "INFO:sybil-process-2649269:Loaded model from /home/leonardgarcia/.sybil/28a7cd44f5bcd3e6cc760b65c7e0d54d.ckpt\n"
     ]
    },
    {
     "name": "stdout",
     "output_type": "stream",
     "text": [
      "196\n"
     ]
    },
    {
     "name": "stderr",
     "output_type": "stream",
     "text": [
      "INFO:sybil-process-2649269:Loaded model from /home/leonardgarcia/.sybil/28a7cd44f5bcd3e6cc760b65c7e0d54d.ckpt\n"
     ]
    },
    {
     "name": "stdout",
     "output_type": "stream",
     "text": [
      "197\n"
     ]
    },
    {
     "name": "stderr",
     "output_type": "stream",
     "text": [
      "INFO:sybil-process-2649269:Loaded model from /home/leonardgarcia/.sybil/28a7cd44f5bcd3e6cc760b65c7e0d54d.ckpt\n"
     ]
    },
    {
     "name": "stdout",
     "output_type": "stream",
     "text": [
      "198\n"
     ]
    },
    {
     "name": "stderr",
     "output_type": "stream",
     "text": [
      "INFO:sybil-process-2649269:Loaded model from /home/leonardgarcia/.sybil/28a7cd44f5bcd3e6cc760b65c7e0d54d.ckpt\n"
     ]
    },
    {
     "name": "stdout",
     "output_type": "stream",
     "text": [
      "199\n"
     ]
    },
    {
     "name": "stderr",
     "output_type": "stream",
     "text": [
      "INFO:sybil-process-2649269:Loaded model from /home/leonardgarcia/.sybil/28a7cd44f5bcd3e6cc760b65c7e0d54d.ckpt\n"
     ]
    },
    {
     "name": "stdout",
     "output_type": "stream",
     "text": [
      "200\n"
     ]
    },
    {
     "name": "stderr",
     "output_type": "stream",
     "text": [
      "INFO:sybil-process-2649269:Loaded model from /home/leonardgarcia/.sybil/28a7cd44f5bcd3e6cc760b65c7e0d54d.ckpt\n"
     ]
    },
    {
     "name": "stdout",
     "output_type": "stream",
     "text": [
      "201\n"
     ]
    },
    {
     "name": "stderr",
     "output_type": "stream",
     "text": [
      "INFO:sybil-process-2649269:Loaded model from /home/leonardgarcia/.sybil/28a7cd44f5bcd3e6cc760b65c7e0d54d.ckpt\n"
     ]
    },
    {
     "name": "stdout",
     "output_type": "stream",
     "text": [
      "202\n"
     ]
    },
    {
     "name": "stderr",
     "output_type": "stream",
     "text": [
      "INFO:sybil-process-2649269:Loaded model from /home/leonardgarcia/.sybil/28a7cd44f5bcd3e6cc760b65c7e0d54d.ckpt\n"
     ]
    },
    {
     "name": "stdout",
     "output_type": "stream",
     "text": [
      "203\n"
     ]
    },
    {
     "name": "stderr",
     "output_type": "stream",
     "text": [
      "INFO:sybil-process-2649269:Loaded model from /home/leonardgarcia/.sybil/28a7cd44f5bcd3e6cc760b65c7e0d54d.ckpt\n"
     ]
    },
    {
     "name": "stdout",
     "output_type": "stream",
     "text": [
      "204\n"
     ]
    },
    {
     "name": "stderr",
     "output_type": "stream",
     "text": [
      "INFO:sybil-process-2649269:Loaded model from /home/leonardgarcia/.sybil/28a7cd44f5bcd3e6cc760b65c7e0d54d.ckpt\n"
     ]
    },
    {
     "name": "stdout",
     "output_type": "stream",
     "text": [
      "205\n"
     ]
    },
    {
     "name": "stderr",
     "output_type": "stream",
     "text": [
      "INFO:sybil-process-2649269:Loaded model from /home/leonardgarcia/.sybil/28a7cd44f5bcd3e6cc760b65c7e0d54d.ckpt\n"
     ]
    },
    {
     "name": "stdout",
     "output_type": "stream",
     "text": [
      "206\n"
     ]
    },
    {
     "name": "stderr",
     "output_type": "stream",
     "text": [
      "INFO:sybil-process-2649269:Loaded model from /home/leonardgarcia/.sybil/28a7cd44f5bcd3e6cc760b65c7e0d54d.ckpt\n"
     ]
    },
    {
     "name": "stdout",
     "output_type": "stream",
     "text": [
      "207\n"
     ]
    },
    {
     "name": "stderr",
     "output_type": "stream",
     "text": [
      "INFO:sybil-process-2649269:Loaded model from /home/leonardgarcia/.sybil/28a7cd44f5bcd3e6cc760b65c7e0d54d.ckpt\n"
     ]
    },
    {
     "name": "stdout",
     "output_type": "stream",
     "text": [
      "208\n"
     ]
    },
    {
     "name": "stderr",
     "output_type": "stream",
     "text": [
      "INFO:sybil-process-2649269:Loaded model from /home/leonardgarcia/.sybil/28a7cd44f5bcd3e6cc760b65c7e0d54d.ckpt\n"
     ]
    },
    {
     "name": "stdout",
     "output_type": "stream",
     "text": [
      "209\n"
     ]
    },
    {
     "name": "stderr",
     "output_type": "stream",
     "text": [
      "INFO:sybil-process-2649269:Loaded model from /home/leonardgarcia/.sybil/28a7cd44f5bcd3e6cc760b65c7e0d54d.ckpt\n"
     ]
    },
    {
     "name": "stdout",
     "output_type": "stream",
     "text": [
      "210\n"
     ]
    },
    {
     "name": "stderr",
     "output_type": "stream",
     "text": [
      "INFO:sybil-process-2649269:Loaded model from /home/leonardgarcia/.sybil/28a7cd44f5bcd3e6cc760b65c7e0d54d.ckpt\n"
     ]
    },
    {
     "name": "stdout",
     "output_type": "stream",
     "text": [
      "211\n"
     ]
    },
    {
     "name": "stderr",
     "output_type": "stream",
     "text": [
      "INFO:sybil-process-2649269:Loaded model from /home/leonardgarcia/.sybil/28a7cd44f5bcd3e6cc760b65c7e0d54d.ckpt\n"
     ]
    },
    {
     "name": "stdout",
     "output_type": "stream",
     "text": [
      "212\n"
     ]
    },
    {
     "name": "stderr",
     "output_type": "stream",
     "text": [
      "INFO:sybil-process-2649269:Loaded model from /home/leonardgarcia/.sybil/28a7cd44f5bcd3e6cc760b65c7e0d54d.ckpt\n"
     ]
    },
    {
     "name": "stdout",
     "output_type": "stream",
     "text": [
      "213\n"
     ]
    },
    {
     "name": "stderr",
     "output_type": "stream",
     "text": [
      "INFO:sybil-process-2649269:Loaded model from /home/leonardgarcia/.sybil/28a7cd44f5bcd3e6cc760b65c7e0d54d.ckpt\n"
     ]
    },
    {
     "name": "stdout",
     "output_type": "stream",
     "text": [
      "214\n"
     ]
    },
    {
     "name": "stderr",
     "output_type": "stream",
     "text": [
      "INFO:sybil-process-2649269:Loaded model from /home/leonardgarcia/.sybil/28a7cd44f5bcd3e6cc760b65c7e0d54d.ckpt\n"
     ]
    },
    {
     "name": "stdout",
     "output_type": "stream",
     "text": [
      "215\n"
     ]
    },
    {
     "name": "stderr",
     "output_type": "stream",
     "text": [
      "INFO:sybil-process-2649269:Loaded model from /home/leonardgarcia/.sybil/28a7cd44f5bcd3e6cc760b65c7e0d54d.ckpt\n"
     ]
    },
    {
     "name": "stdout",
     "output_type": "stream",
     "text": [
      "216\n"
     ]
    },
    {
     "name": "stderr",
     "output_type": "stream",
     "text": [
      "INFO:sybil-process-2649269:Loaded model from /home/leonardgarcia/.sybil/28a7cd44f5bcd3e6cc760b65c7e0d54d.ckpt\n"
     ]
    },
    {
     "name": "stdout",
     "output_type": "stream",
     "text": [
      "217\n"
     ]
    },
    {
     "name": "stderr",
     "output_type": "stream",
     "text": [
      "INFO:sybil-process-2649269:Loaded model from /home/leonardgarcia/.sybil/28a7cd44f5bcd3e6cc760b65c7e0d54d.ckpt\n"
     ]
    },
    {
     "name": "stdout",
     "output_type": "stream",
     "text": [
      "218\n"
     ]
    },
    {
     "name": "stderr",
     "output_type": "stream",
     "text": [
      "INFO:sybil-process-2649269:Loaded model from /home/leonardgarcia/.sybil/28a7cd44f5bcd3e6cc760b65c7e0d54d.ckpt\n"
     ]
    },
    {
     "name": "stdout",
     "output_type": "stream",
     "text": [
      "219\n"
     ]
    },
    {
     "name": "stderr",
     "output_type": "stream",
     "text": [
      "INFO:sybil-process-2649269:Loaded model from /home/leonardgarcia/.sybil/28a7cd44f5bcd3e6cc760b65c7e0d54d.ckpt\n"
     ]
    },
    {
     "name": "stdout",
     "output_type": "stream",
     "text": [
      "220\n"
     ]
    },
    {
     "name": "stderr",
     "output_type": "stream",
     "text": [
      "INFO:sybil-process-2649269:Loaded model from /home/leonardgarcia/.sybil/28a7cd44f5bcd3e6cc760b65c7e0d54d.ckpt\n"
     ]
    },
    {
     "name": "stdout",
     "output_type": "stream",
     "text": [
      "221\n"
     ]
    },
    {
     "name": "stderr",
     "output_type": "stream",
     "text": [
      "INFO:sybil-process-2649269:Loaded model from /home/leonardgarcia/.sybil/28a7cd44f5bcd3e6cc760b65c7e0d54d.ckpt\n"
     ]
    },
    {
     "name": "stdout",
     "output_type": "stream",
     "text": [
      "222\n"
     ]
    },
    {
     "name": "stderr",
     "output_type": "stream",
     "text": [
      "INFO:sybil-process-2649269:Loaded model from /home/leonardgarcia/.sybil/28a7cd44f5bcd3e6cc760b65c7e0d54d.ckpt\n"
     ]
    },
    {
     "name": "stdout",
     "output_type": "stream",
     "text": [
      "223\n"
     ]
    },
    {
     "name": "stderr",
     "output_type": "stream",
     "text": [
      "INFO:sybil-process-2649269:Loaded model from /home/leonardgarcia/.sybil/28a7cd44f5bcd3e6cc760b65c7e0d54d.ckpt\n"
     ]
    },
    {
     "name": "stdout",
     "output_type": "stream",
     "text": [
      "224\n"
     ]
    },
    {
     "name": "stderr",
     "output_type": "stream",
     "text": [
      "INFO:sybil-process-2649269:Loaded model from /home/leonardgarcia/.sybil/28a7cd44f5bcd3e6cc760b65c7e0d54d.ckpt\n"
     ]
    },
    {
     "name": "stdout",
     "output_type": "stream",
     "text": [
      "225\n"
     ]
    },
    {
     "name": "stderr",
     "output_type": "stream",
     "text": [
      "INFO:sybil-process-2649269:Loaded model from /home/leonardgarcia/.sybil/28a7cd44f5bcd3e6cc760b65c7e0d54d.ckpt\n"
     ]
    },
    {
     "name": "stdout",
     "output_type": "stream",
     "text": [
      "226\n"
     ]
    },
    {
     "name": "stderr",
     "output_type": "stream",
     "text": [
      "INFO:sybil-process-2649269:Loaded model from /home/leonardgarcia/.sybil/28a7cd44f5bcd3e6cc760b65c7e0d54d.ckpt\n"
     ]
    },
    {
     "name": "stdout",
     "output_type": "stream",
     "text": [
      "227\n"
     ]
    },
    {
     "name": "stderr",
     "output_type": "stream",
     "text": [
      "INFO:sybil-process-2649269:Loaded model from /home/leonardgarcia/.sybil/28a7cd44f5bcd3e6cc760b65c7e0d54d.ckpt\n"
     ]
    },
    {
     "name": "stdout",
     "output_type": "stream",
     "text": [
      "228\n"
     ]
    },
    {
     "name": "stderr",
     "output_type": "stream",
     "text": [
      "INFO:sybil-process-2649269:Loaded model from /home/leonardgarcia/.sybil/28a7cd44f5bcd3e6cc760b65c7e0d54d.ckpt\n"
     ]
    },
    {
     "name": "stdout",
     "output_type": "stream",
     "text": [
      "229\n"
     ]
    },
    {
     "name": "stderr",
     "output_type": "stream",
     "text": [
      "INFO:sybil-process-2649269:Loaded model from /home/leonardgarcia/.sybil/28a7cd44f5bcd3e6cc760b65c7e0d54d.ckpt\n"
     ]
    },
    {
     "name": "stdout",
     "output_type": "stream",
     "text": [
      "230\n"
     ]
    },
    {
     "name": "stderr",
     "output_type": "stream",
     "text": [
      "INFO:sybil-process-2649269:Loaded model from /home/leonardgarcia/.sybil/28a7cd44f5bcd3e6cc760b65c7e0d54d.ckpt\n"
     ]
    },
    {
     "name": "stdout",
     "output_type": "stream",
     "text": [
      "231\n"
     ]
    },
    {
     "name": "stderr",
     "output_type": "stream",
     "text": [
      "INFO:sybil-process-2649269:Loaded model from /home/leonardgarcia/.sybil/28a7cd44f5bcd3e6cc760b65c7e0d54d.ckpt\n"
     ]
    },
    {
     "name": "stdout",
     "output_type": "stream",
     "text": [
      "232\n"
     ]
    },
    {
     "name": "stderr",
     "output_type": "stream",
     "text": [
      "INFO:sybil-process-2649269:Loaded model from /home/leonardgarcia/.sybil/28a7cd44f5bcd3e6cc760b65c7e0d54d.ckpt\n"
     ]
    },
    {
     "name": "stdout",
     "output_type": "stream",
     "text": [
      "233\n"
     ]
    },
    {
     "name": "stderr",
     "output_type": "stream",
     "text": [
      "INFO:sybil-process-2649269:Loaded model from /home/leonardgarcia/.sybil/28a7cd44f5bcd3e6cc760b65c7e0d54d.ckpt\n"
     ]
    },
    {
     "name": "stdout",
     "output_type": "stream",
     "text": [
      "234\n"
     ]
    },
    {
     "name": "stderr",
     "output_type": "stream",
     "text": [
      "INFO:sybil-process-2649269:Loaded model from /home/leonardgarcia/.sybil/28a7cd44f5bcd3e6cc760b65c7e0d54d.ckpt\n"
     ]
    },
    {
     "name": "stdout",
     "output_type": "stream",
     "text": [
      "235\n"
     ]
    },
    {
     "name": "stderr",
     "output_type": "stream",
     "text": [
      "INFO:sybil-process-2649269:Loaded model from /home/leonardgarcia/.sybil/28a7cd44f5bcd3e6cc760b65c7e0d54d.ckpt\n"
     ]
    },
    {
     "name": "stdout",
     "output_type": "stream",
     "text": [
      "236\n"
     ]
    },
    {
     "name": "stderr",
     "output_type": "stream",
     "text": [
      "INFO:sybil-process-2649269:Loaded model from /home/leonardgarcia/.sybil/28a7cd44f5bcd3e6cc760b65c7e0d54d.ckpt\n"
     ]
    },
    {
     "name": "stdout",
     "output_type": "stream",
     "text": [
      "237\n"
     ]
    },
    {
     "name": "stderr",
     "output_type": "stream",
     "text": [
      "INFO:sybil-process-2649269:Loaded model from /home/leonardgarcia/.sybil/28a7cd44f5bcd3e6cc760b65c7e0d54d.ckpt\n"
     ]
    },
    {
     "name": "stdout",
     "output_type": "stream",
     "text": [
      "238\n"
     ]
    },
    {
     "name": "stderr",
     "output_type": "stream",
     "text": [
      "INFO:sybil-process-2649269:Loaded model from /home/leonardgarcia/.sybil/28a7cd44f5bcd3e6cc760b65c7e0d54d.ckpt\n"
     ]
    },
    {
     "name": "stdout",
     "output_type": "stream",
     "text": [
      "239\n"
     ]
    },
    {
     "name": "stderr",
     "output_type": "stream",
     "text": [
      "INFO:sybil-process-2649269:Loaded model from /home/leonardgarcia/.sybil/28a7cd44f5bcd3e6cc760b65c7e0d54d.ckpt\n"
     ]
    },
    {
     "name": "stdout",
     "output_type": "stream",
     "text": [
      "240\n"
     ]
    },
    {
     "name": "stderr",
     "output_type": "stream",
     "text": [
      "INFO:sybil-process-2649269:Loaded model from /home/leonardgarcia/.sybil/28a7cd44f5bcd3e6cc760b65c7e0d54d.ckpt\n"
     ]
    },
    {
     "name": "stdout",
     "output_type": "stream",
     "text": [
      "241\n"
     ]
    },
    {
     "name": "stderr",
     "output_type": "stream",
     "text": [
      "INFO:sybil-process-2649269:Loaded model from /home/leonardgarcia/.sybil/28a7cd44f5bcd3e6cc760b65c7e0d54d.ckpt\n"
     ]
    },
    {
     "name": "stdout",
     "output_type": "stream",
     "text": [
      "242\n"
     ]
    },
    {
     "name": "stderr",
     "output_type": "stream",
     "text": [
      "INFO:sybil-process-2649269:Loaded model from /home/leonardgarcia/.sybil/28a7cd44f5bcd3e6cc760b65c7e0d54d.ckpt\n"
     ]
    },
    {
     "name": "stdout",
     "output_type": "stream",
     "text": [
      "243\n"
     ]
    },
    {
     "name": "stderr",
     "output_type": "stream",
     "text": [
      "INFO:sybil-process-2649269:Loaded model from /home/leonardgarcia/.sybil/28a7cd44f5bcd3e6cc760b65c7e0d54d.ckpt\n"
     ]
    },
    {
     "name": "stdout",
     "output_type": "stream",
     "text": [
      "244\n"
     ]
    },
    {
     "name": "stderr",
     "output_type": "stream",
     "text": [
      "INFO:sybil-process-2649269:Loaded model from /home/leonardgarcia/.sybil/28a7cd44f5bcd3e6cc760b65c7e0d54d.ckpt\n"
     ]
    },
    {
     "name": "stdout",
     "output_type": "stream",
     "text": [
      "245\n"
     ]
    },
    {
     "name": "stderr",
     "output_type": "stream",
     "text": [
      "INFO:sybil-process-2649269:Loaded model from /home/leonardgarcia/.sybil/28a7cd44f5bcd3e6cc760b65c7e0d54d.ckpt\n"
     ]
    },
    {
     "name": "stdout",
     "output_type": "stream",
     "text": [
      "246\n"
     ]
    },
    {
     "name": "stderr",
     "output_type": "stream",
     "text": [
      "INFO:sybil-process-2649269:Loaded model from /home/leonardgarcia/.sybil/28a7cd44f5bcd3e6cc760b65c7e0d54d.ckpt\n"
     ]
    },
    {
     "name": "stdout",
     "output_type": "stream",
     "text": [
      "247\n"
     ]
    },
    {
     "name": "stderr",
     "output_type": "stream",
     "text": [
      "INFO:sybil-process-2649269:Loaded model from /home/leonardgarcia/.sybil/28a7cd44f5bcd3e6cc760b65c7e0d54d.ckpt\n"
     ]
    },
    {
     "name": "stdout",
     "output_type": "stream",
     "text": [
      "248\n"
     ]
    },
    {
     "name": "stderr",
     "output_type": "stream",
     "text": [
      "INFO:sybil-process-2649269:Loaded model from /home/leonardgarcia/.sybil/28a7cd44f5bcd3e6cc760b65c7e0d54d.ckpt\n"
     ]
    },
    {
     "name": "stdout",
     "output_type": "stream",
     "text": [
      "249\n"
     ]
    },
    {
     "name": "stderr",
     "output_type": "stream",
     "text": [
      "INFO:sybil-process-2649269:Loaded model from /home/leonardgarcia/.sybil/28a7cd44f5bcd3e6cc760b65c7e0d54d.ckpt\n"
     ]
    },
    {
     "name": "stdout",
     "output_type": "stream",
     "text": [
      "250\n"
     ]
    },
    {
     "name": "stderr",
     "output_type": "stream",
     "text": [
      "INFO:sybil-process-2649269:Loaded model from /home/leonardgarcia/.sybil/28a7cd44f5bcd3e6cc760b65c7e0d54d.ckpt\n"
     ]
    },
    {
     "name": "stdout",
     "output_type": "stream",
     "text": [
      "251\n"
     ]
    },
    {
     "name": "stderr",
     "output_type": "stream",
     "text": [
      "INFO:sybil-process-2649269:Loaded model from /home/leonardgarcia/.sybil/28a7cd44f5bcd3e6cc760b65c7e0d54d.ckpt\n"
     ]
    },
    {
     "name": "stdout",
     "output_type": "stream",
     "text": [
      "252\n"
     ]
    },
    {
     "name": "stderr",
     "output_type": "stream",
     "text": [
      "INFO:sybil-process-2649269:Loaded model from /home/leonardgarcia/.sybil/28a7cd44f5bcd3e6cc760b65c7e0d54d.ckpt\n"
     ]
    },
    {
     "name": "stdout",
     "output_type": "stream",
     "text": [
      "253\n"
     ]
    },
    {
     "name": "stderr",
     "output_type": "stream",
     "text": [
      "INFO:sybil-process-2649269:Loaded model from /home/leonardgarcia/.sybil/28a7cd44f5bcd3e6cc760b65c7e0d54d.ckpt\n"
     ]
    },
    {
     "name": "stdout",
     "output_type": "stream",
     "text": [
      "254\n"
     ]
    },
    {
     "name": "stderr",
     "output_type": "stream",
     "text": [
      "INFO:sybil-process-2649269:Loaded model from /home/leonardgarcia/.sybil/28a7cd44f5bcd3e6cc760b65c7e0d54d.ckpt\n"
     ]
    },
    {
     "name": "stdout",
     "output_type": "stream",
     "text": [
      "255\n"
     ]
    },
    {
     "name": "stderr",
     "output_type": "stream",
     "text": [
      "INFO:sybil-process-2649269:Loaded model from /home/leonardgarcia/.sybil/28a7cd44f5bcd3e6cc760b65c7e0d54d.ckpt\n"
     ]
    },
    {
     "name": "stdout",
     "output_type": "stream",
     "text": [
      "256\n"
     ]
    },
    {
     "name": "stderr",
     "output_type": "stream",
     "text": [
      "INFO:sybil-process-2649269:Loaded model from /home/leonardgarcia/.sybil/28a7cd44f5bcd3e6cc760b65c7e0d54d.ckpt\n"
     ]
    },
    {
     "name": "stdout",
     "output_type": "stream",
     "text": [
      "257\n"
     ]
    },
    {
     "name": "stderr",
     "output_type": "stream",
     "text": [
      "INFO:sybil-process-2649269:Loaded model from /home/leonardgarcia/.sybil/28a7cd44f5bcd3e6cc760b65c7e0d54d.ckpt\n"
     ]
    },
    {
     "name": "stdout",
     "output_type": "stream",
     "text": [
      "258\n"
     ]
    },
    {
     "name": "stderr",
     "output_type": "stream",
     "text": [
      "INFO:sybil-process-2649269:Loaded model from /home/leonardgarcia/.sybil/28a7cd44f5bcd3e6cc760b65c7e0d54d.ckpt\n"
     ]
    },
    {
     "name": "stdout",
     "output_type": "stream",
     "text": [
      "259\n"
     ]
    },
    {
     "name": "stderr",
     "output_type": "stream",
     "text": [
      "INFO:sybil-process-2649269:Loaded model from /home/leonardgarcia/.sybil/28a7cd44f5bcd3e6cc760b65c7e0d54d.ckpt\n"
     ]
    },
    {
     "name": "stdout",
     "output_type": "stream",
     "text": [
      "260\n"
     ]
    },
    {
     "name": "stderr",
     "output_type": "stream",
     "text": [
      "INFO:sybil-process-2649269:Loaded model from /home/leonardgarcia/.sybil/28a7cd44f5bcd3e6cc760b65c7e0d54d.ckpt\n"
     ]
    },
    {
     "name": "stdout",
     "output_type": "stream",
     "text": [
      "261\n"
     ]
    },
    {
     "name": "stderr",
     "output_type": "stream",
     "text": [
      "INFO:sybil-process-2649269:Loaded model from /home/leonardgarcia/.sybil/28a7cd44f5bcd3e6cc760b65c7e0d54d.ckpt\n"
     ]
    },
    {
     "name": "stdout",
     "output_type": "stream",
     "text": [
      "262\n"
     ]
    },
    {
     "name": "stderr",
     "output_type": "stream",
     "text": [
      "INFO:sybil-process-2649269:Loaded model from /home/leonardgarcia/.sybil/28a7cd44f5bcd3e6cc760b65c7e0d54d.ckpt\n"
     ]
    },
    {
     "name": "stdout",
     "output_type": "stream",
     "text": [
      "263\n"
     ]
    },
    {
     "name": "stderr",
     "output_type": "stream",
     "text": [
      "INFO:sybil-process-2649269:Loaded model from /home/leonardgarcia/.sybil/28a7cd44f5bcd3e6cc760b65c7e0d54d.ckpt\n"
     ]
    },
    {
     "name": "stdout",
     "output_type": "stream",
     "text": [
      "264\n"
     ]
    },
    {
     "name": "stderr",
     "output_type": "stream",
     "text": [
      "INFO:sybil-process-2649269:Loaded model from /home/leonardgarcia/.sybil/28a7cd44f5bcd3e6cc760b65c7e0d54d.ckpt\n"
     ]
    },
    {
     "name": "stdout",
     "output_type": "stream",
     "text": [
      "265\n"
     ]
    },
    {
     "name": "stderr",
     "output_type": "stream",
     "text": [
      "INFO:sybil-process-2649269:Loaded model from /home/leonardgarcia/.sybil/28a7cd44f5bcd3e6cc760b65c7e0d54d.ckpt\n"
     ]
    },
    {
     "name": "stdout",
     "output_type": "stream",
     "text": [
      "266\n"
     ]
    },
    {
     "name": "stderr",
     "output_type": "stream",
     "text": [
      "INFO:sybil-process-2649269:Loaded model from /home/leonardgarcia/.sybil/28a7cd44f5bcd3e6cc760b65c7e0d54d.ckpt\n"
     ]
    },
    {
     "name": "stdout",
     "output_type": "stream",
     "text": [
      "267\n"
     ]
    },
    {
     "name": "stderr",
     "output_type": "stream",
     "text": [
      "INFO:sybil-process-2649269:Loaded model from /home/leonardgarcia/.sybil/28a7cd44f5bcd3e6cc760b65c7e0d54d.ckpt\n"
     ]
    },
    {
     "name": "stdout",
     "output_type": "stream",
     "text": [
      "268\n"
     ]
    },
    {
     "name": "stderr",
     "output_type": "stream",
     "text": [
      "INFO:sybil-process-2649269:Loaded model from /home/leonardgarcia/.sybil/28a7cd44f5bcd3e6cc760b65c7e0d54d.ckpt\n"
     ]
    },
    {
     "name": "stdout",
     "output_type": "stream",
     "text": [
      "269\n"
     ]
    },
    {
     "name": "stderr",
     "output_type": "stream",
     "text": [
      "INFO:sybil-process-2649269:Loaded model from /home/leonardgarcia/.sybil/28a7cd44f5bcd3e6cc760b65c7e0d54d.ckpt\n"
     ]
    },
    {
     "name": "stdout",
     "output_type": "stream",
     "text": [
      "270\n"
     ]
    },
    {
     "name": "stderr",
     "output_type": "stream",
     "text": [
      "INFO:sybil-process-2649269:Loaded model from /home/leonardgarcia/.sybil/28a7cd44f5bcd3e6cc760b65c7e0d54d.ckpt\n"
     ]
    },
    {
     "name": "stdout",
     "output_type": "stream",
     "text": [
      "271\n"
     ]
    },
    {
     "name": "stderr",
     "output_type": "stream",
     "text": [
      "INFO:sybil-process-2649269:Loaded model from /home/leonardgarcia/.sybil/28a7cd44f5bcd3e6cc760b65c7e0d54d.ckpt\n"
     ]
    },
    {
     "name": "stdout",
     "output_type": "stream",
     "text": [
      "272\n"
     ]
    },
    {
     "name": "stderr",
     "output_type": "stream",
     "text": [
      "INFO:sybil-process-2649269:Loaded model from /home/leonardgarcia/.sybil/28a7cd44f5bcd3e6cc760b65c7e0d54d.ckpt\n"
     ]
    },
    {
     "name": "stdout",
     "output_type": "stream",
     "text": [
      "273\n"
     ]
    },
    {
     "name": "stderr",
     "output_type": "stream",
     "text": [
      "INFO:sybil-process-2649269:Loaded model from /home/leonardgarcia/.sybil/28a7cd44f5bcd3e6cc760b65c7e0d54d.ckpt\n"
     ]
    },
    {
     "name": "stdout",
     "output_type": "stream",
     "text": [
      "274\n"
     ]
    },
    {
     "name": "stderr",
     "output_type": "stream",
     "text": [
      "INFO:sybil-process-2649269:Loaded model from /home/leonardgarcia/.sybil/28a7cd44f5bcd3e6cc760b65c7e0d54d.ckpt\n"
     ]
    },
    {
     "name": "stdout",
     "output_type": "stream",
     "text": [
      "275\n"
     ]
    },
    {
     "name": "stderr",
     "output_type": "stream",
     "text": [
      "INFO:sybil-process-2649269:Loaded model from /home/leonardgarcia/.sybil/28a7cd44f5bcd3e6cc760b65c7e0d54d.ckpt\n"
     ]
    },
    {
     "name": "stdout",
     "output_type": "stream",
     "text": [
      "276\n"
     ]
    },
    {
     "name": "stderr",
     "output_type": "stream",
     "text": [
      "INFO:sybil-process-2649269:Loaded model from /home/leonardgarcia/.sybil/28a7cd44f5bcd3e6cc760b65c7e0d54d.ckpt\n"
     ]
    },
    {
     "name": "stdout",
     "output_type": "stream",
     "text": [
      "277\n"
     ]
    },
    {
     "name": "stderr",
     "output_type": "stream",
     "text": [
      "INFO:sybil-process-2649269:Loaded model from /home/leonardgarcia/.sybil/28a7cd44f5bcd3e6cc760b65c7e0d54d.ckpt\n"
     ]
    },
    {
     "name": "stdout",
     "output_type": "stream",
     "text": [
      "278\n"
     ]
    },
    {
     "name": "stderr",
     "output_type": "stream",
     "text": [
      "INFO:sybil-process-2649269:Loaded model from /home/leonardgarcia/.sybil/28a7cd44f5bcd3e6cc760b65c7e0d54d.ckpt\n"
     ]
    },
    {
     "name": "stdout",
     "output_type": "stream",
     "text": [
      "279\n"
     ]
    },
    {
     "name": "stderr",
     "output_type": "stream",
     "text": [
      "INFO:sybil-process-2649269:Loaded model from /home/leonardgarcia/.sybil/28a7cd44f5bcd3e6cc760b65c7e0d54d.ckpt\n"
     ]
    },
    {
     "name": "stdout",
     "output_type": "stream",
     "text": [
      "280\n"
     ]
    },
    {
     "name": "stderr",
     "output_type": "stream",
     "text": [
      "INFO:sybil-process-2649269:Loaded model from /home/leonardgarcia/.sybil/28a7cd44f5bcd3e6cc760b65c7e0d54d.ckpt\n"
     ]
    },
    {
     "name": "stdout",
     "output_type": "stream",
     "text": [
      "281\n"
     ]
    },
    {
     "name": "stderr",
     "output_type": "stream",
     "text": [
      "INFO:sybil-process-2649269:Loaded model from /home/leonardgarcia/.sybil/28a7cd44f5bcd3e6cc760b65c7e0d54d.ckpt\n"
     ]
    },
    {
     "name": "stdout",
     "output_type": "stream",
     "text": [
      "282\n"
     ]
    },
    {
     "name": "stderr",
     "output_type": "stream",
     "text": [
      "INFO:sybil-process-2649269:Loaded model from /home/leonardgarcia/.sybil/28a7cd44f5bcd3e6cc760b65c7e0d54d.ckpt\n"
     ]
    },
    {
     "name": "stdout",
     "output_type": "stream",
     "text": [
      "283\n"
     ]
    },
    {
     "name": "stderr",
     "output_type": "stream",
     "text": [
      "INFO:sybil-process-2649269:Loaded model from /home/leonardgarcia/.sybil/28a7cd44f5bcd3e6cc760b65c7e0d54d.ckpt\n"
     ]
    },
    {
     "name": "stdout",
     "output_type": "stream",
     "text": [
      "284\n"
     ]
    },
    {
     "name": "stderr",
     "output_type": "stream",
     "text": [
      "INFO:sybil-process-2649269:Loaded model from /home/leonardgarcia/.sybil/28a7cd44f5bcd3e6cc760b65c7e0d54d.ckpt\n"
     ]
    },
    {
     "name": "stdout",
     "output_type": "stream",
     "text": [
      "285\n"
     ]
    },
    {
     "name": "stderr",
     "output_type": "stream",
     "text": [
      "INFO:sybil-process-2649269:Loaded model from /home/leonardgarcia/.sybil/28a7cd44f5bcd3e6cc760b65c7e0d54d.ckpt\n"
     ]
    },
    {
     "name": "stdout",
     "output_type": "stream",
     "text": [
      "286\n"
     ]
    },
    {
     "name": "stderr",
     "output_type": "stream",
     "text": [
      "INFO:sybil-process-2649269:Loaded model from /home/leonardgarcia/.sybil/28a7cd44f5bcd3e6cc760b65c7e0d54d.ckpt\n"
     ]
    },
    {
     "name": "stdout",
     "output_type": "stream",
     "text": [
      "287\n"
     ]
    },
    {
     "name": "stderr",
     "output_type": "stream",
     "text": [
      "INFO:sybil-process-2649269:Loaded model from /home/leonardgarcia/.sybil/28a7cd44f5bcd3e6cc760b65c7e0d54d.ckpt\n"
     ]
    },
    {
     "name": "stdout",
     "output_type": "stream",
     "text": [
      "288\n"
     ]
    },
    {
     "name": "stderr",
     "output_type": "stream",
     "text": [
      "INFO:sybil-process-2649269:Loaded model from /home/leonardgarcia/.sybil/28a7cd44f5bcd3e6cc760b65c7e0d54d.ckpt\n"
     ]
    },
    {
     "name": "stdout",
     "output_type": "stream",
     "text": [
      "289\n"
     ]
    },
    {
     "name": "stderr",
     "output_type": "stream",
     "text": [
      "INFO:sybil-process-2649269:Loaded model from /home/leonardgarcia/.sybil/28a7cd44f5bcd3e6cc760b65c7e0d54d.ckpt\n"
     ]
    },
    {
     "name": "stdout",
     "output_type": "stream",
     "text": [
      "290\n"
     ]
    },
    {
     "name": "stderr",
     "output_type": "stream",
     "text": [
      "INFO:sybil-process-2649269:Loaded model from /home/leonardgarcia/.sybil/28a7cd44f5bcd3e6cc760b65c7e0d54d.ckpt\n"
     ]
    },
    {
     "name": "stdout",
     "output_type": "stream",
     "text": [
      "291\n"
     ]
    },
    {
     "name": "stderr",
     "output_type": "stream",
     "text": [
      "INFO:sybil-process-2649269:Loaded model from /home/leonardgarcia/.sybil/28a7cd44f5bcd3e6cc760b65c7e0d54d.ckpt\n"
     ]
    },
    {
     "name": "stdout",
     "output_type": "stream",
     "text": [
      "292\n"
     ]
    },
    {
     "name": "stderr",
     "output_type": "stream",
     "text": [
      "INFO:sybil-process-2649269:Loaded model from /home/leonardgarcia/.sybil/28a7cd44f5bcd3e6cc760b65c7e0d54d.ckpt\n"
     ]
    },
    {
     "name": "stdout",
     "output_type": "stream",
     "text": [
      "293\n"
     ]
    },
    {
     "name": "stderr",
     "output_type": "stream",
     "text": [
      "INFO:sybil-process-2649269:Loaded model from /home/leonardgarcia/.sybil/28a7cd44f5bcd3e6cc760b65c7e0d54d.ckpt\n"
     ]
    },
    {
     "name": "stdout",
     "output_type": "stream",
     "text": [
      "294\n"
     ]
    },
    {
     "name": "stderr",
     "output_type": "stream",
     "text": [
      "INFO:sybil-process-2649269:Loaded model from /home/leonardgarcia/.sybil/28a7cd44f5bcd3e6cc760b65c7e0d54d.ckpt\n"
     ]
    },
    {
     "name": "stdout",
     "output_type": "stream",
     "text": [
      "295\n"
     ]
    },
    {
     "name": "stderr",
     "output_type": "stream",
     "text": [
      "INFO:sybil-process-2649269:Loaded model from /home/leonardgarcia/.sybil/28a7cd44f5bcd3e6cc760b65c7e0d54d.ckpt\n"
     ]
    },
    {
     "name": "stdout",
     "output_type": "stream",
     "text": [
      "296\n"
     ]
    },
    {
     "name": "stderr",
     "output_type": "stream",
     "text": [
      "INFO:sybil-process-2649269:Loaded model from /home/leonardgarcia/.sybil/28a7cd44f5bcd3e6cc760b65c7e0d54d.ckpt\n"
     ]
    },
    {
     "name": "stdout",
     "output_type": "stream",
     "text": [
      "297\n"
     ]
    },
    {
     "name": "stderr",
     "output_type": "stream",
     "text": [
      "INFO:sybil-process-2649269:Loaded model from /home/leonardgarcia/.sybil/28a7cd44f5bcd3e6cc760b65c7e0d54d.ckpt\n"
     ]
    },
    {
     "name": "stdout",
     "output_type": "stream",
     "text": [
      "298\n"
     ]
    },
    {
     "name": "stderr",
     "output_type": "stream",
     "text": [
      "INFO:sybil-process-2649269:Loaded model from /home/leonardgarcia/.sybil/28a7cd44f5bcd3e6cc760b65c7e0d54d.ckpt\n"
     ]
    },
    {
     "name": "stdout",
     "output_type": "stream",
     "text": [
      "299\n"
     ]
    },
    {
     "name": "stderr",
     "output_type": "stream",
     "text": [
      "INFO:sybil-process-2649269:Loaded model from /home/leonardgarcia/.sybil/28a7cd44f5bcd3e6cc760b65c7e0d54d.ckpt\n"
     ]
    },
    {
     "name": "stdout",
     "output_type": "stream",
     "text": [
      "300\n"
     ]
    },
    {
     "name": "stderr",
     "output_type": "stream",
     "text": [
      "INFO:sybil-process-2649269:Loaded model from /home/leonardgarcia/.sybil/28a7cd44f5bcd3e6cc760b65c7e0d54d.ckpt\n"
     ]
    },
    {
     "name": "stdout",
     "output_type": "stream",
     "text": [
      "301\n"
     ]
    },
    {
     "name": "stderr",
     "output_type": "stream",
     "text": [
      "INFO:sybil-process-2649269:Loaded model from /home/leonardgarcia/.sybil/28a7cd44f5bcd3e6cc760b65c7e0d54d.ckpt\n"
     ]
    },
    {
     "name": "stdout",
     "output_type": "stream",
     "text": [
      "302\n"
     ]
    },
    {
     "name": "stderr",
     "output_type": "stream",
     "text": [
      "INFO:sybil-process-2649269:Loaded model from /home/leonardgarcia/.sybil/28a7cd44f5bcd3e6cc760b65c7e0d54d.ckpt\n"
     ]
    },
    {
     "name": "stdout",
     "output_type": "stream",
     "text": [
      "303\n"
     ]
    },
    {
     "name": "stderr",
     "output_type": "stream",
     "text": [
      "INFO:sybil-process-2649269:Loaded model from /home/leonardgarcia/.sybil/28a7cd44f5bcd3e6cc760b65c7e0d54d.ckpt\n"
     ]
    },
    {
     "name": "stdout",
     "output_type": "stream",
     "text": [
      "304\n"
     ]
    },
    {
     "name": "stderr",
     "output_type": "stream",
     "text": [
      "INFO:sybil-process-2649269:Loaded model from /home/leonardgarcia/.sybil/28a7cd44f5bcd3e6cc760b65c7e0d54d.ckpt\n"
     ]
    },
    {
     "name": "stdout",
     "output_type": "stream",
     "text": [
      "305\n"
     ]
    },
    {
     "name": "stderr",
     "output_type": "stream",
     "text": [
      "INFO:sybil-process-2649269:Loaded model from /home/leonardgarcia/.sybil/28a7cd44f5bcd3e6cc760b65c7e0d54d.ckpt\n"
     ]
    },
    {
     "name": "stdout",
     "output_type": "stream",
     "text": [
      "306\n"
     ]
    },
    {
     "name": "stderr",
     "output_type": "stream",
     "text": [
      "INFO:sybil-process-2649269:Loaded model from /home/leonardgarcia/.sybil/28a7cd44f5bcd3e6cc760b65c7e0d54d.ckpt\n"
     ]
    },
    {
     "name": "stdout",
     "output_type": "stream",
     "text": [
      "307\n"
     ]
    },
    {
     "name": "stderr",
     "output_type": "stream",
     "text": [
      "INFO:sybil-process-2649269:Loaded model from /home/leonardgarcia/.sybil/28a7cd44f5bcd3e6cc760b65c7e0d54d.ckpt\n"
     ]
    },
    {
     "name": "stdout",
     "output_type": "stream",
     "text": [
      "308\n"
     ]
    },
    {
     "name": "stderr",
     "output_type": "stream",
     "text": [
      "INFO:sybil-process-2649269:Loaded model from /home/leonardgarcia/.sybil/28a7cd44f5bcd3e6cc760b65c7e0d54d.ckpt\n"
     ]
    },
    {
     "name": "stdout",
     "output_type": "stream",
     "text": [
      "309\n"
     ]
    },
    {
     "name": "stderr",
     "output_type": "stream",
     "text": [
      "INFO:sybil-process-2649269:Loaded model from /home/leonardgarcia/.sybil/28a7cd44f5bcd3e6cc760b65c7e0d54d.ckpt\n"
     ]
    },
    {
     "name": "stdout",
     "output_type": "stream",
     "text": [
      "310\n"
     ]
    },
    {
     "name": "stderr",
     "output_type": "stream",
     "text": [
      "INFO:sybil-process-2649269:Loaded model from /home/leonardgarcia/.sybil/28a7cd44f5bcd3e6cc760b65c7e0d54d.ckpt\n"
     ]
    },
    {
     "name": "stdout",
     "output_type": "stream",
     "text": [
      "311\n"
     ]
    },
    {
     "name": "stderr",
     "output_type": "stream",
     "text": [
      "INFO:sybil-process-2649269:Loaded model from /home/leonardgarcia/.sybil/28a7cd44f5bcd3e6cc760b65c7e0d54d.ckpt\n"
     ]
    },
    {
     "name": "stdout",
     "output_type": "stream",
     "text": [
      "312\n"
     ]
    },
    {
     "name": "stderr",
     "output_type": "stream",
     "text": [
      "INFO:sybil-process-2649269:Loaded model from /home/leonardgarcia/.sybil/28a7cd44f5bcd3e6cc760b65c7e0d54d.ckpt\n"
     ]
    },
    {
     "name": "stdout",
     "output_type": "stream",
     "text": [
      "313\n"
     ]
    },
    {
     "name": "stderr",
     "output_type": "stream",
     "text": [
      "INFO:sybil-process-2649269:Loaded model from /home/leonardgarcia/.sybil/28a7cd44f5bcd3e6cc760b65c7e0d54d.ckpt\n"
     ]
    },
    {
     "name": "stdout",
     "output_type": "stream",
     "text": [
      "314\n"
     ]
    },
    {
     "name": "stderr",
     "output_type": "stream",
     "text": [
      "INFO:sybil-process-2649269:Loaded model from /home/leonardgarcia/.sybil/28a7cd44f5bcd3e6cc760b65c7e0d54d.ckpt\n"
     ]
    },
    {
     "name": "stdout",
     "output_type": "stream",
     "text": [
      "315\n"
     ]
    },
    {
     "name": "stderr",
     "output_type": "stream",
     "text": [
      "INFO:sybil-process-2649269:Loaded model from /home/leonardgarcia/.sybil/28a7cd44f5bcd3e6cc760b65c7e0d54d.ckpt\n"
     ]
    },
    {
     "name": "stdout",
     "output_type": "stream",
     "text": [
      "316\n"
     ]
    },
    {
     "name": "stderr",
     "output_type": "stream",
     "text": [
      "INFO:sybil-process-2649269:Loaded model from /home/leonardgarcia/.sybil/28a7cd44f5bcd3e6cc760b65c7e0d54d.ckpt\n"
     ]
    },
    {
     "name": "stdout",
     "output_type": "stream",
     "text": [
      "317\n"
     ]
    },
    {
     "name": "stderr",
     "output_type": "stream",
     "text": [
      "INFO:sybil-process-2649269:Loaded model from /home/leonardgarcia/.sybil/28a7cd44f5bcd3e6cc760b65c7e0d54d.ckpt\n"
     ]
    },
    {
     "name": "stdout",
     "output_type": "stream",
     "text": [
      "318\n"
     ]
    },
    {
     "name": "stderr",
     "output_type": "stream",
     "text": [
      "INFO:sybil-process-2649269:Loaded model from /home/leonardgarcia/.sybil/28a7cd44f5bcd3e6cc760b65c7e0d54d.ckpt\n"
     ]
    },
    {
     "name": "stdout",
     "output_type": "stream",
     "text": [
      "319\n"
     ]
    },
    {
     "name": "stderr",
     "output_type": "stream",
     "text": [
      "INFO:sybil-process-2649269:Loaded model from /home/leonardgarcia/.sybil/28a7cd44f5bcd3e6cc760b65c7e0d54d.ckpt\n"
     ]
    },
    {
     "name": "stdout",
     "output_type": "stream",
     "text": [
      "320\n"
     ]
    },
    {
     "name": "stderr",
     "output_type": "stream",
     "text": [
      "INFO:sybil-process-2649269:Loaded model from /home/leonardgarcia/.sybil/28a7cd44f5bcd3e6cc760b65c7e0d54d.ckpt\n"
     ]
    },
    {
     "name": "stdout",
     "output_type": "stream",
     "text": [
      "321\n"
     ]
    },
    {
     "name": "stderr",
     "output_type": "stream",
     "text": [
      "INFO:sybil-process-2649269:Loaded model from /home/leonardgarcia/.sybil/28a7cd44f5bcd3e6cc760b65c7e0d54d.ckpt\n"
     ]
    },
    {
     "name": "stdout",
     "output_type": "stream",
     "text": [
      "322\n"
     ]
    },
    {
     "name": "stderr",
     "output_type": "stream",
     "text": [
      "INFO:sybil-process-2649269:Loaded model from /home/leonardgarcia/.sybil/28a7cd44f5bcd3e6cc760b65c7e0d54d.ckpt\n"
     ]
    },
    {
     "name": "stdout",
     "output_type": "stream",
     "text": [
      "323\n"
     ]
    },
    {
     "name": "stderr",
     "output_type": "stream",
     "text": [
      "INFO:sybil-process-2649269:Loaded model from /home/leonardgarcia/.sybil/28a7cd44f5bcd3e6cc760b65c7e0d54d.ckpt\n"
     ]
    },
    {
     "name": "stdout",
     "output_type": "stream",
     "text": [
      "324\n"
     ]
    },
    {
     "name": "stderr",
     "output_type": "stream",
     "text": [
      "INFO:sybil-process-2649269:Loaded model from /home/leonardgarcia/.sybil/28a7cd44f5bcd3e6cc760b65c7e0d54d.ckpt\n"
     ]
    },
    {
     "name": "stdout",
     "output_type": "stream",
     "text": [
      "325\n"
     ]
    },
    {
     "name": "stderr",
     "output_type": "stream",
     "text": [
      "INFO:sybil-process-2649269:Loaded model from /home/leonardgarcia/.sybil/28a7cd44f5bcd3e6cc760b65c7e0d54d.ckpt\n"
     ]
    },
    {
     "name": "stdout",
     "output_type": "stream",
     "text": [
      "326\n"
     ]
    },
    {
     "name": "stderr",
     "output_type": "stream",
     "text": [
      "INFO:sybil-process-2649269:Loaded model from /home/leonardgarcia/.sybil/28a7cd44f5bcd3e6cc760b65c7e0d54d.ckpt\n"
     ]
    },
    {
     "name": "stdout",
     "output_type": "stream",
     "text": [
      "327\n"
     ]
    },
    {
     "name": "stderr",
     "output_type": "stream",
     "text": [
      "INFO:sybil-process-2649269:Loaded model from /home/leonardgarcia/.sybil/28a7cd44f5bcd3e6cc760b65c7e0d54d.ckpt\n"
     ]
    },
    {
     "name": "stdout",
     "output_type": "stream",
     "text": [
      "328\n"
     ]
    },
    {
     "name": "stderr",
     "output_type": "stream",
     "text": [
      "INFO:sybil-process-2649269:Loaded model from /home/leonardgarcia/.sybil/28a7cd44f5bcd3e6cc760b65c7e0d54d.ckpt\n"
     ]
    },
    {
     "name": "stdout",
     "output_type": "stream",
     "text": [
      "329\n"
     ]
    },
    {
     "name": "stderr",
     "output_type": "stream",
     "text": [
      "INFO:sybil-process-2649269:Loaded model from /home/leonardgarcia/.sybil/28a7cd44f5bcd3e6cc760b65c7e0d54d.ckpt\n"
     ]
    },
    {
     "name": "stdout",
     "output_type": "stream",
     "text": [
      "330\n"
     ]
    },
    {
     "name": "stderr",
     "output_type": "stream",
     "text": [
      "INFO:sybil-process-2649269:Loaded model from /home/leonardgarcia/.sybil/28a7cd44f5bcd3e6cc760b65c7e0d54d.ckpt\n"
     ]
    },
    {
     "name": "stdout",
     "output_type": "stream",
     "text": [
      "331\n"
     ]
    },
    {
     "name": "stderr",
     "output_type": "stream",
     "text": [
      "INFO:sybil-process-2649269:Loaded model from /home/leonardgarcia/.sybil/28a7cd44f5bcd3e6cc760b65c7e0d54d.ckpt\n"
     ]
    },
    {
     "name": "stdout",
     "output_type": "stream",
     "text": [
      "332\n"
     ]
    },
    {
     "name": "stderr",
     "output_type": "stream",
     "text": [
      "INFO:sybil-process-2649269:Loaded model from /home/leonardgarcia/.sybil/28a7cd44f5bcd3e6cc760b65c7e0d54d.ckpt\n"
     ]
    },
    {
     "name": "stdout",
     "output_type": "stream",
     "text": [
      "333\n"
     ]
    },
    {
     "name": "stderr",
     "output_type": "stream",
     "text": [
      "INFO:sybil-process-2649269:Loaded model from /home/leonardgarcia/.sybil/28a7cd44f5bcd3e6cc760b65c7e0d54d.ckpt\n"
     ]
    },
    {
     "name": "stdout",
     "output_type": "stream",
     "text": [
      "334\n"
     ]
    },
    {
     "name": "stderr",
     "output_type": "stream",
     "text": [
      "INFO:sybil-process-2649269:Loaded model from /home/leonardgarcia/.sybil/28a7cd44f5bcd3e6cc760b65c7e0d54d.ckpt\n"
     ]
    },
    {
     "name": "stdout",
     "output_type": "stream",
     "text": [
      "335\n"
     ]
    },
    {
     "name": "stderr",
     "output_type": "stream",
     "text": [
      "INFO:sybil-process-2649269:Loaded model from /home/leonardgarcia/.sybil/28a7cd44f5bcd3e6cc760b65c7e0d54d.ckpt\n"
     ]
    },
    {
     "name": "stdout",
     "output_type": "stream",
     "text": [
      "336\n"
     ]
    },
    {
     "name": "stderr",
     "output_type": "stream",
     "text": [
      "INFO:sybil-process-2649269:Loaded model from /home/leonardgarcia/.sybil/28a7cd44f5bcd3e6cc760b65c7e0d54d.ckpt\n"
     ]
    },
    {
     "name": "stdout",
     "output_type": "stream",
     "text": [
      "337\n"
     ]
    },
    {
     "name": "stderr",
     "output_type": "stream",
     "text": [
      "INFO:sybil-process-2649269:Loaded model from /home/leonardgarcia/.sybil/28a7cd44f5bcd3e6cc760b65c7e0d54d.ckpt\n"
     ]
    },
    {
     "name": "stdout",
     "output_type": "stream",
     "text": [
      "338\n"
     ]
    },
    {
     "name": "stderr",
     "output_type": "stream",
     "text": [
      "INFO:sybil-process-2649269:Loaded model from /home/leonardgarcia/.sybil/28a7cd44f5bcd3e6cc760b65c7e0d54d.ckpt\n"
     ]
    },
    {
     "name": "stdout",
     "output_type": "stream",
     "text": [
      "339\n"
     ]
    },
    {
     "name": "stderr",
     "output_type": "stream",
     "text": [
      "INFO:sybil-process-2649269:Loaded model from /home/leonardgarcia/.sybil/28a7cd44f5bcd3e6cc760b65c7e0d54d.ckpt\n"
     ]
    },
    {
     "name": "stdout",
     "output_type": "stream",
     "text": [
      "340\n"
     ]
    },
    {
     "name": "stderr",
     "output_type": "stream",
     "text": [
      "INFO:sybil-process-2649269:Loaded model from /home/leonardgarcia/.sybil/28a7cd44f5bcd3e6cc760b65c7e0d54d.ckpt\n"
     ]
    },
    {
     "name": "stdout",
     "output_type": "stream",
     "text": [
      "341\n"
     ]
    },
    {
     "name": "stderr",
     "output_type": "stream",
     "text": [
      "INFO:sybil-process-2649269:Loaded model from /home/leonardgarcia/.sybil/28a7cd44f5bcd3e6cc760b65c7e0d54d.ckpt\n"
     ]
    },
    {
     "name": "stdout",
     "output_type": "stream",
     "text": [
      "342\n"
     ]
    },
    {
     "name": "stderr",
     "output_type": "stream",
     "text": [
      "INFO:sybil-process-2649269:Loaded model from /home/leonardgarcia/.sybil/28a7cd44f5bcd3e6cc760b65c7e0d54d.ckpt\n"
     ]
    },
    {
     "name": "stdout",
     "output_type": "stream",
     "text": [
      "343\n"
     ]
    },
    {
     "name": "stderr",
     "output_type": "stream",
     "text": [
      "INFO:sybil-process-2649269:Loaded model from /home/leonardgarcia/.sybil/28a7cd44f5bcd3e6cc760b65c7e0d54d.ckpt\n"
     ]
    },
    {
     "name": "stdout",
     "output_type": "stream",
     "text": [
      "344\n"
     ]
    },
    {
     "name": "stderr",
     "output_type": "stream",
     "text": [
      "INFO:sybil-process-2649269:Loaded model from /home/leonardgarcia/.sybil/28a7cd44f5bcd3e6cc760b65c7e0d54d.ckpt\n"
     ]
    },
    {
     "name": "stdout",
     "output_type": "stream",
     "text": [
      "345\n"
     ]
    },
    {
     "name": "stderr",
     "output_type": "stream",
     "text": [
      "INFO:sybil-process-2649269:Loaded model from /home/leonardgarcia/.sybil/28a7cd44f5bcd3e6cc760b65c7e0d54d.ckpt\n"
     ]
    },
    {
     "name": "stdout",
     "output_type": "stream",
     "text": [
      "346\n"
     ]
    },
    {
     "name": "stderr",
     "output_type": "stream",
     "text": [
      "INFO:sybil-process-2649269:Loaded model from /home/leonardgarcia/.sybil/28a7cd44f5bcd3e6cc760b65c7e0d54d.ckpt\n"
     ]
    },
    {
     "name": "stdout",
     "output_type": "stream",
     "text": [
      "347\n"
     ]
    },
    {
     "name": "stderr",
     "output_type": "stream",
     "text": [
      "INFO:sybil-process-2649269:Loaded model from /home/leonardgarcia/.sybil/28a7cd44f5bcd3e6cc760b65c7e0d54d.ckpt\n"
     ]
    },
    {
     "name": "stdout",
     "output_type": "stream",
     "text": [
      "348\n"
     ]
    },
    {
     "name": "stderr",
     "output_type": "stream",
     "text": [
      "INFO:sybil-process-2649269:Loaded model from /home/leonardgarcia/.sybil/28a7cd44f5bcd3e6cc760b65c7e0d54d.ckpt\n"
     ]
    },
    {
     "name": "stdout",
     "output_type": "stream",
     "text": [
      "349\n"
     ]
    },
    {
     "name": "stderr",
     "output_type": "stream",
     "text": [
      "INFO:sybil-process-2649269:Loaded model from /home/leonardgarcia/.sybil/28a7cd44f5bcd3e6cc760b65c7e0d54d.ckpt\n"
     ]
    },
    {
     "name": "stdout",
     "output_type": "stream",
     "text": [
      "350\n"
     ]
    },
    {
     "name": "stderr",
     "output_type": "stream",
     "text": [
      "INFO:sybil-process-2649269:Loaded model from /home/leonardgarcia/.sybil/28a7cd44f5bcd3e6cc760b65c7e0d54d.ckpt\n"
     ]
    },
    {
     "name": "stdout",
     "output_type": "stream",
     "text": [
      "351\n"
     ]
    },
    {
     "name": "stderr",
     "output_type": "stream",
     "text": [
      "INFO:sybil-process-2649269:Loaded model from /home/leonardgarcia/.sybil/28a7cd44f5bcd3e6cc760b65c7e0d54d.ckpt\n"
     ]
    },
    {
     "name": "stdout",
     "output_type": "stream",
     "text": [
      "352\n"
     ]
    },
    {
     "name": "stderr",
     "output_type": "stream",
     "text": [
      "INFO:sybil-process-2649269:Loaded model from /home/leonardgarcia/.sybil/28a7cd44f5bcd3e6cc760b65c7e0d54d.ckpt\n"
     ]
    },
    {
     "name": "stdout",
     "output_type": "stream",
     "text": [
      "353\n"
     ]
    },
    {
     "name": "stderr",
     "output_type": "stream",
     "text": [
      "INFO:sybil-process-2649269:Loaded model from /home/leonardgarcia/.sybil/28a7cd44f5bcd3e6cc760b65c7e0d54d.ckpt\n"
     ]
    },
    {
     "name": "stdout",
     "output_type": "stream",
     "text": [
      "354\n"
     ]
    },
    {
     "name": "stderr",
     "output_type": "stream",
     "text": [
      "INFO:sybil-process-2649269:Loaded model from /home/leonardgarcia/.sybil/28a7cd44f5bcd3e6cc760b65c7e0d54d.ckpt\n"
     ]
    },
    {
     "name": "stdout",
     "output_type": "stream",
     "text": [
      "355\n"
     ]
    },
    {
     "name": "stderr",
     "output_type": "stream",
     "text": [
      "INFO:sybil-process-2649269:Loaded model from /home/leonardgarcia/.sybil/28a7cd44f5bcd3e6cc760b65c7e0d54d.ckpt\n"
     ]
    },
    {
     "name": "stdout",
     "output_type": "stream",
     "text": [
      "356\n"
     ]
    },
    {
     "name": "stderr",
     "output_type": "stream",
     "text": [
      "INFO:sybil-process-2649269:Loaded model from /home/leonardgarcia/.sybil/28a7cd44f5bcd3e6cc760b65c7e0d54d.ckpt\n"
     ]
    },
    {
     "name": "stdout",
     "output_type": "stream",
     "text": [
      "357\n"
     ]
    },
    {
     "name": "stderr",
     "output_type": "stream",
     "text": [
      "INFO:sybil-process-2649269:Loaded model from /home/leonardgarcia/.sybil/28a7cd44f5bcd3e6cc760b65c7e0d54d.ckpt\n"
     ]
    },
    {
     "name": "stdout",
     "output_type": "stream",
     "text": [
      "358\n"
     ]
    },
    {
     "name": "stderr",
     "output_type": "stream",
     "text": [
      "INFO:sybil-process-2649269:Loaded model from /home/leonardgarcia/.sybil/28a7cd44f5bcd3e6cc760b65c7e0d54d.ckpt\n"
     ]
    },
    {
     "name": "stdout",
     "output_type": "stream",
     "text": [
      "359\n"
     ]
    },
    {
     "name": "stderr",
     "output_type": "stream",
     "text": [
      "INFO:sybil-process-2649269:Loaded model from /home/leonardgarcia/.sybil/28a7cd44f5bcd3e6cc760b65c7e0d54d.ckpt\n"
     ]
    },
    {
     "name": "stdout",
     "output_type": "stream",
     "text": [
      "360\n"
     ]
    },
    {
     "name": "stderr",
     "output_type": "stream",
     "text": [
      "INFO:sybil-process-2649269:Loaded model from /home/leonardgarcia/.sybil/28a7cd44f5bcd3e6cc760b65c7e0d54d.ckpt\n"
     ]
    },
    {
     "name": "stdout",
     "output_type": "stream",
     "text": [
      "361\n"
     ]
    },
    {
     "name": "stderr",
     "output_type": "stream",
     "text": [
      "INFO:sybil-process-2649269:Loaded model from /home/leonardgarcia/.sybil/28a7cd44f5bcd3e6cc760b65c7e0d54d.ckpt\n"
     ]
    },
    {
     "name": "stdout",
     "output_type": "stream",
     "text": [
      "362\n"
     ]
    },
    {
     "name": "stderr",
     "output_type": "stream",
     "text": [
      "INFO:sybil-process-2649269:Loaded model from /home/leonardgarcia/.sybil/28a7cd44f5bcd3e6cc760b65c7e0d54d.ckpt\n"
     ]
    },
    {
     "name": "stdout",
     "output_type": "stream",
     "text": [
      "363\n"
     ]
    },
    {
     "name": "stderr",
     "output_type": "stream",
     "text": [
      "INFO:sybil-process-2649269:Loaded model from /home/leonardgarcia/.sybil/28a7cd44f5bcd3e6cc760b65c7e0d54d.ckpt\n"
     ]
    },
    {
     "name": "stdout",
     "output_type": "stream",
     "text": [
      "364\n"
     ]
    },
    {
     "name": "stderr",
     "output_type": "stream",
     "text": [
      "INFO:sybil-process-2649269:Loaded model from /home/leonardgarcia/.sybil/28a7cd44f5bcd3e6cc760b65c7e0d54d.ckpt\n"
     ]
    },
    {
     "name": "stdout",
     "output_type": "stream",
     "text": [
      "365\n"
     ]
    },
    {
     "name": "stderr",
     "output_type": "stream",
     "text": [
      "INFO:sybil-process-2649269:Loaded model from /home/leonardgarcia/.sybil/28a7cd44f5bcd3e6cc760b65c7e0d54d.ckpt\n"
     ]
    },
    {
     "name": "stdout",
     "output_type": "stream",
     "text": [
      "366\n"
     ]
    },
    {
     "name": "stderr",
     "output_type": "stream",
     "text": [
      "INFO:sybil-process-2649269:Loaded model from /home/leonardgarcia/.sybil/28a7cd44f5bcd3e6cc760b65c7e0d54d.ckpt\n"
     ]
    },
    {
     "name": "stdout",
     "output_type": "stream",
     "text": [
      "367\n"
     ]
    },
    {
     "name": "stderr",
     "output_type": "stream",
     "text": [
      "INFO:sybil-process-2649269:Loaded model from /home/leonardgarcia/.sybil/28a7cd44f5bcd3e6cc760b65c7e0d54d.ckpt\n"
     ]
    },
    {
     "name": "stdout",
     "output_type": "stream",
     "text": [
      "368\n"
     ]
    },
    {
     "name": "stderr",
     "output_type": "stream",
     "text": [
      "INFO:sybil-process-2649269:Loaded model from /home/leonardgarcia/.sybil/28a7cd44f5bcd3e6cc760b65c7e0d54d.ckpt\n"
     ]
    },
    {
     "name": "stdout",
     "output_type": "stream",
     "text": [
      "369\n"
     ]
    },
    {
     "name": "stderr",
     "output_type": "stream",
     "text": [
      "INFO:sybil-process-2649269:Loaded model from /home/leonardgarcia/.sybil/28a7cd44f5bcd3e6cc760b65c7e0d54d.ckpt\n"
     ]
    },
    {
     "name": "stdout",
     "output_type": "stream",
     "text": [
      "370\n"
     ]
    },
    {
     "name": "stderr",
     "output_type": "stream",
     "text": [
      "INFO:sybil-process-2649269:Loaded model from /home/leonardgarcia/.sybil/28a7cd44f5bcd3e6cc760b65c7e0d54d.ckpt\n"
     ]
    },
    {
     "name": "stdout",
     "output_type": "stream",
     "text": [
      "371\n"
     ]
    },
    {
     "name": "stderr",
     "output_type": "stream",
     "text": [
      "INFO:sybil-process-2649269:Loaded model from /home/leonardgarcia/.sybil/28a7cd44f5bcd3e6cc760b65c7e0d54d.ckpt\n"
     ]
    },
    {
     "name": "stdout",
     "output_type": "stream",
     "text": [
      "372\n"
     ]
    },
    {
     "name": "stderr",
     "output_type": "stream",
     "text": [
      "INFO:sybil-process-2649269:Loaded model from /home/leonardgarcia/.sybil/28a7cd44f5bcd3e6cc760b65c7e0d54d.ckpt\n"
     ]
    },
    {
     "name": "stdout",
     "output_type": "stream",
     "text": [
      "373\n"
     ]
    },
    {
     "name": "stderr",
     "output_type": "stream",
     "text": [
      "INFO:sybil-process-2649269:Loaded model from /home/leonardgarcia/.sybil/28a7cd44f5bcd3e6cc760b65c7e0d54d.ckpt\n"
     ]
    },
    {
     "name": "stdout",
     "output_type": "stream",
     "text": [
      "374\n"
     ]
    },
    {
     "name": "stderr",
     "output_type": "stream",
     "text": [
      "INFO:sybil-process-2649269:Loaded model from /home/leonardgarcia/.sybil/28a7cd44f5bcd3e6cc760b65c7e0d54d.ckpt\n"
     ]
    },
    {
     "name": "stdout",
     "output_type": "stream",
     "text": [
      "375\n"
     ]
    },
    {
     "name": "stderr",
     "output_type": "stream",
     "text": [
      "INFO:sybil-process-2649269:Loaded model from /home/leonardgarcia/.sybil/28a7cd44f5bcd3e6cc760b65c7e0d54d.ckpt\n"
     ]
    },
    {
     "name": "stdout",
     "output_type": "stream",
     "text": [
      "376\n"
     ]
    },
    {
     "name": "stderr",
     "output_type": "stream",
     "text": [
      "INFO:sybil-process-2649269:Loaded model from /home/leonardgarcia/.sybil/28a7cd44f5bcd3e6cc760b65c7e0d54d.ckpt\n"
     ]
    },
    {
     "name": "stdout",
     "output_type": "stream",
     "text": [
      "377\n"
     ]
    },
    {
     "name": "stderr",
     "output_type": "stream",
     "text": [
      "INFO:sybil-process-2649269:Loaded model from /home/leonardgarcia/.sybil/28a7cd44f5bcd3e6cc760b65c7e0d54d.ckpt\n"
     ]
    },
    {
     "name": "stdout",
     "output_type": "stream",
     "text": [
      "378\n"
     ]
    },
    {
     "name": "stderr",
     "output_type": "stream",
     "text": [
      "INFO:sybil-process-2649269:Loaded model from /home/leonardgarcia/.sybil/28a7cd44f5bcd3e6cc760b65c7e0d54d.ckpt\n"
     ]
    },
    {
     "name": "stdout",
     "output_type": "stream",
     "text": [
      "379\n"
     ]
    },
    {
     "name": "stderr",
     "output_type": "stream",
     "text": [
      "INFO:sybil-process-2649269:Loaded model from /home/leonardgarcia/.sybil/28a7cd44f5bcd3e6cc760b65c7e0d54d.ckpt\n"
     ]
    },
    {
     "name": "stdout",
     "output_type": "stream",
     "text": [
      "380\n"
     ]
    },
    {
     "name": "stderr",
     "output_type": "stream",
     "text": [
      "INFO:sybil-process-2649269:Loaded model from /home/leonardgarcia/.sybil/28a7cd44f5bcd3e6cc760b65c7e0d54d.ckpt\n"
     ]
    },
    {
     "name": "stdout",
     "output_type": "stream",
     "text": [
      "381\n"
     ]
    },
    {
     "name": "stderr",
     "output_type": "stream",
     "text": [
      "INFO:sybil-process-2649269:Loaded model from /home/leonardgarcia/.sybil/28a7cd44f5bcd3e6cc760b65c7e0d54d.ckpt\n"
     ]
    },
    {
     "name": "stdout",
     "output_type": "stream",
     "text": [
      "382\n"
     ]
    },
    {
     "name": "stderr",
     "output_type": "stream",
     "text": [
      "INFO:sybil-process-2649269:Loaded model from /home/leonardgarcia/.sybil/28a7cd44f5bcd3e6cc760b65c7e0d54d.ckpt\n"
     ]
    },
    {
     "name": "stdout",
     "output_type": "stream",
     "text": [
      "383\n"
     ]
    },
    {
     "name": "stderr",
     "output_type": "stream",
     "text": [
      "INFO:sybil-process-2649269:Loaded model from /home/leonardgarcia/.sybil/28a7cd44f5bcd3e6cc760b65c7e0d54d.ckpt\n"
     ]
    },
    {
     "name": "stdout",
     "output_type": "stream",
     "text": [
      "384\n"
     ]
    },
    {
     "name": "stderr",
     "output_type": "stream",
     "text": [
      "INFO:sybil-process-2649269:Loaded model from /home/leonardgarcia/.sybil/28a7cd44f5bcd3e6cc760b65c7e0d54d.ckpt\n"
     ]
    },
    {
     "name": "stdout",
     "output_type": "stream",
     "text": [
      "385\n"
     ]
    },
    {
     "name": "stderr",
     "output_type": "stream",
     "text": [
      "INFO:sybil-process-2649269:Loaded model from /home/leonardgarcia/.sybil/28a7cd44f5bcd3e6cc760b65c7e0d54d.ckpt\n"
     ]
    },
    {
     "name": "stdout",
     "output_type": "stream",
     "text": [
      "386\n"
     ]
    },
    {
     "name": "stderr",
     "output_type": "stream",
     "text": [
      "INFO:sybil-process-2649269:Loaded model from /home/leonardgarcia/.sybil/28a7cd44f5bcd3e6cc760b65c7e0d54d.ckpt\n"
     ]
    },
    {
     "name": "stdout",
     "output_type": "stream",
     "text": [
      "387\n"
     ]
    },
    {
     "name": "stderr",
     "output_type": "stream",
     "text": [
      "INFO:sybil-process-2649269:Loaded model from /home/leonardgarcia/.sybil/28a7cd44f5bcd3e6cc760b65c7e0d54d.ckpt\n"
     ]
    },
    {
     "name": "stdout",
     "output_type": "stream",
     "text": [
      "388\n"
     ]
    },
    {
     "name": "stderr",
     "output_type": "stream",
     "text": [
      "INFO:sybil-process-2649269:Loaded model from /home/leonardgarcia/.sybil/28a7cd44f5bcd3e6cc760b65c7e0d54d.ckpt\n"
     ]
    },
    {
     "name": "stdout",
     "output_type": "stream",
     "text": [
      "389\n"
     ]
    },
    {
     "name": "stderr",
     "output_type": "stream",
     "text": [
      "INFO:sybil-process-2649269:Loaded model from /home/leonardgarcia/.sybil/28a7cd44f5bcd3e6cc760b65c7e0d54d.ckpt\n"
     ]
    },
    {
     "name": "stdout",
     "output_type": "stream",
     "text": [
      "390\n"
     ]
    },
    {
     "name": "stderr",
     "output_type": "stream",
     "text": [
      "INFO:sybil-process-2649269:Loaded model from /home/leonardgarcia/.sybil/28a7cd44f5bcd3e6cc760b65c7e0d54d.ckpt\n"
     ]
    },
    {
     "name": "stdout",
     "output_type": "stream",
     "text": [
      "391\n"
     ]
    },
    {
     "name": "stderr",
     "output_type": "stream",
     "text": [
      "INFO:sybil-process-2649269:Loaded model from /home/leonardgarcia/.sybil/28a7cd44f5bcd3e6cc760b65c7e0d54d.ckpt\n"
     ]
    },
    {
     "name": "stdout",
     "output_type": "stream",
     "text": [
      "392\n"
     ]
    },
    {
     "name": "stderr",
     "output_type": "stream",
     "text": [
      "INFO:sybil-process-2649269:Loaded model from /home/leonardgarcia/.sybil/28a7cd44f5bcd3e6cc760b65c7e0d54d.ckpt\n"
     ]
    },
    {
     "name": "stdout",
     "output_type": "stream",
     "text": [
      "393\n"
     ]
    },
    {
     "name": "stderr",
     "output_type": "stream",
     "text": [
      "INFO:sybil-process-2649269:Loaded model from /home/leonardgarcia/.sybil/28a7cd44f5bcd3e6cc760b65c7e0d54d.ckpt\n"
     ]
    },
    {
     "name": "stdout",
     "output_type": "stream",
     "text": [
      "394\n"
     ]
    },
    {
     "name": "stderr",
     "output_type": "stream",
     "text": [
      "INFO:sybil-process-2649269:Loaded model from /home/leonardgarcia/.sybil/28a7cd44f5bcd3e6cc760b65c7e0d54d.ckpt\n"
     ]
    },
    {
     "name": "stdout",
     "output_type": "stream",
     "text": [
      "395\n"
     ]
    },
    {
     "name": "stderr",
     "output_type": "stream",
     "text": [
      "INFO:sybil-process-2649269:Loaded model from /home/leonardgarcia/.sybil/28a7cd44f5bcd3e6cc760b65c7e0d54d.ckpt\n"
     ]
    },
    {
     "name": "stdout",
     "output_type": "stream",
     "text": [
      "396\n"
     ]
    },
    {
     "name": "stderr",
     "output_type": "stream",
     "text": [
      "INFO:sybil-process-2649269:Loaded model from /home/leonardgarcia/.sybil/28a7cd44f5bcd3e6cc760b65c7e0d54d.ckpt\n"
     ]
    },
    {
     "name": "stdout",
     "output_type": "stream",
     "text": [
      "397\n"
     ]
    },
    {
     "name": "stderr",
     "output_type": "stream",
     "text": [
      "INFO:sybil-process-2649269:Loaded model from /home/leonardgarcia/.sybil/28a7cd44f5bcd3e6cc760b65c7e0d54d.ckpt\n"
     ]
    },
    {
     "name": "stdout",
     "output_type": "stream",
     "text": [
      "398\n"
     ]
    },
    {
     "name": "stderr",
     "output_type": "stream",
     "text": [
      "INFO:sybil-process-2649269:Loaded model from /home/leonardgarcia/.sybil/28a7cd44f5bcd3e6cc760b65c7e0d54d.ckpt\n"
     ]
    },
    {
     "name": "stdout",
     "output_type": "stream",
     "text": [
      "399\n"
     ]
    },
    {
     "name": "stderr",
     "output_type": "stream",
     "text": [
      "INFO:sybil-process-2649269:Loaded model from /home/leonardgarcia/.sybil/28a7cd44f5bcd3e6cc760b65c7e0d54d.ckpt\n"
     ]
    },
    {
     "name": "stdout",
     "output_type": "stream",
     "text": [
      "400\n"
     ]
    },
    {
     "name": "stderr",
     "output_type": "stream",
     "text": [
      "INFO:sybil-process-2649269:Loaded model from /home/leonardgarcia/.sybil/28a7cd44f5bcd3e6cc760b65c7e0d54d.ckpt\n"
     ]
    },
    {
     "name": "stdout",
     "output_type": "stream",
     "text": [
      "401\n"
     ]
    },
    {
     "name": "stderr",
     "output_type": "stream",
     "text": [
      "INFO:sybil-process-2649269:Loaded model from /home/leonardgarcia/.sybil/28a7cd44f5bcd3e6cc760b65c7e0d54d.ckpt\n"
     ]
    },
    {
     "name": "stdout",
     "output_type": "stream",
     "text": [
      "402\n"
     ]
    },
    {
     "name": "stderr",
     "output_type": "stream",
     "text": [
      "INFO:sybil-process-2649269:Loaded model from /home/leonardgarcia/.sybil/28a7cd44f5bcd3e6cc760b65c7e0d54d.ckpt\n"
     ]
    },
    {
     "name": "stdout",
     "output_type": "stream",
     "text": [
      "403\n"
     ]
    },
    {
     "name": "stderr",
     "output_type": "stream",
     "text": [
      "INFO:sybil-process-2649269:Loaded model from /home/leonardgarcia/.sybil/28a7cd44f5bcd3e6cc760b65c7e0d54d.ckpt\n"
     ]
    },
    {
     "name": "stdout",
     "output_type": "stream",
     "text": [
      "404\n"
     ]
    },
    {
     "name": "stderr",
     "output_type": "stream",
     "text": [
      "INFO:sybil-process-2649269:Loaded model from /home/leonardgarcia/.sybil/28a7cd44f5bcd3e6cc760b65c7e0d54d.ckpt\n"
     ]
    },
    {
     "name": "stdout",
     "output_type": "stream",
     "text": [
      "405\n"
     ]
    },
    {
     "name": "stderr",
     "output_type": "stream",
     "text": [
      "INFO:sybil-process-2649269:Loaded model from /home/leonardgarcia/.sybil/28a7cd44f5bcd3e6cc760b65c7e0d54d.ckpt\n"
     ]
    },
    {
     "name": "stdout",
     "output_type": "stream",
     "text": [
      "406\n"
     ]
    },
    {
     "name": "stderr",
     "output_type": "stream",
     "text": [
      "INFO:sybil-process-2649269:Loaded model from /home/leonardgarcia/.sybil/28a7cd44f5bcd3e6cc760b65c7e0d54d.ckpt\n"
     ]
    },
    {
     "name": "stdout",
     "output_type": "stream",
     "text": [
      "407\n"
     ]
    },
    {
     "name": "stderr",
     "output_type": "stream",
     "text": [
      "INFO:sybil-process-2649269:Loaded model from /home/leonardgarcia/.sybil/28a7cd44f5bcd3e6cc760b65c7e0d54d.ckpt\n"
     ]
    },
    {
     "name": "stdout",
     "output_type": "stream",
     "text": [
      "408\n"
     ]
    },
    {
     "name": "stderr",
     "output_type": "stream",
     "text": [
      "INFO:sybil-process-2649269:Loaded model from /home/leonardgarcia/.sybil/28a7cd44f5bcd3e6cc760b65c7e0d54d.ckpt\n"
     ]
    },
    {
     "name": "stdout",
     "output_type": "stream",
     "text": [
      "409\n"
     ]
    },
    {
     "name": "stderr",
     "output_type": "stream",
     "text": [
      "INFO:sybil-process-2649269:Loaded model from /home/leonardgarcia/.sybil/28a7cd44f5bcd3e6cc760b65c7e0d54d.ckpt\n"
     ]
    },
    {
     "name": "stdout",
     "output_type": "stream",
     "text": [
      "410\n"
     ]
    },
    {
     "name": "stderr",
     "output_type": "stream",
     "text": [
      "INFO:sybil-process-2649269:Loaded model from /home/leonardgarcia/.sybil/28a7cd44f5bcd3e6cc760b65c7e0d54d.ckpt\n"
     ]
    },
    {
     "name": "stdout",
     "output_type": "stream",
     "text": [
      "411\n"
     ]
    },
    {
     "name": "stderr",
     "output_type": "stream",
     "text": [
      "INFO:sybil-process-2649269:Loaded model from /home/leonardgarcia/.sybil/28a7cd44f5bcd3e6cc760b65c7e0d54d.ckpt\n"
     ]
    },
    {
     "name": "stdout",
     "output_type": "stream",
     "text": [
      "412\n"
     ]
    },
    {
     "name": "stderr",
     "output_type": "stream",
     "text": [
      "INFO:sybil-process-2649269:Loaded model from /home/leonardgarcia/.sybil/28a7cd44f5bcd3e6cc760b65c7e0d54d.ckpt\n"
     ]
    },
    {
     "name": "stdout",
     "output_type": "stream",
     "text": [
      "413\n"
     ]
    },
    {
     "name": "stderr",
     "output_type": "stream",
     "text": [
      "INFO:sybil-process-2649269:Loaded model from /home/leonardgarcia/.sybil/28a7cd44f5bcd3e6cc760b65c7e0d54d.ckpt\n"
     ]
    },
    {
     "name": "stdout",
     "output_type": "stream",
     "text": [
      "414\n"
     ]
    },
    {
     "name": "stderr",
     "output_type": "stream",
     "text": [
      "INFO:sybil-process-2649269:Loaded model from /home/leonardgarcia/.sybil/28a7cd44f5bcd3e6cc760b65c7e0d54d.ckpt\n"
     ]
    },
    {
     "name": "stdout",
     "output_type": "stream",
     "text": [
      "415\n"
     ]
    },
    {
     "name": "stderr",
     "output_type": "stream",
     "text": [
      "INFO:sybil-process-2649269:Loaded model from /home/leonardgarcia/.sybil/28a7cd44f5bcd3e6cc760b65c7e0d54d.ckpt\n"
     ]
    },
    {
     "name": "stdout",
     "output_type": "stream",
     "text": [
      "416\n"
     ]
    },
    {
     "name": "stderr",
     "output_type": "stream",
     "text": [
      "INFO:sybil-process-2649269:Loaded model from /home/leonardgarcia/.sybil/28a7cd44f5bcd3e6cc760b65c7e0d54d.ckpt\n"
     ]
    },
    {
     "name": "stdout",
     "output_type": "stream",
     "text": [
      "417\n"
     ]
    },
    {
     "name": "stderr",
     "output_type": "stream",
     "text": [
      "INFO:sybil-process-2649269:Loaded model from /home/leonardgarcia/.sybil/28a7cd44f5bcd3e6cc760b65c7e0d54d.ckpt\n"
     ]
    },
    {
     "name": "stdout",
     "output_type": "stream",
     "text": [
      "418\n"
     ]
    },
    {
     "name": "stderr",
     "output_type": "stream",
     "text": [
      "INFO:sybil-process-2649269:Loaded model from /home/leonardgarcia/.sybil/28a7cd44f5bcd3e6cc760b65c7e0d54d.ckpt\n"
     ]
    },
    {
     "name": "stdout",
     "output_type": "stream",
     "text": [
      "419\n"
     ]
    },
    {
     "name": "stderr",
     "output_type": "stream",
     "text": [
      "INFO:sybil-process-2649269:Loaded model from /home/leonardgarcia/.sybil/28a7cd44f5bcd3e6cc760b65c7e0d54d.ckpt\n"
     ]
    },
    {
     "name": "stdout",
     "output_type": "stream",
     "text": [
      "420\n"
     ]
    },
    {
     "name": "stderr",
     "output_type": "stream",
     "text": [
      "INFO:sybil-process-2649269:Loaded model from /home/leonardgarcia/.sybil/28a7cd44f5bcd3e6cc760b65c7e0d54d.ckpt\n"
     ]
    },
    {
     "name": "stdout",
     "output_type": "stream",
     "text": [
      "421\n"
     ]
    },
    {
     "name": "stderr",
     "output_type": "stream",
     "text": [
      "INFO:sybil-process-2649269:Loaded model from /home/leonardgarcia/.sybil/28a7cd44f5bcd3e6cc760b65c7e0d54d.ckpt\n"
     ]
    },
    {
     "name": "stdout",
     "output_type": "stream",
     "text": [
      "422\n"
     ]
    },
    {
     "name": "stderr",
     "output_type": "stream",
     "text": [
      "INFO:sybil-process-2649269:Loaded model from /home/leonardgarcia/.sybil/28a7cd44f5bcd3e6cc760b65c7e0d54d.ckpt\n"
     ]
    },
    {
     "name": "stdout",
     "output_type": "stream",
     "text": [
      "423\n"
     ]
    },
    {
     "name": "stderr",
     "output_type": "stream",
     "text": [
      "INFO:sybil-process-2649269:Loaded model from /home/leonardgarcia/.sybil/28a7cd44f5bcd3e6cc760b65c7e0d54d.ckpt\n"
     ]
    },
    {
     "name": "stdout",
     "output_type": "stream",
     "text": [
      "424\n"
     ]
    },
    {
     "name": "stderr",
     "output_type": "stream",
     "text": [
      "INFO:sybil-process-2649269:Loaded model from /home/leonardgarcia/.sybil/28a7cd44f5bcd3e6cc760b65c7e0d54d.ckpt\n"
     ]
    },
    {
     "name": "stdout",
     "output_type": "stream",
     "text": [
      "425\n"
     ]
    },
    {
     "name": "stderr",
     "output_type": "stream",
     "text": [
      "INFO:sybil-process-2649269:Loaded model from /home/leonardgarcia/.sybil/28a7cd44f5bcd3e6cc760b65c7e0d54d.ckpt\n"
     ]
    },
    {
     "name": "stdout",
     "output_type": "stream",
     "text": [
      "426\n"
     ]
    },
    {
     "name": "stderr",
     "output_type": "stream",
     "text": [
      "INFO:sybil-process-2649269:Loaded model from /home/leonardgarcia/.sybil/28a7cd44f5bcd3e6cc760b65c7e0d54d.ckpt\n"
     ]
    },
    {
     "name": "stdout",
     "output_type": "stream",
     "text": [
      "427\n"
     ]
    },
    {
     "name": "stderr",
     "output_type": "stream",
     "text": [
      "INFO:sybil-process-2649269:Loaded model from /home/leonardgarcia/.sybil/28a7cd44f5bcd3e6cc760b65c7e0d54d.ckpt\n"
     ]
    },
    {
     "name": "stdout",
     "output_type": "stream",
     "text": [
      "428\n"
     ]
    },
    {
     "name": "stderr",
     "output_type": "stream",
     "text": [
      "INFO:sybil-process-2649269:Loaded model from /home/leonardgarcia/.sybil/28a7cd44f5bcd3e6cc760b65c7e0d54d.ckpt\n"
     ]
    },
    {
     "name": "stdout",
     "output_type": "stream",
     "text": [
      "429\n"
     ]
    },
    {
     "name": "stderr",
     "output_type": "stream",
     "text": [
      "INFO:sybil-process-2649269:Loaded model from /home/leonardgarcia/.sybil/28a7cd44f5bcd3e6cc760b65c7e0d54d.ckpt\n"
     ]
    },
    {
     "name": "stdout",
     "output_type": "stream",
     "text": [
      "430\n"
     ]
    },
    {
     "name": "stderr",
     "output_type": "stream",
     "text": [
      "INFO:sybil-process-2649269:Loaded model from /home/leonardgarcia/.sybil/28a7cd44f5bcd3e6cc760b65c7e0d54d.ckpt\n"
     ]
    },
    {
     "name": "stdout",
     "output_type": "stream",
     "text": [
      "431\n"
     ]
    },
    {
     "name": "stderr",
     "output_type": "stream",
     "text": [
      "INFO:sybil-process-2649269:Loaded model from /home/leonardgarcia/.sybil/28a7cd44f5bcd3e6cc760b65c7e0d54d.ckpt\n"
     ]
    },
    {
     "name": "stdout",
     "output_type": "stream",
     "text": [
      "432\n"
     ]
    },
    {
     "name": "stderr",
     "output_type": "stream",
     "text": [
      "INFO:sybil-process-2649269:Loaded model from /home/leonardgarcia/.sybil/28a7cd44f5bcd3e6cc760b65c7e0d54d.ckpt\n"
     ]
    },
    {
     "name": "stdout",
     "output_type": "stream",
     "text": [
      "433\n"
     ]
    },
    {
     "name": "stderr",
     "output_type": "stream",
     "text": [
      "INFO:sybil-process-2649269:Loaded model from /home/leonardgarcia/.sybil/28a7cd44f5bcd3e6cc760b65c7e0d54d.ckpt\n"
     ]
    },
    {
     "name": "stdout",
     "output_type": "stream",
     "text": [
      "434\n"
     ]
    },
    {
     "name": "stderr",
     "output_type": "stream",
     "text": [
      "INFO:sybil-process-2649269:Loaded model from /home/leonardgarcia/.sybil/28a7cd44f5bcd3e6cc760b65c7e0d54d.ckpt\n"
     ]
    },
    {
     "name": "stdout",
     "output_type": "stream",
     "text": [
      "435\n"
     ]
    },
    {
     "name": "stderr",
     "output_type": "stream",
     "text": [
      "INFO:sybil-process-2649269:Loaded model from /home/leonardgarcia/.sybil/28a7cd44f5bcd3e6cc760b65c7e0d54d.ckpt\n"
     ]
    },
    {
     "name": "stdout",
     "output_type": "stream",
     "text": [
      "436\n"
     ]
    },
    {
     "name": "stderr",
     "output_type": "stream",
     "text": [
      "INFO:sybil-process-2649269:Loaded model from /home/leonardgarcia/.sybil/28a7cd44f5bcd3e6cc760b65c7e0d54d.ckpt\n"
     ]
    },
    {
     "name": "stdout",
     "output_type": "stream",
     "text": [
      "437\n"
     ]
    },
    {
     "name": "stderr",
     "output_type": "stream",
     "text": [
      "INFO:sybil-process-2649269:Loaded model from /home/leonardgarcia/.sybil/28a7cd44f5bcd3e6cc760b65c7e0d54d.ckpt\n"
     ]
    },
    {
     "name": "stdout",
     "output_type": "stream",
     "text": [
      "438\n"
     ]
    },
    {
     "name": "stderr",
     "output_type": "stream",
     "text": [
      "INFO:sybil-process-2649269:Loaded model from /home/leonardgarcia/.sybil/28a7cd44f5bcd3e6cc760b65c7e0d54d.ckpt\n"
     ]
    },
    {
     "name": "stdout",
     "output_type": "stream",
     "text": [
      "439\n"
     ]
    },
    {
     "name": "stderr",
     "output_type": "stream",
     "text": [
      "INFO:sybil-process-2649269:Loaded model from /home/leonardgarcia/.sybil/28a7cd44f5bcd3e6cc760b65c7e0d54d.ckpt\n"
     ]
    },
    {
     "name": "stdout",
     "output_type": "stream",
     "text": [
      "440\n"
     ]
    },
    {
     "name": "stderr",
     "output_type": "stream",
     "text": [
      "INFO:sybil-process-2649269:Loaded model from /home/leonardgarcia/.sybil/28a7cd44f5bcd3e6cc760b65c7e0d54d.ckpt\n"
     ]
    },
    {
     "name": "stdout",
     "output_type": "stream",
     "text": [
      "441\n"
     ]
    },
    {
     "name": "stderr",
     "output_type": "stream",
     "text": [
      "INFO:sybil-process-2649269:Loaded model from /home/leonardgarcia/.sybil/28a7cd44f5bcd3e6cc760b65c7e0d54d.ckpt\n"
     ]
    },
    {
     "name": "stdout",
     "output_type": "stream",
     "text": [
      "442\n"
     ]
    },
    {
     "name": "stderr",
     "output_type": "stream",
     "text": [
      "INFO:sybil-process-2649269:Loaded model from /home/leonardgarcia/.sybil/28a7cd44f5bcd3e6cc760b65c7e0d54d.ckpt\n"
     ]
    },
    {
     "name": "stdout",
     "output_type": "stream",
     "text": [
      "443\n"
     ]
    },
    {
     "name": "stderr",
     "output_type": "stream",
     "text": [
      "INFO:sybil-process-2649269:Loaded model from /home/leonardgarcia/.sybil/28a7cd44f5bcd3e6cc760b65c7e0d54d.ckpt\n"
     ]
    },
    {
     "name": "stdout",
     "output_type": "stream",
     "text": [
      "444\n"
     ]
    },
    {
     "name": "stderr",
     "output_type": "stream",
     "text": [
      "INFO:sybil-process-2649269:Loaded model from /home/leonardgarcia/.sybil/28a7cd44f5bcd3e6cc760b65c7e0d54d.ckpt\n"
     ]
    },
    {
     "name": "stdout",
     "output_type": "stream",
     "text": [
      "445\n"
     ]
    },
    {
     "name": "stderr",
     "output_type": "stream",
     "text": [
      "INFO:sybil-process-2649269:Loaded model from /home/leonardgarcia/.sybil/28a7cd44f5bcd3e6cc760b65c7e0d54d.ckpt\n"
     ]
    },
    {
     "name": "stdout",
     "output_type": "stream",
     "text": [
      "446\n"
     ]
    },
    {
     "name": "stderr",
     "output_type": "stream",
     "text": [
      "INFO:sybil-process-2649269:Loaded model from /home/leonardgarcia/.sybil/28a7cd44f5bcd3e6cc760b65c7e0d54d.ckpt\n"
     ]
    },
    {
     "name": "stdout",
     "output_type": "stream",
     "text": [
      "447\n"
     ]
    },
    {
     "name": "stderr",
     "output_type": "stream",
     "text": [
      "INFO:sybil-process-2649269:Loaded model from /home/leonardgarcia/.sybil/28a7cd44f5bcd3e6cc760b65c7e0d54d.ckpt\n"
     ]
    },
    {
     "name": "stdout",
     "output_type": "stream",
     "text": [
      "448\n"
     ]
    },
    {
     "name": "stderr",
     "output_type": "stream",
     "text": [
      "INFO:sybil-process-2649269:Loaded model from /home/leonardgarcia/.sybil/28a7cd44f5bcd3e6cc760b65c7e0d54d.ckpt\n"
     ]
    },
    {
     "name": "stdout",
     "output_type": "stream",
     "text": [
      "449\n"
     ]
    },
    {
     "name": "stderr",
     "output_type": "stream",
     "text": [
      "INFO:sybil-process-2649269:Loaded model from /home/leonardgarcia/.sybil/28a7cd44f5bcd3e6cc760b65c7e0d54d.ckpt\n"
     ]
    },
    {
     "name": "stdout",
     "output_type": "stream",
     "text": [
      "450\n"
     ]
    },
    {
     "name": "stderr",
     "output_type": "stream",
     "text": [
      "INFO:sybil-process-2649269:Loaded model from /home/leonardgarcia/.sybil/28a7cd44f5bcd3e6cc760b65c7e0d54d.ckpt\n"
     ]
    },
    {
     "name": "stdout",
     "output_type": "stream",
     "text": [
      "451\n"
     ]
    },
    {
     "name": "stderr",
     "output_type": "stream",
     "text": [
      "INFO:sybil-process-2649269:Loaded model from /home/leonardgarcia/.sybil/28a7cd44f5bcd3e6cc760b65c7e0d54d.ckpt\n"
     ]
    },
    {
     "name": "stdout",
     "output_type": "stream",
     "text": [
      "452\n"
     ]
    },
    {
     "name": "stderr",
     "output_type": "stream",
     "text": [
      "INFO:sybil-process-2649269:Loaded model from /home/leonardgarcia/.sybil/28a7cd44f5bcd3e6cc760b65c7e0d54d.ckpt\n"
     ]
    },
    {
     "name": "stdout",
     "output_type": "stream",
     "text": [
      "453\n"
     ]
    },
    {
     "name": "stderr",
     "output_type": "stream",
     "text": [
      "INFO:sybil-process-2649269:Loaded model from /home/leonardgarcia/.sybil/28a7cd44f5bcd3e6cc760b65c7e0d54d.ckpt\n"
     ]
    },
    {
     "name": "stdout",
     "output_type": "stream",
     "text": [
      "454\n"
     ]
    },
    {
     "name": "stderr",
     "output_type": "stream",
     "text": [
      "INFO:sybil-process-2649269:Loaded model from /home/leonardgarcia/.sybil/28a7cd44f5bcd3e6cc760b65c7e0d54d.ckpt\n"
     ]
    },
    {
     "name": "stdout",
     "output_type": "stream",
     "text": [
      "455\n"
     ]
    },
    {
     "name": "stderr",
     "output_type": "stream",
     "text": [
      "INFO:sybil-process-2649269:Loaded model from /home/leonardgarcia/.sybil/28a7cd44f5bcd3e6cc760b65c7e0d54d.ckpt\n"
     ]
    },
    {
     "name": "stdout",
     "output_type": "stream",
     "text": [
      "456\n"
     ]
    },
    {
     "name": "stderr",
     "output_type": "stream",
     "text": [
      "INFO:sybil-process-2649269:Loaded model from /home/leonardgarcia/.sybil/28a7cd44f5bcd3e6cc760b65c7e0d54d.ckpt\n"
     ]
    },
    {
     "name": "stdout",
     "output_type": "stream",
     "text": [
      "457\n"
     ]
    },
    {
     "name": "stderr",
     "output_type": "stream",
     "text": [
      "INFO:sybil-process-2649269:Loaded model from /home/leonardgarcia/.sybil/28a7cd44f5bcd3e6cc760b65c7e0d54d.ckpt\n"
     ]
    },
    {
     "name": "stdout",
     "output_type": "stream",
     "text": [
      "458\n"
     ]
    },
    {
     "name": "stderr",
     "output_type": "stream",
     "text": [
      "INFO:sybil-process-2649269:Loaded model from /home/leonardgarcia/.sybil/28a7cd44f5bcd3e6cc760b65c7e0d54d.ckpt\n"
     ]
    },
    {
     "name": "stdout",
     "output_type": "stream",
     "text": [
      "459\n"
     ]
    },
    {
     "name": "stderr",
     "output_type": "stream",
     "text": [
      "INFO:sybil-process-2649269:Loaded model from /home/leonardgarcia/.sybil/28a7cd44f5bcd3e6cc760b65c7e0d54d.ckpt\n"
     ]
    },
    {
     "name": "stdout",
     "output_type": "stream",
     "text": [
      "460\n"
     ]
    },
    {
     "name": "stderr",
     "output_type": "stream",
     "text": [
      "INFO:sybil-process-2649269:Loaded model from /home/leonardgarcia/.sybil/28a7cd44f5bcd3e6cc760b65c7e0d54d.ckpt\n"
     ]
    },
    {
     "name": "stdout",
     "output_type": "stream",
     "text": [
      "461\n"
     ]
    },
    {
     "name": "stderr",
     "output_type": "stream",
     "text": [
      "INFO:sybil-process-2649269:Loaded model from /home/leonardgarcia/.sybil/28a7cd44f5bcd3e6cc760b65c7e0d54d.ckpt\n"
     ]
    },
    {
     "name": "stdout",
     "output_type": "stream",
     "text": [
      "462\n"
     ]
    },
    {
     "name": "stderr",
     "output_type": "stream",
     "text": [
      "INFO:sybil-process-2649269:Loaded model from /home/leonardgarcia/.sybil/28a7cd44f5bcd3e6cc760b65c7e0d54d.ckpt\n"
     ]
    },
    {
     "name": "stdout",
     "output_type": "stream",
     "text": [
      "463\n"
     ]
    },
    {
     "name": "stderr",
     "output_type": "stream",
     "text": [
      "INFO:sybil-process-2649269:Loaded model from /home/leonardgarcia/.sybil/28a7cd44f5bcd3e6cc760b65c7e0d54d.ckpt\n"
     ]
    },
    {
     "name": "stdout",
     "output_type": "stream",
     "text": [
      "464\n"
     ]
    },
    {
     "name": "stderr",
     "output_type": "stream",
     "text": [
      "INFO:sybil-process-2649269:Loaded model from /home/leonardgarcia/.sybil/28a7cd44f5bcd3e6cc760b65c7e0d54d.ckpt\n"
     ]
    },
    {
     "name": "stdout",
     "output_type": "stream",
     "text": [
      "465\n"
     ]
    },
    {
     "name": "stderr",
     "output_type": "stream",
     "text": [
      "INFO:sybil-process-2649269:Loaded model from /home/leonardgarcia/.sybil/28a7cd44f5bcd3e6cc760b65c7e0d54d.ckpt\n"
     ]
    },
    {
     "name": "stdout",
     "output_type": "stream",
     "text": [
      "466\n"
     ]
    },
    {
     "name": "stderr",
     "output_type": "stream",
     "text": [
      "INFO:sybil-process-2649269:Loaded model from /home/leonardgarcia/.sybil/28a7cd44f5bcd3e6cc760b65c7e0d54d.ckpt\n"
     ]
    },
    {
     "name": "stdout",
     "output_type": "stream",
     "text": [
      "467\n"
     ]
    },
    {
     "name": "stderr",
     "output_type": "stream",
     "text": [
      "INFO:sybil-process-2649269:Loaded model from /home/leonardgarcia/.sybil/28a7cd44f5bcd3e6cc760b65c7e0d54d.ckpt\n"
     ]
    },
    {
     "name": "stdout",
     "output_type": "stream",
     "text": [
      "468\n"
     ]
    },
    {
     "name": "stderr",
     "output_type": "stream",
     "text": [
      "INFO:sybil-process-2649269:Loaded model from /home/leonardgarcia/.sybil/28a7cd44f5bcd3e6cc760b65c7e0d54d.ckpt\n"
     ]
    },
    {
     "name": "stdout",
     "output_type": "stream",
     "text": [
      "469\n"
     ]
    },
    {
     "name": "stderr",
     "output_type": "stream",
     "text": [
      "INFO:sybil-process-2649269:Loaded model from /home/leonardgarcia/.sybil/28a7cd44f5bcd3e6cc760b65c7e0d54d.ckpt\n"
     ]
    },
    {
     "name": "stdout",
     "output_type": "stream",
     "text": [
      "470\n"
     ]
    },
    {
     "name": "stderr",
     "output_type": "stream",
     "text": [
      "INFO:sybil-process-2649269:Loaded model from /home/leonardgarcia/.sybil/28a7cd44f5bcd3e6cc760b65c7e0d54d.ckpt\n"
     ]
    },
    {
     "name": "stdout",
     "output_type": "stream",
     "text": [
      "471\n"
     ]
    },
    {
     "name": "stderr",
     "output_type": "stream",
     "text": [
      "INFO:sybil-process-2649269:Loaded model from /home/leonardgarcia/.sybil/28a7cd44f5bcd3e6cc760b65c7e0d54d.ckpt\n"
     ]
    },
    {
     "name": "stdout",
     "output_type": "stream",
     "text": [
      "472\n"
     ]
    },
    {
     "name": "stderr",
     "output_type": "stream",
     "text": [
      "INFO:sybil-process-2649269:Loaded model from /home/leonardgarcia/.sybil/28a7cd44f5bcd3e6cc760b65c7e0d54d.ckpt\n"
     ]
    },
    {
     "name": "stdout",
     "output_type": "stream",
     "text": [
      "473\n"
     ]
    },
    {
     "name": "stderr",
     "output_type": "stream",
     "text": [
      "INFO:sybil-process-2649269:Loaded model from /home/leonardgarcia/.sybil/28a7cd44f5bcd3e6cc760b65c7e0d54d.ckpt\n"
     ]
    },
    {
     "name": "stdout",
     "output_type": "stream",
     "text": [
      "474\n"
     ]
    },
    {
     "name": "stderr",
     "output_type": "stream",
     "text": [
      "INFO:sybil-process-2649269:Loaded model from /home/leonardgarcia/.sybil/28a7cd44f5bcd3e6cc760b65c7e0d54d.ckpt\n"
     ]
    },
    {
     "name": "stdout",
     "output_type": "stream",
     "text": [
      "475\n"
     ]
    },
    {
     "name": "stderr",
     "output_type": "stream",
     "text": [
      "INFO:sybil-process-2649269:Loaded model from /home/leonardgarcia/.sybil/28a7cd44f5bcd3e6cc760b65c7e0d54d.ckpt\n"
     ]
    },
    {
     "name": "stdout",
     "output_type": "stream",
     "text": [
      "476\n"
     ]
    },
    {
     "name": "stderr",
     "output_type": "stream",
     "text": [
      "INFO:sybil-process-2649269:Loaded model from /home/leonardgarcia/.sybil/28a7cd44f5bcd3e6cc760b65c7e0d54d.ckpt\n"
     ]
    },
    {
     "name": "stdout",
     "output_type": "stream",
     "text": [
      "477\n"
     ]
    },
    {
     "name": "stderr",
     "output_type": "stream",
     "text": [
      "INFO:sybil-process-2649269:Loaded model from /home/leonardgarcia/.sybil/28a7cd44f5bcd3e6cc760b65c7e0d54d.ckpt\n"
     ]
    },
    {
     "name": "stdout",
     "output_type": "stream",
     "text": [
      "478\n"
     ]
    },
    {
     "name": "stderr",
     "output_type": "stream",
     "text": [
      "INFO:sybil-process-2649269:Loaded model from /home/leonardgarcia/.sybil/28a7cd44f5bcd3e6cc760b65c7e0d54d.ckpt\n"
     ]
    },
    {
     "name": "stdout",
     "output_type": "stream",
     "text": [
      "479\n"
     ]
    },
    {
     "name": "stderr",
     "output_type": "stream",
     "text": [
      "INFO:sybil-process-2649269:Loaded model from /home/leonardgarcia/.sybil/28a7cd44f5bcd3e6cc760b65c7e0d54d.ckpt\n"
     ]
    },
    {
     "name": "stdout",
     "output_type": "stream",
     "text": [
      "480\n"
     ]
    },
    {
     "name": "stderr",
     "output_type": "stream",
     "text": [
      "INFO:sybil-process-2649269:Loaded model from /home/leonardgarcia/.sybil/28a7cd44f5bcd3e6cc760b65c7e0d54d.ckpt\n"
     ]
    },
    {
     "name": "stdout",
     "output_type": "stream",
     "text": [
      "481\n"
     ]
    },
    {
     "name": "stderr",
     "output_type": "stream",
     "text": [
      "INFO:sybil-process-2649269:Loaded model from /home/leonardgarcia/.sybil/28a7cd44f5bcd3e6cc760b65c7e0d54d.ckpt\n"
     ]
    },
    {
     "name": "stdout",
     "output_type": "stream",
     "text": [
      "482\n"
     ]
    },
    {
     "name": "stderr",
     "output_type": "stream",
     "text": [
      "INFO:sybil-process-2649269:Loaded model from /home/leonardgarcia/.sybil/28a7cd44f5bcd3e6cc760b65c7e0d54d.ckpt\n"
     ]
    },
    {
     "name": "stdout",
     "output_type": "stream",
     "text": [
      "483\n"
     ]
    },
    {
     "name": "stderr",
     "output_type": "stream",
     "text": [
      "INFO:sybil-process-2649269:Loaded model from /home/leonardgarcia/.sybil/28a7cd44f5bcd3e6cc760b65c7e0d54d.ckpt\n"
     ]
    },
    {
     "name": "stdout",
     "output_type": "stream",
     "text": [
      "484\n"
     ]
    },
    {
     "name": "stderr",
     "output_type": "stream",
     "text": [
      "INFO:sybil-process-2649269:Loaded model from /home/leonardgarcia/.sybil/28a7cd44f5bcd3e6cc760b65c7e0d54d.ckpt\n"
     ]
    },
    {
     "name": "stdout",
     "output_type": "stream",
     "text": [
      "485\n"
     ]
    },
    {
     "name": "stderr",
     "output_type": "stream",
     "text": [
      "INFO:sybil-process-2649269:Loaded model from /home/leonardgarcia/.sybil/28a7cd44f5bcd3e6cc760b65c7e0d54d.ckpt\n"
     ]
    },
    {
     "name": "stdout",
     "output_type": "stream",
     "text": [
      "486\n"
     ]
    },
    {
     "name": "stderr",
     "output_type": "stream",
     "text": [
      "INFO:sybil-process-2649269:Loaded model from /home/leonardgarcia/.sybil/28a7cd44f5bcd3e6cc760b65c7e0d54d.ckpt\n"
     ]
    },
    {
     "name": "stdout",
     "output_type": "stream",
     "text": [
      "487\n"
     ]
    },
    {
     "name": "stderr",
     "output_type": "stream",
     "text": [
      "INFO:sybil-process-2649269:Loaded model from /home/leonardgarcia/.sybil/28a7cd44f5bcd3e6cc760b65c7e0d54d.ckpt\n"
     ]
    },
    {
     "name": "stdout",
     "output_type": "stream",
     "text": [
      "488\n"
     ]
    },
    {
     "name": "stderr",
     "output_type": "stream",
     "text": [
      "INFO:sybil-process-2649269:Loaded model from /home/leonardgarcia/.sybil/28a7cd44f5bcd3e6cc760b65c7e0d54d.ckpt\n"
     ]
    },
    {
     "name": "stdout",
     "output_type": "stream",
     "text": [
      "489\n"
     ]
    },
    {
     "name": "stderr",
     "output_type": "stream",
     "text": [
      "INFO:sybil-process-2649269:Loaded model from /home/leonardgarcia/.sybil/28a7cd44f5bcd3e6cc760b65c7e0d54d.ckpt\n"
     ]
    },
    {
     "name": "stdout",
     "output_type": "stream",
     "text": [
      "490\n"
     ]
    },
    {
     "name": "stderr",
     "output_type": "stream",
     "text": [
      "INFO:sybil-process-2649269:Loaded model from /home/leonardgarcia/.sybil/28a7cd44f5bcd3e6cc760b65c7e0d54d.ckpt\n"
     ]
    },
    {
     "name": "stdout",
     "output_type": "stream",
     "text": [
      "491\n"
     ]
    },
    {
     "name": "stderr",
     "output_type": "stream",
     "text": [
      "INFO:sybil-process-2649269:Loaded model from /home/leonardgarcia/.sybil/28a7cd44f5bcd3e6cc760b65c7e0d54d.ckpt\n"
     ]
    },
    {
     "name": "stdout",
     "output_type": "stream",
     "text": [
      "492\n"
     ]
    },
    {
     "name": "stderr",
     "output_type": "stream",
     "text": [
      "INFO:sybil-process-2649269:Loaded model from /home/leonardgarcia/.sybil/28a7cd44f5bcd3e6cc760b65c7e0d54d.ckpt\n"
     ]
    },
    {
     "name": "stdout",
     "output_type": "stream",
     "text": [
      "493\n"
     ]
    },
    {
     "name": "stderr",
     "output_type": "stream",
     "text": [
      "INFO:sybil-process-2649269:Loaded model from /home/leonardgarcia/.sybil/28a7cd44f5bcd3e6cc760b65c7e0d54d.ckpt\n"
     ]
    },
    {
     "name": "stdout",
     "output_type": "stream",
     "text": [
      "494\n"
     ]
    },
    {
     "name": "stderr",
     "output_type": "stream",
     "text": [
      "INFO:sybil-process-2649269:Loaded model from /home/leonardgarcia/.sybil/28a7cd44f5bcd3e6cc760b65c7e0d54d.ckpt\n"
     ]
    },
    {
     "name": "stdout",
     "output_type": "stream",
     "text": [
      "495\n"
     ]
    },
    {
     "name": "stderr",
     "output_type": "stream",
     "text": [
      "INFO:sybil-process-2649269:Loaded model from /home/leonardgarcia/.sybil/28a7cd44f5bcd3e6cc760b65c7e0d54d.ckpt\n"
     ]
    },
    {
     "name": "stdout",
     "output_type": "stream",
     "text": [
      "496\n"
     ]
    },
    {
     "name": "stderr",
     "output_type": "stream",
     "text": [
      "INFO:sybil-process-2649269:Loaded model from /home/leonardgarcia/.sybil/28a7cd44f5bcd3e6cc760b65c7e0d54d.ckpt\n"
     ]
    },
    {
     "name": "stdout",
     "output_type": "stream",
     "text": [
      "497\n"
     ]
    },
    {
     "name": "stderr",
     "output_type": "stream",
     "text": [
      "INFO:sybil-process-2649269:Loaded model from /home/leonardgarcia/.sybil/28a7cd44f5bcd3e6cc760b65c7e0d54d.ckpt\n"
     ]
    },
    {
     "name": "stdout",
     "output_type": "stream",
     "text": [
      "498\n"
     ]
    },
    {
     "name": "stderr",
     "output_type": "stream",
     "text": [
      "INFO:sybil-process-2649269:Loaded model from /home/leonardgarcia/.sybil/28a7cd44f5bcd3e6cc760b65c7e0d54d.ckpt\n"
     ]
    },
    {
     "name": "stdout",
     "output_type": "stream",
     "text": [
      "499\n"
     ]
    },
    {
     "name": "stderr",
     "output_type": "stream",
     "text": [
      "INFO:sybil-process-2649269:Loaded model from /home/leonardgarcia/.sybil/28a7cd44f5bcd3e6cc760b65c7e0d54d.ckpt\n"
     ]
    },
    {
     "name": "stdout",
     "output_type": "stream",
     "text": [
      "500\n"
     ]
    },
    {
     "name": "stderr",
     "output_type": "stream",
     "text": [
      "INFO:sybil-process-2649269:Loaded model from /home/leonardgarcia/.sybil/28a7cd44f5bcd3e6cc760b65c7e0d54d.ckpt\n"
     ]
    },
    {
     "name": "stdout",
     "output_type": "stream",
     "text": [
      "501\n"
     ]
    },
    {
     "name": "stderr",
     "output_type": "stream",
     "text": [
      "INFO:sybil-process-2649269:Loaded model from /home/leonardgarcia/.sybil/28a7cd44f5bcd3e6cc760b65c7e0d54d.ckpt\n"
     ]
    },
    {
     "name": "stdout",
     "output_type": "stream",
     "text": [
      "502\n"
     ]
    },
    {
     "name": "stderr",
     "output_type": "stream",
     "text": [
      "INFO:sybil-process-2649269:Loaded model from /home/leonardgarcia/.sybil/28a7cd44f5bcd3e6cc760b65c7e0d54d.ckpt\n"
     ]
    },
    {
     "name": "stdout",
     "output_type": "stream",
     "text": [
      "503\n"
     ]
    },
    {
     "name": "stderr",
     "output_type": "stream",
     "text": [
      "INFO:sybil-process-2649269:Loaded model from /home/leonardgarcia/.sybil/28a7cd44f5bcd3e6cc760b65c7e0d54d.ckpt\n"
     ]
    },
    {
     "name": "stdout",
     "output_type": "stream",
     "text": [
      "504\n"
     ]
    },
    {
     "name": "stderr",
     "output_type": "stream",
     "text": [
      "INFO:sybil-process-2649269:Loaded model from /home/leonardgarcia/.sybil/28a7cd44f5bcd3e6cc760b65c7e0d54d.ckpt\n"
     ]
    },
    {
     "name": "stdout",
     "output_type": "stream",
     "text": [
      "505\n"
     ]
    },
    {
     "name": "stderr",
     "output_type": "stream",
     "text": [
      "INFO:sybil-process-2649269:Loaded model from /home/leonardgarcia/.sybil/28a7cd44f5bcd3e6cc760b65c7e0d54d.ckpt\n"
     ]
    },
    {
     "name": "stdout",
     "output_type": "stream",
     "text": [
      "506\n"
     ]
    },
    {
     "name": "stderr",
     "output_type": "stream",
     "text": [
      "INFO:sybil-process-2649269:Loaded model from /home/leonardgarcia/.sybil/28a7cd44f5bcd3e6cc760b65c7e0d54d.ckpt\n"
     ]
    },
    {
     "name": "stdout",
     "output_type": "stream",
     "text": [
      "507\n"
     ]
    },
    {
     "name": "stderr",
     "output_type": "stream",
     "text": [
      "INFO:sybil-process-2649269:Loaded model from /home/leonardgarcia/.sybil/28a7cd44f5bcd3e6cc760b65c7e0d54d.ckpt\n"
     ]
    },
    {
     "name": "stdout",
     "output_type": "stream",
     "text": [
      "508\n"
     ]
    },
    {
     "name": "stderr",
     "output_type": "stream",
     "text": [
      "INFO:sybil-process-2649269:Loaded model from /home/leonardgarcia/.sybil/28a7cd44f5bcd3e6cc760b65c7e0d54d.ckpt\n"
     ]
    },
    {
     "name": "stdout",
     "output_type": "stream",
     "text": [
      "509\n"
     ]
    },
    {
     "name": "stderr",
     "output_type": "stream",
     "text": [
      "INFO:sybil-process-2649269:Loaded model from /home/leonardgarcia/.sybil/28a7cd44f5bcd3e6cc760b65c7e0d54d.ckpt\n"
     ]
    },
    {
     "name": "stdout",
     "output_type": "stream",
     "text": [
      "510\n"
     ]
    },
    {
     "name": "stderr",
     "output_type": "stream",
     "text": [
      "INFO:sybil-process-2649269:Loaded model from /home/leonardgarcia/.sybil/28a7cd44f5bcd3e6cc760b65c7e0d54d.ckpt\n"
     ]
    },
    {
     "name": "stdout",
     "output_type": "stream",
     "text": [
      "511\n"
     ]
    },
    {
     "name": "stderr",
     "output_type": "stream",
     "text": [
      "INFO:sybil-process-2649269:Loaded model from /home/leonardgarcia/.sybil/28a7cd44f5bcd3e6cc760b65c7e0d54d.ckpt\n"
     ]
    },
    {
     "name": "stdout",
     "output_type": "stream",
     "text": [
      "512\n"
     ]
    },
    {
     "name": "stderr",
     "output_type": "stream",
     "text": [
      "INFO:sybil-process-2649269:Loaded model from /home/leonardgarcia/.sybil/28a7cd44f5bcd3e6cc760b65c7e0d54d.ckpt\n"
     ]
    },
    {
     "name": "stdout",
     "output_type": "stream",
     "text": [
      "513\n"
     ]
    },
    {
     "name": "stderr",
     "output_type": "stream",
     "text": [
      "INFO:sybil-process-2649269:Loaded model from /home/leonardgarcia/.sybil/28a7cd44f5bcd3e6cc760b65c7e0d54d.ckpt\n"
     ]
    },
    {
     "name": "stdout",
     "output_type": "stream",
     "text": [
      "514\n"
     ]
    },
    {
     "name": "stderr",
     "output_type": "stream",
     "text": [
      "INFO:sybil-process-2649269:Loaded model from /home/leonardgarcia/.sybil/28a7cd44f5bcd3e6cc760b65c7e0d54d.ckpt\n"
     ]
    },
    {
     "name": "stdout",
     "output_type": "stream",
     "text": [
      "515\n"
     ]
    },
    {
     "name": "stderr",
     "output_type": "stream",
     "text": [
      "INFO:sybil-process-2649269:Loaded model from /home/leonardgarcia/.sybil/28a7cd44f5bcd3e6cc760b65c7e0d54d.ckpt\n"
     ]
    },
    {
     "name": "stdout",
     "output_type": "stream",
     "text": [
      "516\n"
     ]
    },
    {
     "name": "stderr",
     "output_type": "stream",
     "text": [
      "INFO:sybil-process-2649269:Loaded model from /home/leonardgarcia/.sybil/28a7cd44f5bcd3e6cc760b65c7e0d54d.ckpt\n"
     ]
    },
    {
     "name": "stdout",
     "output_type": "stream",
     "text": [
      "517\n"
     ]
    },
    {
     "name": "stderr",
     "output_type": "stream",
     "text": [
      "INFO:sybil-process-2649269:Loaded model from /home/leonardgarcia/.sybil/28a7cd44f5bcd3e6cc760b65c7e0d54d.ckpt\n"
     ]
    },
    {
     "name": "stdout",
     "output_type": "stream",
     "text": [
      "518\n"
     ]
    },
    {
     "name": "stderr",
     "output_type": "stream",
     "text": [
      "INFO:sybil-process-2649269:Loaded model from /home/leonardgarcia/.sybil/28a7cd44f5bcd3e6cc760b65c7e0d54d.ckpt\n"
     ]
    },
    {
     "name": "stdout",
     "output_type": "stream",
     "text": [
      "519\n"
     ]
    },
    {
     "name": "stderr",
     "output_type": "stream",
     "text": [
      "INFO:sybil-process-2649269:Loaded model from /home/leonardgarcia/.sybil/28a7cd44f5bcd3e6cc760b65c7e0d54d.ckpt\n"
     ]
    },
    {
     "name": "stdout",
     "output_type": "stream",
     "text": [
      "520\n"
     ]
    },
    {
     "name": "stderr",
     "output_type": "stream",
     "text": [
      "INFO:sybil-process-2649269:Loaded model from /home/leonardgarcia/.sybil/28a7cd44f5bcd3e6cc760b65c7e0d54d.ckpt\n"
     ]
    },
    {
     "name": "stdout",
     "output_type": "stream",
     "text": [
      "521\n"
     ]
    },
    {
     "name": "stderr",
     "output_type": "stream",
     "text": [
      "INFO:sybil-process-2649269:Loaded model from /home/leonardgarcia/.sybil/28a7cd44f5bcd3e6cc760b65c7e0d54d.ckpt\n"
     ]
    },
    {
     "name": "stdout",
     "output_type": "stream",
     "text": [
      "522\n"
     ]
    },
    {
     "name": "stderr",
     "output_type": "stream",
     "text": [
      "INFO:sybil-process-2649269:Loaded model from /home/leonardgarcia/.sybil/28a7cd44f5bcd3e6cc760b65c7e0d54d.ckpt\n"
     ]
    },
    {
     "name": "stdout",
     "output_type": "stream",
     "text": [
      "523\n"
     ]
    },
    {
     "name": "stderr",
     "output_type": "stream",
     "text": [
      "INFO:sybil-process-2649269:Loaded model from /home/leonardgarcia/.sybil/28a7cd44f5bcd3e6cc760b65c7e0d54d.ckpt\n"
     ]
    },
    {
     "name": "stdout",
     "output_type": "stream",
     "text": [
      "524\n"
     ]
    },
    {
     "name": "stderr",
     "output_type": "stream",
     "text": [
      "INFO:sybil-process-2649269:Loaded model from /home/leonardgarcia/.sybil/28a7cd44f5bcd3e6cc760b65c7e0d54d.ckpt\n"
     ]
    },
    {
     "name": "stdout",
     "output_type": "stream",
     "text": [
      "525\n"
     ]
    },
    {
     "name": "stderr",
     "output_type": "stream",
     "text": [
      "INFO:sybil-process-2649269:Loaded model from /home/leonardgarcia/.sybil/28a7cd44f5bcd3e6cc760b65c7e0d54d.ckpt\n"
     ]
    },
    {
     "name": "stdout",
     "output_type": "stream",
     "text": [
      "526\n"
     ]
    },
    {
     "name": "stderr",
     "output_type": "stream",
     "text": [
      "INFO:sybil-process-2649269:Loaded model from /home/leonardgarcia/.sybil/28a7cd44f5bcd3e6cc760b65c7e0d54d.ckpt\n"
     ]
    },
    {
     "name": "stdout",
     "output_type": "stream",
     "text": [
      "527\n"
     ]
    },
    {
     "name": "stderr",
     "output_type": "stream",
     "text": [
      "INFO:sybil-process-2649269:Loaded model from /home/leonardgarcia/.sybil/28a7cd44f5bcd3e6cc760b65c7e0d54d.ckpt\n"
     ]
    },
    {
     "name": "stdout",
     "output_type": "stream",
     "text": [
      "528\n"
     ]
    },
    {
     "name": "stderr",
     "output_type": "stream",
     "text": [
      "INFO:sybil-process-2649269:Loaded model from /home/leonardgarcia/.sybil/28a7cd44f5bcd3e6cc760b65c7e0d54d.ckpt\n"
     ]
    },
    {
     "name": "stdout",
     "output_type": "stream",
     "text": [
      "529\n"
     ]
    },
    {
     "name": "stderr",
     "output_type": "stream",
     "text": [
      "INFO:sybil-process-2649269:Loaded model from /home/leonardgarcia/.sybil/28a7cd44f5bcd3e6cc760b65c7e0d54d.ckpt\n"
     ]
    },
    {
     "name": "stdout",
     "output_type": "stream",
     "text": [
      "530\n"
     ]
    },
    {
     "name": "stderr",
     "output_type": "stream",
     "text": [
      "INFO:sybil-process-2649269:Loaded model from /home/leonardgarcia/.sybil/28a7cd44f5bcd3e6cc760b65c7e0d54d.ckpt\n"
     ]
    },
    {
     "name": "stdout",
     "output_type": "stream",
     "text": [
      "531\n"
     ]
    },
    {
     "name": "stderr",
     "output_type": "stream",
     "text": [
      "INFO:sybil-process-2649269:Loaded model from /home/leonardgarcia/.sybil/28a7cd44f5bcd3e6cc760b65c7e0d54d.ckpt\n"
     ]
    },
    {
     "name": "stdout",
     "output_type": "stream",
     "text": [
      "532\n"
     ]
    },
    {
     "name": "stderr",
     "output_type": "stream",
     "text": [
      "INFO:sybil-process-2649269:Loaded model from /home/leonardgarcia/.sybil/28a7cd44f5bcd3e6cc760b65c7e0d54d.ckpt\n"
     ]
    },
    {
     "name": "stdout",
     "output_type": "stream",
     "text": [
      "533\n"
     ]
    },
    {
     "name": "stderr",
     "output_type": "stream",
     "text": [
      "INFO:sybil-process-2649269:Loaded model from /home/leonardgarcia/.sybil/28a7cd44f5bcd3e6cc760b65c7e0d54d.ckpt\n"
     ]
    },
    {
     "name": "stdout",
     "output_type": "stream",
     "text": [
      "534\n"
     ]
    },
    {
     "name": "stderr",
     "output_type": "stream",
     "text": [
      "INFO:sybil-process-2649269:Loaded model from /home/leonardgarcia/.sybil/28a7cd44f5bcd3e6cc760b65c7e0d54d.ckpt\n"
     ]
    },
    {
     "name": "stdout",
     "output_type": "stream",
     "text": [
      "535\n"
     ]
    },
    {
     "name": "stderr",
     "output_type": "stream",
     "text": [
      "INFO:sybil-process-2649269:Loaded model from /home/leonardgarcia/.sybil/28a7cd44f5bcd3e6cc760b65c7e0d54d.ckpt\n"
     ]
    },
    {
     "name": "stdout",
     "output_type": "stream",
     "text": [
      "536\n"
     ]
    },
    {
     "name": "stderr",
     "output_type": "stream",
     "text": [
      "INFO:sybil-process-2649269:Loaded model from /home/leonardgarcia/.sybil/28a7cd44f5bcd3e6cc760b65c7e0d54d.ckpt\n"
     ]
    },
    {
     "name": "stdout",
     "output_type": "stream",
     "text": [
      "537\n"
     ]
    },
    {
     "name": "stderr",
     "output_type": "stream",
     "text": [
      "INFO:sybil-process-2649269:Loaded model from /home/leonardgarcia/.sybil/28a7cd44f5bcd3e6cc760b65c7e0d54d.ckpt\n"
     ]
    },
    {
     "name": "stdout",
     "output_type": "stream",
     "text": [
      "538\n"
     ]
    },
    {
     "name": "stderr",
     "output_type": "stream",
     "text": [
      "INFO:sybil-process-2649269:Loaded model from /home/leonardgarcia/.sybil/28a7cd44f5bcd3e6cc760b65c7e0d54d.ckpt\n"
     ]
    },
    {
     "name": "stdout",
     "output_type": "stream",
     "text": [
      "539\n"
     ]
    },
    {
     "name": "stderr",
     "output_type": "stream",
     "text": [
      "INFO:sybil-process-2649269:Loaded model from /home/leonardgarcia/.sybil/28a7cd44f5bcd3e6cc760b65c7e0d54d.ckpt\n"
     ]
    },
    {
     "name": "stdout",
     "output_type": "stream",
     "text": [
      "540\n"
     ]
    },
    {
     "name": "stderr",
     "output_type": "stream",
     "text": [
      "INFO:sybil-process-2649269:Loaded model from /home/leonardgarcia/.sybil/28a7cd44f5bcd3e6cc760b65c7e0d54d.ckpt\n"
     ]
    },
    {
     "name": "stdout",
     "output_type": "stream",
     "text": [
      "541\n"
     ]
    },
    {
     "name": "stderr",
     "output_type": "stream",
     "text": [
      "INFO:sybil-process-2649269:Loaded model from /home/leonardgarcia/.sybil/28a7cd44f5bcd3e6cc760b65c7e0d54d.ckpt\n"
     ]
    },
    {
     "name": "stdout",
     "output_type": "stream",
     "text": [
      "542\n"
     ]
    },
    {
     "name": "stderr",
     "output_type": "stream",
     "text": [
      "INFO:sybil-process-2649269:Loaded model from /home/leonardgarcia/.sybil/28a7cd44f5bcd3e6cc760b65c7e0d54d.ckpt\n"
     ]
    },
    {
     "name": "stdout",
     "output_type": "stream",
     "text": [
      "543\n"
     ]
    },
    {
     "name": "stderr",
     "output_type": "stream",
     "text": [
      "INFO:sybil-process-2649269:Loaded model from /home/leonardgarcia/.sybil/28a7cd44f5bcd3e6cc760b65c7e0d54d.ckpt\n"
     ]
    },
    {
     "name": "stdout",
     "output_type": "stream",
     "text": [
      "544\n"
     ]
    },
    {
     "name": "stderr",
     "output_type": "stream",
     "text": [
      "INFO:sybil-process-2649269:Loaded model from /home/leonardgarcia/.sybil/28a7cd44f5bcd3e6cc760b65c7e0d54d.ckpt\n"
     ]
    },
    {
     "name": "stdout",
     "output_type": "stream",
     "text": [
      "545\n"
     ]
    },
    {
     "name": "stderr",
     "output_type": "stream",
     "text": [
      "INFO:sybil-process-2649269:Loaded model from /home/leonardgarcia/.sybil/28a7cd44f5bcd3e6cc760b65c7e0d54d.ckpt\n"
     ]
    },
    {
     "name": "stdout",
     "output_type": "stream",
     "text": [
      "546\n"
     ]
    },
    {
     "name": "stderr",
     "output_type": "stream",
     "text": [
      "INFO:sybil-process-2649269:Loaded model from /home/leonardgarcia/.sybil/28a7cd44f5bcd3e6cc760b65c7e0d54d.ckpt\n"
     ]
    },
    {
     "name": "stdout",
     "output_type": "stream",
     "text": [
      "547\n"
     ]
    },
    {
     "name": "stderr",
     "output_type": "stream",
     "text": [
      "INFO:sybil-process-2649269:Loaded model from /home/leonardgarcia/.sybil/28a7cd44f5bcd3e6cc760b65c7e0d54d.ckpt\n"
     ]
    },
    {
     "name": "stdout",
     "output_type": "stream",
     "text": [
      "548\n"
     ]
    },
    {
     "name": "stderr",
     "output_type": "stream",
     "text": [
      "INFO:sybil-process-2649269:Loaded model from /home/leonardgarcia/.sybil/28a7cd44f5bcd3e6cc760b65c7e0d54d.ckpt\n"
     ]
    },
    {
     "name": "stdout",
     "output_type": "stream",
     "text": [
      "549\n"
     ]
    },
    {
     "name": "stderr",
     "output_type": "stream",
     "text": [
      "INFO:sybil-process-2649269:Loaded model from /home/leonardgarcia/.sybil/28a7cd44f5bcd3e6cc760b65c7e0d54d.ckpt\n"
     ]
    },
    {
     "name": "stdout",
     "output_type": "stream",
     "text": [
      "550\n"
     ]
    },
    {
     "name": "stderr",
     "output_type": "stream",
     "text": [
      "INFO:sybil-process-2649269:Loaded model from /home/leonardgarcia/.sybil/28a7cd44f5bcd3e6cc760b65c7e0d54d.ckpt\n"
     ]
    },
    {
     "name": "stdout",
     "output_type": "stream",
     "text": [
      "551\n"
     ]
    },
    {
     "name": "stderr",
     "output_type": "stream",
     "text": [
      "INFO:sybil-process-2649269:Loaded model from /home/leonardgarcia/.sybil/28a7cd44f5bcd3e6cc760b65c7e0d54d.ckpt\n"
     ]
    },
    {
     "name": "stdout",
     "output_type": "stream",
     "text": [
      "552\n"
     ]
    },
    {
     "name": "stderr",
     "output_type": "stream",
     "text": [
      "INFO:sybil-process-2649269:Loaded model from /home/leonardgarcia/.sybil/28a7cd44f5bcd3e6cc760b65c7e0d54d.ckpt\n"
     ]
    },
    {
     "name": "stdout",
     "output_type": "stream",
     "text": [
      "553\n"
     ]
    },
    {
     "name": "stderr",
     "output_type": "stream",
     "text": [
      "INFO:sybil-process-2649269:Loaded model from /home/leonardgarcia/.sybil/28a7cd44f5bcd3e6cc760b65c7e0d54d.ckpt\n"
     ]
    },
    {
     "name": "stdout",
     "output_type": "stream",
     "text": [
      "554\n"
     ]
    },
    {
     "name": "stderr",
     "output_type": "stream",
     "text": [
      "INFO:sybil-process-2649269:Loaded model from /home/leonardgarcia/.sybil/28a7cd44f5bcd3e6cc760b65c7e0d54d.ckpt\n"
     ]
    },
    {
     "name": "stdout",
     "output_type": "stream",
     "text": [
      "555\n"
     ]
    },
    {
     "name": "stderr",
     "output_type": "stream",
     "text": [
      "INFO:sybil-process-2649269:Loaded model from /home/leonardgarcia/.sybil/28a7cd44f5bcd3e6cc760b65c7e0d54d.ckpt\n"
     ]
    },
    {
     "name": "stdout",
     "output_type": "stream",
     "text": [
      "556\n"
     ]
    },
    {
     "name": "stderr",
     "output_type": "stream",
     "text": [
      "INFO:sybil-process-2649269:Loaded model from /home/leonardgarcia/.sybil/28a7cd44f5bcd3e6cc760b65c7e0d54d.ckpt\n"
     ]
    },
    {
     "name": "stdout",
     "output_type": "stream",
     "text": [
      "557\n"
     ]
    },
    {
     "name": "stderr",
     "output_type": "stream",
     "text": [
      "INFO:sybil-process-2649269:Loaded model from /home/leonardgarcia/.sybil/28a7cd44f5bcd3e6cc760b65c7e0d54d.ckpt\n"
     ]
    },
    {
     "name": "stdout",
     "output_type": "stream",
     "text": [
      "558\n"
     ]
    },
    {
     "name": "stderr",
     "output_type": "stream",
     "text": [
      "INFO:sybil-process-2649269:Loaded model from /home/leonardgarcia/.sybil/28a7cd44f5bcd3e6cc760b65c7e0d54d.ckpt\n"
     ]
    },
    {
     "name": "stdout",
     "output_type": "stream",
     "text": [
      "559\n"
     ]
    },
    {
     "name": "stderr",
     "output_type": "stream",
     "text": [
      "INFO:sybil-process-2649269:Loaded model from /home/leonardgarcia/.sybil/28a7cd44f5bcd3e6cc760b65c7e0d54d.ckpt\n"
     ]
    },
    {
     "name": "stdout",
     "output_type": "stream",
     "text": [
      "560\n"
     ]
    },
    {
     "name": "stderr",
     "output_type": "stream",
     "text": [
      "INFO:sybil-process-2649269:Loaded model from /home/leonardgarcia/.sybil/28a7cd44f5bcd3e6cc760b65c7e0d54d.ckpt\n"
     ]
    },
    {
     "name": "stdout",
     "output_type": "stream",
     "text": [
      "561\n"
     ]
    },
    {
     "name": "stderr",
     "output_type": "stream",
     "text": [
      "INFO:sybil-process-2649269:Loaded model from /home/leonardgarcia/.sybil/28a7cd44f5bcd3e6cc760b65c7e0d54d.ckpt\n"
     ]
    },
    {
     "name": "stdout",
     "output_type": "stream",
     "text": [
      "562\n"
     ]
    },
    {
     "name": "stderr",
     "output_type": "stream",
     "text": [
      "INFO:sybil-process-2649269:Loaded model from /home/leonardgarcia/.sybil/28a7cd44f5bcd3e6cc760b65c7e0d54d.ckpt\n"
     ]
    },
    {
     "name": "stdout",
     "output_type": "stream",
     "text": [
      "563\n"
     ]
    },
    {
     "name": "stderr",
     "output_type": "stream",
     "text": [
      "INFO:sybil-process-2649269:Loaded model from /home/leonardgarcia/.sybil/28a7cd44f5bcd3e6cc760b65c7e0d54d.ckpt\n"
     ]
    },
    {
     "name": "stdout",
     "output_type": "stream",
     "text": [
      "564\n"
     ]
    },
    {
     "name": "stderr",
     "output_type": "stream",
     "text": [
      "INFO:sybil-process-2649269:Loaded model from /home/leonardgarcia/.sybil/28a7cd44f5bcd3e6cc760b65c7e0d54d.ckpt\n"
     ]
    },
    {
     "name": "stdout",
     "output_type": "stream",
     "text": [
      "565\n"
     ]
    },
    {
     "name": "stderr",
     "output_type": "stream",
     "text": [
      "INFO:sybil-process-2649269:Loaded model from /home/leonardgarcia/.sybil/28a7cd44f5bcd3e6cc760b65c7e0d54d.ckpt\n"
     ]
    },
    {
     "name": "stdout",
     "output_type": "stream",
     "text": [
      "566\n"
     ]
    },
    {
     "name": "stderr",
     "output_type": "stream",
     "text": [
      "INFO:sybil-process-2649269:Loaded model from /home/leonardgarcia/.sybil/28a7cd44f5bcd3e6cc760b65c7e0d54d.ckpt\n"
     ]
    },
    {
     "name": "stdout",
     "output_type": "stream",
     "text": [
      "567\n"
     ]
    },
    {
     "name": "stderr",
     "output_type": "stream",
     "text": [
      "INFO:sybil-process-2649269:Loaded model from /home/leonardgarcia/.sybil/28a7cd44f5bcd3e6cc760b65c7e0d54d.ckpt\n"
     ]
    },
    {
     "name": "stdout",
     "output_type": "stream",
     "text": [
      "568\n"
     ]
    },
    {
     "name": "stderr",
     "output_type": "stream",
     "text": [
      "INFO:sybil-process-2649269:Loaded model from /home/leonardgarcia/.sybil/28a7cd44f5bcd3e6cc760b65c7e0d54d.ckpt\n"
     ]
    },
    {
     "name": "stdout",
     "output_type": "stream",
     "text": [
      "569\n"
     ]
    },
    {
     "name": "stderr",
     "output_type": "stream",
     "text": [
      "INFO:sybil-process-2649269:Loaded model from /home/leonardgarcia/.sybil/28a7cd44f5bcd3e6cc760b65c7e0d54d.ckpt\n"
     ]
    },
    {
     "name": "stdout",
     "output_type": "stream",
     "text": [
      "570\n"
     ]
    },
    {
     "name": "stderr",
     "output_type": "stream",
     "text": [
      "INFO:sybil-process-2649269:Loaded model from /home/leonardgarcia/.sybil/28a7cd44f5bcd3e6cc760b65c7e0d54d.ckpt\n"
     ]
    },
    {
     "name": "stdout",
     "output_type": "stream",
     "text": [
      "571\n"
     ]
    },
    {
     "name": "stderr",
     "output_type": "stream",
     "text": [
      "INFO:sybil-process-2649269:Loaded model from /home/leonardgarcia/.sybil/28a7cd44f5bcd3e6cc760b65c7e0d54d.ckpt\n"
     ]
    },
    {
     "name": "stdout",
     "output_type": "stream",
     "text": [
      "572\n"
     ]
    },
    {
     "name": "stderr",
     "output_type": "stream",
     "text": [
      "INFO:sybil-process-2649269:Loaded model from /home/leonardgarcia/.sybil/28a7cd44f5bcd3e6cc760b65c7e0d54d.ckpt\n"
     ]
    },
    {
     "name": "stdout",
     "output_type": "stream",
     "text": [
      "573\n"
     ]
    },
    {
     "name": "stderr",
     "output_type": "stream",
     "text": [
      "INFO:sybil-process-2649269:Loaded model from /home/leonardgarcia/.sybil/28a7cd44f5bcd3e6cc760b65c7e0d54d.ckpt\n"
     ]
    },
    {
     "name": "stdout",
     "output_type": "stream",
     "text": [
      "574\n"
     ]
    },
    {
     "name": "stderr",
     "output_type": "stream",
     "text": [
      "INFO:sybil-process-2649269:Loaded model from /home/leonardgarcia/.sybil/28a7cd44f5bcd3e6cc760b65c7e0d54d.ckpt\n"
     ]
    },
    {
     "name": "stdout",
     "output_type": "stream",
     "text": [
      "575\n"
     ]
    },
    {
     "name": "stderr",
     "output_type": "stream",
     "text": [
      "INFO:sybil-process-2649269:Loaded model from /home/leonardgarcia/.sybil/28a7cd44f5bcd3e6cc760b65c7e0d54d.ckpt\n"
     ]
    },
    {
     "name": "stdout",
     "output_type": "stream",
     "text": [
      "576\n"
     ]
    },
    {
     "name": "stderr",
     "output_type": "stream",
     "text": [
      "INFO:sybil-process-2649269:Loaded model from /home/leonardgarcia/.sybil/28a7cd44f5bcd3e6cc760b65c7e0d54d.ckpt\n"
     ]
    },
    {
     "name": "stdout",
     "output_type": "stream",
     "text": [
      "577\n"
     ]
    },
    {
     "name": "stderr",
     "output_type": "stream",
     "text": [
      "INFO:sybil-process-2649269:Loaded model from /home/leonardgarcia/.sybil/28a7cd44f5bcd3e6cc760b65c7e0d54d.ckpt\n"
     ]
    },
    {
     "name": "stdout",
     "output_type": "stream",
     "text": [
      "578\n"
     ]
    },
    {
     "name": "stderr",
     "output_type": "stream",
     "text": [
      "INFO:sybil-process-2649269:Loaded model from /home/leonardgarcia/.sybil/28a7cd44f5bcd3e6cc760b65c7e0d54d.ckpt\n"
     ]
    },
    {
     "name": "stdout",
     "output_type": "stream",
     "text": [
      "579\n"
     ]
    },
    {
     "name": "stderr",
     "output_type": "stream",
     "text": [
      "INFO:sybil-process-2649269:Loaded model from /home/leonardgarcia/.sybil/28a7cd44f5bcd3e6cc760b65c7e0d54d.ckpt\n"
     ]
    },
    {
     "name": "stdout",
     "output_type": "stream",
     "text": [
      "580\n"
     ]
    },
    {
     "name": "stderr",
     "output_type": "stream",
     "text": [
      "INFO:sybil-process-2649269:Loaded model from /home/leonardgarcia/.sybil/28a7cd44f5bcd3e6cc760b65c7e0d54d.ckpt\n"
     ]
    },
    {
     "name": "stdout",
     "output_type": "stream",
     "text": [
      "581\n"
     ]
    },
    {
     "name": "stderr",
     "output_type": "stream",
     "text": [
      "INFO:sybil-process-2649269:Loaded model from /home/leonardgarcia/.sybil/28a7cd44f5bcd3e6cc760b65c7e0d54d.ckpt\n"
     ]
    },
    {
     "name": "stdout",
     "output_type": "stream",
     "text": [
      "582\n"
     ]
    },
    {
     "name": "stderr",
     "output_type": "stream",
     "text": [
      "INFO:sybil-process-2649269:Loaded model from /home/leonardgarcia/.sybil/28a7cd44f5bcd3e6cc760b65c7e0d54d.ckpt\n"
     ]
    },
    {
     "name": "stdout",
     "output_type": "stream",
     "text": [
      "583\n"
     ]
    },
    {
     "name": "stderr",
     "output_type": "stream",
     "text": [
      "INFO:sybil-process-2649269:Loaded model from /home/leonardgarcia/.sybil/28a7cd44f5bcd3e6cc760b65c7e0d54d.ckpt\n"
     ]
    },
    {
     "name": "stdout",
     "output_type": "stream",
     "text": [
      "584\n"
     ]
    },
    {
     "name": "stderr",
     "output_type": "stream",
     "text": [
      "INFO:sybil-process-2649269:Loaded model from /home/leonardgarcia/.sybil/28a7cd44f5bcd3e6cc760b65c7e0d54d.ckpt\n"
     ]
    },
    {
     "name": "stdout",
     "output_type": "stream",
     "text": [
      "585\n"
     ]
    },
    {
     "name": "stderr",
     "output_type": "stream",
     "text": [
      "INFO:sybil-process-2649269:Loaded model from /home/leonardgarcia/.sybil/28a7cd44f5bcd3e6cc760b65c7e0d54d.ckpt\n"
     ]
    },
    {
     "name": "stdout",
     "output_type": "stream",
     "text": [
      "586\n"
     ]
    },
    {
     "name": "stderr",
     "output_type": "stream",
     "text": [
      "INFO:sybil-process-2649269:Loaded model from /home/leonardgarcia/.sybil/28a7cd44f5bcd3e6cc760b65c7e0d54d.ckpt\n"
     ]
    },
    {
     "name": "stdout",
     "output_type": "stream",
     "text": [
      "587\n"
     ]
    },
    {
     "name": "stderr",
     "output_type": "stream",
     "text": [
      "INFO:sybil-process-2649269:Loaded model from /home/leonardgarcia/.sybil/28a7cd44f5bcd3e6cc760b65c7e0d54d.ckpt\n"
     ]
    },
    {
     "name": "stdout",
     "output_type": "stream",
     "text": [
      "588\n"
     ]
    },
    {
     "name": "stderr",
     "output_type": "stream",
     "text": [
      "INFO:sybil-process-2649269:Loaded model from /home/leonardgarcia/.sybil/28a7cd44f5bcd3e6cc760b65c7e0d54d.ckpt\n"
     ]
    },
    {
     "name": "stdout",
     "output_type": "stream",
     "text": [
      "589\n"
     ]
    },
    {
     "name": "stderr",
     "output_type": "stream",
     "text": [
      "INFO:sybil-process-2649269:Loaded model from /home/leonardgarcia/.sybil/28a7cd44f5bcd3e6cc760b65c7e0d54d.ckpt\n"
     ]
    },
    {
     "name": "stdout",
     "output_type": "stream",
     "text": [
      "590\n"
     ]
    },
    {
     "name": "stderr",
     "output_type": "stream",
     "text": [
      "INFO:sybil-process-2649269:Loaded model from /home/leonardgarcia/.sybil/28a7cd44f5bcd3e6cc760b65c7e0d54d.ckpt\n"
     ]
    },
    {
     "name": "stdout",
     "output_type": "stream",
     "text": [
      "591\n"
     ]
    },
    {
     "name": "stderr",
     "output_type": "stream",
     "text": [
      "INFO:sybil-process-2649269:Loaded model from /home/leonardgarcia/.sybil/28a7cd44f5bcd3e6cc760b65c7e0d54d.ckpt\n"
     ]
    },
    {
     "name": "stdout",
     "output_type": "stream",
     "text": [
      "592\n"
     ]
    },
    {
     "name": "stderr",
     "output_type": "stream",
     "text": [
      "INFO:sybil-process-2649269:Loaded model from /home/leonardgarcia/.sybil/28a7cd44f5bcd3e6cc760b65c7e0d54d.ckpt\n"
     ]
    },
    {
     "name": "stdout",
     "output_type": "stream",
     "text": [
      "593\n"
     ]
    },
    {
     "name": "stderr",
     "output_type": "stream",
     "text": [
      "INFO:sybil-process-2649269:Loaded model from /home/leonardgarcia/.sybil/28a7cd44f5bcd3e6cc760b65c7e0d54d.ckpt\n"
     ]
    },
    {
     "name": "stdout",
     "output_type": "stream",
     "text": [
      "594\n"
     ]
    },
    {
     "name": "stderr",
     "output_type": "stream",
     "text": [
      "INFO:sybil-process-2649269:Loaded model from /home/leonardgarcia/.sybil/28a7cd44f5bcd3e6cc760b65c7e0d54d.ckpt\n"
     ]
    },
    {
     "name": "stdout",
     "output_type": "stream",
     "text": [
      "595\n"
     ]
    },
    {
     "name": "stderr",
     "output_type": "stream",
     "text": [
      "INFO:sybil-process-2649269:Loaded model from /home/leonardgarcia/.sybil/28a7cd44f5bcd3e6cc760b65c7e0d54d.ckpt\n"
     ]
    },
    {
     "name": "stdout",
     "output_type": "stream",
     "text": [
      "596\n"
     ]
    },
    {
     "name": "stderr",
     "output_type": "stream",
     "text": [
      "INFO:sybil-process-2649269:Loaded model from /home/leonardgarcia/.sybil/28a7cd44f5bcd3e6cc760b65c7e0d54d.ckpt\n"
     ]
    },
    {
     "name": "stdout",
     "output_type": "stream",
     "text": [
      "597\n"
     ]
    },
    {
     "name": "stderr",
     "output_type": "stream",
     "text": [
      "INFO:sybil-process-2649269:Loaded model from /home/leonardgarcia/.sybil/28a7cd44f5bcd3e6cc760b65c7e0d54d.ckpt\n"
     ]
    },
    {
     "name": "stdout",
     "output_type": "stream",
     "text": [
      "598\n"
     ]
    },
    {
     "name": "stderr",
     "output_type": "stream",
     "text": [
      "INFO:sybil-process-2649269:Loaded model from /home/leonardgarcia/.sybil/28a7cd44f5bcd3e6cc760b65c7e0d54d.ckpt\n"
     ]
    },
    {
     "name": "stdout",
     "output_type": "stream",
     "text": [
      "599\n"
     ]
    },
    {
     "name": "stderr",
     "output_type": "stream",
     "text": [
      "INFO:sybil-process-2649269:Loaded model from /home/leonardgarcia/.sybil/28a7cd44f5bcd3e6cc760b65c7e0d54d.ckpt\n"
     ]
    },
    {
     "name": "stdout",
     "output_type": "stream",
     "text": [
      "600\n"
     ]
    },
    {
     "name": "stderr",
     "output_type": "stream",
     "text": [
      "INFO:sybil-process-2649269:Loaded model from /home/leonardgarcia/.sybil/28a7cd44f5bcd3e6cc760b65c7e0d54d.ckpt\n"
     ]
    },
    {
     "name": "stdout",
     "output_type": "stream",
     "text": [
      "601\n"
     ]
    },
    {
     "name": "stderr",
     "output_type": "stream",
     "text": [
      "INFO:sybil-process-2649269:Loaded model from /home/leonardgarcia/.sybil/28a7cd44f5bcd3e6cc760b65c7e0d54d.ckpt\n"
     ]
    },
    {
     "name": "stdout",
     "output_type": "stream",
     "text": [
      "602\n"
     ]
    },
    {
     "name": "stderr",
     "output_type": "stream",
     "text": [
      "INFO:sybil-process-2649269:Loaded model from /home/leonardgarcia/.sybil/28a7cd44f5bcd3e6cc760b65c7e0d54d.ckpt\n"
     ]
    },
    {
     "name": "stdout",
     "output_type": "stream",
     "text": [
      "603\n"
     ]
    },
    {
     "name": "stderr",
     "output_type": "stream",
     "text": [
      "INFO:sybil-process-2649269:Loaded model from /home/leonardgarcia/.sybil/28a7cd44f5bcd3e6cc760b65c7e0d54d.ckpt\n"
     ]
    },
    {
     "name": "stdout",
     "output_type": "stream",
     "text": [
      "604\n"
     ]
    },
    {
     "name": "stderr",
     "output_type": "stream",
     "text": [
      "INFO:sybil-process-2649269:Loaded model from /home/leonardgarcia/.sybil/28a7cd44f5bcd3e6cc760b65c7e0d54d.ckpt\n"
     ]
    },
    {
     "name": "stdout",
     "output_type": "stream",
     "text": [
      "605\n"
     ]
    },
    {
     "name": "stderr",
     "output_type": "stream",
     "text": [
      "INFO:sybil-process-2649269:Loaded model from /home/leonardgarcia/.sybil/28a7cd44f5bcd3e6cc760b65c7e0d54d.ckpt\n"
     ]
    },
    {
     "name": "stdout",
     "output_type": "stream",
     "text": [
      "606\n"
     ]
    },
    {
     "name": "stderr",
     "output_type": "stream",
     "text": [
      "INFO:sybil-process-2649269:Loaded model from /home/leonardgarcia/.sybil/28a7cd44f5bcd3e6cc760b65c7e0d54d.ckpt\n"
     ]
    },
    {
     "name": "stdout",
     "output_type": "stream",
     "text": [
      "607\n"
     ]
    },
    {
     "name": "stderr",
     "output_type": "stream",
     "text": [
      "INFO:sybil-process-2649269:Loaded model from /home/leonardgarcia/.sybil/28a7cd44f5bcd3e6cc760b65c7e0d54d.ckpt\n"
     ]
    },
    {
     "name": "stdout",
     "output_type": "stream",
     "text": [
      "608\n"
     ]
    },
    {
     "name": "stderr",
     "output_type": "stream",
     "text": [
      "INFO:sybil-process-2649269:Loaded model from /home/leonardgarcia/.sybil/28a7cd44f5bcd3e6cc760b65c7e0d54d.ckpt\n"
     ]
    },
    {
     "name": "stdout",
     "output_type": "stream",
     "text": [
      "609\n"
     ]
    },
    {
     "name": "stderr",
     "output_type": "stream",
     "text": [
      "INFO:sybil-process-2649269:Loaded model from /home/leonardgarcia/.sybil/28a7cd44f5bcd3e6cc760b65c7e0d54d.ckpt\n"
     ]
    },
    {
     "name": "stdout",
     "output_type": "stream",
     "text": [
      "610\n"
     ]
    },
    {
     "name": "stderr",
     "output_type": "stream",
     "text": [
      "INFO:sybil-process-2649269:Loaded model from /home/leonardgarcia/.sybil/28a7cd44f5bcd3e6cc760b65c7e0d54d.ckpt\n"
     ]
    },
    {
     "name": "stdout",
     "output_type": "stream",
     "text": [
      "611\n"
     ]
    },
    {
     "name": "stderr",
     "output_type": "stream",
     "text": [
      "INFO:sybil-process-2649269:Loaded model from /home/leonardgarcia/.sybil/28a7cd44f5bcd3e6cc760b65c7e0d54d.ckpt\n"
     ]
    },
    {
     "name": "stdout",
     "output_type": "stream",
     "text": [
      "612\n"
     ]
    },
    {
     "name": "stderr",
     "output_type": "stream",
     "text": [
      "INFO:sybil-process-2649269:Loaded model from /home/leonardgarcia/.sybil/28a7cd44f5bcd3e6cc760b65c7e0d54d.ckpt\n"
     ]
    },
    {
     "name": "stdout",
     "output_type": "stream",
     "text": [
      "613\n"
     ]
    },
    {
     "name": "stderr",
     "output_type": "stream",
     "text": [
      "INFO:sybil-process-2649269:Loaded model from /home/leonardgarcia/.sybil/28a7cd44f5bcd3e6cc760b65c7e0d54d.ckpt\n"
     ]
    },
    {
     "name": "stdout",
     "output_type": "stream",
     "text": [
      "614\n"
     ]
    },
    {
     "name": "stderr",
     "output_type": "stream",
     "text": [
      "INFO:sybil-process-2649269:Loaded model from /home/leonardgarcia/.sybil/28a7cd44f5bcd3e6cc760b65c7e0d54d.ckpt\n"
     ]
    },
    {
     "name": "stdout",
     "output_type": "stream",
     "text": [
      "615\n"
     ]
    },
    {
     "name": "stderr",
     "output_type": "stream",
     "text": [
      "INFO:sybil-process-2649269:Loaded model from /home/leonardgarcia/.sybil/28a7cd44f5bcd3e6cc760b65c7e0d54d.ckpt\n"
     ]
    },
    {
     "name": "stdout",
     "output_type": "stream",
     "text": [
      "616\n"
     ]
    },
    {
     "name": "stderr",
     "output_type": "stream",
     "text": [
      "INFO:sybil-process-2649269:Loaded model from /home/leonardgarcia/.sybil/28a7cd44f5bcd3e6cc760b65c7e0d54d.ckpt\n"
     ]
    },
    {
     "name": "stdout",
     "output_type": "stream",
     "text": [
      "617\n"
     ]
    },
    {
     "name": "stderr",
     "output_type": "stream",
     "text": [
      "INFO:sybil-process-2649269:Loaded model from /home/leonardgarcia/.sybil/28a7cd44f5bcd3e6cc760b65c7e0d54d.ckpt\n"
     ]
    },
    {
     "name": "stdout",
     "output_type": "stream",
     "text": [
      "618\n"
     ]
    },
    {
     "name": "stderr",
     "output_type": "stream",
     "text": [
      "INFO:sybil-process-2649269:Loaded model from /home/leonardgarcia/.sybil/28a7cd44f5bcd3e6cc760b65c7e0d54d.ckpt\n"
     ]
    },
    {
     "name": "stdout",
     "output_type": "stream",
     "text": [
      "619\n"
     ]
    },
    {
     "name": "stderr",
     "output_type": "stream",
     "text": [
      "INFO:sybil-process-2649269:Loaded model from /home/leonardgarcia/.sybil/28a7cd44f5bcd3e6cc760b65c7e0d54d.ckpt\n"
     ]
    },
    {
     "name": "stdout",
     "output_type": "stream",
     "text": [
      "620\n"
     ]
    },
    {
     "name": "stderr",
     "output_type": "stream",
     "text": [
      "INFO:sybil-process-2649269:Loaded model from /home/leonardgarcia/.sybil/28a7cd44f5bcd3e6cc760b65c7e0d54d.ckpt\n"
     ]
    },
    {
     "name": "stdout",
     "output_type": "stream",
     "text": [
      "621\n"
     ]
    },
    {
     "name": "stderr",
     "output_type": "stream",
     "text": [
      "INFO:sybil-process-2649269:Loaded model from /home/leonardgarcia/.sybil/28a7cd44f5bcd3e6cc760b65c7e0d54d.ckpt\n"
     ]
    },
    {
     "name": "stdout",
     "output_type": "stream",
     "text": [
      "622\n"
     ]
    },
    {
     "name": "stderr",
     "output_type": "stream",
     "text": [
      "INFO:sybil-process-2649269:Loaded model from /home/leonardgarcia/.sybil/28a7cd44f5bcd3e6cc760b65c7e0d54d.ckpt\n"
     ]
    },
    {
     "name": "stdout",
     "output_type": "stream",
     "text": [
      "623\n"
     ]
    },
    {
     "name": "stderr",
     "output_type": "stream",
     "text": [
      "INFO:sybil-process-2649269:Loaded model from /home/leonardgarcia/.sybil/28a7cd44f5bcd3e6cc760b65c7e0d54d.ckpt\n"
     ]
    },
    {
     "name": "stdout",
     "output_type": "stream",
     "text": [
      "624\n"
     ]
    },
    {
     "name": "stderr",
     "output_type": "stream",
     "text": [
      "INFO:sybil-process-2649269:Loaded model from /home/leonardgarcia/.sybil/28a7cd44f5bcd3e6cc760b65c7e0d54d.ckpt\n"
     ]
    },
    {
     "name": "stdout",
     "output_type": "stream",
     "text": [
      "625\n"
     ]
    },
    {
     "name": "stderr",
     "output_type": "stream",
     "text": [
      "INFO:sybil-process-2649269:Loaded model from /home/leonardgarcia/.sybil/28a7cd44f5bcd3e6cc760b65c7e0d54d.ckpt\n"
     ]
    },
    {
     "name": "stdout",
     "output_type": "stream",
     "text": [
      "626\n"
     ]
    },
    {
     "name": "stderr",
     "output_type": "stream",
     "text": [
      "INFO:sybil-process-2649269:Loaded model from /home/leonardgarcia/.sybil/28a7cd44f5bcd3e6cc760b65c7e0d54d.ckpt\n"
     ]
    },
    {
     "name": "stdout",
     "output_type": "stream",
     "text": [
      "627\n"
     ]
    },
    {
     "name": "stderr",
     "output_type": "stream",
     "text": [
      "INFO:sybil-process-2649269:Loaded model from /home/leonardgarcia/.sybil/28a7cd44f5bcd3e6cc760b65c7e0d54d.ckpt\n"
     ]
    },
    {
     "name": "stdout",
     "output_type": "stream",
     "text": [
      "628\n"
     ]
    },
    {
     "name": "stderr",
     "output_type": "stream",
     "text": [
      "INFO:sybil-process-2649269:Loaded model from /home/leonardgarcia/.sybil/28a7cd44f5bcd3e6cc760b65c7e0d54d.ckpt\n"
     ]
    },
    {
     "name": "stdout",
     "output_type": "stream",
     "text": [
      "629\n"
     ]
    },
    {
     "name": "stderr",
     "output_type": "stream",
     "text": [
      "INFO:sybil-process-2649269:Loaded model from /home/leonardgarcia/.sybil/28a7cd44f5bcd3e6cc760b65c7e0d54d.ckpt\n"
     ]
    },
    {
     "name": "stdout",
     "output_type": "stream",
     "text": [
      "630\n"
     ]
    },
    {
     "name": "stderr",
     "output_type": "stream",
     "text": [
      "INFO:sybil-process-2649269:Loaded model from /home/leonardgarcia/.sybil/28a7cd44f5bcd3e6cc760b65c7e0d54d.ckpt\n"
     ]
    },
    {
     "name": "stdout",
     "output_type": "stream",
     "text": [
      "631\n"
     ]
    },
    {
     "name": "stderr",
     "output_type": "stream",
     "text": [
      "INFO:sybil-process-2649269:Loaded model from /home/leonardgarcia/.sybil/28a7cd44f5bcd3e6cc760b65c7e0d54d.ckpt\n"
     ]
    },
    {
     "name": "stdout",
     "output_type": "stream",
     "text": [
      "632\n"
     ]
    },
    {
     "name": "stderr",
     "output_type": "stream",
     "text": [
      "INFO:sybil-process-2649269:Loaded model from /home/leonardgarcia/.sybil/28a7cd44f5bcd3e6cc760b65c7e0d54d.ckpt\n"
     ]
    },
    {
     "name": "stdout",
     "output_type": "stream",
     "text": [
      "633\n"
     ]
    },
    {
     "name": "stderr",
     "output_type": "stream",
     "text": [
      "INFO:sybil-process-2649269:Loaded model from /home/leonardgarcia/.sybil/28a7cd44f5bcd3e6cc760b65c7e0d54d.ckpt\n"
     ]
    },
    {
     "name": "stdout",
     "output_type": "stream",
     "text": [
      "634\n"
     ]
    },
    {
     "name": "stderr",
     "output_type": "stream",
     "text": [
      "INFO:sybil-process-2649269:Loaded model from /home/leonardgarcia/.sybil/28a7cd44f5bcd3e6cc760b65c7e0d54d.ckpt\n"
     ]
    },
    {
     "name": "stdout",
     "output_type": "stream",
     "text": [
      "635\n"
     ]
    },
    {
     "name": "stderr",
     "output_type": "stream",
     "text": [
      "INFO:sybil-process-2649269:Loaded model from /home/leonardgarcia/.sybil/28a7cd44f5bcd3e6cc760b65c7e0d54d.ckpt\n"
     ]
    },
    {
     "name": "stdout",
     "output_type": "stream",
     "text": [
      "636\n"
     ]
    },
    {
     "name": "stderr",
     "output_type": "stream",
     "text": [
      "INFO:sybil-process-2649269:Loaded model from /home/leonardgarcia/.sybil/28a7cd44f5bcd3e6cc760b65c7e0d54d.ckpt\n"
     ]
    },
    {
     "name": "stdout",
     "output_type": "stream",
     "text": [
      "637\n"
     ]
    },
    {
     "name": "stderr",
     "output_type": "stream",
     "text": [
      "INFO:sybil-process-2649269:Loaded model from /home/leonardgarcia/.sybil/28a7cd44f5bcd3e6cc760b65c7e0d54d.ckpt\n"
     ]
    },
    {
     "name": "stdout",
     "output_type": "stream",
     "text": [
      "638\n"
     ]
    },
    {
     "name": "stderr",
     "output_type": "stream",
     "text": [
      "INFO:sybil-process-2649269:Loaded model from /home/leonardgarcia/.sybil/28a7cd44f5bcd3e6cc760b65c7e0d54d.ckpt\n"
     ]
    },
    {
     "name": "stdout",
     "output_type": "stream",
     "text": [
      "639\n"
     ]
    },
    {
     "name": "stderr",
     "output_type": "stream",
     "text": [
      "INFO:sybil-process-2649269:Loaded model from /home/leonardgarcia/.sybil/28a7cd44f5bcd3e6cc760b65c7e0d54d.ckpt\n"
     ]
    },
    {
     "name": "stdout",
     "output_type": "stream",
     "text": [
      "640\n"
     ]
    },
    {
     "name": "stderr",
     "output_type": "stream",
     "text": [
      "INFO:sybil-process-2649269:Loaded model from /home/leonardgarcia/.sybil/28a7cd44f5bcd3e6cc760b65c7e0d54d.ckpt\n"
     ]
    },
    {
     "name": "stdout",
     "output_type": "stream",
     "text": [
      "641\n"
     ]
    },
    {
     "name": "stderr",
     "output_type": "stream",
     "text": [
      "INFO:sybil-process-2649269:Loaded model from /home/leonardgarcia/.sybil/28a7cd44f5bcd3e6cc760b65c7e0d54d.ckpt\n"
     ]
    },
    {
     "name": "stdout",
     "output_type": "stream",
     "text": [
      "642\n"
     ]
    },
    {
     "name": "stderr",
     "output_type": "stream",
     "text": [
      "INFO:sybil-process-2649269:Loaded model from /home/leonardgarcia/.sybil/28a7cd44f5bcd3e6cc760b65c7e0d54d.ckpt\n"
     ]
    },
    {
     "name": "stdout",
     "output_type": "stream",
     "text": [
      "643\n"
     ]
    },
    {
     "name": "stderr",
     "output_type": "stream",
     "text": [
      "INFO:sybil-process-2649269:Loaded model from /home/leonardgarcia/.sybil/28a7cd44f5bcd3e6cc760b65c7e0d54d.ckpt\n"
     ]
    },
    {
     "name": "stdout",
     "output_type": "stream",
     "text": [
      "644\n"
     ]
    },
    {
     "name": "stderr",
     "output_type": "stream",
     "text": [
      "INFO:sybil-process-2649269:Loaded model from /home/leonardgarcia/.sybil/28a7cd44f5bcd3e6cc760b65c7e0d54d.ckpt\n"
     ]
    },
    {
     "name": "stdout",
     "output_type": "stream",
     "text": [
      "645\n"
     ]
    },
    {
     "name": "stderr",
     "output_type": "stream",
     "text": [
      "INFO:sybil-process-2649269:Loaded model from /home/leonardgarcia/.sybil/28a7cd44f5bcd3e6cc760b65c7e0d54d.ckpt\n"
     ]
    },
    {
     "name": "stdout",
     "output_type": "stream",
     "text": [
      "646\n"
     ]
    },
    {
     "name": "stderr",
     "output_type": "stream",
     "text": [
      "INFO:sybil-process-2649269:Loaded model from /home/leonardgarcia/.sybil/28a7cd44f5bcd3e6cc760b65c7e0d54d.ckpt\n"
     ]
    },
    {
     "name": "stdout",
     "output_type": "stream",
     "text": [
      "647\n"
     ]
    },
    {
     "name": "stderr",
     "output_type": "stream",
     "text": [
      "INFO:sybil-process-2649269:Loaded model from /home/leonardgarcia/.sybil/28a7cd44f5bcd3e6cc760b65c7e0d54d.ckpt\n"
     ]
    },
    {
     "name": "stdout",
     "output_type": "stream",
     "text": [
      "648\n"
     ]
    },
    {
     "name": "stderr",
     "output_type": "stream",
     "text": [
      "INFO:sybil-process-2649269:Loaded model from /home/leonardgarcia/.sybil/28a7cd44f5bcd3e6cc760b65c7e0d54d.ckpt\n"
     ]
    },
    {
     "name": "stdout",
     "output_type": "stream",
     "text": [
      "649\n"
     ]
    },
    {
     "name": "stderr",
     "output_type": "stream",
     "text": [
      "INFO:sybil-process-2649269:Loaded model from /home/leonardgarcia/.sybil/28a7cd44f5bcd3e6cc760b65c7e0d54d.ckpt\n"
     ]
    },
    {
     "name": "stdout",
     "output_type": "stream",
     "text": [
      "650\n"
     ]
    },
    {
     "name": "stderr",
     "output_type": "stream",
     "text": [
      "INFO:sybil-process-2649269:Loaded model from /home/leonardgarcia/.sybil/28a7cd44f5bcd3e6cc760b65c7e0d54d.ckpt\n"
     ]
    },
    {
     "name": "stdout",
     "output_type": "stream",
     "text": [
      "651\n"
     ]
    },
    {
     "name": "stderr",
     "output_type": "stream",
     "text": [
      "INFO:sybil-process-2649269:Loaded model from /home/leonardgarcia/.sybil/28a7cd44f5bcd3e6cc760b65c7e0d54d.ckpt\n"
     ]
    },
    {
     "name": "stdout",
     "output_type": "stream",
     "text": [
      "652\n"
     ]
    },
    {
     "name": "stderr",
     "output_type": "stream",
     "text": [
      "INFO:sybil-process-2649269:Loaded model from /home/leonardgarcia/.sybil/28a7cd44f5bcd3e6cc760b65c7e0d54d.ckpt\n"
     ]
    },
    {
     "name": "stdout",
     "output_type": "stream",
     "text": [
      "653\n"
     ]
    },
    {
     "name": "stderr",
     "output_type": "stream",
     "text": [
      "INFO:sybil-process-2649269:Loaded model from /home/leonardgarcia/.sybil/28a7cd44f5bcd3e6cc760b65c7e0d54d.ckpt\n"
     ]
    },
    {
     "name": "stdout",
     "output_type": "stream",
     "text": [
      "654\n"
     ]
    },
    {
     "name": "stderr",
     "output_type": "stream",
     "text": [
      "INFO:sybil-process-2649269:Loaded model from /home/leonardgarcia/.sybil/28a7cd44f5bcd3e6cc760b65c7e0d54d.ckpt\n"
     ]
    },
    {
     "name": "stdout",
     "output_type": "stream",
     "text": [
      "655\n"
     ]
    },
    {
     "name": "stderr",
     "output_type": "stream",
     "text": [
      "INFO:sybil-process-2649269:Loaded model from /home/leonardgarcia/.sybil/28a7cd44f5bcd3e6cc760b65c7e0d54d.ckpt\n"
     ]
    },
    {
     "name": "stdout",
     "output_type": "stream",
     "text": [
      "656\n"
     ]
    },
    {
     "name": "stderr",
     "output_type": "stream",
     "text": [
      "INFO:sybil-process-2649269:Loaded model from /home/leonardgarcia/.sybil/28a7cd44f5bcd3e6cc760b65c7e0d54d.ckpt\n"
     ]
    },
    {
     "name": "stdout",
     "output_type": "stream",
     "text": [
      "657\n"
     ]
    },
    {
     "name": "stderr",
     "output_type": "stream",
     "text": [
      "INFO:sybil-process-2649269:Loaded model from /home/leonardgarcia/.sybil/28a7cd44f5bcd3e6cc760b65c7e0d54d.ckpt\n"
     ]
    },
    {
     "name": "stdout",
     "output_type": "stream",
     "text": [
      "658\n"
     ]
    },
    {
     "name": "stderr",
     "output_type": "stream",
     "text": [
      "INFO:sybil-process-2649269:Loaded model from /home/leonardgarcia/.sybil/28a7cd44f5bcd3e6cc760b65c7e0d54d.ckpt\n"
     ]
    },
    {
     "name": "stdout",
     "output_type": "stream",
     "text": [
      "659\n"
     ]
    },
    {
     "name": "stderr",
     "output_type": "stream",
     "text": [
      "INFO:sybil-process-2649269:Loaded model from /home/leonardgarcia/.sybil/28a7cd44f5bcd3e6cc760b65c7e0d54d.ckpt\n"
     ]
    },
    {
     "name": "stdout",
     "output_type": "stream",
     "text": [
      "660\n"
     ]
    },
    {
     "name": "stderr",
     "output_type": "stream",
     "text": [
      "INFO:sybil-process-2649269:Loaded model from /home/leonardgarcia/.sybil/28a7cd44f5bcd3e6cc760b65c7e0d54d.ckpt\n"
     ]
    },
    {
     "name": "stdout",
     "output_type": "stream",
     "text": [
      "661\n"
     ]
    },
    {
     "name": "stderr",
     "output_type": "stream",
     "text": [
      "INFO:sybil-process-2649269:Loaded model from /home/leonardgarcia/.sybil/28a7cd44f5bcd3e6cc760b65c7e0d54d.ckpt\n"
     ]
    },
    {
     "name": "stdout",
     "output_type": "stream",
     "text": [
      "662\n"
     ]
    },
    {
     "name": "stderr",
     "output_type": "stream",
     "text": [
      "INFO:sybil-process-2649269:Loaded model from /home/leonardgarcia/.sybil/28a7cd44f5bcd3e6cc760b65c7e0d54d.ckpt\n"
     ]
    },
    {
     "name": "stdout",
     "output_type": "stream",
     "text": [
      "663\n"
     ]
    },
    {
     "name": "stderr",
     "output_type": "stream",
     "text": [
      "INFO:sybil-process-2649269:Loaded model from /home/leonardgarcia/.sybil/28a7cd44f5bcd3e6cc760b65c7e0d54d.ckpt\n"
     ]
    },
    {
     "name": "stdout",
     "output_type": "stream",
     "text": [
      "664\n"
     ]
    },
    {
     "name": "stderr",
     "output_type": "stream",
     "text": [
      "INFO:sybil-process-2649269:Loaded model from /home/leonardgarcia/.sybil/28a7cd44f5bcd3e6cc760b65c7e0d54d.ckpt\n"
     ]
    },
    {
     "name": "stdout",
     "output_type": "stream",
     "text": [
      "665\n"
     ]
    },
    {
     "name": "stderr",
     "output_type": "stream",
     "text": [
      "INFO:sybil-process-2649269:Loaded model from /home/leonardgarcia/.sybil/28a7cd44f5bcd3e6cc760b65c7e0d54d.ckpt\n"
     ]
    },
    {
     "name": "stdout",
     "output_type": "stream",
     "text": [
      "666\n"
     ]
    },
    {
     "name": "stderr",
     "output_type": "stream",
     "text": [
      "INFO:sybil-process-2649269:Loaded model from /home/leonardgarcia/.sybil/28a7cd44f5bcd3e6cc760b65c7e0d54d.ckpt\n"
     ]
    },
    {
     "name": "stdout",
     "output_type": "stream",
     "text": [
      "667\n"
     ]
    },
    {
     "name": "stderr",
     "output_type": "stream",
     "text": [
      "INFO:sybil-process-2649269:Loaded model from /home/leonardgarcia/.sybil/28a7cd44f5bcd3e6cc760b65c7e0d54d.ckpt\n"
     ]
    },
    {
     "name": "stdout",
     "output_type": "stream",
     "text": [
      "668\n"
     ]
    },
    {
     "name": "stderr",
     "output_type": "stream",
     "text": [
      "INFO:sybil-process-2649269:Loaded model from /home/leonardgarcia/.sybil/28a7cd44f5bcd3e6cc760b65c7e0d54d.ckpt\n"
     ]
    },
    {
     "name": "stdout",
     "output_type": "stream",
     "text": [
      "669\n"
     ]
    },
    {
     "name": "stderr",
     "output_type": "stream",
     "text": [
      "INFO:sybil-process-2649269:Loaded model from /home/leonardgarcia/.sybil/28a7cd44f5bcd3e6cc760b65c7e0d54d.ckpt\n"
     ]
    },
    {
     "name": "stdout",
     "output_type": "stream",
     "text": [
      "670\n"
     ]
    },
    {
     "name": "stderr",
     "output_type": "stream",
     "text": [
      "INFO:sybil-process-2649269:Loaded model from /home/leonardgarcia/.sybil/28a7cd44f5bcd3e6cc760b65c7e0d54d.ckpt\n"
     ]
    },
    {
     "name": "stdout",
     "output_type": "stream",
     "text": [
      "671\n"
     ]
    }
   ],
   "source": [
    "feature_vector_list = []\n",
    "index = 0\n",
    "\n",
    "for single_serie in final_diacom_directory:\n",
    "    sybil1_model = Sybil(\"sybil_1\")    \n",
    "    single_serie = make_serie_list([single_serie])\n",
    "    feature = sybil1_model.get_image_feature_vector(single_serie).detach().cpu().numpy()\n",
    "    feature_vector_list.append(feature)\n",
    "    print(index)\n",
    "    index += 1"
   ]
  },
  {
   "cell_type": "code",
   "execution_count": 49,
   "id": "e5abc84c",
   "metadata": {},
   "outputs": [],
   "source": [
    "final_evaluation_df['Feature Vector'] = feature_vector_list"
   ]
  },
  {
   "cell_type": "code",
   "execution_count": 174,
   "id": "8fb0d3be",
   "metadata": {},
   "outputs": [
    {
     "data": {
      "text/plain": [
       "(672, 49)"
      ]
     },
     "execution_count": 174,
     "metadata": {},
     "output_type": "execute_result"
    }
   ],
   "source": [
    "final_evaluation_df.shape"
   ]
  },
  {
   "cell_type": "code",
   "execution_count": 173,
   "id": "df0fa1a5",
   "metadata": {},
   "outputs": [
    {
     "data": {
      "text/plain": [
       "numpy.ndarray"
      ]
     },
     "execution_count": 173,
     "metadata": {},
     "output_type": "execute_result"
    }
   ],
   "source": [
    "test_entry = final_evaluation_df.iloc[0,42]\n",
    "type(test_entry)"
   ]
  },
  {
   "cell_type": "code",
   "execution_count": 51,
   "id": "11b82bda",
   "metadata": {},
   "outputs": [],
   "source": [
    "#save dataframe to excel file\n",
    "\n",
    "feature_save_path = r'/workspace/home/Final_Sybil_Evaluation_Data.xlsx'\n",
    "\n",
    "final_evaluation_df.to_excel(feature_save_path, index=False) "
   ]
  },
  {
   "cell_type": "code",
   "execution_count": 223,
   "id": "661071fd",
   "metadata": {},
   "outputs": [],
   "source": [
    "import pickle\n",
    "\n",
    "# Specify the directory and filename\n",
    "directory = '/workspace/home/'\n",
    "filename = 'feature_vector_list.pkl'\n",
    "file_path = os.path.join(directory, filename)\n",
    "\n",
    "# Create the directory if it does not exist\n",
    "os.makedirs(directory, exist_ok=True)\n",
    "\n",
    "# Save the numpy array to a file using pickle\n",
    "with open(file_path, 'wb') as file:\n",
    "    pickle.dump(feature_vector_no_duplicates, file)\n"
   ]
  },
  {
   "cell_type": "code",
   "execution_count": 226,
   "id": "a0fcf9c2",
   "metadata": {},
   "outputs": [],
   "source": [
    "import pickle\n",
    "\n",
    "# Specify the directory and filename\n",
    "directory = '/workspace/home/'\n",
    "filename = 'risk_scores_no_duplicates.pkl'\n",
    "file_path = os.path.join(directory, filename)\n",
    "\n",
    "# Create the directory if it does not exist\n",
    "os.makedirs(directory, exist_ok=True)\n",
    "\n",
    "# Save the numpy array to a file using pickle\n",
    "with open(file_path, 'wb') as file:\n",
    "    pickle.dump(risk_scores_no_duplicates, file)"
   ]
  },
  {
   "cell_type": "code",
   "execution_count": 181,
   "id": "af455e9d",
   "metadata": {},
   "outputs": [
    {
     "name": "stdout",
     "output_type": "stream",
     "text": [
      "/workspace/home/feature_vector_list.pkl\n"
     ]
    }
   ],
   "source": [
    "print(file_path)"
   ]
  },
  {
   "cell_type": "code",
   "execution_count": 195,
   "id": "579c0877",
   "metadata": {},
   "outputs": [
    {
     "name": "stdout",
     "output_type": "stream",
     "text": [
      "                                      Feature Vector\n",
      "0  [[0.0, 0.0, 0.0, 0.0, 0.0, 0.0, 0.0, 0.0, 0.0,...\n"
     ]
    }
   ],
   "source": [
    "# Load the numpy array from the file using pickle\n",
    "with open(file_path, 'rb') as file:\n",
    "    loaded_array = pickle.load(file)\n",
    "\n",
    "# Verify that the loaded array is the same as the original\n",
    "print(loaded_array.head(1))"
   ]
  },
  {
   "cell_type": "code",
   "execution_count": 207,
   "id": "457a77b9",
   "metadata": {
    "collapsed": true,
    "jupyter": {
     "outputs_hidden": true
    }
   },
   "outputs": [
    {
     "data": {
      "text/plain": [
       "array([[0.0000000e+00, 0.0000000e+00, 0.0000000e+00, 0.0000000e+00,\n",
       "        0.0000000e+00, 0.0000000e+00, 0.0000000e+00, 0.0000000e+00,\n",
       "        0.0000000e+00, 2.1524796e-01, 0.0000000e+00, 3.0661030e+00,\n",
       "        0.0000000e+00, 0.0000000e+00, 0.0000000e+00, 0.0000000e+00,\n",
       "        0.0000000e+00, 0.0000000e+00, 0.0000000e+00, 7.6354933e-01,\n",
       "        0.0000000e+00, 0.0000000e+00, 0.0000000e+00, 0.0000000e+00,\n",
       "        0.0000000e+00, 0.0000000e+00, 0.0000000e+00, 0.0000000e+00,\n",
       "        1.1469697e+00, 0.0000000e+00, 0.0000000e+00, 0.0000000e+00,\n",
       "        0.0000000e+00, 0.0000000e+00, 1.4087366e+00, 5.3597526e-03,\n",
       "        0.0000000e+00, 0.0000000e+00, 3.0492399e+00, 0.0000000e+00,\n",
       "        0.0000000e+00, 0.0000000e+00, 0.0000000e+00, 0.0000000e+00,\n",
       "        0.0000000e+00, 0.0000000e+00, 0.0000000e+00, 7.2964525e-01,\n",
       "        0.0000000e+00, 0.0000000e+00, 0.0000000e+00, 0.0000000e+00,\n",
       "        0.0000000e+00, 0.0000000e+00, 2.7672129e-02, 0.0000000e+00,\n",
       "        0.0000000e+00, 0.0000000e+00, 0.0000000e+00, 0.0000000e+00,\n",
       "        0.0000000e+00, 0.0000000e+00, 0.0000000e+00, 0.0000000e+00,\n",
       "        0.0000000e+00, 0.0000000e+00, 0.0000000e+00, 0.0000000e+00,\n",
       "        0.0000000e+00, 0.0000000e+00, 0.0000000e+00, 0.0000000e+00,\n",
       "        0.0000000e+00, 0.0000000e+00, 0.0000000e+00, 0.0000000e+00,\n",
       "        0.0000000e+00, 0.0000000e+00, 0.0000000e+00, 0.0000000e+00,\n",
       "        0.0000000e+00, 0.0000000e+00, 0.0000000e+00, 0.0000000e+00,\n",
       "        0.0000000e+00, 0.0000000e+00, 0.0000000e+00, 0.0000000e+00,\n",
       "        0.0000000e+00, 0.0000000e+00, 0.0000000e+00, 2.0996085e-01,\n",
       "        6.6681169e-03, 0.0000000e+00, 0.0000000e+00, 0.0000000e+00,\n",
       "        0.0000000e+00, 0.0000000e+00, 0.0000000e+00, 1.2046320e+00,\n",
       "        0.0000000e+00, 0.0000000e+00, 0.0000000e+00, 0.0000000e+00,\n",
       "        0.0000000e+00, 0.0000000e+00, 0.0000000e+00, 3.8957722e+00,\n",
       "        0.0000000e+00, 0.0000000e+00, 2.2268283e+00, 0.0000000e+00,\n",
       "        1.3468757e+00, 1.5807910e-01, 0.0000000e+00, 0.0000000e+00,\n",
       "        0.0000000e+00, 0.0000000e+00, 0.0000000e+00, 0.0000000e+00,\n",
       "        0.0000000e+00, 0.0000000e+00, 2.3344078e+00, 0.0000000e+00,\n",
       "        0.0000000e+00, 1.9717757e-02, 0.0000000e+00, 0.0000000e+00,\n",
       "        3.2483909e+00, 0.0000000e+00, 2.7249122e+00, 0.0000000e+00,\n",
       "        0.0000000e+00, 0.0000000e+00, 0.0000000e+00, 0.0000000e+00,\n",
       "        1.0751050e+00, 0.0000000e+00, 0.0000000e+00, 0.0000000e+00,\n",
       "        0.0000000e+00, 0.0000000e+00, 0.0000000e+00, 0.0000000e+00,\n",
       "        0.0000000e+00, 0.0000000e+00, 0.0000000e+00, 0.0000000e+00,\n",
       "        0.0000000e+00, 0.0000000e+00, 0.0000000e+00, 0.0000000e+00,\n",
       "        0.0000000e+00, 0.0000000e+00, 0.0000000e+00, 0.0000000e+00,\n",
       "        0.0000000e+00, 0.0000000e+00, 1.1839359e+00, 0.0000000e+00,\n",
       "        9.5519233e-01, 0.0000000e+00, 0.0000000e+00, 0.0000000e+00,\n",
       "        0.0000000e+00, 0.0000000e+00, 0.0000000e+00, 2.5260678e-01,\n",
       "        0.0000000e+00, 0.0000000e+00, 0.0000000e+00, 0.0000000e+00,\n",
       "        0.0000000e+00, 2.8004079e+00, 0.0000000e+00, 0.0000000e+00,\n",
       "        0.0000000e+00, 1.1353441e+00, 0.0000000e+00, 0.0000000e+00,\n",
       "        0.0000000e+00, 0.0000000e+00, 4.3791026e-02, 0.0000000e+00,\n",
       "        0.0000000e+00, 3.9388654e-01, 5.6471008e-01, 0.0000000e+00,\n",
       "        0.0000000e+00, 0.0000000e+00, 0.0000000e+00, 1.6933864e+00,\n",
       "        1.5124644e+00, 0.0000000e+00, 0.0000000e+00, 0.0000000e+00,\n",
       "        0.0000000e+00, 0.0000000e+00, 0.0000000e+00, 0.0000000e+00,\n",
       "        0.0000000e+00, 0.0000000e+00, 0.0000000e+00, 0.0000000e+00,\n",
       "        0.0000000e+00, 0.0000000e+00, 2.3311167e+00, 0.0000000e+00,\n",
       "        0.0000000e+00, 0.0000000e+00, 4.1545177e+00, 3.1468511e+00,\n",
       "        1.4868256e+00, 1.1741648e-01, 0.0000000e+00, 0.0000000e+00,\n",
       "        0.0000000e+00, 0.0000000e+00, 0.0000000e+00, 0.0000000e+00,\n",
       "        0.0000000e+00, 0.0000000e+00, 0.0000000e+00, 0.0000000e+00,\n",
       "        0.0000000e+00, 0.0000000e+00, 0.0000000e+00, 0.0000000e+00,\n",
       "        6.9842823e-02, 0.0000000e+00, 1.9992325e-02, 0.0000000e+00,\n",
       "        3.7149940e+00, 0.0000000e+00, 0.0000000e+00, 0.0000000e+00,\n",
       "        5.0233520e-04, 0.0000000e+00, 0.0000000e+00, 0.0000000e+00,\n",
       "        0.0000000e+00, 0.0000000e+00, 0.0000000e+00, 0.0000000e+00,\n",
       "        0.0000000e+00, 0.0000000e+00, 9.3349534e-01, 0.0000000e+00,\n",
       "        8.3706272e-01, 0.0000000e+00, 0.0000000e+00, 0.0000000e+00,\n",
       "        0.0000000e+00, 0.0000000e+00, 0.0000000e+00, 0.0000000e+00,\n",
       "        2.9105054e-02, 0.0000000e+00, 2.2715931e+00, 0.0000000e+00,\n",
       "        2.6609376e-01, 0.0000000e+00, 0.0000000e+00, 0.0000000e+00,\n",
       "        0.0000000e+00, 0.0000000e+00, 0.0000000e+00, 0.0000000e+00,\n",
       "        0.0000000e+00, 3.1454332e-02, 0.0000000e+00, 8.5164003e-02,\n",
       "        0.0000000e+00, 0.0000000e+00, 0.0000000e+00, 0.0000000e+00,\n",
       "        0.0000000e+00, 0.0000000e+00, 2.5210142e+00, 0.0000000e+00,\n",
       "        4.8483077e-02, 3.6465476e+00, 0.0000000e+00, 3.1581879e+00,\n",
       "        2.2329490e+00, 0.0000000e+00, 0.0000000e+00, 0.0000000e+00,\n",
       "        3.1535599e+00, 0.0000000e+00, 0.0000000e+00, 0.0000000e+00,\n",
       "        3.4274955e+00, 0.0000000e+00, 0.0000000e+00, 0.0000000e+00,\n",
       "        0.0000000e+00, 0.0000000e+00, 0.0000000e+00, 0.0000000e+00,\n",
       "        0.0000000e+00, 0.0000000e+00, 0.0000000e+00, 0.0000000e+00,\n",
       "        0.0000000e+00, 0.0000000e+00, 0.0000000e+00, 9.8939556e-01,\n",
       "        0.0000000e+00, 0.0000000e+00, 2.4297976e+00, 4.5189672e+00,\n",
       "        9.3697238e-01, 0.0000000e+00, 0.0000000e+00, 0.0000000e+00,\n",
       "        0.0000000e+00, 1.5260050e+00, 0.0000000e+00, 2.4818447e+00,\n",
       "        0.0000000e+00, 0.0000000e+00, 0.0000000e+00, 0.0000000e+00,\n",
       "        0.0000000e+00, 0.0000000e+00, 0.0000000e+00, 0.0000000e+00,\n",
       "        0.0000000e+00, 0.0000000e+00, 0.0000000e+00, 0.0000000e+00,\n",
       "        0.0000000e+00, 0.0000000e+00, 2.6570973e+00, 0.0000000e+00,\n",
       "        0.0000000e+00, 0.0000000e+00, 0.0000000e+00, 0.0000000e+00,\n",
       "        1.1440548e+00, 4.7440372e+00, 1.2968601e+00, 0.0000000e+00,\n",
       "        0.0000000e+00, 8.5727982e-02, 1.3645328e+00, 4.8873029e+00,\n",
       "        0.0000000e+00, 0.0000000e+00, 0.0000000e+00, 1.4774303e+00,\n",
       "        0.0000000e+00, 0.0000000e+00, 0.0000000e+00, 0.0000000e+00,\n",
       "        0.0000000e+00, 3.8789222e+00, 0.0000000e+00, 1.0832539e+00,\n",
       "        0.0000000e+00, 0.0000000e+00, 3.2650817e-02, 1.4029757e+00,\n",
       "        3.9745703e+00, 0.0000000e+00, 3.2085615e-01, 0.0000000e+00,\n",
       "        0.0000000e+00, 0.0000000e+00, 0.0000000e+00, 0.0000000e+00,\n",
       "        0.0000000e+00, 0.0000000e+00, 0.0000000e+00, 9.4298029e-01,\n",
       "        0.0000000e+00, 0.0000000e+00, 0.0000000e+00, 0.0000000e+00,\n",
       "        0.0000000e+00, 0.0000000e+00, 0.0000000e+00, 0.0000000e+00,\n",
       "        0.0000000e+00, 1.5144653e+00, 0.0000000e+00, 0.0000000e+00,\n",
       "        0.0000000e+00, 0.0000000e+00, 0.0000000e+00, 1.1666893e-02,\n",
       "        9.0299986e-02, 0.0000000e+00, 0.0000000e+00, 0.0000000e+00,\n",
       "        0.0000000e+00, 0.0000000e+00, 3.0747793e+00, 0.0000000e+00,\n",
       "        4.5489078e+00, 5.0225474e-02, 3.5338800e+00, 3.0154078e+00,\n",
       "        2.4439652e+00, 0.0000000e+00, 0.0000000e+00, 0.0000000e+00,\n",
       "        0.0000000e+00, 1.4025683e+00, 0.0000000e+00, 0.0000000e+00,\n",
       "        0.0000000e+00, 0.0000000e+00, 0.0000000e+00, 1.0476720e+00,\n",
       "        0.0000000e+00, 0.0000000e+00, 0.0000000e+00, 0.0000000e+00,\n",
       "        0.0000000e+00, 0.0000000e+00, 0.0000000e+00, 0.0000000e+00,\n",
       "        0.0000000e+00, 1.9319891e+00, 0.0000000e+00, 1.6612461e+00,\n",
       "        0.0000000e+00, 0.0000000e+00, 0.0000000e+00, 0.0000000e+00,\n",
       "        0.0000000e+00, 0.0000000e+00, 0.0000000e+00, 0.0000000e+00,\n",
       "        0.0000000e+00, 0.0000000e+00, 0.0000000e+00, 0.0000000e+00,\n",
       "        0.0000000e+00, 0.0000000e+00, 0.0000000e+00, 0.0000000e+00,\n",
       "        0.0000000e+00, 2.4626975e+00, 3.2411830e+00, 0.0000000e+00,\n",
       "        0.0000000e+00, 0.0000000e+00, 0.0000000e+00, 0.0000000e+00,\n",
       "        2.0812738e+00, 0.0000000e+00, 0.0000000e+00, 0.0000000e+00,\n",
       "        2.9522523e-01, 0.0000000e+00, 0.0000000e+00, 0.0000000e+00,\n",
       "        0.0000000e+00, 3.9512873e+00, 0.0000000e+00, 1.8112366e-01,\n",
       "        0.0000000e+00, 4.8485477e-02, 0.0000000e+00, 0.0000000e+00,\n",
       "        0.0000000e+00, 0.0000000e+00, 1.4757130e+00, 0.0000000e+00,\n",
       "        0.0000000e+00, 0.0000000e+00, 0.0000000e+00, 0.0000000e+00,\n",
       "        0.0000000e+00, 0.0000000e+00, 0.0000000e+00, 0.0000000e+00,\n",
       "        0.0000000e+00, 0.0000000e+00, 0.0000000e+00, 0.0000000e+00,\n",
       "        0.0000000e+00, 0.0000000e+00, 0.0000000e+00, 0.0000000e+00,\n",
       "        0.0000000e+00, 0.0000000e+00, 0.0000000e+00, 0.0000000e+00,\n",
       "        2.6413796e+00, 0.0000000e+00, 2.7739792e+00, 0.0000000e+00,\n",
       "        1.4854817e+00, 0.0000000e+00, 2.8998365e+00, 0.0000000e+00,\n",
       "        0.0000000e+00, 2.3419445e-02, 4.4196332e-01, 0.0000000e+00,\n",
       "        0.0000000e+00, 3.8491881e+00, 0.0000000e+00, 0.0000000e+00,\n",
       "        2.7167830e+00, 0.0000000e+00, 0.0000000e+00, 0.0000000e+00]],\n",
       "      dtype=float32)"
      ]
     },
     "execution_count": 207,
     "metadata": {},
     "output_type": "execute_result"
    }
   ],
   "source": [
    "feature_vector_no_duplicates['Feature Vector'].tolist()[0]"
   ]
  },
  {
   "cell_type": "code",
   "execution_count": 210,
   "id": "bd7de3a0",
   "metadata": {},
   "outputs": [
    {
     "data": {
      "text/plain": [
       "2467550964"
      ]
     },
     "execution_count": 210,
     "metadata": {},
     "output_type": "execute_result"
    }
   ],
   "source": [
    "final_evaluation_no_duplicates_df['Feature Vector'].tolist()[0]\n",
    "final_evaluation_no_duplicates_df['MRN_h'].tolist()[0]"
   ]
  },
  {
   "cell_type": "code",
   "execution_count": 212,
   "id": "5f571330",
   "metadata": {},
   "outputs": [],
   "source": [
    "import pickle\n",
    "\n",
    "# Specify the directory and filename\n",
    "directory = '/workspace/home/'\n",
    "filename = 'no_duplicates_df.pkl'\n",
    "file_path = os.path.join(directory, filename)\n",
    "\n",
    "# Create the directory if it does not exist\n",
    "os.makedirs(directory, exist_ok=True)\n",
    "\n",
    "# Save the numpy array to a file using pickle\n",
    "with open(file_path, 'wb') as file:\n",
    "    pickle.dump(final_evaluation_no_duplicates_df, file)"
   ]
  },
  {
   "cell_type": "code",
   "execution_count": null,
   "id": "cd30b309",
   "metadata": {},
   "outputs": [],
   "source": []
  }
 ],
 "metadata": {
  "kernelspec": {
   "display_name": "Python 3 (ipykernel)",
   "language": "python",
   "name": "python3"
  },
  "language_info": {
   "codemirror_mode": {
    "name": "ipython",
    "version": 3
   },
   "file_extension": ".py",
   "mimetype": "text/x-python",
   "name": "python",
   "nbconvert_exporter": "python",
   "pygments_lexer": "ipython3",
   "version": "3.10.6"
  }
 },
 "nbformat": 4,
 "nbformat_minor": 5
}
